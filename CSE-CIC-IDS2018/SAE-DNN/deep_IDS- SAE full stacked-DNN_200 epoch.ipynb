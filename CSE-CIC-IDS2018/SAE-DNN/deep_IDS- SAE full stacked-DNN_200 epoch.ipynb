{
 "cells": [
  {
   "cell_type": "markdown",
   "metadata": {
    "colab_type": "text",
    "id": "quR9LgTC8JNi"
   },
   "source": [
    "# Network Intrusion Detection with Deep Learning"
   ]
  },
  {
   "cell_type": "markdown",
   "metadata": {
    "colab_type": "text",
    "id": "d1K4YGnN8JNn"
   },
   "source": [
    "\n",
    "\n",
    "Menggunakan stacked AE dan DNN"
   ]
  },
  {
   "cell_type": "code",
   "execution_count": 0,
   "metadata": {
    "colab": {},
    "colab_type": "code",
    "id": "D3bxk1aE8JN5"
   },
   "outputs": [],
   "source": [
    "import pandas as pd\n",
    "import numpy as np\n",
    "from sklearn.preprocessing import MinMaxScaler"
   ]
  },
  {
   "cell_type": "markdown",
   "metadata": {
    "colab_type": "text",
    "id": "KyVfgqUE8JOC"
   },
   "source": [
    "# Open Data"
   ]
  },
  {
   "cell_type": "code",
   "execution_count": 0,
   "metadata": {
    "colab": {},
    "colab_type": "code",
    "id": "Y3cZgc0K8JOE"
   },
   "outputs": [],
   "source": [
    "import numpy as np\n",
    "def load_matrices(file_name):\n",
    "    with open(file_name, 'rb') as f:\n",
    "        A = np.load(f)\n",
    "        B = np.load(f)\n",
    "        C = np.load(f)\n",
    "        D = np.load(f)\n",
    "        E = np.load(f)\n",
    "        F = np.load(f)\n",
    "    return (A,B,C,D,E,F)"
   ]
  },
  {
   "cell_type": "code",
   "execution_count": 0,
   "metadata": {
    "colab": {},
    "colab_type": "code",
    "id": "ltRFDE7G8JOM"
   },
   "outputs": [],
   "source": [
    "my_file =  '10data2.npy'\n",
    "train,test,y_train,y_test,ylabel_train, ylabel_test = load_matrices(my_file)"
   ]
  },
  {
   "cell_type": "markdown",
   "metadata": {
    "colab_type": "text",
    "id": "i3NhT4YP8JOT"
   },
   "source": [
    "## The Model"
   ]
  },
  {
   "cell_type": "code",
   "execution_count": 6,
   "metadata": {
    "colab": {
     "base_uri": "https://localhost:8080/",
     "height": 82
    },
    "colab_type": "code",
    "executionInfo": {
     "elapsed": 39063,
     "status": "ok",
     "timestamp": 1584937835722,
     "user": {
      "displayName": "yesi novaria kunang",
      "photoUrl": "",
      "userId": "10182320802774426296"
     },
     "user_tz": -420
    },
    "id": "I1gG21bO8JOV",
    "outputId": "dea8296c-e157-43cd-88a0-4894e98ee1d5"
   },
   "outputs": [
    {
     "name": "stderr",
     "output_type": "stream",
     "text": [
      "Using TensorFlow backend.\n"
     ]
    },
    {
     "data": {
      "text/html": [
       "<p style=\"color: red;\">\n",
       "The default version of TensorFlow in Colab will soon switch to TensorFlow 2.x.<br>\n",
       "We recommend you <a href=\"https://www.tensorflow.org/guide/migrate\" target=\"_blank\">upgrade</a> now \n",
       "or ensure your notebook will continue to use TensorFlow 1.x via the <code>%tensorflow_version 1.x</code> magic:\n",
       "<a href=\"https://colab.research.google.com/notebooks/tensorflow_version.ipynb\" target=\"_blank\">more info</a>.</p>\n"
      ],
      "text/plain": [
       "<IPython.core.display.HTML object>"
      ]
     },
     "metadata": {
      "tags": []
     },
     "output_type": "display_data"
    }
   ],
   "source": [
    "from keras.callbacks import EarlyStopping\n",
    "from keras.layers.embeddings import Embedding\n",
    "from keras.layers import Input, Dense, Activation\n",
    "from keras.activations import elu\n",
    "from keras.layers import Input, Dense\n",
    "from keras.models import Model, Sequential\n",
    "from time import time\n",
    "from keras.optimizers import Adam"
   ]
  },
  {
   "cell_type": "code",
   "execution_count": 0,
   "metadata": {
    "colab": {},
    "colab_type": "code",
    "id": "R85a0DIO8JOj"
   },
   "outputs": [],
   "source": [
    "from keras.callbacks import ModelCheckpoint\n",
    "filepath=\"./logsae/2tes_b.best.hdf5\"\n",
    "checkpoint = ModelCheckpoint(filepath, monitor='accuracy', save_best_only=True, mode='max')\n",
    "callbacks_list = [checkpoint]"
   ]
  },
  {
   "cell_type": "code",
   "execution_count": 12,
   "metadata": {
    "colab": {
     "base_uri": "https://localhost:8080/",
     "height": 73
    },
    "colab_type": "code",
    "executionInfo": {
     "elapsed": 39044,
     "status": "ok",
     "timestamp": 1584937835731,
     "user": {
      "displayName": "yesi novaria kunang",
      "photoUrl": "",
      "userId": "10182320802774426296"
     },
     "user_tz": -420
    },
    "id": "8OeIF4kH9EIX",
    "outputId": "6dbf04ad-8b0b-4af7-9c26-907e4234da15"
   },
   "outputs": [
    {
     "name": "stdout",
     "output_type": "stream",
     "text": [
      "WARNING:tensorflow:From /usr/local/lib/python3.6/dist-packages/keras/backend/tensorflow_backend.py:66: The name tf.get_default_graph is deprecated. Please use tf.compat.v1.get_default_graph instead.\n",
      "\n"
     ]
    }
   ],
   "source": [
    "from keras.layers.advanced_activations import LeakyReLU\n",
    "\n",
    "#actvation leakyrelu\n",
    "LR= LeakyReLU(0.01)\n",
    "LR.__name__ = 'lrelu'\n"
   ]
  },
  {
   "cell_type": "code",
   "execution_count": 13,
   "metadata": {
    "colab": {
     "base_uri": "https://localhost:8080/",
     "height": 1000
    },
    "colab_type": "code",
    "executionInfo": {
     "elapsed": 372791,
     "status": "ok",
     "timestamp": 1584938169489,
     "user": {
      "displayName": "yesi novaria kunang",
      "photoUrl": "",
      "userId": "10182320802774426296"
     },
     "user_tz": -420
    },
    "id": "5KvDfBiF8JO8",
    "outputId": "1ca9c82d-de03-4625-9215-edea64d9a8c1"
   },
   "outputs": [
    {
     "name": "stdout",
     "output_type": "stream",
     "text": [
      "WARNING:tensorflow:From /usr/local/lib/python3.6/dist-packages/keras/backend/tensorflow_backend.py:541: The name tf.placeholder is deprecated. Please use tf.compat.v1.placeholder instead.\n",
      "\n",
      "WARNING:tensorflow:From /usr/local/lib/python3.6/dist-packages/keras/backend/tensorflow_backend.py:4432: The name tf.random_uniform is deprecated. Please use tf.random.uniform instead.\n",
      "\n",
      "Model: \"model_1\"\n",
      "_________________________________________________________________\n",
      "Layer (type)                 Output Shape              Param #   \n",
      "=================================================================\n",
      "input_1 (InputLayer)         (None, 80)                0         \n",
      "_________________________________________________________________\n",
      "dense_1 (Dense)              (None, 70)                5670      \n",
      "_________________________________________________________________\n",
      "dense_2 (Dense)              (None, 80)                5680      \n",
      "=================================================================\n",
      "Total params: 11,350\n",
      "Trainable params: 11,350\n",
      "Non-trainable params: 0\n",
      "_________________________________________________________________\n",
      "WARNING:tensorflow:From /usr/local/lib/python3.6/dist-packages/keras/optimizers.py:793: The name tf.train.Optimizer is deprecated. Please use tf.compat.v1.train.Optimizer instead.\n",
      "\n",
      "WARNING:tensorflow:From /usr/local/lib/python3.6/dist-packages/keras/backend/tensorflow_backend.py:1033: The name tf.assign_add is deprecated. Please use tf.compat.v1.assign_add instead.\n",
      "\n"
     ]
    },
    {
     "name": "stderr",
     "output_type": "stream",
     "text": [
      "/usr/local/lib/python3.6/dist-packages/keras/activations.py:235: UserWarning: Do not pass a layer instance (such as LeakyReLU) as the activation argument of another layer. Instead, advanced activation layers should be used just like any other layer in a model.\n",
      "  identifier=identifier.__class__.__name__))\n"
     ]
    },
    {
     "name": "stdout",
     "output_type": "stream",
     "text": [
      "WARNING:tensorflow:From /usr/local/lib/python3.6/dist-packages/keras/backend/tensorflow_backend.py:1020: The name tf.assign is deprecated. Please use tf.compat.v1.assign instead.\n",
      "\n",
      "WARNING:tensorflow:From /usr/local/lib/python3.6/dist-packages/keras/backend/tensorflow_backend.py:3005: The name tf.Session is deprecated. Please use tf.compat.v1.Session instead.\n",
      "\n",
      "Epoch 1/20\n",
      "WARNING:tensorflow:From /usr/local/lib/python3.6/dist-packages/keras/backend/tensorflow_backend.py:190: The name tf.get_default_session is deprecated. Please use tf.compat.v1.get_default_session instead.\n",
      "\n",
      "WARNING:tensorflow:From /usr/local/lib/python3.6/dist-packages/keras/backend/tensorflow_backend.py:197: The name tf.ConfigProto is deprecated. Please use tf.compat.v1.ConfigProto instead.\n",
      "\n",
      "WARNING:tensorflow:From /usr/local/lib/python3.6/dist-packages/keras/backend/tensorflow_backend.py:207: The name tf.global_variables is deprecated. Please use tf.compat.v1.global_variables instead.\n",
      "\n",
      "WARNING:tensorflow:From /usr/local/lib/python3.6/dist-packages/keras/backend/tensorflow_backend.py:216: The name tf.is_variable_initialized is deprecated. Please use tf.compat.v1.is_variable_initialized instead.\n",
      "\n",
      "WARNING:tensorflow:From /usr/local/lib/python3.6/dist-packages/keras/backend/tensorflow_backend.py:223: The name tf.variables_initializer is deprecated. Please use tf.compat.v1.variables_initializer instead.\n",
      "\n",
      "1619315/1619315 [==============================] - 17s 10us/step - loss: 0.0029 - acc: 0.2710\n",
      "Epoch 2/20\n",
      "  10240/1619315 [..............................] - ETA: 24s - loss: 7.2933e-05 - acc: 0.3019"
     ]
    },
    {
     "name": "stderr",
     "output_type": "stream",
     "text": [
      "/usr/local/lib/python3.6/dist-packages/keras/callbacks.py:707: RuntimeWarning: Can save best model only with accuracy available, skipping.\n",
      "  'skipping.' % (self.monitor), RuntimeWarning)\n"
     ]
    },
    {
     "name": "stdout",
     "output_type": "stream",
     "text": [
      "1619315/1619315 [==============================] - 16s 10us/step - loss: 4.6322e-05 - acc: 0.3439\n",
      "Epoch 3/20\n",
      "1619315/1619315 [==============================] - 16s 10us/step - loss: 2.6882e-05 - acc: 0.3374\n",
      "Epoch 4/20\n",
      "1619315/1619315 [==============================] - 16s 10us/step - loss: 2.1418e-05 - acc: 0.3004\n",
      "Epoch 5/20\n",
      "1619315/1619315 [==============================] - 16s 10us/step - loss: 1.9168e-05 - acc: 0.3634\n",
      "Epoch 6/20\n",
      "1619315/1619315 [==============================] - 16s 10us/step - loss: 1.7596e-05 - acc: 0.3976\n",
      "Epoch 7/20\n",
      "1619315/1619315 [==============================] - 16s 10us/step - loss: 1.6475e-05 - acc: 0.4013\n",
      "Epoch 8/20\n",
      "1619315/1619315 [==============================] - 16s 10us/step - loss: 1.5729e-05 - acc: 0.4050\n",
      "Epoch 9/20\n",
      "1619315/1619315 [==============================] - 16s 10us/step - loss: 1.5228e-05 - acc: 0.4045\n",
      "Epoch 10/20\n",
      "1619315/1619315 [==============================] - 16s 10us/step - loss: 1.4657e-05 - acc: 0.4039\n",
      "Epoch 11/20\n",
      "1619315/1619315 [==============================] - 16s 10us/step - loss: 1.4352e-05 - acc: 0.4035\n",
      "Epoch 12/20\n",
      "1619315/1619315 [==============================] - 16s 10us/step - loss: 1.4096e-05 - acc: 0.4045\n",
      "Epoch 13/20\n",
      "1619315/1619315 [==============================] - 16s 10us/step - loss: 1.3905e-05 - acc: 0.4058\n",
      "Epoch 14/20\n",
      "1619315/1619315 [==============================] - 16s 10us/step - loss: 1.3738e-05 - acc: 0.4101\n",
      "Epoch 15/20\n",
      "1619315/1619315 [==============================] - 16s 10us/step - loss: 1.3611e-05 - acc: 0.4138\n",
      "Epoch 16/20\n",
      "1619315/1619315 [==============================] - 16s 10us/step - loss: 1.3470e-05 - acc: 0.4196\n",
      "Epoch 17/20\n",
      "1619315/1619315 [==============================] - 16s 10us/step - loss: 1.3377e-05 - acc: 0.4356\n",
      "Epoch 18/20\n",
      "1619315/1619315 [==============================] - 16s 10us/step - loss: 1.3274e-05 - acc: 0.4924\n",
      "Epoch 19/20\n",
      "1619315/1619315 [==============================] - 16s 10us/step - loss: 1.3188e-05 - acc: 0.5074\n",
      "Epoch 20/20\n",
      "1619315/1619315 [==============================] - 16s 10us/step - loss: 1.3102e-05 - acc: 0.5154\n",
      "FEATURE EXTRACTION in 316.47 seconds\n",
      "(1619315, 70)\n"
     ]
    }
   ],
   "source": [
    "# layer 1\n",
    "input_dim = train.shape[1]\n",
    "input_ly_1= Input(shape=(input_dim,))\n",
    "enc_ly_1= Dense(70, activation=LR, kernel_initializer='lecun_uniform')(input_ly_1)\n",
    "dec_ly_1=Dense(input_dim, activation='sigmoid', kernel_initializer='lecun_uniform')(enc_ly_1)\n",
    "\n",
    "auto_ly_1= Model(input_ly_1, dec_ly_1)\n",
    "encoder_ly_1= Model(input_ly_1, enc_ly_1)\n",
    "auto_ly_1.summary()\n",
    "\n",
    "\n",
    "t0 = time()\n",
    "auto_ly_1.compile(loss='mse',optimizer='adam', metrics=['accuracy']) # reporting the loss\n",
    "\n",
    "auto_ly_1.fit(train,train,\n",
    "      epochs=20,\n",
    "      batch_size=256,\n",
    "      shuffle=True,\n",
    "      callbacks=callbacks_list,                    \n",
    "      #callbacks=[early_stopping])\n",
    "      #validation_data=(test,test))\n",
    "      validation_split=0)   \n",
    "  \n",
    "tt = time()-t0\n",
    "print (\"FEATURE EXTRACTION in {} seconds\".format(round(tt,3)))\n",
    "# if you want an encoded flatten representation of every test MNIST\n",
    "\n",
    "\n",
    "ly1_predict= encoder_ly_1.predict(train)\n",
    "print(ly1_predict.shape)\n"
   ]
  },
  {
   "cell_type": "code",
   "execution_count": 14,
   "metadata": {
    "colab": {
     "base_uri": "https://localhost:8080/",
     "height": 1000
    },
    "colab_type": "code",
    "executionInfo": {
     "elapsed": 629163,
     "status": "ok",
     "timestamp": 1584938425872,
     "user": {
      "displayName": "yesi novaria kunang",
      "photoUrl": "",
      "userId": "10182320802774426296"
     },
     "user_tz": -420
    },
    "id": "53upmtsR8JPE",
    "outputId": "fa8945ab-50a5-42b9-8294-99d55c486f68"
   },
   "outputs": [
    {
     "name": "stdout",
     "output_type": "stream",
     "text": [
      "Model: \"model_3\"\n",
      "_________________________________________________________________\n",
      "Layer (type)                 Output Shape              Param #   \n",
      "=================================================================\n",
      "input_2 (InputLayer)         (None, 70)                0         \n",
      "_________________________________________________________________\n",
      "dense_3 (Dense)              (None, 40)                2840      \n",
      "_________________________________________________________________\n",
      "dense_4 (Dense)              (None, 70)                2870      \n",
      "=================================================================\n",
      "Total params: 5,710\n",
      "Trainable params: 5,710\n",
      "Non-trainable params: 0\n",
      "_________________________________________________________________\n"
     ]
    },
    {
     "name": "stderr",
     "output_type": "stream",
     "text": [
      "/usr/local/lib/python3.6/dist-packages/keras/activations.py:235: UserWarning: Do not pass a layer instance (such as LeakyReLU) as the activation argument of another layer. Instead, advanced activation layers should be used just like any other layer in a model.\n",
      "  identifier=identifier.__class__.__name__))\n"
     ]
    },
    {
     "name": "stdout",
     "output_type": "stream",
     "text": [
      "Epoch 1/20\n",
      "1619315/1619315 [==============================] - 12s 7us/step - loss: 0.1165 - acc: 0.3107\n",
      "Epoch 2/20\n",
      "  14848/1619315 [..............................] - ETA: 17s - loss: 0.1104 - acc: 0.1720"
     ]
    },
    {
     "name": "stderr",
     "output_type": "stream",
     "text": [
      "/usr/local/lib/python3.6/dist-packages/keras/callbacks.py:707: RuntimeWarning: Can save best model only with accuracy available, skipping.\n",
      "  'skipping.' % (self.monitor), RuntimeWarning)\n"
     ]
    },
    {
     "name": "stdout",
     "output_type": "stream",
     "text": [
      "1619315/1619315 [==============================] - 12s 7us/step - loss: 0.1110 - acc: 0.2022\n",
      "Epoch 3/20\n",
      "1619315/1619315 [==============================] - 12s 7us/step - loss: 0.1108 - acc: 0.3364\n",
      "Epoch 4/20\n",
      "1619315/1619315 [==============================] - 12s 7us/step - loss: 0.1107 - acc: 0.3777\n",
      "Epoch 5/20\n",
      "1619315/1619315 [==============================] - 12s 7us/step - loss: 0.1107 - acc: 0.3628\n",
      "Epoch 6/20\n",
      "1619315/1619315 [==============================] - 12s 7us/step - loss: 0.1107 - acc: 0.3579\n",
      "Epoch 7/20\n",
      "1619315/1619315 [==============================] - 12s 7us/step - loss: 0.1106 - acc: 0.4177\n",
      "Epoch 8/20\n",
      "1619315/1619315 [==============================] - 12s 7us/step - loss: 0.1104 - acc: 0.4183\n",
      "Epoch 9/20\n",
      "1619315/1619315 [==============================] - 12s 7us/step - loss: 0.1104 - acc: 0.3718\n",
      "Epoch 10/20\n",
      "1619315/1619315 [==============================] - 12s 7us/step - loss: 0.1104 - acc: 0.3154\n",
      "Epoch 11/20\n",
      "1619315/1619315 [==============================] - 12s 7us/step - loss: 0.1104 - acc: 0.3194\n",
      "Epoch 12/20\n",
      "1619315/1619315 [==============================] - 12s 7us/step - loss: 0.1104 - acc: 0.3202\n",
      "Epoch 13/20\n",
      "1619315/1619315 [==============================] - 12s 7us/step - loss: 0.1104 - acc: 0.3221\n",
      "Epoch 14/20\n",
      "1619315/1619315 [==============================] - 12s 7us/step - loss: 0.1104 - acc: 0.3247\n",
      "Epoch 15/20\n",
      "1619315/1619315 [==============================] - 12s 7us/step - loss: 0.1104 - acc: 0.3264\n",
      "Epoch 16/20\n",
      "1619315/1619315 [==============================] - 13s 8us/step - loss: 0.1104 - acc: 0.3278\n",
      "Epoch 17/20\n",
      "1619315/1619315 [==============================] - 12s 7us/step - loss: 0.1104 - acc: 0.3300\n",
      "Epoch 18/20\n",
      "1619315/1619315 [==============================] - 12s 7us/step - loss: 0.1104 - acc: 0.3310\n",
      "Epoch 19/20\n",
      "1619315/1619315 [==============================] - 12s 8us/step - loss: 0.1104 - acc: 0.3316\n",
      "Epoch 20/20\n",
      "1619315/1619315 [==============================] - 12s 8us/step - loss: 0.1104 - acc: 0.3328\n",
      "FEATURE EXTRACTION in 240.253 seconds\n",
      "(1619315, 40)\n"
     ]
    }
   ],
   "source": [
    "# layer 2\n",
    "input_ly_2= Input(shape=(70,))\n",
    "enc_ly_2= Dense(40, activation=LR, kernel_initializer='lecun_uniform')(input_ly_2)\n",
    "dec_ly_2=Dense(70, activation='sigmoid', kernel_initializer='lecun_uniform')(enc_ly_2)\n",
    "\n",
    "auto_ly_2= Model(input_ly_2, dec_ly_2)\n",
    "encoder_ly_2= Model(input_ly_2, enc_ly_2)\n",
    "auto_ly_2.summary()\n",
    "\n",
    "\n",
    "t0 = time()\n",
    "auto_ly_2.compile(loss='mse',optimizer='adam', metrics=['accuracy']) # reporting the loss\n",
    "\n",
    "history_a=auto_ly_2.fit(ly1_predict,ly1_predict,\n",
    "      epochs=20,\n",
    "      batch_size=256,\n",
    "      shuffle=True,\n",
    "      callbacks=callbacks_list,                    \n",
    "      #callbacks=[early_stopping])\n",
    "      #validation_data=(test,test))\n",
    "      validation_split=0)   \n",
    "  \n",
    "tt = time()-t0\n",
    "print (\"FEATURE EXTRACTION in {} seconds\".format(round(tt,3)))\n",
    "# if you want an encoded flatten representation of every test MNIST\n",
    "\n",
    "\n",
    "ly2_predict= encoder_ly_2.predict(ly1_predict)\n",
    "print(ly2_predict.shape)\n"
   ]
  },
  {
   "cell_type": "code",
   "execution_count": 15,
   "metadata": {
    "colab": {
     "base_uri": "https://localhost:8080/",
     "height": 1000
    },
    "colab_type": "code",
    "executionInfo": {
     "elapsed": 830038,
     "status": "ok",
     "timestamp": 1584938626750,
     "user": {
      "displayName": "yesi novaria kunang",
      "photoUrl": "",
      "userId": "10182320802774426296"
     },
     "user_tz": -420
    },
    "id": "LAY692xVnno2",
    "outputId": "028acaf7-be52-4e23-8188-49105071c537"
   },
   "outputs": [
    {
     "name": "stdout",
     "output_type": "stream",
     "text": [
      "Model: \"model_5\"\n",
      "_________________________________________________________________\n",
      "Layer (type)                 Output Shape              Param #   \n",
      "=================================================================\n",
      "input_3 (InputLayer)         (None, 40)                0         \n",
      "_________________________________________________________________\n",
      "dense_5 (Dense)              (None, 30)                1230      \n",
      "_________________________________________________________________\n",
      "dense_6 (Dense)              (None, 40)                1240      \n",
      "=================================================================\n",
      "Total params: 2,470\n",
      "Trainable params: 2,470\n",
      "Non-trainable params: 0\n",
      "_________________________________________________________________\n"
     ]
    },
    {
     "name": "stderr",
     "output_type": "stream",
     "text": [
      "/usr/local/lib/python3.6/dist-packages/keras/activations.py:235: UserWarning: Do not pass a layer instance (such as LeakyReLU) as the activation argument of another layer. Instead, advanced activation layers should be used just like any other layer in a model.\n",
      "  identifier=identifier.__class__.__name__))\n"
     ]
    },
    {
     "name": "stdout",
     "output_type": "stream",
     "text": [
      "Epoch 1/20\n",
      "1619315/1619315 [==============================] - 9s 6us/step - loss: 7.7306 - acc: 0.0199\n",
      "Epoch 2/20\n",
      "  26368/1619315 [..............................] - ETA: 12s - loss: 7.7667 - acc: 0.0298"
     ]
    },
    {
     "name": "stderr",
     "output_type": "stream",
     "text": [
      "/usr/local/lib/python3.6/dist-packages/keras/callbacks.py:707: RuntimeWarning: Can save best model only with accuracy available, skipping.\n",
      "  'skipping.' % (self.monitor), RuntimeWarning)\n"
     ]
    },
    {
     "name": "stdout",
     "output_type": "stream",
     "text": [
      "1619315/1619315 [==============================] - 9s 6us/step - loss: 7.7192 - acc: 0.0281\n",
      "Epoch 3/20\n",
      "1619315/1619315 [==============================] - 9s 6us/step - loss: 7.7151 - acc: 0.0280\n",
      "Epoch 4/20\n",
      "1619315/1619315 [==============================] - 9s 6us/step - loss: 7.7091 - acc: 0.0280\n",
      "Epoch 5/20\n",
      "1619315/1619315 [==============================] - 9s 6us/step - loss: 7.6978 - acc: 0.0280\n",
      "Epoch 6/20\n",
      "1619315/1619315 [==============================] - 9s 6us/step - loss: 7.6969 - acc: 0.0280\n",
      "Epoch 7/20\n",
      "1619315/1619315 [==============================] - 9s 6us/step - loss: 7.6945 - acc: 0.0280\n",
      "Epoch 8/20\n",
      "1619315/1619315 [==============================] - 9s 6us/step - loss: 7.6941 - acc: 0.0280\n",
      "Epoch 9/20\n",
      "1619315/1619315 [==============================] - 9s 6us/step - loss: 7.6941 - acc: 0.0280\n",
      "Epoch 10/20\n",
      "1619315/1619315 [==============================] - 9s 6us/step - loss: 7.6941 - acc: 0.0280\n",
      "Epoch 11/20\n",
      "1619315/1619315 [==============================] - 9s 6us/step - loss: 7.6941 - acc: 0.0280\n",
      "Epoch 12/20\n",
      "1619315/1619315 [==============================] - 9s 6us/step - loss: 7.6941 - acc: 0.0280\n",
      "Epoch 13/20\n",
      "1619315/1619315 [==============================] - 9s 6us/step - loss: 7.6941 - acc: 0.0280\n",
      "Epoch 14/20\n",
      "1619315/1619315 [==============================] - 9s 6us/step - loss: 7.6941 - acc: 0.0280\n",
      "Epoch 15/20\n",
      "1619315/1619315 [==============================] - 9s 6us/step - loss: 7.6941 - acc: 0.0280\n",
      "Epoch 16/20\n",
      "1619315/1619315 [==============================] - 9s 6us/step - loss: 7.6941 - acc: 0.0280\n",
      "Epoch 17/20\n",
      "1619315/1619315 [==============================] - 9s 6us/step - loss: 7.6941 - acc: 0.0280\n",
      "Epoch 18/20\n",
      "1619315/1619315 [==============================] - 9s 6us/step - loss: 7.6941 - acc: 0.0280\n",
      "Epoch 19/20\n",
      "1619315/1619315 [==============================] - 9s 6us/step - loss: 7.6934 - acc: 0.0280\n",
      "Epoch 20/20\n",
      "1619315/1619315 [==============================] - 9s 6us/step - loss: 7.6914 - acc: 0.0280\n",
      "FEATURE EXTRACTION in 184.611 seconds\n",
      "(1619315, 30)\n"
     ]
    }
   ],
   "source": [
    "# layer 3\n",
    "input_ly_3= Input(shape=(40,))\n",
    "enc_ly_3= Dense(30, activation=LR, kernel_initializer='lecun_uniform')(input_ly_3)\n",
    "dec_ly_3=Dense(40, activation='sigmoid', kernel_initializer='lecun_uniform')(enc_ly_3)\n",
    "\n",
    "auto_ly_3= Model(input_ly_3, dec_ly_3)\n",
    "encoder_ly_3= Model(input_ly_3, enc_ly_3)\n",
    "auto_ly_3.summary()\n",
    "\n",
    "\n",
    "t0 = time()\n",
    "auto_ly_3.compile(loss='mse',optimizer='adam', metrics=['accuracy']) # reporting the loss\n",
    "\n",
    "history_a=auto_ly_3.fit(ly2_predict,ly2_predict,\n",
    "      epochs=20,\n",
    "      batch_size=256,\n",
    "      shuffle=True,\n",
    "      callbacks=callbacks_list,                    \n",
    "      #callbacks=[early_stopping])\n",
    "      #validation_data=(test,test))\n",
    "      validation_split=0)   \n",
    "  \n",
    "tt = time()-t0\n",
    "print (\"FEATURE EXTRACTION in {} seconds\".format(round(tt,3)))\n",
    "# if you want an encoded flatten representation of every test MNIST\n",
    "\n",
    "\n",
    "ly3_predict= encoder_ly_3.predict(ly2_predict)\n",
    "print(ly3_predict.shape)\n"
   ]
  },
  {
   "cell_type": "code",
   "execution_count": 17,
   "metadata": {
    "colab": {
     "base_uri": "https://localhost:8080/",
     "height": 1000
    },
    "colab_type": "code",
    "executionInfo": {
     "elapsed": 198975,
     "status": "ok",
     "timestamp": 1584938928757,
     "user": {
      "displayName": "yesi novaria kunang",
      "photoUrl": "",
      "userId": "10182320802774426296"
     },
     "user_tz": -420
    },
    "id": "oLyOSr1HndXV",
    "outputId": "5646804a-369a-433e-e7b2-bcd3db36c43d"
   },
   "outputs": [
    {
     "name": "stderr",
     "output_type": "stream",
     "text": [
      "/usr/local/lib/python3.6/dist-packages/keras/activations.py:235: UserWarning: Do not pass a layer instance (such as LeakyReLU) as the activation argument of another layer. Instead, advanced activation layers should be used just like any other layer in a model.\n",
      "  identifier=identifier.__class__.__name__))\n"
     ]
    },
    {
     "name": "stdout",
     "output_type": "stream",
     "text": [
      "Model: \"model_9\"\n",
      "_________________________________________________________________\n",
      "Layer (type)                 Output Shape              Param #   \n",
      "=================================================================\n",
      "input_5 (InputLayer)         (None, 30)                0         \n",
      "_________________________________________________________________\n",
      "dense_9 (Dense)              (None, 25)                775       \n",
      "_________________________________________________________________\n",
      "dense_10 (Dense)             (None, 30)                780       \n",
      "=================================================================\n",
      "Total params: 1,555\n",
      "Trainable params: 1,555\n",
      "Non-trainable params: 0\n",
      "_________________________________________________________________\n",
      "Epoch 1/20\n",
      "1619315/1619315 [==============================] - 9s 6us/step - loss: 58.0298 - acc: 0.0196\n",
      "Epoch 2/20\n",
      "  17152/1619315 [..............................] - ETA: 15s - loss: 57.9083 - acc: 0.0026"
     ]
    },
    {
     "name": "stderr",
     "output_type": "stream",
     "text": [
      "/usr/local/lib/python3.6/dist-packages/keras/callbacks.py:707: RuntimeWarning: Can save best model only with accuracy available, skipping.\n",
      "  'skipping.' % (self.monitor), RuntimeWarning)\n"
     ]
    },
    {
     "name": "stdout",
     "output_type": "stream",
     "text": [
      "1619315/1619315 [==============================] - 9s 6us/step - loss: 58.0064 - acc: 0.0086\n",
      "Epoch 3/20\n",
      "1619315/1619315 [==============================] - 9s 6us/step - loss: 57.9987 - acc: 0.0017\n",
      "Epoch 4/20\n",
      "1619315/1619315 [==============================] - 9s 6us/step - loss: 57.9980 - acc: 0.0016\n",
      "Epoch 5/20\n",
      "1619315/1619315 [==============================] - 9s 6us/step - loss: 57.9979 - acc: 0.0016\n",
      "Epoch 6/20\n",
      "1619315/1619315 [==============================] - 9s 6us/step - loss: 57.9971 - acc: 0.0016\n",
      "Epoch 7/20\n",
      "1619315/1619315 [==============================] - 9s 6us/step - loss: 57.9971 - acc: 0.0016\n",
      "Epoch 8/20\n",
      "1619315/1619315 [==============================] - 9s 5us/step - loss: 57.9971 - acc: 0.0016\n",
      "Epoch 9/20\n",
      "1619315/1619315 [==============================] - 9s 5us/step - loss: 57.9971 - acc: 0.0016\n",
      "Epoch 10/20\n",
      "1619315/1619315 [==============================] - 9s 6us/step - loss: 57.9971 - acc: 0.0016\n",
      "Epoch 11/20\n",
      "1619315/1619315 [==============================] - 9s 6us/step - loss: 57.9971 - acc: 0.0016\n",
      "Epoch 12/20\n",
      "1619315/1619315 [==============================] - 9s 5us/step - loss: 57.9971 - acc: 0.0016\n",
      "Epoch 13/20\n",
      "1619315/1619315 [==============================] - 9s 6us/step - loss: 57.9971 - acc: 0.0016\n",
      "Epoch 14/20\n",
      "1619315/1619315 [==============================] - 9s 6us/step - loss: 57.9949 - acc: 0.0016\n",
      "Epoch 15/20\n",
      "1619315/1619315 [==============================] - 9s 6us/step - loss: 57.9933 - acc: 0.0016\n",
      "Epoch 16/20\n",
      "1619315/1619315 [==============================] - 9s 6us/step - loss: 57.9933 - acc: 0.0016\n",
      "Epoch 17/20\n",
      "1619315/1619315 [==============================] - 9s 6us/step - loss: 57.9933 - acc: 0.0016\n",
      "Epoch 18/20\n",
      "1619315/1619315 [==============================] - 9s 6us/step - loss: 57.9933 - acc: 0.0016\n",
      "Epoch 19/20\n",
      "1619315/1619315 [==============================] - 9s 6us/step - loss: 57.9933 - acc: 0.0016\n",
      "Epoch 20/20\n",
      "1619315/1619315 [==============================] - 9s 6us/step - loss: 57.9933 - acc: 0.0016\n",
      "FEATURE EXTRACTION in 180.483 seconds\n",
      "(1619315, 25)\n"
     ]
    }
   ],
   "source": [
    "# layer 4\n",
    "input_ly_4= Input(shape=(30,))\n",
    "enc_ly_4= Dense(25, activation=LR, kernel_initializer='lecun_uniform')(input_ly_4)\n",
    "dec_ly_4=Dense(30, activation='sigmoid', kernel_initializer='lecun_uniform')(enc_ly_4)\n",
    "\n",
    "auto_ly_4= Model(input_ly_4, dec_ly_4)\n",
    "encoder_ly_4= Model(input_ly_4, enc_ly_4)\n",
    "auto_ly_4.summary()\n",
    "\n",
    "\n",
    "t0 = time()\n",
    "auto_ly_4.compile(loss='mse',optimizer='adam', metrics=['accuracy']) # reporting the loss\n",
    "\n",
    "history_a=auto_ly_4.fit(ly3_predict,ly3_predict,\n",
    "      epochs=20,\n",
    "      batch_size=256,\n",
    "      shuffle=True,\n",
    "      callbacks=callbacks_list,                    \n",
    "      #callbacks=[early_stopping])\n",
    "      #validation_data=(test,test))\n",
    "      validation_split=0)   \n",
    "  \n",
    "tt = time()-t0\n",
    "print (\"FEATURE EXTRACTION in {} seconds\".format(round(tt,3)))\n",
    "# if you want an encoded flatten representation of every test MNIST\n",
    "\n",
    "\n",
    "ly4_predict= encoder_ly_4.predict(ly3_predict)\n",
    "print(ly4_predict.shape)\n"
   ]
  },
  {
   "cell_type": "code",
   "execution_count": null,
   "metadata": {},
   "outputs": [],
   "source": [
    "from keras.callbacks import ModelCheckpoint\n",
    "filepath2=\"./logsae/7weights_tes_2a.best.hdf5\"\n",
    "checkpoint2 = ModelCheckpoint(filepath2, monitor='accuracy', save_best_only=True, mode='max')\n",
    "callbacks_list2 = [checkpoint2]"
   ]
  },
  {
   "cell_type": "code",
   "execution_count": 19,
   "metadata": {
    "colab": {
     "base_uri": "https://localhost:8080/",
     "height": 1000
    },
    "colab_type": "code",
    "executionInfo": {
     "elapsed": 3361636,
     "status": "ok",
     "timestamp": 1584942301470,
     "user": {
      "displayName": "yesi novaria kunang",
      "photoUrl": "",
      "userId": "10182320802774426296"
     },
     "user_tz": -420
    },
    "id": "hfbbaOS28JPS",
    "outputId": "f8865c28-0b24-4700-9fd1-450380f465ab"
   },
   "outputs": [
    {
     "name": "stderr",
     "output_type": "stream",
     "text": [
      "/usr/local/lib/python3.6/dist-packages/keras/activations.py:235: UserWarning: Do not pass a layer instance (such as LeakyReLU) as the activation argument of another layer. Instead, advanced activation layers should be used just like any other layer in a model.\n",
      "  identifier=identifier.__class__.__name__))\n"
     ]
    },
    {
     "name": "stdout",
     "output_type": "stream",
     "text": [
      "Model: \"model_11\"\n",
      "_________________________________________________________________\n",
      "Layer (type)                 Output Shape              Param #   \n",
      "=================================================================\n",
      "input_6 (InputLayer)         (None, 80)                0         \n",
      "_________________________________________________________________\n",
      "layer1 (Dense)               (None, 70)                5670      \n",
      "_________________________________________________________________\n",
      "layer2 (Dense)               (None, 40)                2840      \n",
      "_________________________________________________________________\n",
      "layer3 (Dense)               (None, 30)                1230      \n",
      "_________________________________________________________________\n",
      "layer4 (Dense)               (None, 25)                775       \n",
      "_________________________________________________________________\n",
      "dense_11 (Dense)             (None, 15)                390       \n",
      "=================================================================\n",
      "Total params: 10,905\n",
      "Trainable params: 10,905\n",
      "Non-trainable params: 0\n",
      "_________________________________________________________________\n",
      "WARNING:tensorflow:From /usr/local/lib/python3.6/dist-packages/keras/backend/tensorflow_backend.py:3576: The name tf.log is deprecated. Please use tf.math.log instead.\n",
      "\n",
      "WARNING:tensorflow:From /tensorflow-1.15.0/python3.6/tensorflow_core/python/ops/math_grad.py:1424: where (from tensorflow.python.ops.array_ops) is deprecated and will be removed in a future version.\n",
      "Instructions for updating:\n",
      "Use tf.where in 2.0, which has the same broadcast rule as np.where\n",
      "Epoch 1/200\n",
      "1619315/1619315 [==============================] - 18s 11us/step - loss: 0.2441 - acc: 0.9380\n",
      "Epoch 2/200\n",
      "  15360/1619315 [..............................] - ETA: 21s - loss: 0.1657 - acc: 0.9469"
     ]
    },
    {
     "name": "stderr",
     "output_type": "stream",
     "text": [
      "/usr/local/lib/python3.6/dist-packages/keras/callbacks.py:707: RuntimeWarning: Can save best model only with accuracy available, skipping.\n",
      "  'skipping.' % (self.monitor), RuntimeWarning)\n"
     ]
    },
    {
     "name": "stdout",
     "output_type": "stream",
     "text": [
      "1619315/1619315 [==============================] - 17s 11us/step - loss: 0.1575 - acc: 0.9505\n",
      "Epoch 3/200\n",
      "1619315/1619315 [==============================] - 17s 11us/step - loss: 0.1436 - acc: 0.9521\n",
      "Epoch 4/200\n",
      "1619315/1619315 [==============================] - 17s 10us/step - loss: 0.1366 - acc: 0.9530\n",
      "Epoch 5/200\n",
      "1619315/1619315 [==============================] - 17s 11us/step - loss: 0.1348 - acc: 0.9535\n",
      "Epoch 6/200\n",
      "1619315/1619315 [==============================] - 17s 10us/step - loss: 0.1337 - acc: 0.9540\n",
      "Epoch 7/200\n",
      "1619315/1619315 [==============================] - 17s 10us/step - loss: 0.1329 - acc: 0.9542\n",
      "Epoch 8/200\n",
      "1619315/1619315 [==============================] - 17s 10us/step - loss: 0.1321 - acc: 0.9544\n",
      "Epoch 9/200\n",
      "1619315/1619315 [==============================] - 17s 10us/step - loss: 0.1315 - acc: 0.9546\n",
      "Epoch 10/200\n",
      "1619315/1619315 [==============================] - 17s 10us/step - loss: 0.1311 - acc: 0.9548\n",
      "Epoch 11/200\n",
      "1619315/1619315 [==============================] - 17s 10us/step - loss: 0.1307 - acc: 0.9549\n",
      "Epoch 12/200\n",
      "1619315/1619315 [==============================] - 17s 10us/step - loss: 0.1303 - acc: 0.9551\n",
      "Epoch 13/200\n",
      "1619315/1619315 [==============================] - 17s 10us/step - loss: 0.1300 - acc: 0.9551\n",
      "Epoch 14/200\n",
      "1619315/1619315 [==============================] - 17s 10us/step - loss: 0.1296 - acc: 0.9553\n",
      "Epoch 15/200\n",
      "1619315/1619315 [==============================] - 17s 10us/step - loss: 0.1293 - acc: 0.9554\n",
      "Epoch 16/200\n",
      "1619315/1619315 [==============================] - 17s 10us/step - loss: 0.1289 - acc: 0.9555\n",
      "Epoch 17/200\n",
      "1619315/1619315 [==============================] - 17s 10us/step - loss: 0.1286 - acc: 0.9556\n",
      "Epoch 18/200\n",
      "1619315/1619315 [==============================] - 17s 10us/step - loss: 0.1284 - acc: 0.9556\n",
      "Epoch 19/200\n",
      "1619315/1619315 [==============================] - 17s 10us/step - loss: 0.1284 - acc: 0.9557\n",
      "Epoch 20/200\n",
      "1619315/1619315 [==============================] - 17s 10us/step - loss: 0.1280 - acc: 0.9558\n",
      "Epoch 21/200\n",
      "1619315/1619315 [==============================] - 17s 10us/step - loss: 0.1279 - acc: 0.9558\n",
      "Epoch 22/200\n",
      "1619315/1619315 [==============================] - 17s 10us/step - loss: 0.1280 - acc: 0.9557\n",
      "Epoch 23/200\n",
      "1619315/1619315 [==============================] - 17s 10us/step - loss: 0.1275 - acc: 0.9560\n",
      "Epoch 24/200\n",
      "1619315/1619315 [==============================] - 17s 10us/step - loss: 0.1276 - acc: 0.9558\n",
      "Epoch 25/200\n",
      "1619315/1619315 [==============================] - 17s 10us/step - loss: 0.1273 - acc: 0.9560\n",
      "Epoch 26/200\n",
      "1619315/1619315 [==============================] - 17s 10us/step - loss: 0.1271 - acc: 0.9561\n",
      "Epoch 27/200\n",
      "1619315/1619315 [==============================] - 17s 10us/step - loss: 0.1263 - acc: 0.9562\n",
      "Epoch 28/200\n",
      "1619315/1619315 [==============================] - 17s 10us/step - loss: 0.1259 - acc: 0.9563\n",
      "Epoch 29/200\n",
      "1619315/1619315 [==============================] - 17s 10us/step - loss: 0.1258 - acc: 0.9563\n",
      "Epoch 30/200\n",
      "1619315/1619315 [==============================] - 17s 10us/step - loss: 0.1258 - acc: 0.9563\n",
      "Epoch 31/200\n",
      "1619315/1619315 [==============================] - 17s 10us/step - loss: 0.1256 - acc: 0.9563\n",
      "Epoch 32/200\n",
      "1619315/1619315 [==============================] - 17s 10us/step - loss: 0.1254 - acc: 0.9564\n",
      "Epoch 33/200\n",
      "1619315/1619315 [==============================] - 17s 10us/step - loss: 0.1254 - acc: 0.9564\n",
      "Epoch 34/200\n",
      "1619315/1619315 [==============================] - 17s 10us/step - loss: 0.1253 - acc: 0.9564\n",
      "Epoch 35/200\n",
      "1619315/1619315 [==============================] - 17s 10us/step - loss: 0.1252 - acc: 0.9564\n",
      "Epoch 36/200\n",
      "1619315/1619315 [==============================] - 17s 10us/step - loss: 0.1251 - acc: 0.9565\n",
      "Epoch 37/200\n",
      "1619315/1619315 [==============================] - 17s 10us/step - loss: 0.1252 - acc: 0.9565\n",
      "Epoch 38/200\n",
      "1619315/1619315 [==============================] - 17s 11us/step - loss: 0.1250 - acc: 0.9565\n",
      "Epoch 39/200\n",
      "1619315/1619315 [==============================] - 17s 11us/step - loss: 0.1254 - acc: 0.9563\n",
      "Epoch 40/200\n",
      "1619315/1619315 [==============================] - 17s 11us/step - loss: 0.1250 - acc: 0.9565\n",
      "Epoch 41/200\n",
      "1619315/1619315 [==============================] - 17s 11us/step - loss: 0.1249 - acc: 0.9565\n",
      "Epoch 42/200\n",
      "1619315/1619315 [==============================] - 17s 10us/step - loss: 0.1247 - acc: 0.9565\n",
      "Epoch 43/200\n",
      "1619315/1619315 [==============================] - 17s 11us/step - loss: 0.1247 - acc: 0.9566\n",
      "Epoch 44/200\n",
      "1619315/1619315 [==============================] - 17s 10us/step - loss: 0.1246 - acc: 0.9565\n",
      "Epoch 45/200\n",
      "1619315/1619315 [==============================] - 17s 10us/step - loss: 0.1244 - acc: 0.9565\n",
      "Epoch 46/200\n",
      "1619315/1619315 [==============================] - 17s 10us/step - loss: 0.1246 - acc: 0.9565\n",
      "Epoch 47/200\n",
      "1619315/1619315 [==============================] - 17s 10us/step - loss: 0.1244 - acc: 0.9566\n",
      "Epoch 48/200\n",
      "1619315/1619315 [==============================] - 17s 10us/step - loss: 0.1242 - acc: 0.9566\n",
      "Epoch 49/200\n",
      "1619315/1619315 [==============================] - 17s 10us/step - loss: 0.1244 - acc: 0.9566\n",
      "Epoch 50/200\n",
      "1619315/1619315 [==============================] - 16s 10us/step - loss: 0.1244 - acc: 0.9566\n",
      "Epoch 51/200\n",
      "1619315/1619315 [==============================] - 17s 10us/step - loss: 0.1246 - acc: 0.9566\n",
      "Epoch 52/200\n",
      "1619315/1619315 [==============================] - 16s 10us/step - loss: 0.1242 - acc: 0.9567\n",
      "Epoch 53/200\n",
      "1619315/1619315 [==============================] - 17s 10us/step - loss: 0.1242 - acc: 0.9567\n",
      "Epoch 54/200\n",
      "1619315/1619315 [==============================] - 16s 10us/step - loss: 0.1243 - acc: 0.9567\n",
      "Epoch 55/200\n",
      "1619315/1619315 [==============================] - 17s 10us/step - loss: 0.1239 - acc: 0.9567\n",
      "Epoch 56/200\n",
      "1619315/1619315 [==============================] - 17s 10us/step - loss: 0.1241 - acc: 0.9566\n",
      "Epoch 57/200\n",
      "1619315/1619315 [==============================] - 17s 10us/step - loss: 0.1240 - acc: 0.9567\n",
      "Epoch 58/200\n",
      "1619315/1619315 [==============================] - 17s 10us/step - loss: 0.1239 - acc: 0.9568\n",
      "Epoch 59/200\n",
      "1619315/1619315 [==============================] - 17s 10us/step - loss: 0.1235 - acc: 0.9569\n",
      "Epoch 60/200\n",
      "1619315/1619315 [==============================] - 17s 10us/step - loss: 0.1270 - acc: 0.9566\n",
      "Epoch 61/200\n",
      "1619315/1619315 [==============================] - 17s 10us/step - loss: 0.1235 - acc: 0.9569\n",
      "Epoch 62/200\n",
      "1619315/1619315 [==============================] - 17s 10us/step - loss: 0.1234 - acc: 0.9569\n",
      "Epoch 63/200\n",
      "1619315/1619315 [==============================] - 17s 10us/step - loss: 0.1237 - acc: 0.9569\n",
      "Epoch 64/200\n",
      "1619315/1619315 [==============================] - 17s 10us/step - loss: 0.1242 - acc: 0.9567\n",
      "Epoch 65/200\n",
      "1619315/1619315 [==============================] - 17s 11us/step - loss: 0.1238 - acc: 0.9568\n",
      "Epoch 66/200\n",
      "1619315/1619315 [==============================] - 17s 10us/step - loss: 0.1249 - acc: 0.9567\n",
      "Epoch 67/200\n",
      "1619315/1619315 [==============================] - 17s 10us/step - loss: 0.1235 - acc: 0.9569\n",
      "Epoch 68/200\n",
      "1619315/1619315 [==============================] - 17s 10us/step - loss: 0.1257 - acc: 0.9567\n",
      "Epoch 69/200\n",
      "1619315/1619315 [==============================] - 17s 10us/step - loss: 0.1236 - acc: 0.9568\n",
      "Epoch 70/200\n",
      "1619315/1619315 [==============================] - 17s 10us/step - loss: 0.1234 - acc: 0.9569\n",
      "Epoch 71/200\n",
      "1619315/1619315 [==============================] - 17s 10us/step - loss: 0.1235 - acc: 0.9569\n",
      "Epoch 72/200\n",
      "1619315/1619315 [==============================] - 17s 10us/step - loss: 0.1232 - acc: 0.9569\n",
      "Epoch 73/200\n",
      "1619315/1619315 [==============================] - 17s 10us/step - loss: 0.1233 - acc: 0.9570\n",
      "Epoch 74/200\n",
      "1619315/1619315 [==============================] - 17s 10us/step - loss: 0.1232 - acc: 0.9569\n",
      "Epoch 75/200\n",
      "1619315/1619315 [==============================] - 17s 10us/step - loss: 0.1231 - acc: 0.9570\n",
      "Epoch 76/200\n",
      "1619315/1619315 [==============================] - 17s 10us/step - loss: 0.1229 - acc: 0.9571\n",
      "Epoch 77/200\n",
      "1619315/1619315 [==============================] - 17s 10us/step - loss: 0.1232 - acc: 0.9570\n",
      "Epoch 78/200\n",
      "1619315/1619315 [==============================] - 17s 10us/step - loss: 0.1233 - acc: 0.9569\n",
      "Epoch 79/200\n",
      "1619315/1619315 [==============================] - 17s 10us/step - loss: 0.1232 - acc: 0.9570\n",
      "Epoch 80/200\n",
      "1619315/1619315 [==============================] - 17s 10us/step - loss: 0.1232 - acc: 0.9570\n",
      "Epoch 81/200\n",
      "1619315/1619315 [==============================] - 17s 10us/step - loss: 0.1234 - acc: 0.9569\n",
      "Epoch 82/200\n",
      "1619315/1619315 [==============================] - 17s 10us/step - loss: 0.1232 - acc: 0.9570\n",
      "Epoch 83/200\n",
      "1619315/1619315 [==============================] - 17s 10us/step - loss: 0.1230 - acc: 0.9570\n",
      "Epoch 84/200\n",
      "1619315/1619315 [==============================] - 17s 10us/step - loss: 0.1228 - acc: 0.9570\n",
      "Epoch 85/200\n",
      "1619315/1619315 [==============================] - 17s 10us/step - loss: 0.1232 - acc: 0.9570\n",
      "Epoch 86/200\n",
      "1619315/1619315 [==============================] - 17s 10us/step - loss: 0.1229 - acc: 0.9570\n",
      "Epoch 87/200\n",
      "1619315/1619315 [==============================] - 17s 10us/step - loss: 0.1230 - acc: 0.9570\n",
      "Epoch 88/200\n",
      "1619315/1619315 [==============================] - 17s 10us/step - loss: 0.1232 - acc: 0.9570\n",
      "Epoch 89/200\n",
      "1619315/1619315 [==============================] - 17s 10us/step - loss: 0.1229 - acc: 0.9570\n",
      "Epoch 90/200\n",
      "1619315/1619315 [==============================] - 17s 10us/step - loss: 0.1229 - acc: 0.9570\n",
      "Epoch 91/200\n",
      "1619315/1619315 [==============================] - 17s 10us/step - loss: 0.1231 - acc: 0.9570\n",
      "Epoch 92/200\n",
      "1619315/1619315 [==============================] - 17s 10us/step - loss: 0.1227 - acc: 0.9571\n",
      "Epoch 93/200\n",
      "1619315/1619315 [==============================] - 17s 10us/step - loss: 0.1230 - acc: 0.9570\n",
      "Epoch 94/200\n",
      "1619315/1619315 [==============================] - 17s 10us/step - loss: 0.1231 - acc: 0.9570\n",
      "Epoch 95/200\n",
      "1619315/1619315 [==============================] - 17s 11us/step - loss: 0.1228 - acc: 0.9571\n",
      "Epoch 96/200\n",
      "1619315/1619315 [==============================] - 17s 11us/step - loss: 0.1236 - acc: 0.9570\n",
      "Epoch 97/200\n",
      "1619315/1619315 [==============================] - 17s 10us/step - loss: 0.1225 - acc: 0.9571\n",
      "Epoch 98/200\n",
      "1619315/1619315 [==============================] - 17s 10us/step - loss: 0.1228 - acc: 0.9571\n",
      "Epoch 99/200\n",
      "1619315/1619315 [==============================] - 17s 10us/step - loss: 0.1228 - acc: 0.9571\n",
      "Epoch 100/200\n",
      "1619315/1619315 [==============================] - 17s 10us/step - loss: 0.1227 - acc: 0.9571\n",
      "Epoch 101/200\n",
      "1619315/1619315 [==============================] - 17s 10us/step - loss: 0.1226 - acc: 0.9571\n",
      "Epoch 102/200\n",
      "1619315/1619315 [==============================] - 17s 10us/step - loss: 0.1225 - acc: 0.9572\n",
      "Epoch 103/200\n",
      "1619315/1619315 [==============================] - 17s 10us/step - loss: 0.1225 - acc: 0.9571\n",
      "Epoch 104/200\n",
      "1619315/1619315 [==============================] - 16s 10us/step - loss: 0.1223 - acc: 0.9572\n",
      "Epoch 105/200\n",
      "1619315/1619315 [==============================] - 17s 10us/step - loss: 0.1227 - acc: 0.9571\n",
      "Epoch 106/200\n",
      "1619315/1619315 [==============================] - 17s 10us/step - loss: 0.1225 - acc: 0.9572\n",
      "Epoch 107/200\n",
      "1619315/1619315 [==============================] - 17s 10us/step - loss: 0.1225 - acc: 0.9571\n",
      "Epoch 108/200\n",
      "1619315/1619315 [==============================] - 17s 10us/step - loss: 0.1228 - acc: 0.9571\n",
      "Epoch 109/200\n",
      "1619315/1619315 [==============================] - 17s 10us/step - loss: 0.1225 - acc: 0.9571\n",
      "Epoch 110/200\n",
      "1619315/1619315 [==============================] - 17s 11us/step - loss: 0.1225 - acc: 0.9571\n",
      "Epoch 111/200\n",
      "1619315/1619315 [==============================] - 17s 11us/step - loss: 0.1224 - acc: 0.9572\n",
      "Epoch 112/200\n",
      "1619315/1619315 [==============================] - 17s 11us/step - loss: 0.1225 - acc: 0.9571\n",
      "Epoch 113/200\n",
      "1619315/1619315 [==============================] - 17s 11us/step - loss: 0.1226 - acc: 0.9571\n",
      "Epoch 114/200\n",
      "1619315/1619315 [==============================] - 18s 11us/step - loss: 0.1226 - acc: 0.9571\n",
      "Epoch 115/200\n",
      "1619315/1619315 [==============================] - 17s 10us/step - loss: 0.1225 - acc: 0.9572\n",
      "Epoch 116/200\n",
      "1619315/1619315 [==============================] - 17s 10us/step - loss: 0.1222 - acc: 0.9572\n",
      "Epoch 117/200\n",
      "1619315/1619315 [==============================] - 17s 11us/step - loss: 0.1223 - acc: 0.9572\n",
      "Epoch 118/200\n",
      "1619315/1619315 [==============================] - 17s 10us/step - loss: 0.1225 - acc: 0.9571\n",
      "Epoch 119/200\n",
      "1619315/1619315 [==============================] - 17s 10us/step - loss: 0.1226 - acc: 0.9571\n",
      "Epoch 120/200\n",
      "1619315/1619315 [==============================] - 17s 10us/step - loss: 0.1222 - acc: 0.9572\n",
      "Epoch 121/200\n",
      "1619315/1619315 [==============================] - 17s 10us/step - loss: 0.1220 - acc: 0.9572\n",
      "Epoch 122/200\n",
      "1619315/1619315 [==============================] - 17s 10us/step - loss: 0.1221 - acc: 0.9572\n",
      "Epoch 123/200\n",
      "1619315/1619315 [==============================] - 17s 10us/step - loss: 0.1222 - acc: 0.9572\n",
      "Epoch 124/200\n",
      "1619315/1619315 [==============================] - 17s 10us/step - loss: 0.1221 - acc: 0.9572\n",
      "Epoch 125/200\n",
      "1619315/1619315 [==============================] - 17s 10us/step - loss: 0.1223 - acc: 0.9572\n",
      "Epoch 126/200\n",
      "1619315/1619315 [==============================] - 17s 11us/step - loss: 0.1222 - acc: 0.9572\n",
      "Epoch 127/200\n",
      "1619315/1619315 [==============================] - 17s 10us/step - loss: 0.1222 - acc: 0.9572\n",
      "Epoch 128/200\n",
      "1619315/1619315 [==============================] - 17s 11us/step - loss: 0.1238 - acc: 0.9570\n",
      "Epoch 129/200\n",
      "1619315/1619315 [==============================] - 17s 10us/step - loss: 0.1223 - acc: 0.9572\n",
      "Epoch 130/200\n",
      "1619315/1619315 [==============================] - 17s 10us/step - loss: 0.1319 - acc: 0.9566\n",
      "Epoch 131/200\n",
      "1619315/1619315 [==============================] - 17s 10us/step - loss: 0.1246 - acc: 0.9570\n",
      "Epoch 132/200\n",
      "1619315/1619315 [==============================] - 18s 11us/step - loss: 0.1219 - acc: 0.9573\n",
      "Epoch 133/200\n",
      "1619315/1619315 [==============================] - 17s 10us/step - loss: 0.1221 - acc: 0.9573\n",
      "Epoch 134/200\n",
      "1619315/1619315 [==============================] - 17s 10us/step - loss: 0.1218 - acc: 0.9573\n",
      "Epoch 135/200\n",
      "1619315/1619315 [==============================] - 17s 11us/step - loss: 0.1220 - acc: 0.9572\n",
      "Epoch 136/200\n",
      "1619315/1619315 [==============================] - 17s 10us/step - loss: 0.1219 - acc: 0.9572\n",
      "Epoch 137/200\n",
      "1619315/1619315 [==============================] - 17s 10us/step - loss: 0.1219 - acc: 0.9572\n",
      "Epoch 138/200\n",
      "1619315/1619315 [==============================] - 17s 10us/step - loss: 0.1220 - acc: 0.9572\n",
      "Epoch 139/200\n",
      "1619315/1619315 [==============================] - 17s 10us/step - loss: 0.1220 - acc: 0.9572\n",
      "Epoch 140/200\n",
      "1619315/1619315 [==============================] - 17s 10us/step - loss: 0.1217 - acc: 0.9573\n",
      "Epoch 141/200\n",
      "1619315/1619315 [==============================] - 17s 10us/step - loss: 0.1219 - acc: 0.9572\n",
      "Epoch 142/200\n",
      "1619315/1619315 [==============================] - 17s 10us/step - loss: 0.1219 - acc: 0.9572\n",
      "Epoch 143/200\n",
      "1619315/1619315 [==============================] - 17s 10us/step - loss: 0.1219 - acc: 0.9573\n",
      "Epoch 144/200\n",
      "1619315/1619315 [==============================] - 17s 10us/step - loss: 0.1219 - acc: 0.9573\n",
      "Epoch 145/200\n",
      "1619315/1619315 [==============================] - 17s 10us/step - loss: 0.1216 - acc: 0.9573\n",
      "Epoch 146/200\n",
      "1619315/1619315 [==============================] - 17s 10us/step - loss: 0.1220 - acc: 0.9572\n",
      "Epoch 147/200\n",
      "1619315/1619315 [==============================] - 17s 10us/step - loss: 0.1219 - acc: 0.9573\n",
      "Epoch 148/200\n",
      "1619315/1619315 [==============================] - 17s 10us/step - loss: 0.1219 - acc: 0.9573\n",
      "Epoch 149/200\n",
      "1619315/1619315 [==============================] - 17s 10us/step - loss: 0.1217 - acc: 0.9572\n",
      "Epoch 150/200\n",
      "1619315/1619315 [==============================] - 17s 10us/step - loss: 0.1218 - acc: 0.9573\n",
      "Epoch 151/200\n",
      "1619315/1619315 [==============================] - 17s 11us/step - loss: 0.1217 - acc: 0.9573\n",
      "Epoch 152/200\n",
      "1619315/1619315 [==============================] - 17s 10us/step - loss: 0.1217 - acc: 0.9573\n",
      "Epoch 153/200\n",
      "1619315/1619315 [==============================] - 17s 10us/step - loss: 0.1216 - acc: 0.9574\n",
      "Epoch 154/200\n",
      "1619315/1619315 [==============================] - 17s 10us/step - loss: 0.1221 - acc: 0.9572\n",
      "Epoch 155/200\n",
      "1619315/1619315 [==============================] - 17s 10us/step - loss: 0.1218 - acc: 0.9572\n",
      "Epoch 156/200\n",
      "1619315/1619315 [==============================] - 17s 10us/step - loss: 0.1218 - acc: 0.9573\n",
      "Epoch 157/200\n",
      "1619315/1619315 [==============================] - 17s 10us/step - loss: 0.1216 - acc: 0.9573\n",
      "Epoch 158/200\n",
      "1619315/1619315 [==============================] - 17s 10us/step - loss: 0.1216 - acc: 0.9573\n",
      "Epoch 159/200\n",
      "1619315/1619315 [==============================] - 17s 10us/step - loss: 0.1217 - acc: 0.9573\n",
      "Epoch 160/200\n",
      "1619315/1619315 [==============================] - 17s 10us/step - loss: 0.1216 - acc: 0.9573\n",
      "Epoch 161/200\n",
      "1619315/1619315 [==============================] - 17s 10us/step - loss: 0.1216 - acc: 0.9573\n",
      "Epoch 162/200\n",
      "1619315/1619315 [==============================] - 17s 10us/step - loss: 0.1220 - acc: 0.9572\n",
      "Epoch 163/200\n",
      "1619315/1619315 [==============================] - 17s 10us/step - loss: 0.1218 - acc: 0.9572\n",
      "Epoch 164/200\n",
      "1619315/1619315 [==============================] - 17s 10us/step - loss: 0.1215 - acc: 0.9573\n",
      "Epoch 165/200\n",
      "1619315/1619315 [==============================] - 17s 10us/step - loss: 0.1216 - acc: 0.9573\n",
      "Epoch 166/200\n",
      "1619315/1619315 [==============================] - 17s 10us/step - loss: 0.1217 - acc: 0.9573\n",
      "Epoch 167/200\n",
      "1619315/1619315 [==============================] - 17s 10us/step - loss: 0.1215 - acc: 0.9573\n",
      "Epoch 168/200\n",
      "1619315/1619315 [==============================] - 17s 10us/step - loss: 0.1217 - acc: 0.9573\n",
      "Epoch 169/200\n",
      "1619315/1619315 [==============================] - 18s 11us/step - loss: 0.1214 - acc: 0.9573\n",
      "Epoch 170/200\n",
      "1619315/1619315 [==============================] - 17s 10us/step - loss: 0.1217 - acc: 0.9573\n",
      "Epoch 171/200\n",
      "1619315/1619315 [==============================] - 17s 10us/step - loss: 0.1216 - acc: 0.9573\n",
      "Epoch 172/200\n",
      "1619315/1619315 [==============================] - 17s 10us/step - loss: 0.1213 - acc: 0.9574\n",
      "Epoch 173/200\n",
      "1619315/1619315 [==============================] - 17s 10us/step - loss: 0.1217 - acc: 0.9573\n",
      "Epoch 174/200\n",
      "1619315/1619315 [==============================] - 17s 10us/step - loss: 0.1215 - acc: 0.9573\n",
      "Epoch 175/200\n",
      "1619315/1619315 [==============================] - 17s 10us/step - loss: 0.1216 - acc: 0.9573\n",
      "Epoch 176/200\n",
      "1619315/1619315 [==============================] - 17s 10us/step - loss: 0.1215 - acc: 0.9573\n",
      "Epoch 177/200\n",
      "1619315/1619315 [==============================] - 17s 10us/step - loss: 0.1216 - acc: 0.9573\n",
      "Epoch 178/200\n",
      "1619315/1619315 [==============================] - 17s 10us/step - loss: 0.1216 - acc: 0.9573\n",
      "Epoch 179/200\n",
      "1619315/1619315 [==============================] - 17s 10us/step - loss: 0.1214 - acc: 0.9573\n",
      "Epoch 180/200\n",
      "1619315/1619315 [==============================] - 17s 10us/step - loss: 0.1213 - acc: 0.9573\n",
      "Epoch 181/200\n",
      "1619315/1619315 [==============================] - 17s 10us/step - loss: 0.1215 - acc: 0.9573\n",
      "Epoch 182/200\n",
      "1619315/1619315 [==============================] - 17s 10us/step - loss: 0.1215 - acc: 0.9573\n",
      "Epoch 183/200\n",
      "1619315/1619315 [==============================] - 17s 10us/step - loss: 0.1214 - acc: 0.9573\n",
      "Epoch 184/200\n",
      "1619315/1619315 [==============================] - 17s 10us/step - loss: 0.1213 - acc: 0.9574\n",
      "Epoch 185/200\n",
      "1619315/1619315 [==============================] - 17s 10us/step - loss: 0.1213 - acc: 0.9573\n",
      "Epoch 186/200\n",
      "1619315/1619315 [==============================] - 17s 10us/step - loss: 0.1214 - acc: 0.9573\n",
      "Epoch 187/200\n",
      "1619315/1619315 [==============================] - 17s 10us/step - loss: 0.1212 - acc: 0.9574\n",
      "Epoch 188/200\n",
      "1619315/1619315 [==============================] - 17s 10us/step - loss: 0.1214 - acc: 0.9573\n",
      "Epoch 189/200\n",
      "1619315/1619315 [==============================] - 17s 10us/step - loss: 0.1214 - acc: 0.9574\n",
      "Epoch 190/200\n",
      "1619315/1619315 [==============================] - 16s 10us/step - loss: 0.1212 - acc: 0.9574\n",
      "Epoch 191/200\n",
      "1619315/1619315 [==============================] - 17s 10us/step - loss: 0.1213 - acc: 0.9573\n",
      "Epoch 192/200\n",
      "1619315/1619315 [==============================] - 17s 10us/step - loss: 0.1216 - acc: 0.9572\n",
      "Epoch 193/200\n",
      "1619315/1619315 [==============================] - 17s 10us/step - loss: 0.1215 - acc: 0.9574\n",
      "Epoch 194/200\n",
      "1619315/1619315 [==============================] - 17s 10us/step - loss: 0.1214 - acc: 0.9573\n",
      "Epoch 195/200\n",
      "1619315/1619315 [==============================] - 17s 10us/step - loss: 0.1214 - acc: 0.9573\n",
      "Epoch 196/200\n",
      "1619315/1619315 [==============================] - 17s 10us/step - loss: 0.1214 - acc: 0.9573\n",
      "Epoch 197/200\n",
      "1619315/1619315 [==============================] - 17s 10us/step - loss: 0.1212 - acc: 0.9574\n",
      "Epoch 198/200\n",
      "1619315/1619315 [==============================] - 17s 10us/step - loss: 0.1217 - acc: 0.9573\n",
      "Epoch 199/200\n",
      "1619315/1619315 [==============================] - 17s 10us/step - loss: 0.1213 - acc: 0.9573\n",
      "Epoch 200/200\n",
      "1619315/1619315 [==============================] - 17s 10us/step - loss: 0.1212 - acc: 0.9574\n",
      "FEATURE CLASSIFICATION in 3360.17 seconds\n"
     ]
    }
   ],
   "source": [
    "###DNN\n",
    "# Deep stacked auto encoder\n",
    "ly_1= auto_ly_1.layers[1].get_weights()\n",
    "ly_2= auto_ly_2.layers[1].get_weights()\n",
    "ly_3= auto_ly_3.layers[1].get_weights()\n",
    "ly_4= auto_ly_4.layers[1].get_weights()\n",
    "\n",
    "input_da= Input(shape=(input_dim,))\n",
    "dnn_1=Dense(70, activation=LR,  kernel_initializer='lecun_uniform',input_shape=(input_dim,),\n",
    "            name=\"layer1\")(input_da)\n",
    "dnn_2= Dense(40, activation=LR, kernel_initializer='lecun_uniform',name=\"layer2\")(dnn_1)\n",
    "dnn_3= Dense(30, activation=LR, kernel_initializer='lecun_uniform',name=\"layer3\")(dnn_2)\n",
    "dnn_4= Dense(25, activation=LR, kernel_initializer='lecun_uniform',name=\"layer4\")(dnn_3)\n",
    "dnn_5= Dense(15, activation='softmax',kernel_initializer='lecun_uniform')(dnn_4)\n",
    "\n",
    "dnn= Model(input_da, dnn_5)\n",
    "dnn.summary()\n",
    "\n",
    "dnn.layers[1].set_weights(ly_1) # first dense layer\n",
    "dnn.layers[2].set_weights(ly_2)\n",
    "dnn.layers[3].set_weights(ly_3)\n",
    "dnn.layers[4].set_weights(ly_4)\n",
    "\n",
    "\n",
    "#######################################\n",
    "\n",
    "t1=time()\n",
    "dnn.compile(loss='categorical_crossentropy', metrics=['accuracy'],\n",
    "            optimizer= Adam(lr=0.001, beta_1=0.9, beta_2=0.999, epsilon=1e-08,decay=0.0, amsgrad=False))\n",
    "history2a=dnn.fit(train, ylabel_train,epochs=200,batch_size=256,shuffle=True,verbose=1, \n",
    "                    callbacks=callbacks_list2, \n",
    "                      validation_split=0)\n",
    "                     #validation_data=(test,y_test))\n",
    "tt2 = time()-t1\n",
    "print (\"FEATURE CLASSIFICATION in {} seconds\".format(round(tt2,3)))\n",
    "\n",
    "\n",
    "\n",
    "\n"
   ]
  },
  {
   "cell_type": "code",
   "execution_count": 47,
   "metadata": {
    "colab": {
     "base_uri": "https://localhost:8080/",
     "height": 35
    },
    "colab_type": "code",
    "executionInfo": {
     "elapsed": 913,
     "status": "ok",
     "timestamp": 1584952615620,
     "user": {
      "displayName": "yesi novaria kunang",
      "photoUrl": "",
      "userId": "10182320802774426296"
     },
     "user_tz": -420
    },
    "id": "j0Zf7dYatN7X",
    "outputId": "e58f2033-f833-4d79-bf26-523cf1dfcccf"
   },
   "outputs": [
    {
     "data": {
      "text/plain": [
       "['sae_dnn_model.sav']"
      ]
     },
     "execution_count": 47,
     "metadata": {
      "tags": []
     },
     "output_type": "execute_result"
    }
   ],
   "source": [
    "import joblib\n",
    "# save the model to disk\n",
    "filename = 'sae_dnn_model.sav'\n",
    "joblib.dump(dnn, filename)"
   ]
  },
  {
   "cell_type": "markdown",
   "metadata": {
    "colab_type": "text",
    "id": "HFWaW4euiegF"
   },
   "source": [
    "# New Section"
   ]
  },
  {
   "cell_type": "code",
   "execution_count": 23,
   "metadata": {
    "colab": {
     "base_uri": "https://localhost:8080/",
     "height": 545
    },
    "colab_type": "code",
    "executionInfo": {
     "elapsed": 1543,
     "status": "ok",
     "timestamp": 1584943486578,
     "user": {
      "displayName": "yesi novaria kunang",
      "photoUrl": "",
      "userId": "10182320802774426296"
     },
     "user_tz": -420
    },
    "id": "4jVHxzTF8JPX",
    "outputId": "2e8e2a84-176d-472d-ce9c-a4408f216c3f"
   },
   "outputs": [
    {
     "data": {
      "image/png": "[encoded data removed]",
      "text/plain": [
       "<Figure size 432x288 with 1 Axes>"
      ]
     },
     "metadata": {
      "tags": []
     },
     "output_type": "display_data"
    },
    {
     "data": {
      "image/png": "[encoded data removed]",
      "text/plain": [
       "<Figure size 432x288 with 1 Axes>"
      ]
     },
     "metadata": {
      "tags": []
     },
     "output_type": "display_data"
    }
   ],
   "source": [
    "import matplotlib.pyplot as plt\n",
    "\n",
    "accuracy_a = history_a.history['acc']\n",
    "#val_accuracy_a = history_a.history['val_acc']\n",
    "loss_a = history_a.history['loss']\n",
    "#val_loss_a = history_a.history['val_loss']\n",
    "epochs = range(len(accuracy_a))\n",
    "plt.plot(epochs, accuracy_a, 'bo', label='Training Recall_av ')\n",
    "#plt.plot(epochs, val_accuracy_a, 'b', label='Test Recall_av')\n",
    "plt.title('Training  Loss')\n",
    "plt.legend()\n",
    "plt.figure()\n",
    "plt.plot(epochs, loss_a, 'bo', label='Training loss')\n",
    "#plt.plot(epochs, val_loss_a, 'b', label='Test loss')\n",
    "plt.title('Training  Loss')\n",
    "plt.legend()\n",
    "plt.show()"
   ]
  },
  {
   "cell_type": "code",
   "execution_count": 26,
   "metadata": {
    "colab": {
     "base_uri": "https://localhost:8080/",
     "height": 545
    },
    "colab_type": "code",
    "executionInfo": {
     "elapsed": 884,
     "status": "ok",
     "timestamp": 1584943525371,
     "user": {
      "displayName": "yesi novaria kunang",
      "photoUrl": "",
      "userId": "10182320802774426296"
     },
     "user_tz": -420
    },
    "id": "PQMbWQk38JPd",
    "outputId": "a5484012-08e0-40a9-c12c-e2368d1a4cfb",
    "scrolled": true
   },
   "outputs": [
    {
     "data": {
      "image/png": "[encoded data removed]",
      "text/plain": [
       "<Figure size 432x288 with 1 Axes>"
      ]
     },
     "metadata": {
      "tags": []
     },
     "output_type": "display_data"
    },
    {
     "data": {
      "image/png": "[encoded data removed]",
      "text/plain": [
       "<Figure size 432x288 with 1 Axes>"
      ]
     },
     "metadata": {
      "tags": []
     },
     "output_type": "display_data"
    }
   ],
   "source": [
    "accuracy_2a = history2a.history['acc']\n",
    "#val_accuracy_2a = history2a.history['val_accuracy']\n",
    "loss_2a = history2a.history['loss']\n",
    "#val_loss_2a = history2a.history['val_loss']\n",
    "epochs = range(len(accuracy_2a))\n",
    "plt.plot(epochs, accuracy_2a, 'bo', label='Training accuracy')\n",
    "#plt.plot(epochs, val_accuracy_2a, 'b', label='Test accuracy')\n",
    "plt.ylim(bottom=0, top=1.0)  # this line\n",
    "plt.title('Training  Detectian Rate')\n",
    "plt.legend()\n",
    "plt.figure()\n",
    "plt.plot(epochs, loss_2a, 'bo', label='Training loss')\n",
    "#plt.plot(epochs, val_loss_2a, 'b', label='Test loss')\n",
    "plt.ylim(bottom=0, top=10.0)  # this line\n",
    "plt.title('Training Stack AE 4 hidden layer')\n",
    "plt.legend()\n",
    "plt.show()"
   ]
  },
  {
   "cell_type": "code",
   "execution_count": 27,
   "metadata": {
    "colab": {
     "base_uri": "https://localhost:8080/",
     "height": 53
    },
    "colab_type": "code",
    "executionInfo": {
     "elapsed": 10604,
     "status": "ok",
     "timestamp": 1584943541983,
     "user": {
      "displayName": "yesi novaria kunang",
      "photoUrl": "",
      "userId": "10182320802774426296"
     },
     "user_tz": -420
    },
    "id": "xABCt6uE8JPs",
    "outputId": "a2c35ff2-59b4-4b91-9ab2-8bba18cdb72e"
   },
   "outputs": [
    {
     "name": "stdout",
     "output_type": "stream",
     "text": [
      "404836/404836 [==============================] - 10s 25us/step\n"
     ]
    },
    {
     "data": {
      "text/plain": [
       "[0.1204456508450359, 0.9576766888320208]"
      ]
     },
     "execution_count": 27,
     "metadata": {
      "tags": []
     },
     "output_type": "execute_result"
    }
   ],
   "source": [
    "dnn.evaluate(test,ylabel_test)"
   ]
  },
  {
   "cell_type": "code",
   "execution_count": 29,
   "metadata": {
    "colab": {
     "base_uri": "https://localhost:8080/",
     "height": 71
    },
    "colab_type": "code",
    "executionInfo": {
     "elapsed": 36096,
     "status": "ok",
     "timestamp": 1584943594738,
     "user": {
      "displayName": "yesi novaria kunang",
      "photoUrl": "",
      "userId": "10182320802774426296"
     },
     "user_tz": -420
    },
    "id": "qy8FEEwZ8JPz",
    "outputId": "68c126bd-e369-4848-add2-d2983cdb0a98"
   },
   "outputs": [
    {
     "name": "stdout",
     "output_type": "stream",
     "text": [
      "1619315/1619315 [==============================] - 36s 22us/step\n",
      "\n",
      "Loss: 0.12, Accuracy: 95.76%\n"
     ]
    }
   ],
   "source": [
    "# 4. evaluate the network\n",
    "loss, val_accuracy = dnn.evaluate(train,ylabel_train)\n",
    "print(\"\\nLoss: %.2f, Accuracy: %.2f%%\" % (loss, val_accuracy*100))"
   ]
  },
  {
   "cell_type": "code",
   "execution_count": 28,
   "metadata": {
    "colab": {
     "base_uri": "https://localhost:8080/",
     "height": 71
    },
    "colab_type": "code",
    "executionInfo": {
     "elapsed": 9179,
     "status": "ok",
     "timestamp": 1584943557724,
     "user": {
      "displayName": "yesi novaria kunang",
      "photoUrl": "",
      "userId": "10182320802774426296"
     },
     "user_tz": -420
    },
    "id": "JSbB4aRD8JP4",
    "outputId": "7b6f3995-0a41-4a08-ae10-34fb94df2981"
   },
   "outputs": [
    {
     "name": "stdout",
     "output_type": "stream",
     "text": [
      "404836/404836 [==============================] - 9s 21us/step\n",
      "\n",
      "Loss: 0.12, Accuracy: 95.77%\n"
     ]
    }
   ],
   "source": [
    "# 4. evaluate the network\n",
    "loss, val_accuracy = dnn.evaluate(test,ylabel_test)\n",
    "print(\"\\nLoss: %.2f, Accuracy: %.2f%%\" % (loss, val_accuracy*100))"
   ]
  },
  {
   "cell_type": "markdown",
   "metadata": {
    "colab_type": "text",
    "id": "sudJ8Ri78JP9"
   },
   "source": [
    "## The Performance"
   ]
  },
  {
   "cell_type": "code",
   "execution_count": 0,
   "metadata": {
    "colab": {},
    "colab_type": "code",
    "id": "zyBfUaGD8JP_"
   },
   "outputs": [],
   "source": [
    "from sklearn.metrics import confusion_matrix\n"
   ]
  },
  {
   "cell_type": "code",
   "execution_count": 30,
   "metadata": {
    "colab": {
     "base_uri": "https://localhost:8080/",
     "height": 35
    },
    "colab_type": "code",
    "executionInfo": {
     "elapsed": 29288,
     "status": "ok",
     "timestamp": 1584943602503,
     "user": {
      "displayName": "yesi novaria kunang",
      "photoUrl": "",
      "userId": "10182320802774426296"
     },
     "user_tz": -420
    },
    "id": "CLI76IW88JQN",
    "outputId": "b1f3fd11-109c-45cf-8d6d-27b0b7177536"
   },
   "outputs": [
    {
     "name": "stdout",
     "output_type": "stream",
     "text": [
      "acc: 95.77%\n"
     ]
    }
   ],
   "source": [
    "scores = dnn.evaluate(test, ylabel_test, verbose=0)\n",
    "print(\"%s: %.2f%%\" % (dnn.metrics_names[1], scores[1]*100))\n",
    "\n"
   ]
  },
  {
   "cell_type": "code",
   "execution_count": 0,
   "metadata": {
    "colab": {},
    "colab_type": "code",
    "id": "NnYi-Q4PLg5-"
   },
   "outputs": [],
   "source": [
    "preds = dnn.predict(train)\n",
    "pred_lbls = np.argmax(preds, axis=1)\n",
    "true_lbls = np.argmax(ylabel_train, axis=1)\n",
    "# With the confusion matrix, we can aggregate model predictions\n",
    "# This helps to understand the mistakes and refine the model"
   ]
  },
  {
   "cell_type": "code",
   "execution_count": 0,
   "metadata": {
    "colab": {},
    "colab_type": "code",
    "id": "s7T_9Spz8JQU"
   },
   "outputs": [],
   "source": [
    "import matplotlib.pyplot as plt\n",
    "import itertools\n",
    "\n",
    "def plot_confusion_matrix(cm, classes,\n",
    "                          normalize=False,\n",
    "                          title='Confusion matrix',\n",
    "                          cmap=plt.cm.Blues):\n",
    "    \"\"\"\n",
    "    This function prints and plots the confusion matrix.\n",
    "    Normalization can be applied by setting `normalize=True`.\n",
    "    \"\"\"\n",
    "    if normalize:\n",
    "        cm = cm.astype('float') / cm.sum(axis=1)[:, np.newaxis]\n",
    "        print(\"Normalized confusion matrix\")\n",
    "    else:\n",
    "        print('Confusion matrix, without normalization')\n",
    "\n",
    "    print(cm)\n",
    "\n",
    "    plt.imshow(cm, interpolation='nearest', cmap=cmap)\n",
    "    plt.title(title)\n",
    "    plt.colorbar()\n",
    "    tick_marks = np.arange(len(classes))\n",
    "    plt.xticks(tick_marks, classes, rotation=45)\n",
    "    plt.yticks(tick_marks, classes)\n",
    "\n",
    "    fmt = '.2f' if normalize else 'd'\n",
    "    thresh = cm.max() / 2.\n",
    "    for i, j in itertools.product(range(cm.shape[0]), range(cm.shape[1])):\n",
    "        plt.text(j, i, format(cm[i, j], fmt),\n",
    "                 horizontalalignment=\"center\",\n",
    "                 color=\"white\" if cm[i, j] > thresh else \"black\")\n",
    "\n",
    "    plt.tight_layout()\n",
    "    plt.ylabel('True label')\n",
    "    plt.xlabel('Predicted label')"
   ]
  },
  {
   "cell_type": "code",
   "execution_count": 0,
   "metadata": {
    "colab": {},
    "colab_type": "code",
    "id": "Lh90ZcMK8JQY"
   },
   "outputs": [],
   "source": [
    "from sklearn.metrics import confusion_matrix\n"
   ]
  },
  {
   "cell_type": "code",
   "execution_count": 35,
   "metadata": {
    "colab": {
     "base_uri": "https://localhost:8080/",
     "height": 553
    },
    "colab_type": "code",
    "executionInfo": {
     "elapsed": 39294,
     "status": "ok",
     "timestamp": 1584943628821,
     "user": {
      "displayName": "yesi novaria kunang",
      "photoUrl": "",
      "userId": "10182320802774426296"
     },
     "user_tz": -420
    },
    "id": "oS3VZUHI8JQf",
    "outputId": "2af5f9ce-4e60-4e6d-f5a3-a8acfff578c4",
    "scrolled": true
   },
   "outputs": [
    {
     "data": {
      "text/plain": [
       "array([[799224,     24,      5,      0,      3,      0,     29,      4,\n",
       "             1,      1,     14,      0,   3714,      0,      6],\n",
       "       [    18,  85824,      0,      0,      0,      0,      0,      0,\n",
       "             0,      0,      0,      0,      0,      0,      0],\n",
       "       [   132,      0,    314,     28,      0,      0,     20,      0,\n",
       "             0,      1,      1,      0,      0,      0,      0],\n",
       "       [     8,      0,     39,    130,      0,      0,     10,      0,\n",
       "             0,      0,      0,      0,      0,      0,      0],\n",
       "       [     0,      0,      0,      0, 192098,      0,      0,      0,\n",
       "             0,      0,      0,      0,      0,      0,      0],\n",
       "       [     0,      0,      0,      0,      0,   1311,     51,      0,\n",
       "             0,      0,      0,      0,      0,      0,      0],\n",
       "       [    29,      0,      0,      0,      0,    127, 161291,      0,\n",
       "             0,      0,      0,      0,      0,      0,      0],\n",
       "       [     0,      0,      0,      0,      0,      0,      0,  25001,\n",
       "             6,      0,      1,      0,      0,      0,      0],\n",
       "       [     0,      0,      0,      0,      0,      0,      0,      2,\n",
       "        138457,      0,      0,      0,      0,      0,      0],\n",
       "       [     0,      0,      0,      0,      0,      0,      0,      0,\n",
       "             0,  21691,      0,  20283,      0,      0,      0],\n",
       "       [    78,      0,      0,      0,      0,      0,      0,      0,\n",
       "             0,      0,   6534,      0,      0,      0,      0],\n",
       "       [     0,      0,      0,      0,      0,      0,      0,      0,\n",
       "             0,   6808,      0,  51247,      0,      0,      0],\n",
       "       [ 37194,      0,      4,      0,      0,      0,      1,      2,\n",
       "             0,      0,      1,      0,  11144,      1,      0],\n",
       "       [    12,      0,     19,      5,      0,      0,      2,      0,\n",
       "             0,      0,      0,      0,      0,     33,      0],\n",
       "       [     0,      0,      0,      0,      0,      0,      0,      0,\n",
       "             2,      2,      0,      9,      0,      0,  56319]])"
      ]
     },
     "execution_count": 35,
     "metadata": {
      "tags": []
     },
     "output_type": "execute_result"
    }
   ],
   "source": [
    "confusion_matrix(true_lbls, pred_lbls)"
   ]
  },
  {
   "cell_type": "code",
   "execution_count": 36,
   "metadata": {
    "colab": {
     "base_uri": "https://localhost:8080/",
     "height": 35
    },
    "colab_type": "code",
    "executionInfo": {
     "elapsed": 39039,
     "status": "ok",
     "timestamp": 1584943629184,
     "user": {
      "displayName": "yesi novaria kunang",
      "photoUrl": "",
      "userId": "10182320802774426296"
     },
     "user_tz": -420
    },
    "id": "derHkX5a8JQl",
    "outputId": "9efe9a0a-5710-40b3-e827-074bac266d3d",
    "scrolled": true
   },
   "outputs": [
    {
     "data": {
      "text/plain": [
       "0.9504007126846628"
      ]
     },
     "execution_count": 36,
     "metadata": {
      "tags": []
     },
     "output_type": "execute_result"
    }
   ],
   "source": [
    "from sklearn.metrics import f1_score\n",
    "f1_score(true_lbls, pred_lbls, average='weighted')"
   ]
  },
  {
   "cell_type": "code",
   "execution_count": 0,
   "metadata": {
    "colab": {},
    "colab_type": "code",
    "id": "i4eFn7jH8JQp"
   },
   "outputs": [],
   "source": [
    "# Overall, we report similar model performance to the reference above.\n",
    "# Their research suggest using unsupervised pretraining with autoencoders over\n",
    "# both train and test before adding classifier layers for fine-tuning.\n",
    "# I have done no parameter tuning but report comparable performance.\n",
    "# Note the model has diffuculty with U2R and R2L."
   ]
  },
  {
   "cell_type": "code",
   "execution_count": 39,
   "metadata": {
    "colab": {
     "base_uri": "https://localhost:8080/",
     "height": 410
    },
    "colab_type": "code",
    "executionInfo": {
     "elapsed": 3727,
     "status": "ok",
     "timestamp": 1584943668568,
     "user": {
      "displayName": "yesi novaria kunang",
      "photoUrl": "",
      "userId": "10182320802774426296"
     },
     "user_tz": -420
    },
    "id": "1P5Nooi28JQt",
    "outputId": "85b89ea1-4ed3-428a-cd5e-faeb0935ad10",
    "scrolled": true
   },
   "outputs": [
    {
     "name": "stdout",
     "output_type": "stream",
     "text": [
      "                          precision    recall  f1-score   support\n",
      "\n",
      "                  Benign    0.95522   0.99527   0.97483    803025\n",
      "                     Bot    0.99972   0.99979   0.99976     85842\n",
      "        Brute Force -Web    0.82415   0.63306   0.71608       496\n",
      "        Brute Force -XSS    0.79755   0.69519   0.74286       187\n",
      "        DDOS attack-HOIC    0.99998   1.00000   0.99999    192098\n",
      "    DDOS attack-LOIC-UDP    0.91168   0.96256   0.93643      1362\n",
      "  DDoS attacks-LOIC-HTTP    0.99930   0.99903   0.99917    161447\n",
      "   DoS attacks-GoldenEye    0.99968   0.99972   0.99970     25008\n",
      "        DoS attacks-Hulk    0.99994   0.99999   0.99996    138459\n",
      "DoS attacks-SlowHTTPTest    0.76101   0.51677   0.61555     41974\n",
      "   DoS attacks-Slowloris    0.99740   0.98820   0.99278      6612\n",
      "          FTP-BruteForce    0.71635   0.88273   0.79089     58055\n",
      "           Infilteration    0.75003   0.23050   0.35263     48347\n",
      "           SQL Injection    0.97059   0.46479   0.62857        71\n",
      "          SSH-Bruteforce    0.99989   0.99977   0.99983     56332\n",
      "\n",
      "                accuracy                        0.95758   1619315\n",
      "               macro avg    0.91217   0.82449   0.84993   1619315\n",
      "            weighted avg    0.95370   0.95758   0.95040   1619315\n",
      "\n"
     ]
    }
   ],
   "source": [
    "from sklearn.metrics import classification_report\n",
    "outcomes = ['Benign', 'Bot', 'Brute Force -Web', 'Brute Force -XSS',\n",
    "'DDOS attack-HOIC','DDOS attack-LOIC-UDP','DDoS attacks-LOIC-HTTP',\n",
    "'DoS attacks-GoldenEye','DoS attacks-Hulk','DoS attacks-SlowHTTPTest','DoS attacks-Slowloris',\n",
    "'FTP-BruteForce','Infilteration','SQL Injection','SSH-Bruteforce' ]\n",
    "class_names=outcomes\n",
    "\n",
    "target_names = [\"Class {}\".format(i) for i in range(5)]\n",
    "print(classification_report(true_lbls, pred_lbls, target_names=class_names, digits=5))\n",
    "#print(classification_report(Y_test, y_predict))\n"
   ]
  },
  {
   "cell_type": "code",
   "execution_count": 40,
   "metadata": {
    "colab": {
     "base_uri": "https://localhost:8080/",
     "height": 285
    },
    "colab_type": "code",
    "executionInfo": {
     "elapsed": 2735,
     "status": "ok",
     "timestamp": 1584943688164,
     "user": {
      "displayName": "yesi novaria kunang",
      "photoUrl": "",
      "userId": "10182320802774426296"
     },
     "user_tz": -420
    },
    "id": "sdx6tUmz8JQw",
    "outputId": "a57284e7-9da7-492c-b5e7-2004ebd2d9c5"
   },
   "outputs": [
    {
     "data": {
      "text/plain": [
       "['Benign',\n",
       " 'Bot',\n",
       " 'Brute Force -Web',\n",
       " 'Brute Force -XSS',\n",
       " 'DDOS attack-HOIC',\n",
       " 'DDOS attack-LOIC-UDP',\n",
       " 'DDoS attacks-LOIC-HTTP',\n",
       " 'DoS attacks-GoldenEye',\n",
       " 'DoS attacks-Hulk',\n",
       " 'DoS attacks-SlowHTTPTest',\n",
       " 'DoS attacks-Slowloris',\n",
       " 'FTP-BruteForce',\n",
       " 'Infilteration',\n",
       " 'SQL Injection',\n",
       " 'SSH-Bruteforce']"
      ]
     },
     "execution_count": 40,
     "metadata": {
      "tags": []
     },
     "output_type": "execute_result"
    }
   ],
   "source": [
    "class_names"
   ]
  },
  {
   "cell_type": "code",
   "execution_count": 41,
   "metadata": {
    "colab": {
     "base_uri": "https://localhost:8080/",
     "height": 1000
    },
    "colab_type": "code",
    "executionInfo": {
     "elapsed": 4966,
     "status": "ok",
     "timestamp": 1584943697462,
     "user": {
      "displayName": "yesi novaria kunang",
      "photoUrl": "",
      "userId": "10182320802774426296"
     },
     "user_tz": -420
    },
    "id": "8EQrlF0r8JQz",
    "outputId": "c1d71223-b5b2-4be6-e688-7b355eddb475"
   },
   "outputs": [
    {
     "name": "stdout",
     "output_type": "stream",
     "text": [
      "Confusion matrix, without normalization\n",
      "[[799224     24      5      0      3      0     29      4      1      1\n",
      "      14      0   3714      0      6]\n",
      " [    18  85824      0      0      0      0      0      0      0      0\n",
      "       0      0      0      0      0]\n",
      " [   132      0    314     28      0      0     20      0      0      1\n",
      "       1      0      0      0      0]\n",
      " [     8      0     39    130      0      0     10      0      0      0\n",
      "       0      0      0      0      0]\n",
      " [     0      0      0      0 192098      0      0      0      0      0\n",
      "       0      0      0      0      0]\n",
      " [     0      0      0      0      0   1311     51      0      0      0\n",
      "       0      0      0      0      0]\n",
      " [    29      0      0      0      0    127 161291      0      0      0\n",
      "       0      0      0      0      0]\n",
      " [     0      0      0      0      0      0      0  25001      6      0\n",
      "       1      0      0      0      0]\n",
      " [     0      0      0      0      0      0      0      2 138457      0\n",
      "       0      0      0      0      0]\n",
      " [     0      0      0      0      0      0      0      0      0  21691\n",
      "       0  20283      0      0      0]\n",
      " [    78      0      0      0      0      0      0      0      0      0\n",
      "    6534      0      0      0      0]\n",
      " [     0      0      0      0      0      0      0      0      0   6808\n",
      "       0  51247      0      0      0]\n",
      " [ 37194      0      4      0      0      0      1      2      0      0\n",
      "       1      0  11144      1      0]\n",
      " [    12      0     19      5      0      0      2      0      0      0\n",
      "       0      0      0     33      0]\n",
      " [     0      0      0      0      0      0      0      0      2      2\n",
      "       0      9      0      0  56319]]\n"
     ]
    },
    {
     "data": {
      "image/png": "[encoded data removed]",
      "text/plain": [
       "<Figure size 720x720 with 2 Axes>"
      ]
     },
     "metadata": {
      "tags": []
     },
     "output_type": "display_data"
    }
   ],
   "source": [
    "\n",
    "#outcomes = ['DoS', 'normal','Probe' ,'R2L', 'U2R']\n",
    "class_names=outcomes\n",
    "\n",
    "\n",
    "results = confusion_matrix(true_lbls, pred_lbls)\n",
    "# Plot non-normalized confusion matrix\n",
    "plt.figure(figsize=(10,10))\n",
    "plot_confusion_matrix(results, classes=class_names,\n",
    "                      title='Confusion matrix')\n",
    "\n",
    "#print(classification_report(y_test, deepprediction, target_names=class_names, digits=5))"
   ]
  },
  {
   "cell_type": "code",
   "execution_count": 0,
   "metadata": {
    "colab": {},
    "colab_type": "code",
    "id": "5W5eOGIO8JQ3"
   },
   "outputs": [],
   "source": []
  },
  {
   "cell_type": "markdown",
   "metadata": {
    "colab_type": "text",
    "id": "zQadck9sMDfS"
   },
   "source": [
    "# Data Test"
   ]
  },
  {
   "cell_type": "code",
   "execution_count": 0,
   "metadata": {
    "colab": {},
    "colab_type": "code",
    "id": "h_POHLS98JQR"
   },
   "outputs": [],
   "source": [
    "preds = dnn.predict(test)\n",
    "pred_lbls = np.argmax(preds, axis=1)\n",
    "true_lbls = np.argmax(ylabel_test, axis=1)\n",
    "# With the confusion matrix, we can aggregate model predictions\n",
    "# This helps to understand the mistakes and refine the model"
   ]
  },
  {
   "cell_type": "code",
   "execution_count": 43,
   "metadata": {
    "colab": {
     "base_uri": "https://localhost:8080/",
     "height": 35
    },
    "colab_type": "code",
    "executionInfo": {
     "elapsed": 15088,
     "status": "ok",
     "timestamp": 1584943721605,
     "user": {
      "displayName": "yesi novaria kunang",
      "photoUrl": "",
      "userId": "10182320802774426296"
     },
     "user_tz": -420
    },
    "id": "vHnWJ1HQ8JRD",
    "outputId": "9a16655b-92f7-47f1-9985-10d26310d85b"
   },
   "outputs": [
    {
     "name": "stdout",
     "output_type": "stream",
     "text": [
      "acc: 95.77%\n"
     ]
    }
   ],
   "source": [
    "scores = dnn.evaluate(test, ylabel_test, verbose=0)\n",
    "print(\"%s: %.2f%%\" % (dnn.metrics_names[1], scores[1]*100))"
   ]
  },
  {
   "cell_type": "code",
   "execution_count": 0,
   "metadata": {
    "colab": {},
    "colab_type": "code",
    "id": "KrWN6oa68JRF"
   },
   "outputs": [],
   "source": [
    "preds = dnn.predict(test)\n",
    "pred_lbls = np.argmax(preds, axis=1)\n",
    "true_lbls = np.argmax(ylabel_test, axis=1)\n",
    "# With the confusion matrix, we can aggregate model predictions\n",
    "# This helps to understand the mistakes and refine the model"
   ]
  },
  {
   "cell_type": "code",
   "execution_count": 0,
   "metadata": {
    "colab": {},
    "colab_type": "code",
    "id": "cLouCdSr8JRI"
   },
   "outputs": [],
   "source": [
    "confusion_matrix(true_lbls, pred_lbls)"
   ]
  },
  {
   "cell_type": "code",
   "execution_count": 45,
   "metadata": {
    "colab": {
     "base_uri": "https://localhost:8080/",
     "height": 410
    },
    "colab_type": "code",
    "executionInfo": {
     "elapsed": 17721,
     "status": "ok",
     "timestamp": 1584943727882,
     "user": {
      "displayName": "yesi novaria kunang",
      "photoUrl": "",
      "userId": "10182320802774426296"
     },
     "user_tz": -420
    },
    "id": "irJKTRVu8JRN",
    "outputId": "a9c20cab-beaf-42da-a8f9-5c97c5766128"
   },
   "outputs": [
    {
     "name": "stdout",
     "output_type": "stream",
     "text": [
      "                          precision    recall  f1-score   support\n",
      "\n",
      "                  Benign    0.95589   0.99474   0.97493    201238\n",
      "                     Bot    0.99963   0.99967   0.99965     21479\n",
      "        Brute Force -Web    0.79518   0.57391   0.66667       115\n",
      "        Brute Force -XSS    0.71111   0.74419   0.72727        43\n",
      "        DDOS attack-HOIC    1.00000   1.00000   1.00000     48006\n",
      "    DDOS attack-LOIC-UDP    0.87970   0.95380   0.91525       368\n",
      "  DDoS attacks-LOIC-HTTP    0.99923   0.99848   0.99886     40219\n",
      "   DoS attacks-GoldenEye    0.99951   0.99967   0.99959      6123\n",
      "        DoS attacks-Hulk    0.99988   0.99997   0.99993     34758\n",
      "DoS attacks-SlowHTTPTest    0.76159   0.52013   0.61811     10484\n",
      "   DoS attacks-Slowloris    0.99385   0.99141   0.99263      1630\n",
      "          FTP-BruteForce    0.71697   0.88202   0.79098     14452\n",
      "           Infilteration    0.72754   0.22948   0.34891     11892\n",
      "           SQL Injection    0.85714   0.37500   0.52174        16\n",
      "          SSH-Bruteforce    0.99993   0.99971   0.99982     14013\n",
      "\n",
      "                accuracy                        0.95768    404836\n",
      "               macro avg    0.89314   0.81748   0.83696    404836\n",
      "            weighted avg    0.95345   0.95768   0.95066    404836\n",
      "\n"
     ]
    }
   ],
   "source": [
    "\n",
    "class_names=outcomes\n",
    "\n",
    "target_names = [\"Class {}\".format(i) for i in range(5)]\n",
    "print(classification_report(true_lbls, pred_lbls, target_names=class_names, digits=5))\n",
    "#print(classification_report(Y_test, y_predict))"
   ]
  },
  {
   "cell_type": "code",
   "execution_count": 46,
   "metadata": {
    "colab": {
     "base_uri": "https://localhost:8080/",
     "height": 1000
    },
    "colab_type": "code",
    "executionInfo": {
     "elapsed": 18237,
     "status": "ok",
     "timestamp": 1584943729611,
     "user": {
      "displayName": "yesi novaria kunang",
      "photoUrl": "",
      "userId": "10182320802774426296"
     },
     "user_tz": -420
    },
    "id": "HXx-Xtzl8JRT",
    "outputId": "838e36c7-48f6-4e55-9fec-fc8489ee9fa3"
   },
   "outputs": [
    {
     "name": "stdout",
     "output_type": "stream",
     "text": [
      "Confusion matrix, without normalization\n",
      "[[200179      8      3      1      0      0     10      1      2      0\n",
      "      10      0   1022      1      1]\n",
      " [     7  21472      0      0      0      0      0      0      0      0\n",
      "       0      0      0      0      0]\n",
      " [    36      0     66     10      0      0      3      0      0      0\n",
      "       0      0      0      0      0]\n",
      " [     0      0     10     32      0      0      1      0      0      0\n",
      "       0      0      0      0      0]\n",
      " [     0      0      0      0  48006      0      0      0      0      0\n",
      "       0      0      0      0      0]\n",
      " [     0      0      0      1      0    351     16      0      0      0\n",
      "       0      0      0      0      0]\n",
      " [    13      0      0      0      0     48  40158      0      0      0\n",
      "       0      0      0      0      0]\n",
      " [     1      0      0      0      0      0      0   6121      1      0\n",
      "       0      0      0      0      0]\n",
      " [     0      0      0      0      0      0      0      1  34757      0\n",
      "       0      0      0      0      0]\n",
      " [     0      0      0      0      0      0      0      0      0   5453\n",
      "       0   5031      0      0      0]\n",
      " [    14      0      0      0      0      0      0      0      0      0\n",
      "    1616      0      0      0      0]\n",
      " [     0      0      0      0      0      0      0      0      0   1705\n",
      "       0  12747      0      0      0]\n",
      " [  9161      0      0      0      0      0      1      1      0      0\n",
      "       0      0   2729      0      0]\n",
      " [     5      0      4      1      0      0      0      0      0      0\n",
      "       0      0      0      6      0]\n",
      " [     0      0      0      0      0      0      0      0      1      2\n",
      "       0      1      0      0  14009]]\n"
     ]
    },
    {
     "data": {
      "image/png": "[encoded data removed]",
      "text/plain": [
       "<Figure size 576x576 with 2 Axes>"
      ]
     },
     "metadata": {
      "tags": []
     },
     "output_type": "display_data"
    }
   ],
   "source": [
    "\n",
    "\n",
    "\n",
    "results = confusion_matrix(true_lbls, pred_lbls)\n",
    "# Plot non-normalized confusion matrix\n",
    "plt.figure(figsize=(8,8))\n",
    "plot_confusion_matrix(results, classes=class_names,\n",
    "                      title='Confusion matrix')\n",
    "\n",
    "#print(classification_report(y_test, deepprediction, target_names=class_names, digits=5))"
   ]
  },
  {
   "cell_type": "code",
   "execution_count": 0,
   "metadata": {
    "colab": {},
    "colab_type": "code",
    "id": "d58knr8T8JRW"
   },
   "outputs": [],
   "source": []
  }
 ],
 "metadata": {
  "colab": {
   "collapsed_sections": [],
   "name": "deep_IDS- SAE full stacked-DNN_15class-7hiddenlayer 200 epoch.ipynb",
   "provenance": [],
   "toc_visible": true
  },
  "kernelspec": {
   "display_name": "Python [default]",
   "language": "python",
   "name": "python3"
  },
  "language_info": {
   "codemirror_mode": {
    "name": "ipython",
    "version": 3
   },
   "file_extension": ".py",
   "mimetype": "text/x-python",
   "name": "python",
   "nbconvert_exporter": "python",
   "pygments_lexer": "ipython3",
   "version": "3.6.5"
  }
 },
 "nbformat": 4,
 "nbformat_minor": 1
}
