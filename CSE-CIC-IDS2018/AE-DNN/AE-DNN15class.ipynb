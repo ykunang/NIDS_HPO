{
 "cells": [
  {
   "cell_type": "markdown",
   "metadata": {
    "colab_type": "text",
    "id": "quR9LgTC8JNi"
   },
   "source": [
    "# Network Intrusion Detection with Deep Learning"
   ]
  },
  {
   "cell_type": "markdown",
   "metadata": {
    "colab_type": "text",
    "id": "d1K4YGnN8JNn"
   },
   "source": [
    "\n",
    "\n",
    "menggunakan AE dengan pretraining AE di hidden layer dan DNN fine-tuning"
   ]
  },
  {
   "cell_type": "code",
   "execution_count": 0,
   "metadata": {
    "colab": {},
    "colab_type": "code",
    "id": "iGX-bMz98VI4"
   },
   "outputs": [],
   "source": [
    "import os\n",
    "os.chdir(\"/content/gdrive/My Drive/Colab Notebooks/cids2018\")\n",
    "#!ls"
   ]
  },
  {
   "cell_type": "code",
   "execution_count": 0,
   "metadata": {
    "colab": {},
    "colab_type": "code",
    "id": "D3bxk1aE8JN5"
   },
   "outputs": [],
   "source": [
    "import pandas as pd\n",
    "import numpy as np\n",
    "from sklearn.preprocessing import MinMaxScaler"
   ]
  },
  {
   "cell_type": "markdown",
   "metadata": {
    "colab_type": "text",
    "id": "KyVfgqUE8JOC"
   },
   "source": [
    "# Open Data"
   ]
  },
  {
   "cell_type": "code",
   "execution_count": 0,
   "metadata": {
    "colab": {},
    "colab_type": "code",
    "id": "Y3cZgc0K8JOE"
   },
   "outputs": [],
   "source": [
    "import numpy as np\n",
    "def load_matrices(file_name):\n",
    "    with open(file_name, 'rb') as f:\n",
    "        A = np.load(f)\n",
    "        B = np.load(f)\n",
    "        C = np.load(f)\n",
    "        D = np.load(f)\n",
    "        E = np.load(f)\n",
    "        F = np.load(f)\n",
    "    return (A,B,C,D,E,F)"
   ]
  },
  {
   "cell_type": "code",
   "execution_count": 0,
   "metadata": {
    "colab": {},
    "colab_type": "code",
    "id": "ltRFDE7G8JOM"
   },
   "outputs": [],
   "source": [
    "my_file =  '10data2.npy'\n",
    "train,test,y_train,y_test,ylabel_train, ylabel_test = load_matrices(my_file)"
   ]
  },
  {
   "cell_type": "markdown",
   "metadata": {
    "colab_type": "text",
    "id": "i3NhT4YP8JOT"
   },
   "source": [
    "## The Model"
   ]
  },
  {
   "cell_type": "code",
   "execution_count": 0,
   "metadata": {
    "colab": {},
    "colab_type": "code",
    "id": "I1gG21bO8JOV"
   },
   "outputs": [],
   "source": [
    "from keras.callbacks import EarlyStopping\n",
    "from keras.layers.embeddings import Embedding\n",
    "from keras.layers import Input, Dense, Activation\n",
    "from keras.activations import elu\n",
    "from keras.layers import Input, Dense\n",
    "from keras.models import Model, Sequential\n",
    "from time import time\n"
   ]
  },
  {
   "cell_type": "code",
   "execution_count": 4,
   "metadata": {
    "colab": {
     "base_uri": "https://localhost:8080/",
     "height": 82
    },
    "colab_type": "code",
    "executionInfo": {
     "elapsed": 33388,
     "status": "ok",
     "timestamp": 1584947370348,
     "user": {
      "displayName": "yesi novaria kunang",
      "photoUrl": "",
      "userId": "10182320802774426296"
     },
     "user_tz": -420
    },
    "id": "R85a0DIO8JOj",
    "outputId": "99a1701c-8e1b-4000-9e2c-e004c6b00ece"
   },
   "outputs": [
    {
     "name": "stderr",
     "output_type": "stream",
     "text": [
      "Using TensorFlow backend.\n"
     ]
    },
    {
     "data": {
      "text/html": [
       "<p style=\"color: red;\">\n",
       "The default version of TensorFlow in Colab will soon switch to TensorFlow 2.x.<br>\n",
       "We recommend you <a href=\"https://www.tensorflow.org/guide/migrate\" target=\"_blank\">upgrade</a> now \n",
       "or ensure your notebook will continue to use TensorFlow 1.x via the <code>%tensorflow_version 1.x</code> magic:\n",
       "<a href=\"https://colab.research.google.com/notebooks/tensorflow_version.ipynb\" target=\"_blank\">more info</a>.</p>\n"
      ],
      "text/plain": [
       "<IPython.core.display.HTML object>"
      ]
     },
     "metadata": {
      "tags": []
     },
     "output_type": "display_data"
    }
   ],
   "source": [
    "from keras.callbacks import ModelCheckpoint\n",
    "filepath=\"./logae/2tes_b.best.hdf5\"\n",
    "checkpoint = ModelCheckpoint(filepath, monitor='accuracy', save_best_only=True, mode='max')\n",
    "callbacks_list = [checkpoint]"
   ]
  },
  {
   "cell_type": "code",
   "execution_count": 0,
   "metadata": {
    "colab": {},
    "colab_type": "code",
    "id": "TqxFNF6Z8JOp"
   },
   "outputs": [],
   "source": [
    "# We use early stopping on a holdout validation set"
   ]
  },
  {
   "cell_type": "code",
   "execution_count": 0,
   "metadata": {
    "colab": {},
    "colab_type": "code",
    "id": "8OeIF4kH9EIX"
   },
   "outputs": [],
   "source": [
    "from keras.layers.advanced_activations import LeakyReLU\n",
    "#actvation leakyrelu\n",
    "LR= LeakyReLU(0.01)\n",
    "LR.__name__ = 'lrelu'\n"
   ]
  },
  {
   "cell_type": "code",
   "execution_count": 16,
   "metadata": {
    "colab": {
     "base_uri": "https://localhost:8080/",
     "height": 1000
    },
    "colab_type": "code",
    "executionInfo": {
     "elapsed": 438591,
     "status": "ok",
     "timestamp": 1584947846036,
     "user": {
      "displayName": "yesi novaria kunang",
      "photoUrl": "",
      "userId": "10182320802774426296"
     },
     "user_tz": -420
    },
    "id": "5KvDfBiF8JO8",
    "outputId": "42918157-9a5d-4746-ef54-7aae52326d8f"
   },
   "outputs": [
    {
     "name": "stdout",
     "output_type": "stream",
     "text": [
      "WARNING:tensorflow:From /usr/local/lib/python3.6/dist-packages/keras/backend/tensorflow_backend.py:541: The name tf.placeholder is deprecated. Please use tf.compat.v1.placeholder instead.\n",
      "\n",
      "WARNING:tensorflow:From /usr/local/lib/python3.6/dist-packages/keras/backend/tensorflow_backend.py:4432: The name tf.random_uniform is deprecated. Please use tf.random.uniform instead.\n",
      "\n",
      "Model: \"model_1\"\n",
      "_________________________________________________________________\n",
      "Layer (type)                 Output Shape              Param #   \n",
      "=================================================================\n",
      "input_1 (InputLayer)         (None, 80)                0         \n",
      "_________________________________________________________________\n",
      "dense_1 (Dense)              (None, 25)                2025      \n",
      "_________________________________________________________________\n",
      "dense_2 (Dense)              (None, 80)                2080      \n",
      "=================================================================\n",
      "Total params: 4,105\n",
      "Trainable params: 4,105\n",
      "Non-trainable params: 0\n",
      "_________________________________________________________________\n",
      "WARNING:tensorflow:From /usr/local/lib/python3.6/dist-packages/keras/optimizers.py:793: The name tf.train.Optimizer is deprecated. Please use tf.compat.v1.train.Optimizer instead.\n",
      "\n",
      "WARNING:tensorflow:From /usr/local/lib/python3.6/dist-packages/keras/backend/tensorflow_backend.py:1033: The name tf.assign_add is deprecated. Please use tf.compat.v1.assign_add instead.\n",
      "\n"
     ]
    },
    {
     "name": "stderr",
     "output_type": "stream",
     "text": [
      "/usr/local/lib/python3.6/dist-packages/keras/activations.py:235: UserWarning: Do not pass a layer instance (such as LeakyReLU) as the activation argument of another layer. Instead, advanced activation layers should be used just like any other layer in a model.\n",
      "  identifier=identifier.__class__.__name__))\n"
     ]
    },
    {
     "name": "stdout",
     "output_type": "stream",
     "text": [
      "WARNING:tensorflow:From /usr/local/lib/python3.6/dist-packages/keras/backend/tensorflow_backend.py:1020: The name tf.assign is deprecated. Please use tf.compat.v1.assign instead.\n",
      "\n",
      "WARNING:tensorflow:From /usr/local/lib/python3.6/dist-packages/keras/backend/tensorflow_backend.py:3005: The name tf.Session is deprecated. Please use tf.compat.v1.Session instead.\n",
      "\n",
      "Epoch 1/20\n",
      "WARNING:tensorflow:From /usr/local/lib/python3.6/dist-packages/keras/backend/tensorflow_backend.py:190: The name tf.get_default_session is deprecated. Please use tf.compat.v1.get_default_session instead.\n",
      "\n",
      "WARNING:tensorflow:From /usr/local/lib/python3.6/dist-packages/keras/backend/tensorflow_backend.py:197: The name tf.ConfigProto is deprecated. Please use tf.compat.v1.ConfigProto instead.\n",
      "\n",
      "WARNING:tensorflow:From /usr/local/lib/python3.6/dist-packages/keras/backend/tensorflow_backend.py:207: The name tf.global_variables is deprecated. Please use tf.compat.v1.global_variables instead.\n",
      "\n",
      "WARNING:tensorflow:From /usr/local/lib/python3.6/dist-packages/keras/backend/tensorflow_backend.py:216: The name tf.is_variable_initialized is deprecated. Please use tf.compat.v1.is_variable_initialized instead.\n",
      "\n",
      "WARNING:tensorflow:From /usr/local/lib/python3.6/dist-packages/keras/backend/tensorflow_backend.py:223: The name tf.variables_initializer is deprecated. Please use tf.compat.v1.variables_initializer instead.\n",
      "\n",
      "1619315/1619315 [==============================] - 28s 17us/step - loss: 0.0050 - acc: 0.2458\n",
      "Epoch 2/20\n",
      "    256/1619315 [..............................] - ETA: 15:52 - loss: 1.0594e-04 - acc: 0.3008"
     ]
    },
    {
     "name": "stderr",
     "output_type": "stream",
     "text": [
      "/usr/local/lib/python3.6/dist-packages/keras/callbacks.py:707: RuntimeWarning: Can save best model only with accuracy available, skipping.\n",
      "  'skipping.' % (self.monitor), RuntimeWarning)\n"
     ]
    },
    {
     "name": "stdout",
     "output_type": "stream",
     "text": [
      "1619315/1619315 [==============================] - 20s 12us/step - loss: 9.0201e-05 - acc: 0.3041\n",
      "Epoch 3/20\n",
      "1619315/1619315 [==============================] - 20s 12us/step - loss: 5.0448e-05 - acc: 0.3057\n",
      "Epoch 4/20\n",
      "1619315/1619315 [==============================] - 20s 12us/step - loss: 3.7578e-05 - acc: 0.3444\n",
      "Epoch 5/20\n",
      "1619315/1619315 [==============================] - 20s 12us/step - loss: 3.4563e-05 - acc: 0.3272\n",
      "Epoch 6/20\n",
      "1619315/1619315 [==============================] - 20s 12us/step - loss: 3.2786e-05 - acc: 0.3493\n",
      "Epoch 7/20\n",
      "1619315/1619315 [==============================] - 20s 12us/step - loss: 3.1560e-05 - acc: 0.3433\n",
      "Epoch 8/20\n",
      "1619315/1619315 [==============================] - 20s 12us/step - loss: 3.0699e-05 - acc: 0.3456\n",
      "Epoch 9/20\n",
      "1619315/1619315 [==============================] - 20s 12us/step - loss: 3.0037e-05 - acc: 0.3295\n",
      "Epoch 10/20\n",
      "1619315/1619315 [==============================] - 20s 12us/step - loss: 2.9511e-05 - acc: 0.3237\n",
      "Epoch 11/20\n",
      "1619315/1619315 [==============================] - 20s 12us/step - loss: 2.9095e-05 - acc: 0.3274\n",
      "Epoch 12/20\n",
      "1619315/1619315 [==============================] - 20s 12us/step - loss: 2.8696e-05 - acc: 0.3245\n",
      "Epoch 13/20\n",
      "1619315/1619315 [==============================] - 20s 12us/step - loss: 2.8324e-05 - acc: 0.3253\n",
      "Epoch 14/20\n",
      "1619315/1619315 [==============================] - 20s 13us/step - loss: 2.8024e-05 - acc: 0.3217\n",
      "Epoch 15/20\n",
      "1619315/1619315 [==============================] - 20s 12us/step - loss: 2.7765e-05 - acc: 0.3276\n",
      "Epoch 16/20\n",
      "1619315/1619315 [==============================] - 20s 12us/step - loss: 2.7536e-05 - acc: 0.3267\n",
      "Epoch 17/20\n",
      "1619315/1619315 [==============================] - 20s 12us/step - loss: 2.7346e-05 - acc: 0.3260\n",
      "Epoch 18/20\n",
      "1619315/1619315 [==============================] - 20s 12us/step - loss: 2.7171e-05 - acc: 0.3279\n",
      "Epoch 19/20\n",
      "1619315/1619315 [==============================] - 20s 12us/step - loss: 2.7015e-05 - acc: 0.3262\n",
      "Epoch 20/20\n",
      "1619315/1619315 [==============================] - 20s 12us/step - loss: 2.6879e-05 - acc: 0.3276\n",
      "FEATURE EXTRACTION in 408.787 seconds\n",
      "(1619315, 25)\n"
     ]
    }
   ],
   "source": [
    "# layer 1\n",
    "input_dim = train.shape[1]\n",
    "input_ly_1= Input(shape=(input_dim,))\n",
    "enc_ly_1= Dense(25, activation=LR, kernel_initializer='lecun_uniform')(input_ly_1)\n",
    "dec_ly_1=Dense(input_dim, activation='sigmoid', kernel_initializer='lecun_uniform')(enc_ly_1)\n",
    "\n",
    "auto_ly_1= Model(input_ly_1, dec_ly_1)\n",
    "encoder_ly_1= Model(input_ly_1, enc_ly_1)\n",
    "auto_ly_1.summary()\n",
    "\n",
    "\n",
    "t0 = time()\n",
    "auto_ly_1.compile(loss='mse',optimizer='adam', metrics=['accuracy']) # reporting the loss\n",
    "\n",
    "auto_ly_1.fit(train,train,\n",
    "      epochs=20,\n",
    "      batch_size=256,\n",
    "      shuffle=True,\n",
    "      callbacks=callbacks_list,                    \n",
    "      #callbacks=[early_stopping])\n",
    "      #validation_data=(test,test))\n",
    "      validation_split=0)   \n",
    "  \n",
    "tt = time()-t0\n",
    "print (\"FEATURE EXTRACTION in {} seconds\".format(round(tt,3)))\n",
    "# if you want an encoded flatten representation of every test MNIST\n",
    "\n",
    "\n",
    "ly1_predict= encoder_ly_1.predict(train)\n",
    "print(ly1_predict.shape)\n"
   ]
  },
  {
   "cell_type": "code",
   "execution_count": 0,
   "metadata": {
    "colab": {},
    "colab_type": "code",
    "id": "qCnstRWD8JPO"
   },
   "outputs": [],
   "source": [
    "filepath2=\"./logae/7weights_tes_2a.best.hdf5\"\n",
    "checkpoint2 = ModelCheckpoint(filepath2, monitor='acc', save_best_only=True, mode='max')\n",
    "callbacks_list2 = [checkpoint2]"
   ]
  },
  {
   "cell_type": "markdown",
   "metadata": {
    "colab_type": "text",
    "id": "QY5ZleW2SePB"
   },
   "source": [
    "From Introduction to Neural Networks for Java (second edition) by Jeff Heaton - preview freely available at Google Books and previously at author's website:\n",
    "\n",
    "There are many rule-of-thumb methods for determining the correct number of neurons to use in the hidden layers, such as the following:\n",
    "\n",
    "    The number of hidden neurons should be between the size of the input layer and the size of the output layer.\n",
    "    The number of hidden neurons should be 2/3 the size of the input layer, plus the size of the output layer.\n",
    "    The number of hidden neurons should be less than twice the size of the input layer.\n",
    "\n",
    "• Number of hidden nodes: There is no magic formula for selecting the optimum number of hidden neurons. However, some thumb rules are available for calculating the number of hidden neurons. A rough approximation can be obtained by the geometric pyramid rule proposed by Masters (1993). For a three layer network with n input and m output neurons, the hidden layer would have √(n*m) neurons.\n",
    "\n",
    "Ref:\n",
    "\n",
    "1 Masters, Timothy. Practical neural network recipes in C++. Morgan Kaufmann, 1993. "
   ]
  },
  {
   "cell_type": "code",
   "execution_count": 18,
   "metadata": {
    "colab": {
     "base_uri": "https://localhost:8080/",
     "height": 1000
    },
    "colab_type": "code",
    "executionInfo": {
     "elapsed": 1065835,
     "status": "ok",
     "timestamp": 1584953153858,
     "user": {
      "displayName": "yesi novaria kunang",
      "photoUrl": "",
      "userId": "10182320802774426296"
     },
     "user_tz": -420
    },
    "id": "hfbbaOS28JPS",
    "outputId": "f8c2f5db-a170-402a-9155-f1346de24948"
   },
   "outputs": [
    {
     "name": "stdout",
     "output_type": "stream",
     "text": [
      "Model: \"model_3\"\n",
      "_________________________________________________________________\n",
      "Layer (type)                 Output Shape              Param #   \n",
      "=================================================================\n",
      "input_2 (InputLayer)         (None, 80)                0         \n",
      "_________________________________________________________________\n",
      "layer1 (Dense)               (None, 25)                2025      \n",
      "_________________________________________________________________\n",
      "layer2 (Dense)               (None, 20)                520       \n",
      "_________________________________________________________________\n",
      "layer3 (Dense)               (None, 20)                420       \n",
      "_________________________________________________________________\n",
      "layer4 (Dense)               (None, 20)                420       \n",
      "_________________________________________________________________\n",
      "dense_3 (Dense)              (None, 15)                315       \n",
      "=================================================================\n",
      "Total params: 3,700\n",
      "Trainable params: 3,700\n",
      "Non-trainable params: 0\n",
      "_________________________________________________________________\n",
      "WARNING:tensorflow:From /usr/local/lib/python3.6/dist-packages/keras/backend/tensorflow_backend.py:3576: The name tf.log is deprecated. Please use tf.math.log instead.\n",
      "\n"
     ]
    },
    {
     "name": "stderr",
     "output_type": "stream",
     "text": [
      "/usr/local/lib/python3.6/dist-packages/keras/activations.py:235: UserWarning: Do not pass a layer instance (such as LeakyReLU) as the activation argument of another layer. Instead, advanced activation layers should be used just like any other layer in a model.\n",
      "  identifier=identifier.__class__.__name__))\n"
     ]
    },
    {
     "name": "stdout",
     "output_type": "stream",
     "text": [
      "WARNING:tensorflow:From /tensorflow-1.15.0/python3.6/tensorflow_core/python/ops/math_grad.py:1424: where (from tensorflow.python.ops.array_ops) is deprecated and will be removed in a future version.\n",
      "Instructions for updating:\n",
      "Use tf.where in 2.0, which has the same broadcast rule as np.where\n",
      "Epoch 1/200\n",
      "1619315/1619315 [==============================] - 28s 17us/step - loss: 0.1784 - acc: 0.9443\n",
      "Epoch 2/200\n",
      "1619315/1619315 [==============================] - 27s 17us/step - loss: 0.1536 - acc: 0.9509\n",
      "Epoch 3/200\n",
      "1619315/1619315 [==============================] - 27s 17us/step - loss: 0.3236 - acc: 0.9405\n",
      "Epoch 4/200\n",
      "1619315/1619315 [==============================] - 28s 17us/step - loss: 0.1540 - acc: 0.9512\n",
      "Epoch 5/200\n",
      "1619315/1619315 [==============================] - 27s 17us/step - loss: 0.1550 - acc: 0.9515\n",
      "Epoch 6/200\n",
      "1619315/1619315 [==============================] - 28s 17us/step - loss: 0.1534 - acc: 0.9518\n",
      "Epoch 7/200\n",
      "1619315/1619315 [==============================] - 28s 17us/step - loss: 0.1537 - acc: 0.9518\n",
      "Epoch 8/200\n",
      "1619315/1619315 [==============================] - 27s 17us/step - loss: 0.1689 - acc: 0.9500\n",
      "Epoch 9/200\n",
      "1619315/1619315 [==============================] - 27s 17us/step - loss: 0.1494 - acc: 0.9520\n",
      "Epoch 10/200\n",
      "1619315/1619315 [==============================] - 28s 17us/step - loss: 0.1441 - acc: 0.9521\n",
      "Epoch 11/200\n",
      "1619315/1619315 [==============================] - 28s 17us/step - loss: 0.1426 - acc: 0.9525\n",
      "Epoch 12/200\n",
      "1619315/1619315 [==============================] - 27s 17us/step - loss: 0.1393 - acc: 0.9522\n",
      "Epoch 13/200\n",
      "1619315/1619315 [==============================] - 27s 17us/step - loss: 0.1363 - acc: 0.9529\n",
      "Epoch 14/200\n",
      "1619315/1619315 [==============================] - 28s 17us/step - loss: 0.1367 - acc: 0.9530\n",
      "Epoch 15/200\n",
      "1619315/1619315 [==============================] - 28s 17us/step - loss: 0.1360 - acc: 0.9532\n",
      "Epoch 16/200\n",
      "1619315/1619315 [==============================] - 28s 17us/step - loss: 0.1472 - acc: 0.9523\n",
      "Epoch 17/200\n",
      "1619315/1619315 [==============================] - 28s 17us/step - loss: 0.1370 - acc: 0.9531\n",
      "Epoch 18/200\n",
      "1619315/1619315 [==============================] - 27s 17us/step - loss: 0.1350 - acc: 0.9535\n",
      "Epoch 19/200\n",
      "1619315/1619315 [==============================] - 28s 17us/step - loss: 0.1401 - acc: 0.9530\n",
      "Epoch 20/200\n",
      "1619315/1619315 [==============================] - 28s 17us/step - loss: 0.1548 - acc: 0.9513\n",
      "Epoch 21/200\n",
      "1619315/1619315 [==============================] - 28s 17us/step - loss: 0.3506 - acc: 0.9399\n",
      "Epoch 22/200\n",
      "1619315/1619315 [==============================] - 28s 17us/step - loss: 0.8296 - acc: 0.9099\n",
      "Epoch 23/200\n",
      "1619315/1619315 [==============================] - 27s 17us/step - loss: 1.5912 - acc: 0.8630\n",
      "Epoch 24/200\n",
      "1619315/1619315 [==============================] - 27s 17us/step - loss: 0.5223 - acc: 0.9281\n",
      "Epoch 25/200\n",
      "1619315/1619315 [==============================] - 28s 17us/step - loss: 0.1400 - acc: 0.9523\n",
      "Epoch 26/200\n",
      "1619315/1619315 [==============================] - 28s 17us/step - loss: 0.1360 - acc: 0.9529\n",
      "Epoch 27/200\n",
      "1619315/1619315 [==============================] - 28s 17us/step - loss: 0.1341 - acc: 0.9531\n",
      "Epoch 28/200\n",
      "1619315/1619315 [==============================] - 28s 17us/step - loss: 0.1343 - acc: 0.9530\n",
      "Epoch 29/200\n",
      "1619315/1619315 [==============================] - 28s 17us/step - loss: 0.1579 - acc: 0.9517\n",
      "Epoch 30/200\n",
      "1619315/1619315 [==============================] - 28s 17us/step - loss: 0.1718 - acc: 0.9509\n",
      "Epoch 31/200\n",
      "1619315/1619315 [==============================] - 28s 17us/step - loss: 0.1734 - acc: 0.9506\n",
      "Epoch 32/200\n",
      "1619315/1619315 [==============================] - 27s 17us/step - loss: 0.1478 - acc: 0.9525\n",
      "Epoch 33/200\n",
      "1619315/1619315 [==============================] - 28s 17us/step - loss: 0.1346 - acc: 0.9532\n",
      "Epoch 34/200\n",
      "1619315/1619315 [==============================] - 27s 17us/step - loss: 0.9645 - acc: 0.9018\n",
      "Epoch 35/200\n",
      "1619315/1619315 [==============================] - 27s 17us/step - loss: 0.2820 - acc: 0.9444\n",
      "Epoch 36/200\n",
      "1619315/1619315 [==============================] - 28s 17us/step - loss: 0.1486 - acc: 0.9527\n",
      "Epoch 37/200\n",
      "1619315/1619315 [==============================] - 27s 17us/step - loss: 0.1362 - acc: 0.9534\n",
      "Epoch 38/200\n",
      "1619315/1619315 [==============================] - 28s 17us/step - loss: 0.1357 - acc: 0.9532\n",
      "Epoch 39/200\n",
      "1619315/1619315 [==============================] - 29s 18us/step - loss: 0.1331 - acc: 0.9538\n",
      "Epoch 40/200\n",
      "1619315/1619315 [==============================] - 29s 18us/step - loss: 0.1339 - acc: 0.9539\n",
      "Epoch 41/200\n",
      "1619315/1619315 [==============================] - 29s 18us/step - loss: 0.1580 - acc: 0.9519\n",
      "Epoch 42/200\n",
      "1619315/1619315 [==============================] - 29s 18us/step - loss: 0.1330 - acc: 0.9539\n",
      "Epoch 43/200\n",
      "1619315/1619315 [==============================] - 28s 17us/step - loss: 0.1350 - acc: 0.9535\n",
      "Epoch 44/200\n",
      "1619315/1619315 [==============================] - 29s 18us/step - loss: 0.1508 - acc: 0.9527\n",
      "Epoch 45/200\n",
      "1619315/1619315 [==============================] - 28s 17us/step - loss: 0.1355 - acc: 0.9537\n",
      "Epoch 46/200\n",
      "1619315/1619315 [==============================] - 28s 17us/step - loss: 0.1352 - acc: 0.9538\n",
      "Epoch 47/200\n",
      "1619315/1619315 [==============================] - 28s 17us/step - loss: 0.1406 - acc: 0.9537\n",
      "Epoch 48/200\n",
      "1619315/1619315 [==============================] - 28s 17us/step - loss: 0.1328 - acc: 0.9540\n",
      "Epoch 49/200\n",
      "1619315/1619315 [==============================] - 28s 17us/step - loss: 0.1346 - acc: 0.9535\n",
      "Epoch 50/200\n",
      "1619315/1619315 [==============================] - 28s 17us/step - loss: 0.1736 - acc: 0.9515\n",
      "Epoch 51/200\n",
      "1619315/1619315 [==============================] - 28s 17us/step - loss: 0.1416 - acc: 0.9537\n",
      "Epoch 52/200\n",
      "1619315/1619315 [==============================] - 27s 17us/step - loss: 0.1448 - acc: 0.9534\n",
      "Epoch 53/200\n",
      "1619315/1619315 [==============================] - 27s 17us/step - loss: 0.2377 - acc: 0.9475\n",
      "Epoch 54/200\n",
      "1619315/1619315 [==============================] - 27s 17us/step - loss: 0.1808 - acc: 0.9511\n",
      "Epoch 55/200\n",
      "1619315/1619315 [==============================] - 28s 17us/step - loss: 0.1334 - acc: 0.9538\n",
      "Epoch 56/200\n",
      "1619315/1619315 [==============================] - 28s 17us/step - loss: 0.2419 - acc: 0.9470\n",
      "Epoch 57/200\n",
      "1619315/1619315 [==============================] - 28s 17us/step - loss: 0.1894 - acc: 0.9504\n",
      "Epoch 58/200\n",
      "1619315/1619315 [==============================] - 28s 17us/step - loss: 0.3444 - acc: 0.9405\n",
      "Epoch 59/200\n",
      "1619315/1619315 [==============================] - 28s 17us/step - loss: 0.1326 - acc: 0.9537\n",
      "Epoch 60/200\n",
      "1619315/1619315 [==============================] - 28s 17us/step - loss: 0.1349 - acc: 0.9537\n",
      "Epoch 61/200\n",
      "1619315/1619315 [==============================] - 28s 17us/step - loss: 0.1321 - acc: 0.9540\n",
      "Epoch 62/200\n",
      "1619315/1619315 [==============================] - 28s 17us/step - loss: 0.1375 - acc: 0.9530\n",
      "Epoch 63/200\n",
      "1619315/1619315 [==============================] - 28s 17us/step - loss: 0.1358 - acc: 0.9537\n",
      "Epoch 64/200\n",
      "1619315/1619315 [==============================] - 28s 17us/step - loss: 0.4657 - acc: 0.9332\n",
      "Epoch 65/200\n",
      "1619315/1619315 [==============================] - 28s 17us/step - loss: 0.3315 - acc: 0.9412\n",
      "Epoch 66/200\n",
      "1619315/1619315 [==============================] - 28s 17us/step - loss: 0.1373 - acc: 0.9535\n",
      "Epoch 67/200\n",
      "1619315/1619315 [==============================] - 28s 17us/step - loss: 0.1467 - acc: 0.9523\n",
      "Epoch 68/200\n",
      "1619315/1619315 [==============================] - 28s 17us/step - loss: 0.1524 - acc: 0.9522\n",
      "Epoch 69/200\n",
      "1619315/1619315 [==============================] - 28s 17us/step - loss: 0.1338 - acc: 0.9539\n",
      "Epoch 70/200\n",
      "1619315/1619315 [==============================] - 28s 17us/step - loss: 0.1574 - acc: 0.9519\n",
      "Epoch 71/200\n",
      "1619315/1619315 [==============================] - 28s 17us/step - loss: 0.1553 - acc: 0.9524\n",
      "Epoch 72/200\n",
      "1619315/1619315 [==============================] - 28s 17us/step - loss: 0.1485 - acc: 0.9529\n",
      "Epoch 73/200\n",
      "1619315/1619315 [==============================] - 28s 17us/step - loss: 0.1484 - acc: 0.9529\n",
      "Epoch 74/200\n",
      "1619315/1619315 [==============================] - 28s 17us/step - loss: 0.1440 - acc: 0.9532\n",
      "Epoch 75/200\n",
      "1619315/1619315 [==============================] - 28s 17us/step - loss: 0.1366 - acc: 0.9535\n",
      "Epoch 76/200\n",
      "1619315/1619315 [==============================] - 28s 17us/step - loss: 0.1340 - acc: 0.9540\n",
      "Epoch 77/200\n",
      "1619315/1619315 [==============================] - 28s 17us/step - loss: 0.1359 - acc: 0.9540\n",
      "Epoch 78/200\n",
      "1619315/1619315 [==============================] - 27s 17us/step - loss: 0.1353 - acc: 0.9538\n",
      "Epoch 79/200\n",
      "1619315/1619315 [==============================] - 27s 17us/step - loss: 0.1351 - acc: 0.9539\n",
      "Epoch 80/200\n",
      "1619315/1619315 [==============================] - 27s 17us/step - loss: 0.1471 - acc: 0.9532\n",
      "Epoch 81/200\n",
      "1619315/1619315 [==============================] - 27s 17us/step - loss: 0.1327 - acc: 0.9540\n",
      "Epoch 82/200\n",
      "1619315/1619315 [==============================] - 27s 17us/step - loss: 0.1320 - acc: 0.9540\n",
      "Epoch 83/200\n",
      "1619315/1619315 [==============================] - 27s 17us/step - loss: 0.2895 - acc: 0.9445\n",
      "Epoch 84/200\n",
      "1619315/1619315 [==============================] - 27s 17us/step - loss: 0.1410 - acc: 0.9536\n",
      "Epoch 85/200\n",
      "1619315/1619315 [==============================] - 26s 16us/step - loss: 0.1612 - acc: 0.9522\n",
      "Epoch 86/200\n",
      "1619315/1619315 [==============================] - 26s 16us/step - loss: 0.1331 - acc: 0.9540\n",
      "Epoch 87/200\n",
      "1619315/1619315 [==============================] - 26s 16us/step - loss: 0.1512 - acc: 0.9526\n",
      "Epoch 88/200\n",
      "1619315/1619315 [==============================] - 26s 16us/step - loss: 0.1627 - acc: 0.9522\n",
      "Epoch 89/200\n",
      "1619315/1619315 [==============================] - 27s 16us/step - loss: 0.1416 - acc: 0.9522\n",
      "Epoch 90/200\n",
      "1619315/1619315 [==============================] - 26s 16us/step - loss: 0.1350 - acc: 0.9535\n",
      "Epoch 91/200\n",
      "1619315/1619315 [==============================] - 26s 16us/step - loss: 0.1440 - acc: 0.9530\n",
      "Epoch 92/200\n",
      "1619315/1619315 [==============================] - 26s 16us/step - loss: 0.1437 - acc: 0.9531\n",
      "Epoch 93/200\n",
      "1619315/1619315 [==============================] - 26s 16us/step - loss: 0.1381 - acc: 0.9537\n",
      "Epoch 94/200\n",
      "1619315/1619315 [==============================] - 26s 16us/step - loss: 0.1374 - acc: 0.9529\n",
      "Epoch 95/200\n",
      "1619315/1619315 [==============================] - 26s 16us/step - loss: 0.1439 - acc: 0.9524\n",
      "Epoch 96/200\n",
      "1619315/1619315 [==============================] - 26s 16us/step - loss: 0.1355 - acc: 0.9532\n",
      "Epoch 97/200\n",
      "1619315/1619315 [==============================] - 26s 16us/step - loss: 0.1387 - acc: 0.9527\n",
      "Epoch 98/200\n",
      "1619315/1619315 [==============================] - 26s 16us/step - loss: 0.1363 - acc: 0.9533\n",
      "Epoch 99/200\n",
      "1619315/1619315 [==============================] - 27s 16us/step - loss: 0.1366 - acc: 0.9536\n",
      "Epoch 100/200\n",
      "1619315/1619315 [==============================] - 27s 17us/step - loss: 0.1390 - acc: 0.9532\n",
      "Epoch 101/200\n",
      "1619315/1619315 [==============================] - 27s 17us/step - loss: 0.1376 - acc: 0.9532\n",
      "Epoch 102/200\n",
      "1619315/1619315 [==============================] - 27s 17us/step - loss: 0.1385 - acc: 0.9534\n",
      "Epoch 103/200\n",
      "1619315/1619315 [==============================] - 27s 17us/step - loss: 0.1433 - acc: 0.9533\n",
      "Epoch 104/200\n",
      "1619315/1619315 [==============================] - 27s 17us/step - loss: 0.1427 - acc: 0.9536\n",
      "Epoch 105/200\n",
      "1619315/1619315 [==============================] - 27s 17us/step - loss: 0.1504 - acc: 0.9526\n",
      "Epoch 106/200\n",
      "1619315/1619315 [==============================] - 27s 17us/step - loss: 0.1478 - acc: 0.9532\n",
      "Epoch 107/200\n",
      "1619315/1619315 [==============================] - 27s 17us/step - loss: 0.1487 - acc: 0.9527\n",
      "Epoch 108/200\n",
      "1619315/1619315 [==============================] - 27s 16us/step - loss: 0.1462 - acc: 0.9531\n",
      "Epoch 109/200\n",
      "1619315/1619315 [==============================] - 26s 16us/step - loss: 0.1492 - acc: 0.9530\n",
      "Epoch 110/200\n",
      "1619315/1619315 [==============================] - 26s 16us/step - loss: 0.1505 - acc: 0.9526\n",
      "Epoch 111/200\n",
      " 146688/1619315 [=>............................] - ETA: 24s - loss: 0.1629 - acc: 0.9502Buffered data was truncated after reaching the output size limit."
     ]
    }
   ],
   "source": [
    "###DNN\n",
    "\n",
    "\n",
    "\n",
    "# Deep stacked auto encoder\n",
    "ly_1= auto_ly_1.layers[1].get_weights()\n",
    "#ly_2= auto_ly_2.layers[1].get_weights()\n",
    "#ly_3= auto_ly_3.layers[1].get_weights()\n",
    "\n",
    "input_da= Input(shape=(input_dim,))\n",
    "dnn_1=Dense(25, activation=LR,  kernel_initializer='lecun_uniform',input_shape=(input_dim,),\n",
    "            name=\"layer1\")(input_da)\n",
    "dnn_2= Dense(20, activation=LR, kernel_initializer='lecun_uniform',name=\"layer2\")(dnn_1)\n",
    "dnn_3= Dense(20, activation=LR, kernel_initializer='lecun_uniform',name=\"layer3\")(dnn_2)\n",
    "dnn_4= Dense(20, activation=LR, kernel_initializer='lecun_uniform',name=\"layer4\")(dnn_3)\n",
    "dnn_5= Dense(15, activation='softmax',kernel_initializer='lecun_uniform')(dnn_4)\n",
    "\n",
    "dnn= Model(input_da, dnn_5)\n",
    "dnn.summary()\n",
    "\n",
    "dnn.layers[1].set_weights(ly_1) # first dense layer\n",
    "#dnn.layers[2].set_weights(ly_2)\n",
    "#dnn.layers[3].set_weights(ly_3)\n",
    "\n",
    "\n",
    "#######################################\n",
    "\n",
    "t1=time()\n",
    "dnn.compile(loss='categorical_crossentropy', metrics=['accuracy'],\n",
    "            optimizer= Adam(lr=0.01, beta_1=0.9, beta_2=0.999, epsilon=1e-08,decay=0.0, amsgrad=False))\n",
    "history2a=dnn.fit(train, ylabel_train,epochs=200,batch_size=256,shuffle=True,verbose=1, \n",
    "                    callbacks=callbacks_list2, \n",
    "                      validation_split=0)\n",
    "                     #validation_data=(test,y_test))\n",
    "tt2 = time()-t1\n",
    "print (\"FEATURE CLASSIFICATION in {} seconds\".format(round(tt2,3)))\n",
    "\n",
    "\n",
    "\n",
    "\n"
   ]
  },
  {
   "cell_type": "code",
   "execution_count": 21,
   "metadata": {
    "colab": {
     "base_uri": "https://localhost:8080/",
     "height": 35
    },
    "colab_type": "code",
    "executionInfo": {
     "elapsed": 959,
     "status": "ok",
     "timestamp": 1584953325049,
     "user": {
      "displayName": "yesi novaria kunang",
      "photoUrl": "",
      "userId": "10182320802774426296"
     },
     "user_tz": -420
    },
    "id": "3EhR0WzNiDMK",
    "outputId": "64f830f9-18ea-47c2-aa43-8f7c684cc0c8"
   },
   "outputs": [
    {
     "data": {
      "text/plain": [
       "['./logae/ae_dnn_model.sav']"
      ]
     },
     "execution_count": 21,
     "metadata": {
      "tags": []
     },
     "output_type": "execute_result"
    }
   ],
   "source": [
    "import joblib\n",
    "# save the model to disk\n",
    "filename = './logae/ae_dnn_model.sav'\n",
    "joblib.dump(dnn, filename)"
   ]
  },
  {
   "cell_type": "code",
   "execution_count": 26,
   "metadata": {
    "colab": {
     "base_uri": "https://localhost:8080/",
     "height": 545
    },
    "colab_type": "code",
    "executionInfo": {
     "elapsed": 894,
     "status": "ok",
     "timestamp": 1584953494163,
     "user": {
      "displayName": "yesi novaria kunang",
      "photoUrl": "",
      "userId": "10182320802774426296"
     },
     "user_tz": -420
    },
    "id": "PQMbWQk38JPd",
    "outputId": "c8a1cbe2-bab0-4d18-c339-0928d92dcc3d",
    "scrolled": true
   },
   "outputs": [
    {
     "data": {
      "image/png": "[encoded data removed]",
      "text/plain": [
       "<Figure size 432x288 with 1 Axes>"
      ]
     },
     "metadata": {
      "tags": []
     },
     "output_type": "display_data"
    },
    {
     "data": {
      "image/png": "[encoded data removed]",
      "text/plain": [
       "<Figure size 432x288 with 1 Axes>"
      ]
     },
     "metadata": {
      "tags": []
     },
     "output_type": "display_data"
    }
   ],
   "source": [
    "accuracy_2a = history2a.history['acc']\n",
    "#val_accuracy_2a = history2a.history['val_accuracy']\n",
    "loss_2a = history2a.history['loss']\n",
    "#val_loss_2a = history2a.history['val_loss']\n",
    "epochs = range(len(accuracy_2a))\n",
    "plt.plot(epochs, accuracy_2a, 'bo', label='Training accuracy')\n",
    "#plt.plot(epochs, val_accuracy_2a, 'b', label='Test accuracy')\n",
    "plt.ylim(bottom=0, top=1.0)  # this line\n",
    "plt.title('Training Detectian Rate')\n",
    "plt.legend()\n",
    "plt.figure()\n",
    "plt.plot(epochs, loss_2a, 'bo', label='Training loss')\n",
    "#plt.plot(epochs, val_loss_2a, 'b', label='Test loss')\n",
    "plt.ylim(bottom=0, top=10.0)  # this line\n",
    "plt.title('Training Detection Rate')\n",
    "plt.legend()\n",
    "plt.show()"
   ]
  },
  {
   "cell_type": "code",
   "execution_count": 27,
   "metadata": {
    "colab": {
     "base_uri": "https://localhost:8080/",
     "height": 53
    },
    "colab_type": "code",
    "executionInfo": {
     "elapsed": 14749,
     "status": "ok",
     "timestamp": 1584953513510,
     "user": {
      "displayName": "yesi novaria kunang",
      "photoUrl": "",
      "userId": "10182320802774426296"
     },
     "user_tz": -420
    },
    "id": "xABCt6uE8JPs",
    "outputId": "10d52e75-e706-4825-9b85-9e84cec3973c"
   },
   "outputs": [
    {
     "name": "stdout",
     "output_type": "stream",
     "text": [
      "404836/404836 [==============================] - 14s 35us/step\n"
     ]
    },
    {
     "data": {
      "text/plain": [
       "[0.1542649475393717, 0.9544655119603987]"
      ]
     },
     "execution_count": 27,
     "metadata": {
      "tags": []
     },
     "output_type": "execute_result"
    }
   ],
   "source": [
    "dnn.evaluate(test,ylabel_test)"
   ]
  },
  {
   "cell_type": "code",
   "execution_count": 28,
   "metadata": {
    "colab": {
     "base_uri": "https://localhost:8080/",
     "height": 71
    },
    "colab_type": "code",
    "executionInfo": {
     "elapsed": 56184,
     "status": "ok",
     "timestamp": 1584953571621,
     "user": {
      "displayName": "yesi novaria kunang",
      "photoUrl": "",
      "userId": "10182320802774426296"
     },
     "user_tz": -420
    },
    "id": "qy8FEEwZ8JPz",
    "outputId": "a3184550-8028-4c44-9ac8-5d3e692b7072"
   },
   "outputs": [
    {
     "name": "stdout",
     "output_type": "stream",
     "text": [
      "1619315/1619315 [==============================] - 55s 34us/step\n",
      "\n",
      "Loss: 0.15, Accuracy: 95.43%\n"
     ]
    }
   ],
   "source": [
    "# 4. evaluate the network\n",
    "loss, val_accuracy = dnn.evaluate(train,ylabel_train)\n",
    "print(\"\\nLoss: %.2f, Accuracy: %.2f%%\" % (loss, val_accuracy*100))"
   ]
  },
  {
   "cell_type": "code",
   "execution_count": 29,
   "metadata": {
    "colab": {
     "base_uri": "https://localhost:8080/",
     "height": 71
    },
    "colab_type": "code",
    "executionInfo": {
     "elapsed": 14557,
     "status": "ok",
     "timestamp": 1584953628398,
     "user": {
      "displayName": "yesi novaria kunang",
      "photoUrl": "",
      "userId": "10182320802774426296"
     },
     "user_tz": -420
    },
    "id": "JSbB4aRD8JP4",
    "outputId": "87f14b2b-e676-4230-c686-ee579f87b633"
   },
   "outputs": [
    {
     "name": "stdout",
     "output_type": "stream",
     "text": [
      "404836/404836 [==============================] - 14s 34us/step\n",
      "\n",
      "Loss: 0.15, Accuracy: 95.45%\n"
     ]
    }
   ],
   "source": [
    "# 4. evaluate the network\n",
    "loss, val_accuracy = dnn.evaluate(test,ylabel_test)\n",
    "print(\"\\nLoss: %.2f, Accuracy: %.2f%%\" % (loss, val_accuracy*100))"
   ]
  },
  {
   "cell_type": "markdown",
   "metadata": {
    "colab_type": "text",
    "id": "sudJ8Ri78JP9"
   },
   "source": [
    "## The Performance"
   ]
  },
  {
   "cell_type": "code",
   "execution_count": 0,
   "metadata": {
    "colab": {},
    "colab_type": "code",
    "id": "zyBfUaGD8JP_"
   },
   "outputs": [],
   "source": [
    "from sklearn.metrics import confusion_matrix\n"
   ]
  },
  {
   "cell_type": "code",
   "execution_count": 31,
   "metadata": {
    "colab": {
     "base_uri": "https://localhost:8080/",
     "height": 53
    },
    "colab_type": "code",
    "executionInfo": {
     "elapsed": 15138,
     "status": "ok",
     "timestamp": 1584953804335,
     "user": {
      "displayName": "yesi novaria kunang",
      "photoUrl": "",
      "userId": "10182320802774426296"
     },
     "user_tz": -420
    },
    "id": "s1DVZg_D8JQI",
    "outputId": "4c1f400d-8178-4208-81c6-0d3f9a1a97c4"
   },
   "outputs": [
    {
     "name": "stdout",
     "output_type": "stream",
     "text": [
      "Created model and loaded weights from file\n",
      "acc: 95.51%\n"
     ]
    }
   ],
   "source": [
    "##loading autoencoder untuk data tes\n",
    "# load weights\n",
    "dnn.load_weights(filepath2)\n",
    "# Compile model (required to make predictions)\n",
    "dnn.compile(loss='categorical_crossentropy', optimizer='adam', metrics=['accuracy'])\n",
    "print(\"Created model and loaded weights from file\")\n",
    "scores = dnn.evaluate(test, ylabel_test, verbose=0)\n",
    "print(\"%s: %.2f%%\" % (dnn.metrics_names[1], scores[1]*100))"
   ]
  },
  {
   "cell_type": "code",
   "execution_count": 32,
   "metadata": {
    "colab": {
     "base_uri": "https://localhost:8080/",
     "height": 35
    },
    "colab_type": "code",
    "executionInfo": {
     "elapsed": 65391,
     "status": "ok",
     "timestamp": 1584953859040,
     "user": {
      "displayName": "yesi novaria kunang",
      "photoUrl": "",
      "userId": "10182320802774426296"
     },
     "user_tz": -420
    },
    "id": "CLI76IW88JQN",
    "outputId": "19d0ff45-b6de-4eea-e8ec-f82f291cdb30"
   },
   "outputs": [
    {
     "name": "stdout",
     "output_type": "stream",
     "text": [
      "acc: 95.49%\n"
     ]
    }
   ],
   "source": [
    "scores = dnn.evaluate(train, ylabel_train, verbose=0)\n",
    "print(\"%s: %.2f%%\" % (dnn.metrics_names[1], scores[1]*100))\n",
    "\n"
   ]
  },
  {
   "cell_type": "code",
   "execution_count": 0,
   "metadata": {
    "colab": {},
    "colab_type": "code",
    "id": "h_POHLS98JQR"
   },
   "outputs": [],
   "source": [
    "preds = dnn.predict(train)\n",
    "pred_lbls = np.argmax(preds, axis=1)\n",
    "true_lbls = np.argmax(ylabel_train, axis=1)\n",
    "# With the confusion matrix, we can aggregate model predictions\n",
    "# This helps to understand the mistakes and refine the model"
   ]
  },
  {
   "cell_type": "code",
   "execution_count": 0,
   "metadata": {
    "colab": {},
    "colab_type": "code",
    "id": "s7T_9Spz8JQU"
   },
   "outputs": [],
   "source": [
    "import matplotlib.pyplot as plt\n",
    "import itertools\n",
    "\n",
    "def plot_confusion_matrix(cm, classes,\n",
    "                          normalize=False,\n",
    "                          title='Confusion matrix',\n",
    "                          cmap=plt.cm.Blues):\n",
    "    \"\"\"\n",
    "    This function prints and plots the confusion matrix.\n",
    "    Normalization can be applied by setting `normalize=True`.\n",
    "    \"\"\"\n",
    "    if normalize:\n",
    "        cm = cm.astype('float') / cm.sum(axis=1)[:, np.newaxis]\n",
    "        print(\"Normalized confusion matrix\")\n",
    "    else:\n",
    "        print('Confusion matrix, without normalization')\n",
    "\n",
    "    print(cm)\n",
    "\n",
    "    plt.imshow(cm, interpolation='nearest', cmap=cmap)\n",
    "    plt.title(title)\n",
    "    plt.colorbar()\n",
    "    tick_marks = np.arange(len(classes))\n",
    "    plt.xticks(tick_marks, classes, rotation=45)\n",
    "    plt.yticks(tick_marks, classes)\n",
    "\n",
    "    fmt = '.2f' if normalize else 'd'\n",
    "    thresh = cm.max() / 2.\n",
    "    for i, j in itertools.product(range(cm.shape[0]), range(cm.shape[1])):\n",
    "        plt.text(j, i, format(cm[i, j], fmt),\n",
    "                 horizontalalignment=\"center\",\n",
    "                 color=\"white\" if cm[i, j] > thresh else \"black\")\n",
    "\n",
    "    plt.tight_layout()\n",
    "    plt.ylabel('True label')\n",
    "    plt.xlabel('Predicted label')"
   ]
  },
  {
   "cell_type": "code",
   "execution_count": 0,
   "metadata": {
    "colab": {},
    "colab_type": "code",
    "id": "Lh90ZcMK8JQY"
   },
   "outputs": [],
   "source": [
    "from sklearn.metrics import confusion_matrix\n"
   ]
  },
  {
   "cell_type": "code",
   "execution_count": 36,
   "metadata": {
    "colab": {
     "base_uri": "https://localhost:8080/",
     "height": 553
    },
    "colab_type": "code",
    "executionInfo": {
     "elapsed": 88711,
     "status": "ok",
     "timestamp": 1584953891588,
     "user": {
      "displayName": "yesi novaria kunang",
      "photoUrl": "",
      "userId": "10182320802774426296"
     },
     "user_tz": -420
    },
    "id": "oS3VZUHI8JQf",
    "outputId": "e319159e-0762-4c14-bab0-69a2658ae303",
    "scrolled": true
   },
   "outputs": [
    {
     "data": {
      "text/plain": [
       "array([[798606,     77,     47,      0,      5,      0,    485,     24,\n",
       "            12,      5,    109,      9,   3634,      0,     12],\n",
       "       [    19,  85823,      0,      0,      0,      0,      0,      0,\n",
       "             0,      0,      0,      0,      0,      0,      0],\n",
       "       [   250,      0,    230,      0,      0,      0,     16,      0,\n",
       "             0,      0,      0,      0,      0,      0,      0],\n",
       "       [    92,      0,      1,     88,      0,      0,      6,      0,\n",
       "             0,      0,      0,      0,      0,      0,      0],\n",
       "       [     0,      0,      0,      0, 192098,      0,      0,      0,\n",
       "             0,      0,      0,      0,      0,      0,      0],\n",
       "       [     9,      3,      0,      0,      0,   1350,      0,      0,\n",
       "             0,      0,      0,      0,      0,      0,      0],\n",
       "       [    41,      0,      0,      0,      0,    170, 161236,      0,\n",
       "             0,      0,      0,      0,      0,      0,      0],\n",
       "       [     0,      0,      0,      0,      0,      0,      0,  24984,\n",
       "             8,      0,     16,      0,      0,      0,      0],\n",
       "       [     7,      0,      0,      0,      0,      0,      0,     35,\n",
       "        138417,      0,      0,      0,      0,      0,      0],\n",
       "       [     0,      0,      0,      0,      0,      0,      0,      0,\n",
       "             0,  18935,      0,  23039,      0,      0,      0],\n",
       "       [    17,      0,      0,      0,      0,      0,      0,      1,\n",
       "             0,      0,   6563,      0,      0,      0,     31],\n",
       "       [     0,      0,      0,      0,      0,      0,      0,      0,\n",
       "             0,   6312,      0,  51743,      0,      0,      0],\n",
       "       [ 38434,      1,      1,      0,      0,      0,     31,      3,\n",
       "             8,      5,      8,      2,   9854,      0,      0],\n",
       "       [    58,      0,      8,      1,      0,      0,      2,      0,\n",
       "             2,      0,      0,      0,      0,      0,      0],\n",
       "       [     2,      0,      0,      0,      0,      0,      0,      0,\n",
       "             2,      2,      0,      8,      0,      0,  56318]])"
      ]
     },
     "execution_count": 36,
     "metadata": {
      "tags": []
     },
     "output_type": "execute_result"
    }
   ],
   "source": [
    "confusion_matrix(true_lbls, pred_lbls)"
   ]
  },
  {
   "cell_type": "code",
   "execution_count": 37,
   "metadata": {
    "colab": {
     "base_uri": "https://localhost:8080/",
     "height": 35
    },
    "colab_type": "code",
    "executionInfo": {
     "elapsed": 88367,
     "status": "ok",
     "timestamp": 1584953891924,
     "user": {
      "displayName": "yesi novaria kunang",
      "photoUrl": "",
      "userId": "10182320802774426296"
     },
     "user_tz": -420
    },
    "id": "derHkX5a8JQl",
    "outputId": "3ee239a0-9491-4d7f-dd04-9c1783dfc0d2",
    "scrolled": true
   },
   "outputs": [
    {
     "data": {
      "text/plain": [
       "0.9466577892813648"
      ]
     },
     "execution_count": 37,
     "metadata": {
      "tags": []
     },
     "output_type": "execute_result"
    }
   ],
   "source": [
    "from sklearn.metrics import f1_score\n",
    "f1_score(true_lbls, pred_lbls, average='weighted')"
   ]
  },
  {
   "cell_type": "code",
   "execution_count": 0,
   "metadata": {
    "colab": {},
    "colab_type": "code",
    "id": "i4eFn7jH8JQp"
   },
   "outputs": [],
   "source": [
    "# Overall, we report similar model performance to the reference above.\n",
    "# Their research suggest using unsupervised pretraining with autoencoders over\n",
    "# both train and test before adding classifier layers for fine-tuning.\n",
    "# I have done no parameter tuning but report comparable performance.\n",
    "# Note the model has diffuculty with U2R and R2L."
   ]
  },
  {
   "cell_type": "code",
   "execution_count": 39,
   "metadata": {
    "colab": {
     "base_uri": "https://localhost:8080/",
     "height": 466
    },
    "colab_type": "code",
    "executionInfo": {
     "elapsed": 88347,
     "status": "ok",
     "timestamp": 1584953894445,
     "user": {
      "displayName": "yesi novaria kunang",
      "photoUrl": "",
      "userId": "10182320802774426296"
     },
     "user_tz": -420
    },
    "id": "1P5Nooi28JQt",
    "outputId": "b5650c1b-8c89-4806-f7d9-a9be4cd65193",
    "scrolled": true
   },
   "outputs": [
    {
     "name": "stderr",
     "output_type": "stream",
     "text": [
      "/usr/local/lib/python3.6/dist-packages/sklearn/metrics/_classification.py:1272: UndefinedMetricWarning: Precision and F-score are ill-defined and being set to 0.0 in labels with no predicted samples. Use `zero_division` parameter to control this behavior.\n",
      "  _warn_prf(average, modifier, msg_start, len(result))\n"
     ]
    },
    {
     "name": "stdout",
     "output_type": "stream",
     "text": [
      "                          precision    recall  f1-score   support\n",
      "\n",
      "                  Benign    0.95352   0.99450   0.97358    803025\n",
      "                     Bot    0.99906   0.99978   0.99942     85842\n",
      "        Brute Force -Web    0.80139   0.46371   0.58748       496\n",
      "        Brute Force -XSS    0.98876   0.47059   0.63768       187\n",
      "        DDOS attack-HOIC    0.99997   1.00000   0.99999    192098\n",
      "    DDOS attack-LOIC-UDP    0.88816   0.99119   0.93685      1362\n",
      "  DDoS attacks-LOIC-HTTP    0.99666   0.99869   0.99768    161447\n",
      "   DoS attacks-GoldenEye    0.99748   0.99904   0.99826     25008\n",
      "        DoS attacks-Hulk    0.99977   0.99970   0.99973    138459\n",
      "DoS attacks-SlowHTTPTest    0.74963   0.45111   0.56327     41974\n",
      "   DoS attacks-Slowloris    0.98014   0.99259   0.98632      6612\n",
      "          FTP-BruteForce    0.69174   0.89128   0.77893     58055\n",
      "           Infilteration    0.73058   0.20382   0.31872     48347\n",
      "           SQL Injection    0.00000   0.00000   0.00000        71\n",
      "          SSH-Bruteforce    0.99924   0.99975   0.99949     56332\n",
      "\n",
      "                accuracy                        0.95488   1619315\n",
      "               macro avg    0.85174   0.76372   0.78516   1619315\n",
      "            weighted avg    0.95061   0.95488   0.94666   1619315\n",
      "\n"
     ]
    }
   ],
   "source": [
    "from sklearn.metrics import classification_report\n",
    "outcomes = ['Benign', 'Bot', 'Brute Force -Web', 'Brute Force -XSS',\n",
    "'DDOS attack-HOIC','DDOS attack-LOIC-UDP','DDoS attacks-LOIC-HTTP',\n",
    "'DoS attacks-GoldenEye','DoS attacks-Hulk','DoS attacks-SlowHTTPTest','DoS attacks-Slowloris',\n",
    "'FTP-BruteForce','Infilteration','SQL Injection','SSH-Bruteforce' ]\n",
    "class_names=outcomes\n",
    "\n",
    "target_names = [\"Class {}\".format(i) for i in range(5)]\n",
    "print(classification_report(true_lbls, pred_lbls, target_names=class_names, digits=5))\n",
    "#print(classification_report(Y_test, y_predict))\n"
   ]
  },
  {
   "cell_type": "code",
   "execution_count": 40,
   "metadata": {
    "colab": {
     "base_uri": "https://localhost:8080/",
     "height": 285
    },
    "colab_type": "code",
    "executionInfo": {
     "elapsed": 87206,
     "status": "ok",
     "timestamp": 1584953894449,
     "user": {
      "displayName": "yesi novaria kunang",
      "photoUrl": "",
      "userId": "10182320802774426296"
     },
     "user_tz": -420
    },
    "id": "sdx6tUmz8JQw",
    "outputId": "e6970d98-560a-469b-9a12-7f4291b26f4d"
   },
   "outputs": [
    {
     "data": {
      "text/plain": [
       "['Benign',\n",
       " 'Bot',\n",
       " 'Brute Force -Web',\n",
       " 'Brute Force -XSS',\n",
       " 'DDOS attack-HOIC',\n",
       " 'DDOS attack-LOIC-UDP',\n",
       " 'DDoS attacks-LOIC-HTTP',\n",
       " 'DoS attacks-GoldenEye',\n",
       " 'DoS attacks-Hulk',\n",
       " 'DoS attacks-SlowHTTPTest',\n",
       " 'DoS attacks-Slowloris',\n",
       " 'FTP-BruteForce',\n",
       " 'Infilteration',\n",
       " 'SQL Injection',\n",
       " 'SSH-Bruteforce']"
      ]
     },
     "execution_count": 40,
     "metadata": {
      "tags": []
     },
     "output_type": "execute_result"
    }
   ],
   "source": [
    "class_names"
   ]
  },
  {
   "cell_type": "code",
   "execution_count": 41,
   "metadata": {
    "colab": {
     "base_uri": "https://localhost:8080/",
     "height": 1000
    },
    "colab_type": "code",
    "executionInfo": {
     "elapsed": 89100,
     "status": "ok",
     "timestamp": 1584953897011,
     "user": {
      "displayName": "yesi novaria kunang",
      "photoUrl": "",
      "userId": "10182320802774426296"
     },
     "user_tz": -420
    },
    "id": "8EQrlF0r8JQz",
    "outputId": "76e533e4-72aa-4685-e936-cb9774a57be2"
   },
   "outputs": [
    {
     "name": "stdout",
     "output_type": "stream",
     "text": [
      "Confusion matrix, without normalization\n",
      "[[798606     77     47      0      5      0    485     24     12      5\n",
      "     109      9   3634      0     12]\n",
      " [    19  85823      0      0      0      0      0      0      0      0\n",
      "       0      0      0      0      0]\n",
      " [   250      0    230      0      0      0     16      0      0      0\n",
      "       0      0      0      0      0]\n",
      " [    92      0      1     88      0      0      6      0      0      0\n",
      "       0      0      0      0      0]\n",
      " [     0      0      0      0 192098      0      0      0      0      0\n",
      "       0      0      0      0      0]\n",
      " [     9      3      0      0      0   1350      0      0      0      0\n",
      "       0      0      0      0      0]\n",
      " [    41      0      0      0      0    170 161236      0      0      0\n",
      "       0      0      0      0      0]\n",
      " [     0      0      0      0      0      0      0  24984      8      0\n",
      "      16      0      0      0      0]\n",
      " [     7      0      0      0      0      0      0     35 138417      0\n",
      "       0      0      0      0      0]\n",
      " [     0      0      0      0      0      0      0      0      0  18935\n",
      "       0  23039      0      0      0]\n",
      " [    17      0      0      0      0      0      0      1      0      0\n",
      "    6563      0      0      0     31]\n",
      " [     0      0      0      0      0      0      0      0      0   6312\n",
      "       0  51743      0      0      0]\n",
      " [ 38434      1      1      0      0      0     31      3      8      5\n",
      "       8      2   9854      0      0]\n",
      " [    58      0      8      1      0      0      2      0      2      0\n",
      "       0      0      0      0      0]\n",
      " [     2      0      0      0      0      0      0      0      2      2\n",
      "       0      8      0      0  56318]]\n"
     ]
    },
    {
     "data": {
      "image/png": "[encoded data removed]",
      "text/plain": [
       "<Figure size 720x720 with 2 Axes>"
      ]
     },
     "metadata": {
      "tags": []
     },
     "output_type": "display_data"
    }
   ],
   "source": [
    "\n",
    "#outcomes = ['DoS', 'normal','Probe' ,'R2L', 'U2R']\n",
    "class_names=outcomes\n",
    "\n",
    "\n",
    "results = confusion_matrix(true_lbls, pred_lbls)\n",
    "# Plot non-normalized confusion matrix\n",
    "plt.figure(figsize=(10,10))\n",
    "plot_confusion_matrix(results, classes=class_names,\n",
    "                      title='Confusion matrix')\n",
    "\n",
    "#print(classification_report(y_test, deepprediction, target_names=class_names, digits=5))"
   ]
  },
  {
   "cell_type": "markdown",
   "metadata": {
    "colab_type": "text",
    "id": "-VB0JtAxV_x7"
   },
   "source": [
    "# Data Test"
   ]
  },
  {
   "cell_type": "code",
   "execution_count": 42,
   "metadata": {
    "colab": {
     "base_uri": "https://localhost:8080/",
     "height": 53
    },
    "colab_type": "code",
    "executionInfo": {
     "elapsed": 99724,
     "status": "ok",
     "timestamp": 1584953909781,
     "user": {
      "displayName": "yesi novaria kunang",
      "photoUrl": "",
      "userId": "10182320802774426296"
     },
     "user_tz": -420
    },
    "id": "-m1bM-qj8JQ9",
    "outputId": "6be88871-cde3-4ed5-c996-8659d69905ec"
   },
   "outputs": [
    {
     "name": "stdout",
     "output_type": "stream",
     "text": [
      "Created model and loaded weights from file\n",
      "acc: 95.51%\n"
     ]
    }
   ],
   "source": [
    "##loading autoencoder untuk data tes\n",
    "# load weights\n",
    "dnn.load_weights(filepath2)\n",
    "# Compile model (required to make predictions)\n",
    "dnn.compile(loss='categorical_crossentropy', optimizer='adam', metrics=['accuracy'])\n",
    "print(\"Created model and loaded weights from file\")\n",
    "scores = dnn.evaluate(test, ylabel_test, verbose=0)\n",
    "print(\"%s: %.2f%%\" % (dnn.metrics_names[1], scores[1]*100))"
   ]
  },
  {
   "cell_type": "code",
   "execution_count": 43,
   "metadata": {
    "colab": {
     "base_uri": "https://localhost:8080/",
     "height": 35
    },
    "colab_type": "code",
    "executionInfo": {
     "elapsed": 14015,
     "status": "ok",
     "timestamp": 1584953923816,
     "user": {
      "displayName": "yesi novaria kunang",
      "photoUrl": "",
      "userId": "10182320802774426296"
     },
     "user_tz": -420
    },
    "id": "vHnWJ1HQ8JRD",
    "outputId": "6963a621-fb4c-481d-fa5e-eb810001ce90"
   },
   "outputs": [
    {
     "name": "stdout",
     "output_type": "stream",
     "text": [
      "acc: 95.51%\n"
     ]
    }
   ],
   "source": [
    "scores = dnn.evaluate(test, ylabel_test, verbose=0)\n",
    "print(\"%s: %.2f%%\" % (dnn.metrics_names[1], scores[1]*100))"
   ]
  },
  {
   "cell_type": "code",
   "execution_count": 0,
   "metadata": {
    "colab": {},
    "colab_type": "code",
    "id": "KrWN6oa68JRF"
   },
   "outputs": [],
   "source": [
    "preds = dnn.predict(test)\n",
    "pred_lbls = np.argmax(preds, axis=1)\n",
    "true_lbls = np.argmax(ylabel_test, axis=1)\n",
    "# With the confusion matrix, we can aggregate model predictions\n",
    "# This helps to understand the mistakes and refine the model"
   ]
  },
  {
   "cell_type": "code",
   "execution_count": 45,
   "metadata": {
    "colab": {
     "base_uri": "https://localhost:8080/",
     "height": 553
    },
    "colab_type": "code",
    "executionInfo": {
     "elapsed": 21737,
     "status": "ok",
     "timestamp": 1584953931562,
     "user": {
      "displayName": "yesi novaria kunang",
      "photoUrl": "",
      "userId": "10182320802774426296"
     },
     "user_tz": -420
    },
    "id": "cLouCdSr8JRI",
    "outputId": "33bca24b-bba5-4ce8-b30d-54b9c45f0f8f"
   },
   "outputs": [
    {
     "data": {
      "text/plain": [
       "array([[200036,     35,      8,      0,      1,      0,    137,     10,\n",
       "             2,      1,     34,      3,    969,      0,      2],\n",
       "       [     7,  21472,      0,      0,      0,      0,      0,      0,\n",
       "             0,      0,      0,      0,      0,      0,      0],\n",
       "       [    67,      0,     45,      0,      0,      0,      3,      0,\n",
       "             0,      0,      0,      0,      0,      0,      0],\n",
       "       [    22,      0,      0,     21,      0,      0,      0,      0,\n",
       "             0,      0,      0,      0,      0,      0,      0],\n",
       "       [     0,      0,      0,      0,  48006,      0,      0,      0,\n",
       "             0,      0,      0,      0,      0,      0,      0],\n",
       "       [     3,      2,      0,      0,      0,    362,      0,      0,\n",
       "             1,      0,      0,      0,      0,      0,      0],\n",
       "       [    15,      0,      0,      0,      0,     62,  40142,      0,\n",
       "             0,      0,      0,      0,      0,      0,      0],\n",
       "       [     0,      0,      0,      0,      0,      0,      0,   6119,\n",
       "             2,      0,      2,      0,      0,      0,      0],\n",
       "       [     5,      0,      0,      0,      0,      0,      0,     10,\n",
       "         34743,      0,      0,      0,      0,      0,      0],\n",
       "       [     0,      0,      0,      0,      0,      0,      0,      0,\n",
       "             0,   4748,      0,   5736,      0,      0,      0],\n",
       "       [     4,      0,      0,      0,      0,      0,      0,      0,\n",
       "             0,      0,   1622,      0,      0,      0,      4],\n",
       "       [     0,      0,      0,      0,      0,      0,      0,      0,\n",
       "             0,   1563,      0,  12889,      0,      0,      0],\n",
       "       [  9426,      0,      1,      0,      0,      0,      8,      1,\n",
       "             0,      0,      2,      0,   2453,      0,      1],\n",
       "       [    11,      0,      3,      1,      0,      0,      0,      0,\n",
       "             1,      0,      0,      0,      0,      0,      0],\n",
       "       [     1,      0,      0,      0,      0,      0,      0,      0,\n",
       "             1,      1,      0,      1,      0,      0,  14009]])"
      ]
     },
     "execution_count": 45,
     "metadata": {
      "tags": []
     },
     "output_type": "execute_result"
    }
   ],
   "source": [
    "confusion_matrix(true_lbls, pred_lbls)"
   ]
  },
  {
   "cell_type": "code",
   "execution_count": 46,
   "metadata": {
    "colab": {
     "base_uri": "https://localhost:8080/",
     "height": 466
    },
    "colab_type": "code",
    "executionInfo": {
     "elapsed": 22666,
     "status": "ok",
     "timestamp": 1584953932502,
     "user": {
      "displayName": "yesi novaria kunang",
      "photoUrl": "",
      "userId": "10182320802774426296"
     },
     "user_tz": -420
    },
    "id": "irJKTRVu8JRN",
    "outputId": "f8077655-b8e1-475a-8404-64b24e1583e4"
   },
   "outputs": [
    {
     "name": "stderr",
     "output_type": "stream",
     "text": [
      "/usr/local/lib/python3.6/dist-packages/sklearn/metrics/_classification.py:1272: UndefinedMetricWarning: Precision and F-score are ill-defined and being set to 0.0 in labels with no predicted samples. Use `zero_division` parameter to control this behavior.\n",
      "  _warn_prf(average, modifier, msg_start, len(result))\n"
     ]
    },
    {
     "name": "stdout",
     "output_type": "stream",
     "text": [
      "                          precision    recall  f1-score   support\n",
      "\n",
      "                  Benign    0.95438   0.99403   0.97380    201238\n",
      "                     Bot    0.99828   0.99967   0.99898     21479\n",
      "        Brute Force -Web    0.78947   0.39130   0.52326       115\n",
      "        Brute Force -XSS    0.95455   0.48837   0.64615        43\n",
      "        DDOS attack-HOIC    0.99998   1.00000   0.99999     48006\n",
      "    DDOS attack-LOIC-UDP    0.85377   0.98370   0.91414       368\n",
      "  DDoS attacks-LOIC-HTTP    0.99633   0.99809   0.99721     40219\n",
      "   DoS attacks-GoldenEye    0.99658   0.99935   0.99796      6123\n",
      "        DoS attacks-Hulk    0.99980   0.99957   0.99968     34758\n",
      "DoS attacks-SlowHTTPTest    0.75210   0.45288   0.56534     10484\n",
      "   DoS attacks-Slowloris    0.97711   0.99509   0.98602      1630\n",
      "          FTP-BruteForce    0.69188   0.89185   0.77924     14452\n",
      "           Infilteration    0.71683   0.20627   0.32036     11892\n",
      "           SQL Injection    0.00000   0.00000   0.00000        16\n",
      "          SSH-Bruteforce    0.99950   0.99971   0.99961     14013\n",
      "\n",
      "                accuracy                        0.95512    404836\n",
      "               macro avg    0.84537   0.75999   0.78012    404836\n",
      "            weighted avg    0.95071   0.95512   0.94712    404836\n",
      "\n"
     ]
    }
   ],
   "source": [
    "\n",
    "class_names=outcomes\n",
    "\n",
    "target_names = [\"Class {}\".format(i) for i in range(5)]\n",
    "print(classification_report(true_lbls, pred_lbls, target_names=class_names, digits=5))\n",
    "#print(classification_report(Y_test, y_predict))"
   ]
  },
  {
   "cell_type": "code",
   "execution_count": 47,
   "metadata": {
    "colab": {
     "base_uri": "https://localhost:8080/",
     "height": 1000
    },
    "colab_type": "code",
    "executionInfo": {
     "elapsed": 24176,
     "status": "ok",
     "timestamp": 1584953934020,
     "user": {
      "displayName": "yesi novaria kunang",
      "photoUrl": "",
      "userId": "10182320802774426296"
     },
     "user_tz": -420
    },
    "id": "HXx-Xtzl8JRT",
    "outputId": "b091e798-6583-4ba8-9a46-9b5760f50cfb"
   },
   "outputs": [
    {
     "name": "stdout",
     "output_type": "stream",
     "text": [
      "Confusion matrix, without normalization\n",
      "[[200036     35      8      0      1      0    137     10      2      1\n",
      "      34      3    969      0      2]\n",
      " [     7  21472      0      0      0      0      0      0      0      0\n",
      "       0      0      0      0      0]\n",
      " [    67      0     45      0      0      0      3      0      0      0\n",
      "       0      0      0      0      0]\n",
      " [    22      0      0     21      0      0      0      0      0      0\n",
      "       0      0      0      0      0]\n",
      " [     0      0      0      0  48006      0      0      0      0      0\n",
      "       0      0      0      0      0]\n",
      " [     3      2      0      0      0    362      0      0      1      0\n",
      "       0      0      0      0      0]\n",
      " [    15      0      0      0      0     62  40142      0      0      0\n",
      "       0      0      0      0      0]\n",
      " [     0      0      0      0      0      0      0   6119      2      0\n",
      "       2      0      0      0      0]\n",
      " [     5      0      0      0      0      0      0     10  34743      0\n",
      "       0      0      0      0      0]\n",
      " [     0      0      0      0      0      0      0      0      0   4748\n",
      "       0   5736      0      0      0]\n",
      " [     4      0      0      0      0      0      0      0      0      0\n",
      "    1622      0      0      0      4]\n",
      " [     0      0      0      0      0      0      0      0      0   1563\n",
      "       0  12889      0      0      0]\n",
      " [  9426      0      1      0      0      0      8      1      0      0\n",
      "       2      0   2453      0      1]\n",
      " [    11      0      3      1      0      0      0      0      1      0\n",
      "       0      0      0      0      0]\n",
      " [     1      0      0      0      0      0      0      0      1      1\n",
      "       0      1      0      0  14009]]\n"
     ]
    },
    {
     "data": {
      "image/png": "[encoded data removed]",
      "text/plain": [
       "<Figure size 576x576 with 2 Axes>"
      ]
     },
     "metadata": {
      "tags": []
     },
     "output_type": "display_data"
    }
   ],
   "source": [
    "\n",
    "\n",
    "\n",
    "results = confusion_matrix(true_lbls, pred_lbls)\n",
    "# Plot non-normalized confusion matrix\n",
    "plt.figure(figsize=(8,8))\n",
    "plot_confusion_matrix(results, classes=class_names,\n",
    "                      title='Confusion matrix')\n",
    "\n",
    "#print(classification_report(y_test, deepprediction, target_names=class_names, digits=5))"
   ]
  },
  {
   "cell_type": "code",
   "execution_count": 0,
   "metadata": {
    "colab": {},
    "colab_type": "code",
    "id": "d58knr8T8JRW"
   },
   "outputs": [],
   "source": []
  },
  {
   "cell_type": "code",
   "execution_count": 0,
   "metadata": {
    "colab": {},
    "colab_type": "code",
    "id": "g3HEx_OU8JRb"
   },
   "outputs": [],
   "source": []
  }
 ],
 "metadata": {
  "accelerator": "GPU",
  "colab": {
   "collapsed_sections": [],
   "name": "AE-DNN15class-7hiddenlayer.ipynb",
   "provenance": []
  },
  "kernelspec": {
   "display_name": "Python [default]",
   "language": "python",
   "name": "python3"
  },
  "language_info": {
   "codemirror_mode": {
    "name": "ipython",
    "version": 3
   },
   "file_extension": ".py",
   "mimetype": "text/x-python",
   "name": "python",
   "nbconvert_exporter": "python",
   "pygments_lexer": "ipython3",
   "version": "3.6.5"
  }
 },
 "nbformat": 4,
 "nbformat_minor": 1
}
