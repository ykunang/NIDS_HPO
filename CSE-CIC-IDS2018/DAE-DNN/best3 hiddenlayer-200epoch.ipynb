{
 "cells": [
  {
   "cell_type": "markdown",
   "metadata": {
    "colab_type": "text",
    "id": "e0L689RRkT5D"
   },
   "source": [
    "# Network Intrusion Detection with Deep Learning"
   ]
  },
  {
   "cell_type": "code",
   "execution_count": 0,
   "metadata": {
    "colab": {},
    "colab_type": "code",
    "id": "eGgBX2wHkT5a"
   },
   "outputs": [],
   "source": [
    "import pandas as pd\n",
    "import numpy as np\n",
    "from sklearn.preprocessing import MinMaxScaler"
   ]
  },
  {
   "cell_type": "markdown",
   "metadata": {
    "colab_type": "text",
    "id": "iTK-6zAmkT5k"
   },
   "source": [
    "## The Data"
   ]
  },
  {
   "cell_type": "code",
   "execution_count": 0,
   "metadata": {
    "colab": {},
    "colab_type": "code",
    "id": "C_tt816QkT5o"
   },
   "outputs": [],
   "source": [
    "import numpy as np\n",
    "def load_matrices(file_name):\n",
    "    with open(file_name, 'rb') as f:\n",
    "        A = np.load(f)\n",
    "        B = np.load(f)\n",
    "        C = np.load(f)\n",
    "        D = np.load(f)\n",
    "        E = np.load(f)\n",
    "        F = np.load(f)\n",
    "    return (A,B,C,D,E,F)"
   ]
  },
  {
   "cell_type": "code",
   "execution_count": 0,
   "metadata": {
    "colab": {},
    "colab_type": "code",
    "id": "WuIboxEAkT5w"
   },
   "outputs": [],
   "source": [
    "my_file =  '10data2.npy'\n",
    "train,test,y_train,y_test,ylabel_train, ylabel_test = load_matrices(my_file)"
   ]
  },
  {
   "cell_type": "markdown",
   "metadata": {
    "colab_type": "text",
    "id": "W1seHAlfkT57"
   },
   "source": [
    "## The Model"
   ]
  },
  {
   "cell_type": "code",
   "execution_count": 0,
   "metadata": {
    "colab": {},
    "colab_type": "code",
    "id": "arIxf89PkT5-"
   },
   "outputs": [],
   "source": [
    "from keras import backend as K\n",
    "from keras.layers import Input,Dense, Activation, Reshape, Dropout\n",
    "from keras.layers.embeddings import Embedding\n",
    "from keras.layers import InputLayer, Input\n",
    "from keras.optimizers import Adam\n",
    "from keras.callbacks import TensorBoard\n",
    "from keras.models import load_model\n",
    "from keras.layers.advanced_activations import LeakyReLU\n",
    "from keras.layers.advanced_activations import PReLU\n",
    "from keras.activations import relu, elu\n",
    "from keras.losses import binary_crossentropy\n",
    "from keras.models import Model, Sequential\n",
    "from keras.callbacks import ModelCheckpoint, CSVLogger"
   ]
  },
  {
   "cell_type": "code",
   "execution_count": 0,
   "metadata": {
    "colab": {},
    "colab_type": "code",
    "id": "tbSQQK1fkT6F"
   },
   "outputs": [],
   "source": [
    "import talos as ta\n",
    "import wrangle as wr\n",
    "from talos.metrics.keras_metrics import fmeasure_acc\n",
    "from talos import live\n"
   ]
  },
  {
   "cell_type": "code",
   "execution_count": 0,
   "metadata": {
    "colab": {},
    "colab_type": "code",
    "id": "urWLEYC7kT6f"
   },
   "outputs": [],
   "source": [
    "#actvation leakyrelu\n",
    "LR= LeakyReLU(0.01)\n",
    "LR.__name__ = 'lrelu'\n",
    "#actvation prelu\n",
    "#PR= PReLU(init='zero', weights=None)\n",
    "#PR.__name__ = 'prelu'"
   ]
  },
  {
   "cell_type": "code",
   "execution_count": 0,
   "metadata": {
    "colab": {},
    "colab_type": "code",
    "id": "lNOztSsIkT7I"
   },
   "outputs": [],
   "source": [
    "\n",
    "filepath=\"./logtalos/best3.hdf5\"\n",
    "checkpoint = ModelCheckpoint(filepath, monitor='loss', save_best_only=True, mode='min')\n",
    "callbacks_list = [checkpoint]"
   ]
  },
  {
   "cell_type": "code",
   "execution_count": 0,
   "metadata": {
    "colab": {},
    "colab_type": "code",
    "id": "hZ3KZmJdkT7T"
   },
   "outputs": [],
   "source": [
    "# first we have to make sure to input data and params into the function\n",
    "# add input parameters to the function\n",
    "def dnn(x_train, ylabel_train, x_val, y_val, params):\n",
    "\n",
    "    input_dim = x_train.shape[1]\n",
    "\n",
    "    input_img = Input(shape=(input_dim,))\n",
    "    \n",
    "    first_neuron=params['first_neuron']\n",
    "    second_neuron=params['second_neuron']\n",
    "    batch_size=params['batch_size']\n",
    "    kernel_initial=params['kernel_initializer']\n",
    "    lr=params['lr']\n",
    "    activation=params['activation']\n",
    "    \n",
    "    print('activation=',activation)\n",
    "    \n",
    "    log_file1 = './logtalos/best3/best3.hdf'\n",
    "    checkpoint2 = ModelCheckpoint(log_file1, monitor='acc', save_best_only=True, mode='max')\n",
    "\n",
    "    \n",
    "    log_file2 = './logtalos/best3/best3.csv'\n",
    "\n",
    "    csv_logger2 = CSVLogger(log_file2,separator=',', append=False)\n",
    "    callbacks_list2 = [checkpoint2,csv_logger2]\n",
    "    \n",
    "    ###AE\n",
    "    \n",
    "    # replace the hyperparameter inputs with references to params dictionary \n",
    "    autoencoder = Sequential()\n",
    "    #encoder\n",
    "    \n",
    "    if activation==PReLU: \n",
    "        autoencoder.add(Dense(first_neuron, input_shape=(input_dim,), kernel_initializer=kernel_initial))\n",
    "        autoencoder.add(PReLU())\n",
    "        autoencoder.add(Dense(second_neuron, kernel_initializer=kernel_initial))\n",
    "        autoencoder.add(PReLU())\n",
    "                   \n",
    "        #decoder\n",
    "        #model.add(Dense(8, activation=params['activation']))\n",
    "        autoencoder.add(Dense(first_neuron, kernel_initializer=kernel_initial))\n",
    "        autoencoder.add(PReLU())\n",
    "        autoencoder.add(Dense(input_dim, activation='sigmoid', kernel_initializer=kernel_initial))\n",
    "        \n",
    "    else:\n",
    "        autoencoder.add(Dense(first_neuron, input_shape=(input_dim,), activation=activation, kernel_initializer=kernel_initial))\n",
    "        autoencoder.add(Dense(second_neuron, activation=activation, kernel_initializer=kernel_initial))\n",
    "        #decoder\n",
    "        #model.add(Dense(8, activation=params['activation']))\n",
    "        autoencoder.add(Dense(first_neuron, activation=activation, kernel_initializer=kernel_initial))\n",
    "        autoencoder.add(Dense(input_dim, activation='sigmoid', kernel_initializer=kernel_initial))\n",
    "    \n",
    "    #model = multi_gpu_model(model, gpus=1)\n",
    "    autoencoder.summary()\n",
    "    print(input_dim)\n",
    "    \n",
    "    input_img = Input(shape=(input_dim,))\n",
    "    encoder_layer1 = autoencoder.layers[0]\n",
    "    encoder_layer2 = autoencoder.layers[1]\n",
    "    encoder = Model(input_img, encoder_layer2(encoder_layer1(input_img)))\n",
    "    \n",
    "    #encoder_layer1 = autoencoder.layers[0]\n",
    "    #encoder_layer2 = autoencoder.layers[1]\n",
    "    #encoder_layer3 = autoencoder.layers[2]\n",
    "    #encoder = Model(input_img, encoder_layer3(encoder_layer2(encoder_layer1(input_img))))\n",
    "    encoder.summary()\n",
    "\n",
    "    \n",
    "    autoencoder.compile(loss='mse', optimizer='adam', metrics=['acc'])\n",
    "    #model.compile(loss=params['losses'],\n",
    "    #              optimizer=params['optimizer'](),\n",
    "    #              metrics=['acc', fmeasure_acc])\n",
    "    \n",
    "   \n",
    "\n",
    "    \n",
    "    history=autoencoder.fit(x,x,\n",
    "                             epochs=params['epochs'],\n",
    "                             batch_size=batch_size,\n",
    "                              #shuffle=True,\n",
    "                              #validation_split=0,\n",
    "                              callbacks=callbacks_list,                    \n",
    "                             #callbacks=[early_stopping])\n",
    "                              validation_data=(test,test),\n",
    "                              verbose=1)\n",
    "  \n",
    "\n",
    "    num_classes=15\n",
    "    out2 = Dense(num_classes, activation='softmax',kernel_initializer=kernel_initial)(encoder.output)\n",
    "    newmodel = Model(encoder.input,out2)\n",
    "    \n",
    "   \n",
    "    newmodel.compile(loss='categorical_crossentropy', \n",
    "                     #optimizer='adam', \n",
    "                     optimizer= Adam(lr=lr, beta_1=0.9, beta_2=0.999, epsilon=1e-08,decay=0.0, amsgrad=False),\n",
    "                     metrics=['acc']) \n",
    "    newmodel.summary()\n",
    "\n",
    "\n",
    "    history2a=newmodel.fit(x, y,\n",
    "                           epochs=params['epochs2'],\n",
    "                           batch_size=batch_size,\n",
    "                           #validation_split=0,\n",
    "                           callbacks=callbacks_list2,\n",
    "                           #callbacks=[early_stopping],\n",
    "                           validation_data=(test,ylabel_test),\n",
    "                           verbose=1)\n",
    "\n",
    "    \n",
    "    del encoder\n",
    "    del autoencoder\n",
    "    #del dnn_model\n",
    "    \n",
    "    tf.reset_default_graph()\n",
    "    \n",
    "    return history2a, newmodel #, encoder\n",
    "    "
   ]
  },
  {
   "cell_type": "code",
   "execution_count": 0,
   "metadata": {
    "colab": {},
    "colab_type": "code",
    "id": "lhuJg13JkT7Y"
   },
   "outputs": [],
   "source": [
    "# then we can go ahead and set the parameter space\n",
    "p = {'first_neuron':[60],\n",
    "     'second_neuron':[35],\n",
    "     'batch_size': [32],\n",
    "     'epochs': [20],\n",
    "     'epochs2': [200],\n",
    "     'dropout': [0],\n",
    "     'kernel_initializer': ['lecun_uniform'],\n",
    "     'optimizer': [Adam],\n",
    "     'lr':[0.001],\n",
    "     'activation':[LR]}"
   ]
  },
  {
   "cell_type": "code",
   "execution_count": 0,
   "metadata": {
    "colab": {},
    "colab_type": "code",
    "id": "BV1XBsXDkT7r"
   },
   "outputs": [],
   "source": [
    "import tensorflow as tf\n",
    "from keras.backend.tensorflow_backend import set_session, clear_session\n",
    "\n",
    "config = tf.ConfigProto(allow_soft_placement=True)\n",
    "config.gpu_options.allow_growth = True  # dynamically grow the memory used on the GPU\n",
    "sess = tf.Session(config=config)\n",
    "set_session(sess)  # set this TensorFlow session as the default session for Keras"
   ]
  },
  {
   "cell_type": "code",
   "execution_count": 0,
   "metadata": {
    "colab": {},
    "colab_type": "code",
    "id": "M0xIJNOBkT7w"
   },
   "outputs": [],
   "source": [
    "x=train\n",
    "y=ylabel_train"
   ]
  },
  {
   "cell_type": "code",
   "execution_count": 0,
   "metadata": {
    "colab": {
     "base_uri": "https://localhost:8080/",
     "height": 36
    },
    "colab_type": "code",
    "executionInfo": {
     "elapsed": 1069,
     "status": "ok",
     "timestamp": 1584561445906,
     "user": {
      "displayName": "yesi kunang",
      "photoUrl": "",
      "userId": "04863916017268223052"
     },
     "user_tz": -420
    },
    "id": "T60MjejYkT71",
    "outputId": "e24f3168-a1b0-4e4e-c1ff-4341e5b84efa"
   },
   "outputs": [
    {
     "data": {
      "text/plain": [
       "(1619315, 80)"
      ]
     },
     "execution_count": 29,
     "metadata": {
      "tags": []
     },
     "output_type": "execute_result"
    }
   ],
   "source": [
    "np.shape(x)"
   ]
  },
  {
   "cell_type": "code",
   "execution_count": 0,
   "metadata": {
    "colab": {
     "base_uri": "https://localhost:8080/",
     "height": 36
    },
    "colab_type": "code",
    "executionInfo": {
     "elapsed": 1234,
     "status": "ok",
     "timestamp": 1584561448703,
     "user": {
      "displayName": "yesi kunang",
      "photoUrl": "",
      "userId": "04863916017268223052"
     },
     "user_tz": -420
    },
    "id": "hdXjXneekT75",
    "outputId": "1adcf958-9adf-4230-db78-b39cc85d75c9"
   },
   "outputs": [
    {
     "data": {
      "text/plain": [
       "(1619315, 15)"
      ]
     },
     "execution_count": 30,
     "metadata": {
      "tags": []
     },
     "output_type": "execute_result"
    }
   ],
   "source": [
    "np.shape(y)"
   ]
  },
  {
   "cell_type": "code",
   "execution_count": 31,
   "metadata": {
    "colab": {
     "base_uri": "https://localhost:8080/",
     "height": 1000
    },
    "colab_type": "code",
    "executionInfo": {
     "elapsed": 7347105,
     "status": "ok",
     "timestamp": 1584578525039,
     "user": {
      "displayName": "yesi kunang",
      "photoUrl": "",
      "userId": "04863916017268223052"
     },
     "user_tz": -420
    },
    "id": "CDgSxmvfkT78",
    "outputId": "6760f43c-fd4e-43f5-cec7-be89afb482cf"
   },
   "outputs": [
    {
     "name": "stderr",
     "output_type": "stream",
     "text": [
      "\r",
      "  0%|          | 0/1 [00:00<?, ?it/s]"
     ]
    },
    {
     "name": "stdout",
     "output_type": "stream",
     "text": [
      "WARNING:tensorflow:From /usr/local/lib/python3.6/dist-packages/keras/backend/tensorflow_backend.py:541: The name tf.placeholder is deprecated. Please use tf.compat.v1.placeholder instead.\n",
      "\n",
      "activation= <keras.layers.advanced_activations.LeakyReLU object at 0x7fa54daf2c50>\n",
      "WARNING:tensorflow:From /usr/local/lib/python3.6/dist-packages/keras/backend/tensorflow_backend.py:4432: The name tf.random_uniform is deprecated. Please use tf.random.uniform instead.\n",
      "\n",
      "Model: \"sequential_1\"\n",
      "_________________________________________________________________\n",
      "Layer (type)                 Output Shape              Param #   \n",
      "=================================================================\n",
      "dense_1 (Dense)              (None, 60)                4860      \n",
      "_________________________________________________________________\n",
      "dense_2 (Dense)              (None, 35)                2135      \n",
      "_________________________________________________________________\n",
      "dense_3 (Dense)              (None, 60)                2160      \n",
      "_________________________________________________________________\n",
      "dense_4 (Dense)              (None, 80)                4880      \n",
      "=================================================================\n",
      "Total params: 14,035\n",
      "Trainable params: 14,035\n",
      "Non-trainable params: 0\n",
      "_________________________________________________________________\n",
      "80\n",
      "Model: \"model_1\"\n",
      "_________________________________________________________________\n",
      "Layer (type)                 Output Shape              Param #   \n",
      "=================================================================\n",
      "input_2 (InputLayer)         (None, 80)                0         \n",
      "_________________________________________________________________\n",
      "dense_1 (Dense)              (None, 60)                4860      \n",
      "_________________________________________________________________\n",
      "dense_2 (Dense)              (None, 35)                2135      \n",
      "=================================================================\n",
      "Total params: 6,995\n",
      "Trainable params: 6,995\n",
      "Non-trainable params: 0\n",
      "_________________________________________________________________\n",
      "WARNING:tensorflow:From /usr/local/lib/python3.6/dist-packages/keras/optimizers.py:793: The name tf.train.Optimizer is deprecated. Please use tf.compat.v1.train.Optimizer instead.\n",
      "\n",
      "WARNING:tensorflow:From /usr/local/lib/python3.6/dist-packages/keras/backend/tensorflow_backend.py:1033: The name tf.assign_add is deprecated. Please use tf.compat.v1.assign_add instead.\n",
      "\n",
      "WARNING:tensorflow:From /usr/local/lib/python3.6/dist-packages/keras/backend/tensorflow_backend.py:1020: The name tf.assign is deprecated. Please use tf.compat.v1.assign instead.\n",
      "\n",
      "Train on 1619315 samples, validate on 404836 samples\n",
      "Epoch 1/20\n",
      "WARNING:tensorflow:From /usr/local/lib/python3.6/dist-packages/keras/backend/tensorflow_backend.py:190: The name tf.get_default_session is deprecated. Please use tf.compat.v1.get_default_session instead.\n",
      "\n",
      "WARNING:tensorflow:From /usr/local/lib/python3.6/dist-packages/keras/backend/tensorflow_backend.py:207: The name tf.global_variables is deprecated. Please use tf.compat.v1.global_variables instead.\n",
      "\n",
      "WARNING:tensorflow:From /usr/local/lib/python3.6/dist-packages/keras/backend/tensorflow_backend.py:216: The name tf.is_variable_initialized is deprecated. Please use tf.compat.v1.is_variable_initialized instead.\n",
      "\n",
      "WARNING:tensorflow:From /usr/local/lib/python3.6/dist-packages/keras/backend/tensorflow_backend.py:223: The name tf.variables_initializer is deprecated. Please use tf.compat.v1.variables_initializer instead.\n",
      "\n",
      "1619315/1619315 [==============================] - 79s 49us/step - loss: 3.4176e-04 - acc: 0.2411 - val_loss: 3.2427e-05 - val_acc: 0.2148\n",
      "Epoch 2/20\n",
      "1619315/1619315 [==============================] - 79s 49us/step - loss: 2.9749e-05 - acc: 0.2136 - val_loss: 2.6201e-05 - val_acc: 0.1950\n",
      "Epoch 3/20\n",
      "1619315/1619315 [==============================] - 78s 48us/step - loss: 2.6677e-05 - acc: 0.2243 - val_loss: 2.6966e-05 - val_acc: 0.2610\n",
      "Epoch 4/20\n",
      "1619315/1619315 [==============================] - 77s 48us/step - loss: 2.5145e-05 - acc: 0.2324 - val_loss: 2.3318e-05 - val_acc: 0.2326\n",
      "Epoch 5/20\n",
      "1619315/1619315 [==============================] - 78s 48us/step - loss: 2.4064e-05 - acc: 0.2342 - val_loss: 2.2634e-05 - val_acc: 0.2422\n",
      "Epoch 6/20\n",
      "1619315/1619315 [==============================] - 78s 48us/step - loss: 2.3212e-05 - acc: 0.2280 - val_loss: 2.2360e-05 - val_acc: 0.2072\n",
      "Epoch 7/20\n",
      "1619315/1619315 [==============================] - 78s 48us/step - loss: 2.2833e-05 - acc: 0.2471 - val_loss: 2.2159e-05 - val_acc: 0.1882\n",
      "Epoch 8/20\n",
      "1619315/1619315 [==============================] - 78s 48us/step - loss: 2.2218e-05 - acc: 0.2499 - val_loss: 2.4027e-05 - val_acc: 0.2588\n",
      "Epoch 9/20\n",
      "1619315/1619315 [==============================] - 78s 48us/step - loss: 2.2045e-05 - acc: 0.2980 - val_loss: 2.0600e-05 - val_acc: 0.4461\n",
      "Epoch 10/20\n",
      "1619315/1619315 [==============================] - 79s 49us/step - loss: 2.1782e-05 - acc: 0.2879 - val_loss: 2.0055e-05 - val_acc: 0.2338\n",
      "Epoch 11/20\n",
      "1619315/1619315 [==============================] - 79s 49us/step - loss: 2.1372e-05 - acc: 0.2689 - val_loss: 2.1543e-05 - val_acc: 0.3092\n",
      "Epoch 12/20\n",
      "1619315/1619315 [==============================] - 78s 48us/step - loss: 2.0819e-05 - acc: 0.2929 - val_loss: 2.2609e-05 - val_acc: 0.3791\n",
      "Epoch 13/20\n",
      "1619315/1619315 [==============================] - 79s 49us/step - loss: 2.0824e-05 - acc: 0.3128 - val_loss: 1.9600e-05 - val_acc: 0.2103\n",
      "Epoch 14/20\n",
      "1619315/1619315 [==============================] - 79s 49us/step - loss: 2.0782e-05 - acc: 0.3074 - val_loss: 1.9925e-05 - val_acc: 0.3797\n",
      "Epoch 15/20\n",
      "1619315/1619315 [==============================] - 79s 49us/step - loss: 2.0869e-05 - acc: 0.3357 - val_loss: 1.9259e-05 - val_acc: 0.3796\n",
      "Epoch 16/20\n",
      "1619315/1619315 [==============================] - 78s 48us/step - loss: 2.0263e-05 - acc: 0.3171 - val_loss: 2.2439e-05 - val_acc: 0.2626\n",
      "Epoch 17/20\n",
      "1619315/1619315 [==============================] - 78s 48us/step - loss: 2.0422e-05 - acc: 0.3299 - val_loss: 2.6627e-05 - val_acc: 0.2056\n",
      "Epoch 18/20\n",
      "1619315/1619315 [==============================] - 78s 48us/step - loss: 2.0854e-05 - acc: 0.3361 - val_loss: 1.9799e-05 - val_acc: 0.3835\n",
      "Epoch 19/20\n",
      "1619315/1619315 [==============================] - 78s 48us/step - loss: 2.0494e-05 - acc: 0.3918 - val_loss: 2.1663e-05 - val_acc: 0.3763\n",
      "Epoch 20/20\n",
      "1619315/1619315 [==============================] - 77s 48us/step - loss: 2.0334e-05 - acc: 0.3605 - val_loss: 2.2737e-05 - val_acc: 0.4834\n",
      "WARNING:tensorflow:From /usr/local/lib/python3.6/dist-packages/keras/backend/tensorflow_backend.py:3576: The name tf.log is deprecated. Please use tf.math.log instead.\n",
      "\n",
      "Model: \"model_2\"\n",
      "_________________________________________________________________\n",
      "Layer (type)                 Output Shape              Param #   \n",
      "=================================================================\n",
      "input_2 (InputLayer)         (None, 80)                0         \n",
      "_________________________________________________________________\n",
      "dense_1 (Dense)              (None, 60)                4860      \n",
      "_________________________________________________________________\n",
      "dense_2 (Dense)              (None, 35)                2135      \n",
      "_________________________________________________________________\n",
      "dense_5 (Dense)              (None, 15)                540       \n",
      "=================================================================\n",
      "Total params: 7,535\n",
      "Trainable params: 7,535\n",
      "Non-trainable params: 0\n",
      "_________________________________________________________________\n",
      "WARNING:tensorflow:From /tensorflow-1.15.0/python3.6/tensorflow_core/python/ops/math_grad.py:1424: where (from tensorflow.python.ops.array_ops) is deprecated and will be removed in a future version.\n",
      "Instructions for updating:\n",
      "Use tf.where in 2.0, which has the same broadcast rule as np.where\n",
      "Train on 1619315 samples, validate on 404836 samples\n",
      "Epoch 1/200\n",
      "1619315/1619315 [==============================] - 76s 47us/step - loss: 0.1505 - acc: 0.9493 - val_loss: 0.1347 - val_acc: 0.9541\n",
      "Epoch 2/200\n",
      "1619315/1619315 [==============================] - 77s 48us/step - loss: 0.1342 - acc: 0.9537 - val_loss: 0.1314 - val_acc: 0.9547\n",
      "Epoch 3/200\n",
      "1619315/1619315 [==============================] - 76s 47us/step - loss: 0.1324 - acc: 0.9542 - val_loss: 0.1308 - val_acc: 0.9545\n",
      "Epoch 4/200\n",
      "1619315/1619315 [==============================] - 75s 47us/step - loss: 0.1313 - acc: 0.9546 - val_loss: 0.1297 - val_acc: 0.9546\n",
      "Epoch 5/200\n",
      "1619315/1619315 [==============================] - 76s 47us/step - loss: 0.1308 - acc: 0.9549 - val_loss: 0.1308 - val_acc: 0.9534\n",
      "Epoch 6/200\n",
      "1619315/1619315 [==============================] - 77s 48us/step - loss: 0.1302 - acc: 0.9550 - val_loss: 0.1285 - val_acc: 0.9555\n",
      "Epoch 7/200\n",
      "1619315/1619315 [==============================] - 77s 48us/step - loss: 0.1297 - acc: 0.9553 - val_loss: 0.1294 - val_acc: 0.9547\n",
      "Epoch 8/200\n",
      "1619315/1619315 [==============================] - 77s 48us/step - loss: 0.1291 - acc: 0.9555 - val_loss: 0.1271 - val_acc: 0.9565\n",
      "Epoch 9/200\n",
      "1619315/1619315 [==============================] - 75s 47us/step - loss: 0.1286 - acc: 0.9557 - val_loss: 0.1283 - val_acc: 0.9561\n",
      "Epoch 10/200\n",
      "1619315/1619315 [==============================] - 78s 48us/step - loss: 0.1283 - acc: 0.9558 - val_loss: 0.1276 - val_acc: 0.9556\n",
      "Epoch 11/200\n",
      "1619315/1619315 [==============================] - 77s 48us/step - loss: 0.1280 - acc: 0.9558 - val_loss: 0.1271 - val_acc: 0.9559\n",
      "Epoch 12/200\n",
      "1619315/1619315 [==============================] - 77s 47us/step - loss: 0.1277 - acc: 0.9560 - val_loss: 0.1268 - val_acc: 0.9567\n",
      "Epoch 13/200\n",
      "1619315/1619315 [==============================] - 76s 47us/step - loss: 0.1274 - acc: 0.9560 - val_loss: 0.1289 - val_acc: 0.9546\n",
      "Epoch 14/200\n",
      "1619315/1619315 [==============================] - 77s 48us/step - loss: 0.1271 - acc: 0.9561 - val_loss: 0.1257 - val_acc: 0.9566\n",
      "Epoch 15/200\n",
      "1619315/1619315 [==============================] - 76s 47us/step - loss: 0.1275 - acc: 0.9557 - val_loss: 0.1262 - val_acc: 0.9568\n",
      "Epoch 16/200\n",
      "1619315/1619315 [==============================] - 77s 47us/step - loss: 0.1270 - acc: 0.9561 - val_loss: 0.1295 - val_acc: 0.9550\n",
      "Epoch 17/200\n",
      "1619315/1619315 [==============================] - 76s 47us/step - loss: 0.1272 - acc: 0.9560 - val_loss: 0.1270 - val_acc: 0.9565\n",
      "Epoch 18/200\n",
      "1619315/1619315 [==============================] - 76s 47us/step - loss: 0.1272 - acc: 0.9561 - val_loss: 0.1265 - val_acc: 0.9565\n",
      "Epoch 19/200\n",
      "1619315/1619315 [==============================] - 76s 47us/step - loss: 0.1273 - acc: 0.9562 - val_loss: 0.1277 - val_acc: 0.9559\n",
      "Epoch 20/200\n",
      "1619315/1619315 [==============================] - 76s 47us/step - loss: 0.1269 - acc: 0.9562 - val_loss: 0.1257 - val_acc: 0.9567\n",
      "Epoch 21/200\n",
      "1619315/1619315 [==============================] - 76s 47us/step - loss: 0.1271 - acc: 0.9560 - val_loss: 0.1253 - val_acc: 0.9567\n",
      "Epoch 22/200\n",
      "1619315/1619315 [==============================] - 77s 48us/step - loss: 0.1268 - acc: 0.9563 - val_loss: 0.1263 - val_acc: 0.9567\n",
      "Epoch 23/200\n",
      " 345024/1619315 [=====>........................] - ETA: 53s - loss: 0.2489 - acc: 0.9489Buffered data was truncated after reaching the output size limit."
     ]
    }
   ],
   "source": [
    "\n",
    "t = ta.Scan(x, y, p, dnn, experiment_no='2')\n"
   ]
  },
  {
   "cell_type": "code",
   "execution_count": 0,
   "metadata": {
    "colab": {},
    "colab_type": "code",
    "id": "kO637EkekT8B"
   },
   "outputs": [],
   "source": [
    "x.shape"
   ]
  },
  {
   "cell_type": "code",
   "execution_count": 33,
   "metadata": {
    "colab": {
     "base_uri": "https://localhost:8080/",
     "height": 117
    },
    "colab_type": "code",
    "executionInfo": {
     "elapsed": 1647,
     "status": "ok",
     "timestamp": 1584582114542,
     "user": {
      "displayName": "yesi kunang",
      "photoUrl": "",
      "userId": "04863916017268223052"
     },
     "user_tz": -420
    },
    "id": "YEcJd98EkT8E",
    "outputId": "7c7ed278-3e4f-4bd4-938b-da27c609b40a"
   },
   "outputs": [
    {
     "data": {
      "text/html": [
       "<div>\n",
       "<style scoped>\n",
       "    .dataframe tbody tr th:only-of-type {\n",
       "        vertical-align: middle;\n",
       "    }\n",
       "\n",
       "    .dataframe tbody tr th {\n",
       "        vertical-align: top;\n",
       "    }\n",
       "\n",
       "    .dataframe thead th {\n",
       "        text-align: right;\n",
       "    }\n",
       "</style>\n",
       "<table border=\"1\" class=\"dataframe\">\n",
       "  <thead>\n",
       "    <tr style=\"text-align: right;\">\n",
       "      <th></th>\n",
       "      <th>round_epochs</th>\n",
       "      <th>val_loss</th>\n",
       "      <th>val_acc</th>\n",
       "      <th>loss</th>\n",
       "      <th>acc</th>\n",
       "      <th>first_neuron</th>\n",
       "      <th>second_neuron</th>\n",
       "      <th>batch_size</th>\n",
       "      <th>epochs</th>\n",
       "      <th>epochs2</th>\n",
       "      <th>dropout</th>\n",
       "      <th>kernel_initializer</th>\n",
       "      <th>optimizer</th>\n",
       "      <th>lr</th>\n",
       "      <th>activation</th>\n",
       "    </tr>\n",
       "  </thead>\n",
       "  <tbody>\n",
       "    <tr>\n",
       "      <th>1</th>\n",
       "      <td>200</td>\n",
       "      <td>0.12461553017689171</td>\n",
       "      <td>0.9572814670632058</td>\n",
       "      <td>0.126202679739241</td>\n",
       "      <td>0.9565723778264266</td>\n",
       "      <td>60</td>\n",
       "      <td>35</td>\n",
       "      <td>32</td>\n",
       "      <td>20</td>\n",
       "      <td>200</td>\n",
       "      <td>0</td>\n",
       "      <td>lecun_uniform</td>\n",
       "      <td>&lt;class 'keras.optimizers.Adam'&gt;</td>\n",
       "      <td>0.001</td>\n",
       "      <td>&lt;keras.layers.advanced_activations.LeakyReLU o...</td>\n",
       "    </tr>\n",
       "  </tbody>\n",
       "</table>\n",
       "</div>"
      ],
      "text/plain": [
       "  round_epochs  ...                                         activation\n",
       "1          200  ...  <keras.layers.advanced_activations.LeakyReLU o...\n",
       "\n",
       "[1 rows x 15 columns]"
      ]
     },
     "execution_count": 33,
     "metadata": {
      "tags": []
     },
     "output_type": "execute_result"
    }
   ],
   "source": [
    "t.data"
   ]
  },
  {
   "cell_type": "code",
   "execution_count": 0,
   "metadata": {
    "colab": {},
    "colab_type": "code",
    "id": "nCG0sLZSkT8G"
   },
   "outputs": [],
   "source": [
    "r = ta.Reporting(t)"
   ]
  },
  {
   "cell_type": "code",
   "execution_count": 0,
   "metadata": {
    "colab": {},
    "colab_type": "code",
    "id": "X8FKG1jqkT8m"
   },
   "outputs": [],
   "source": [
    "from keras.layers.advanced_activations import LeakyReLU\n",
    "from keras.layers.advanced_activations import PReLU\n",
    "#actvation leakyrelu\n",
    "LR= LeakyReLU(0.01)\n",
    "LR.__name__ = 'lrelu'\n",
    "#actvation prelu\n",
    "PR= PReLU()\n",
    "PR.__name__ = 'prelu'"
   ]
  },
  {
   "cell_type": "code",
   "execution_count": 37,
   "metadata": {
    "colab": {
     "base_uri": "https://localhost:8080/",
     "height": 612
    },
    "colab_type": "code",
    "executionInfo": {
     "elapsed": 1628,
     "status": "ok",
     "timestamp": 1584582264369,
     "user": {
      "displayName": "yesi kunang",
      "photoUrl": "",
      "userId": "04863916017268223052"
     },
     "user_tz": -420
    },
    "id": "L0joM7NRgCe0",
    "outputId": "b65d32c8-75ab-44f7-b782-64067497d96a"
   },
   "outputs": [
    {
     "name": "stdout",
     "output_type": "stream",
     "text": [
      "80\n",
      "Model: \"model_1\"\n",
      "_________________________________________________________________\n",
      "Layer (type)                 Output Shape              Param #   \n",
      "=================================================================\n",
      "input_1 (InputLayer)         (None, 80)                0         \n",
      "_________________________________________________________________\n",
      "dense_1 (Dense)              (None, 60)                4860      \n",
      "_________________________________________________________________\n",
      "dense_2 (Dense)              (None, 35)                2135      \n",
      "_________________________________________________________________\n",
      "dense_3 (Dense)              (None, 60)                2160      \n",
      "_________________________________________________________________\n",
      "dense_4 (Dense)              (None, 80)                4880      \n",
      "=================================================================\n",
      "Total params: 14,035\n",
      "Trainable params: 14,035\n",
      "Non-trainable params: 0\n",
      "_________________________________________________________________\n",
      "Model: \"model_3\"\n",
      "_________________________________________________________________\n",
      "Layer (type)                 Output Shape              Param #   \n",
      "=================================================================\n",
      "input_1 (InputLayer)         (None, 80)                0         \n",
      "_________________________________________________________________\n",
      "dense_1 (Dense)              (None, 60)                4860      \n",
      "_________________________________________________________________\n",
      "dense_2 (Dense)              (None, 35)                2135      \n",
      "_________________________________________________________________\n",
      "dense_5 (Dense)              (None, 15)                540       \n",
      "=================================================================\n",
      "Total params: 7,535\n",
      "Trainable params: 7,535\n",
      "Non-trainable params: 0\n",
      "_________________________________________________________________\n"
     ]
    }
   ],
   "source": [
    "# tcreate model\n",
    "input_dim = train.shape[1]\n",
    "print(input_dim)\n",
    "\n",
    "input_img = Input(shape=(input_dim,))\n",
    "encoded = Dense(60, activation=LR, kernel_initializer='lecun_uniform')(input_img)\n",
    "encoded = Dense(35, activation=LR, kernel_initializer='lecun_uniform')(encoded)\n",
    "decoded = Dense(60, activation=LR, kernel_initializer='lecun_uniform')(encoded)\n",
    "z = Dense(input_dim, activation='sigmoid', kernel_initializer='lecun_uniform')(decoded)\n",
    "autoencoder = Model(input_img, z)\n",
    "autoencoder.summary()\n",
    "\n",
    "\n",
    "\n",
    "num_classes=15\n",
    "#encoder is the model of the autoencoder slice in the middle \n",
    "encoder = Model(input_img, encoded)\n",
    "# define new model encoder->Dense  10 neurons with soft max for classification \n",
    "out2 = Dense(num_classes, activation='softmax', kernel_initializer='lecun_uniform')(encoder.output)\n",
    "dnn = Model(encoder.input,out2)\n",
    "dnn.summary()"
   ]
  },
  {
   "cell_type": "code",
   "execution_count": 38,
   "metadata": {
    "colab": {
     "base_uri": "https://localhost:8080/",
     "height": 51
    },
    "colab_type": "code",
    "executionInfo": {
     "elapsed": 8189,
     "status": "ok",
     "timestamp": 1584582276087,
     "user": {
      "displayName": "yesi kunang",
      "photoUrl": "",
      "userId": "04863916017268223052"
     },
     "user_tz": -420
    },
    "id": "99ukzGFPgYd3",
    "outputId": "1023735a-4473-44a3-a3c7-d5c86cb049fc"
   },
   "outputs": [
    {
     "name": "stdout",
     "output_type": "stream",
     "text": [
      "Created model and loaded weights from file\n",
      "acc: 95.70%\n"
     ]
    }
   ],
   "source": [
    "##loading autoencoder untuk data tes\n",
    "# load weights\n",
    "filepath2='./logtalos/best3/best3.hdf'\n",
    "dnn.load_weights(filepath2)\n",
    "# Compile model (required to make predictions)\n",
    "dnn.compile(loss='categorical_crossentropy', optimizer='adam', metrics=['accuracy'])\n",
    "print(\"Created model and loaded weights from file\")\n",
    "scores = dnn.evaluate(test, ylabel_test, verbose=0)\n",
    "print(\"%s: %.2f%%\" % (dnn.metrics_names[1], scores[1]*100))"
   ]
  },
  {
   "cell_type": "code",
   "execution_count": 39,
   "metadata": {
    "colab": {
     "base_uri": "https://localhost:8080/",
     "height": 85
    },
    "colab_type": "code",
    "executionInfo": {
     "elapsed": 30144,
     "status": "ok",
     "timestamp": 1584582333262,
     "user": {
      "displayName": "yesi kunang",
      "photoUrl": "",
      "userId": "04863916017268223052"
     },
     "user_tz": -420
    },
    "id": "xvwVvmpfghkL",
    "outputId": "c50b3984-0f1b-47b7-a3b2-a6744a8e2966"
   },
   "outputs": [
    {
     "name": "stdout",
     "output_type": "stream",
     "text": [
      "1619315/1619315 [==============================] - 29s 18us/step\n",
      "loss 0.12930628517052634\n",
      "acc 0.9567298518200965\n",
      "acc: 95.67%\n"
     ]
    }
   ],
   "source": [
    "result_train = dnn.evaluate(train,ylabel_train)\n",
    "for name, value in zip(dnn.metrics_names, result_train):\n",
    "    print(name, value)\n",
    "    \n",
    "print(\"%s: %.2f%%\" % (dnn.metrics_names[1], result_train[1]*100))"
   ]
  },
  {
   "cell_type": "code",
   "execution_count": 0,
   "metadata": {
    "colab": {},
    "colab_type": "code",
    "id": "R0fqN71NhEsC"
   },
   "outputs": [],
   "source": [
    "##prediksi data Train\n",
    "\n",
    "preds = dnn.predict(train)\n",
    "pred_lbls = np.argmax(preds, axis=1)\n",
    "true_lbls = np.argmax(ylabel_train, axis=1)"
   ]
  },
  {
   "cell_type": "code",
   "execution_count": 0,
   "metadata": {
    "colab": {},
    "colab_type": "code",
    "id": "UcktVajchLkg"
   },
   "outputs": [],
   "source": [
    "import matplotlib.pyplot as plt\n",
    "import itertools\n",
    "from sklearn.metrics import confusion_matrix\n",
    "\n",
    "def plot_confusion_matrix(cm, classes,\n",
    "                          normalize=False,\n",
    "                          title='Confusion matrix',\n",
    "                          cmap=plt.cm.Blues):\n",
    "    \"\"\"\n",
    "    This function prints and plots the confusion matrix.\n",
    "    Normalization can be applied by setting `normalize=True`.\n",
    "    \"\"\"\n",
    "    if normalize:\n",
    "        cm = cm.astype('float') / cm.sum(axis=1)[:, np.newaxis]\n",
    "        print(\"Normalized confusion matrix\")\n",
    "    else:\n",
    "        print('Confusion matrix, without normalization')\n",
    "\n",
    "    print(cm)\n",
    "\n",
    "    plt.imshow(cm, interpolation='nearest', cmap=cmap)\n",
    "    plt.title(title)\n",
    "    plt.colorbar()\n",
    "    tick_marks = np.arange(len(classes))\n",
    "    plt.xticks(tick_marks, classes, rotation=45)\n",
    "    plt.yticks(tick_marks, classes)\n",
    "\n",
    "    fmt = '.2f' if normalize else 'd'\n",
    "    thresh = cm.max() / 2.\n",
    "    for i, j in itertools.product(range(cm.shape[0]), range(cm.shape[1])):\n",
    "        plt.text(j, i, format(cm[i, j], fmt),\n",
    "                 horizontalalignment=\"center\",\n",
    "                 color=\"white\" if cm[i, j] > thresh else \"black\")\n",
    "\n",
    "    plt.tight_layout()\n",
    "    plt.ylabel('True label')\n",
    "    plt.xlabel('Predicted label')"
   ]
  },
  {
   "cell_type": "code",
   "execution_count": 42,
   "metadata": {
    "colab": {
     "base_uri": "https://localhost:8080/",
     "height": 391
    },
    "colab_type": "code",
    "executionInfo": {
     "elapsed": 4466,
     "status": "ok",
     "timestamp": 1584582414005,
     "user": {
      "displayName": "yesi kunang",
      "photoUrl": "",
      "userId": "04863916017268223052"
     },
     "user_tz": -420
    },
    "id": "iT553KashS61",
    "outputId": "1775c35c-5498-4dd9-dec9-8aea323a0a9c"
   },
   "outputs": [
    {
     "name": "stdout",
     "output_type": "stream",
     "text": [
      "                          precision    recall  f1-score   support\n",
      "\n",
      "                  Benign    0.95529   0.99436   0.97444    803025\n",
      "                     Bot    0.99707   0.99948   0.99827     85842\n",
      "        Brute Force -Web    0.51883   0.86089   0.64746       496\n",
      "        Brute Force -XSS    0.00000   0.00000   0.00000       187\n",
      "        DDOS attack-HOIC    0.99985   0.99996   0.99991    192098\n",
      "    DDOS attack-LOIC-UDP    0.89460   0.98458   0.93743      1362\n",
      "  DDoS attacks-LOIC-HTTP    0.99917   0.99839   0.99878    161447\n",
      "   DoS attacks-GoldenEye    0.99868   0.99944   0.99906     25008\n",
      "        DoS attacks-Hulk    0.99985   0.99986   0.99985    138459\n",
      "DoS attacks-SlowHTTPTest    0.75663   0.50722   0.60731     41974\n",
      "   DoS attacks-Slowloris    0.99278   0.99849   0.99563      6612\n",
      "          FTP-BruteForce    0.71222   0.88211   0.78812     58055\n",
      "           Infilteration    0.73170   0.22829   0.34800     48347\n",
      "           SQL Injection    0.36538   0.26761   0.30894        71\n",
      "          SSH-Bruteforce    0.99986   0.99973   0.99980     56332\n",
      "\n",
      "                accuracy                        0.95673   1619315\n",
      "               macro avg    0.79480   0.78136   0.77353   1619315\n",
      "            weighted avg    0.95249   0.95673   0.94950   1619315\n",
      "\n"
     ]
    }
   ],
   "source": [
    "from sklearn.metrics import classification_report\n",
    "outcomes = ['Benign', 'Bot', 'Brute Force -Web', 'Brute Force -XSS',\n",
    "'DDOS attack-HOIC','DDOS attack-LOIC-UDP','DDoS attacks-LOIC-HTTP',\n",
    "'DoS attacks-GoldenEye','DoS attacks-Hulk','DoS attacks-SlowHTTPTest','DoS attacks-Slowloris',\n",
    "'FTP-BruteForce','Infilteration','SQL Injection','SSH-Bruteforce' ]\n",
    "class_names=outcomes\n",
    "\n",
    "\n",
    "target_names = [\"Class {}\".format(i) for i in range(15)]\n",
    "print(classification_report(true_lbls, pred_lbls, target_names=class_names, digits=5))\n",
    "#print(classification_report(Y_test, y_predict))"
   ]
  },
  {
   "cell_type": "code",
   "execution_count": 43,
   "metadata": {
    "colab": {
     "base_uri": "https://localhost:8080/",
     "height": 1000
    },
    "colab_type": "code",
    "executionInfo": {
     "elapsed": 7805,
     "status": "ok",
     "timestamp": 1584582417352,
     "user": {
      "displayName": "yesi kunang",
      "photoUrl": "",
      "userId": "04863916017268223052"
     },
     "user_tz": -420
    },
    "id": "g5gNxBdahZHL",
    "outputId": "532aaba6-c6a0-4964-8d7c-331c0873f324"
   },
   "outputs": [
    {
     "name": "stdout",
     "output_type": "stream",
     "text": [
      "Confusion matrix, without normalization\n",
      "[[798496     83    315      0      8      0     72     11      6      2\n",
      "      41      0   3960     23      8]\n",
      " [    41  85797      0      0      0      0      0      0      0      0\n",
      "       0      0      4      0      0]\n",
      " [    43      0    427      0      0      0     25      0      1      0\n",
      "       0      0      0      0      0]\n",
      " [    18      0     58      0      0      0     28      0      0      0\n",
      "       0      0     83      0      0]\n",
      " [     8      0      0      0 192090      0      0      0      0      0\n",
      "       0      0      0      0      0]\n",
      " [     0      0      0      0     15   1341      6      0      0      0\n",
      "       0      0      0      0      0]\n",
      " [   102      0      0      0      0    158 161187      0      0      0\n",
      "       0      0      0      0      0]\n",
      " [     4      0      0      0      0      0      0  24994      5      0\n",
      "       5      0      0      0      0]\n",
      " [     1      0      0      0      0      0      0     19 138439      0\n",
      "       0      0      0      0      0]\n",
      " [     0      0      0      0      0      0      0      0      0  21290\n",
      "       0  20684      0      0      0]\n",
      " [    10      0      0      0      0      0      0      0      0      0\n",
      "    6602      0      0      0      0]\n",
      " [     0      0      0      0      0      0      0      0      0   6844\n",
      "       0  51211      0      0      0]\n",
      " [ 37114    169      3      0      2      0      0      3      7      0\n",
      "       2      0  11037     10      0]\n",
      " [    26      0     20      1      2      0      3      0      0      0\n",
      "       0      0      0     19      0]\n",
      " [     2      0      0      0      1      0      0      0      2      2\n",
      "       0      8      0      0  56317]]\n"
     ]
    },
    {
     "data": {
      "image/png": "[encoded data removed]",
      "text/plain": [
       "<Figure size 720x720 with 2 Axes>"
      ]
     },
     "metadata": {
      "tags": []
     },
     "output_type": "display_data"
    }
   ],
   "source": [
    "#outcomes = ['DoS', 'normal','Probe' ,'R2L', 'U2R']\n",
    "class_names=outcomes\n",
    "\n",
    "\n",
    "results = confusion_matrix(true_lbls, pred_lbls)\n",
    "# Plot non-normalized confusion matrix\n",
    "plt.figure(figsize=(10,10))\n",
    "plot_confusion_matrix(results, classes=class_names,\n",
    "                      title='Confusion matrix')\n",
    "\n",
    "#print(classification_report(y_test, deepprediction, target_names=class_names, digits=5))"
   ]
  },
  {
   "cell_type": "markdown",
   "metadata": {
    "colab_type": "text",
    "id": "VfwodX2ghu1s"
   },
   "source": [
    "# Data Test"
   ]
  },
  {
   "cell_type": "code",
   "execution_count": 44,
   "metadata": {
    "colab": {
     "base_uri": "https://localhost:8080/",
     "height": 85
    },
    "colab_type": "code",
    "executionInfo": {
     "elapsed": 14351,
     "status": "ok",
     "timestamp": 1584582423902,
     "user": {
      "displayName": "yesi kunang",
      "photoUrl": "",
      "userId": "04863916017268223052"
     },
     "user_tz": -420
    },
    "id": "i2cgAGChhs8V",
    "outputId": "83ccac87-9f51-4f67-dc3f-133fd9fe266e"
   },
   "outputs": [
    {
     "name": "stdout",
     "output_type": "stream",
     "text": [
      "404836/404836 [==============================] - 7s 18us/step\n",
      "loss 0.12937132668756465\n",
      "acc 0.9569504688318232\n",
      "acc: 95.70%\n"
     ]
    }
   ],
   "source": [
    "#Data Test\n",
    "result_test = dnn.evaluate(test,ylabel_test)\n",
    "for name, value in zip(dnn.metrics_names, result_test):\n",
    "    print(name, value)\n",
    "    \n",
    "print(\"%s: %.2f%%\" % (dnn.metrics_names[1], result_test[1]*100))"
   ]
  },
  {
   "cell_type": "code",
   "execution_count": 0,
   "metadata": {
    "colab": {},
    "colab_type": "code",
    "id": "l_t6wpVmh2G5"
   },
   "outputs": [],
   "source": [
    "##prediksi data Train\n",
    "#y_test=y_test.to_numpy()\n",
    "\n",
    "preds = dnn.predict(test)\n",
    "pred_lbls = np.argmax(preds, axis=1)\n",
    "true_lbls = np.argmax(ylabel_test, axis=1)"
   ]
  },
  {
   "cell_type": "code",
   "execution_count": 46,
   "metadata": {
    "colab": {
     "base_uri": "https://localhost:8080/",
     "height": 1000
    },
    "colab_type": "code",
    "executionInfo": {
     "elapsed": 19771,
     "status": "ok",
     "timestamp": 1584582431120,
     "user": {
      "displayName": "yesi kunang",
      "photoUrl": "",
      "userId": "04863916017268223052"
     },
     "user_tz": -420
    },
    "id": "-2dT7Bm0h9dk",
    "outputId": "8a605fb7-583a-4e28-fe0a-3a0f3bb39168"
   },
   "outputs": [
    {
     "name": "stdout",
     "output_type": "stream",
     "text": [
      "                          precision    recall  f1-score   support\n",
      "\n",
      "                  Benign    0.95616   0.99392   0.97467    201238\n",
      "                     Bot    0.99703   0.99939   0.99821     21479\n",
      "        Brute Force -Web    0.48718   0.82609   0.61290       115\n",
      "        Brute Force -XSS    0.00000   0.00000   0.00000        43\n",
      "        DDOS attack-HOIC    0.99988   0.99996   0.99992     48006\n",
      "    DDOS attack-LOIC-UDP    0.86124   0.97826   0.91603       368\n",
      "  DDoS attacks-LOIC-HTTP    0.99920   0.99781   0.99851     40219\n",
      "   DoS attacks-GoldenEye    0.99804   0.99918   0.99861      6123\n",
      "        DoS attacks-Hulk    0.99991   0.99986   0.99988     34758\n",
      "DoS attacks-SlowHTTPTest    0.75544   0.51030   0.60913     10484\n",
      "   DoS attacks-Slowloris    0.98667   0.99939   0.99299      1630\n",
      "          FTP-BruteForce    0.71240   0.88029   0.78750     14452\n",
      "           Infilteration    0.71824   0.23150   0.35014     11892\n",
      "           SQL Injection    0.28571   0.25000   0.26667        16\n",
      "          SSH-Bruteforce    0.99986   0.99971   0.99979     14013\n",
      "\n",
      "                accuracy                        0.95695    404836\n",
      "               macro avg    0.78380   0.77771   0.76700    404836\n",
      "            weighted avg    0.95258   0.95695   0.94997    404836\n",
      "\n",
      "Confusion matrix, without normalization\n",
      "[[200014     25     84      0      1      0     15      6      1      1\n",
      "      22      1   1059      8      1]\n",
      " [    13  21466      0      0      0      0      0      0      0      0\n",
      "       0      0      0      0      0]\n",
      " [    13      0     95      0      0      0      7      0      0      0\n",
      "       0      0      0      0      0]\n",
      " [     1      0     13      0      0      0      8      0      0      0\n",
      "       0      0     21      0      0]\n",
      " [     2      0      0      0  48004      0      0      0      0      0\n",
      "       0      0      0      0      0]\n",
      " [     2      0      0      0      4    360      2      0      0      0\n",
      "       0      0      0      0      0]\n",
      " [    30      0      0      0      0     58  40131      0      0      0\n",
      "       0      0      0      0      0]\n",
      " [     4      0      0      0      0      0      0   6118      1      0\n",
      "       0      0      0      0      0]\n",
      " [     0      0      0      0      0      0      0      5  34753      0\n",
      "       0      0      0      0      0]\n",
      " [     0      0      0      0      0      0      0      0      0   5350\n",
      "       0   5134      0      0      0]\n",
      " [     1      0      0      0      0      0      0      0      0      0\n",
      "    1629      0      0      0      0]\n",
      " [     0      0      0      0      0      0      0      0      0   1730\n",
      "       0  12722      0      0      0]\n",
      " [  9096     39      0      0      0      0      0      1      0      0\n",
      "       0      0   2753      2      1]\n",
      " [     8      0      3      0      1      0      0      0      0      0\n",
      "       0      0      0      4      0]\n",
      " [     1      0      0      0      0      0      0      0      1      1\n",
      "       0      1      0      0  14009]]\n"
     ]
    },
    {
     "data": {
      "image/png": "[encoded data removed]",
      "text/plain": [
       "<Figure size 720x720 with 2 Axes>"
      ]
     },
     "metadata": {
      "tags": []
     },
     "output_type": "display_data"
    }
   ],
   "source": [
    "target_names = [\"Class {}\".format(i) for i in range(15)]\n",
    "print(classification_report(true_lbls, pred_lbls, target_names=class_names, digits=5))\n",
    "#print(classification_report(Y_test, y_predict))\n",
    "\n",
    "results = confusion_matrix(true_lbls, pred_lbls)\n",
    "# Plot non-normalized confusion matrix\n",
    "plt.figure(figsize=(10,10))\n",
    "plot_confusion_matrix(results, classes=class_names,\n",
    "                      title='Confusion matrix')\n",
    "\n",
    "#print(classification_report(y_test, deepprediction, target_names=class_names, digits=5))"
   ]
  }
 ],
 "metadata": {
  "colab": {
   "collapsed_sections": [],
   "name": "best3 hiddenlayer-200epoch.ipynb",
   "provenance": []
  },
  "kernelspec": {
   "display_name": "Python [default]",
   "language": "python",
   "name": "python3"
  },
  "language_info": {
   "codemirror_mode": {
    "name": "ipython",
    "version": 3
   },
   "file_extension": ".py",
   "mimetype": "text/x-python",
   "name": "python",
   "nbconvert_exporter": "python",
   "pygments_lexer": "ipython3",
   "version": "3.6.5"
  }
 },
 "nbformat": 4,
 "nbformat_minor": 1
}
