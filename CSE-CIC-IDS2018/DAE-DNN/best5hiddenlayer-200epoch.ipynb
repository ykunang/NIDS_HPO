{
 "cells": [
  {
   "cell_type": "markdown",
   "metadata": {
    "colab_type": "text",
    "id": "hvHwCvOKVykA"
   },
   "source": [
    "# Network Intrusion Detection with Deep Learning"
   ]
  },
  {
   "cell_type": "code",
   "execution_count": 0,
   "metadata": {
    "colab": {},
    "colab_type": "code",
    "id": "7xp0AUPQVykG"
   },
   "outputs": [],
   "source": [
    "import os\n"
   ]
  },
  {
   "cell_type": "code",
   "execution_count": 0,
   "metadata": {
    "colab": {},
    "colab_type": "code",
    "id": "x-SWN12QVykM"
   },
   "outputs": [],
   "source": [
    "import pandas as pd\n",
    "import numpy as np\n",
    "from sklearn.preprocessing import MinMaxScaler"
   ]
  },
  {
   "cell_type": "markdown",
   "metadata": {
    "colab_type": "text",
    "id": "Q5qeOSNRVykT"
   },
   "source": [
    "## The Data"
   ]
  },
  {
   "cell_type": "code",
   "execution_count": 0,
   "metadata": {
    "colab": {},
    "colab_type": "code",
    "id": "ULFzXV3xVykW"
   },
   "outputs": [],
   "source": [
    "import numpy as np\n",
    "def load_matrices(file_name):\n",
    "    with open(file_name, 'rb') as f:\n",
    "        A = np.load(f)\n",
    "        B = np.load(f)\n",
    "        C = np.load(f)\n",
    "        D = np.load(f)\n",
    "        E = np.load(f)\n",
    "        F = np.load(f)\n",
    "    return (A,B,C,D,E,F)"
   ]
  },
  {
   "cell_type": "code",
   "execution_count": 0,
   "metadata": {
    "colab": {},
    "colab_type": "code",
    "id": "NFawqLuEVykc"
   },
   "outputs": [],
   "source": [
    "my_file =  '10data2.npy'\n",
    "train,test,y_train,y_test,ylabel_train, ylabel_test = load_matrices(my_file)"
   ]
  },
  {
   "cell_type": "markdown",
   "metadata": {
    "colab_type": "text",
    "id": "zV5k6eVlVyki"
   },
   "source": [
    "## The Model"
   ]
  },
  {
   "cell_type": "code",
   "execution_count": 0,
   "metadata": {
    "colab": {},
    "colab_type": "code",
    "id": "ij_Qz8PSVykk"
   },
   "outputs": [],
   "source": [
    "from keras import backend as K\n",
    "from keras.layers import Input,Dense, Activation, Reshape, Dropout\n",
    "from keras.layers.embeddings import Embedding\n",
    "from keras.layers import InputLayer, Input\n",
    "from keras.optimizers import Adam\n",
    "from keras.callbacks import TensorBoard\n",
    "from keras.models import load_model\n",
    "from keras.layers.advanced_activations import LeakyReLU\n",
    "from keras.layers.advanced_activations import PReLU\n",
    "from keras.activations import relu, elu\n",
    "from keras.losses import binary_crossentropy\n",
    "from keras.models import Model, Sequential\n",
    "from keras.callbacks import ModelCheckpoint, CSVLogger"
   ]
  },
  {
   "cell_type": "code",
   "execution_count": 0,
   "metadata": {
    "colab": {},
    "colab_type": "code",
    "id": "I9CxPmAjVykr"
   },
   "outputs": [],
   "source": [
    "import talos as ta\n",
    "import wrangle as wr\n",
    "from talos.metrics.keras_metrics import fmeasure_acc\n",
    "from talos import live"
   ]
  },
  {
   "cell_type": "code",
   "execution_count": 0,
   "metadata": {
    "colab": {},
    "colab_type": "code",
    "id": "1YL4TKOsVylD"
   },
   "outputs": [],
   "source": [
    "\n",
    "#actvation leakyrelu\n",
    "LR= LeakyReLU(0.01)\n",
    "LR.__name__ = 'lrelu'\n"
   ]
  },
  {
   "cell_type": "code",
   "execution_count": 0,
   "metadata": {
    "colab": {},
    "colab_type": "code",
    "id": "1ky4YllwVylo"
   },
   "outputs": [],
   "source": [
    "from keras.callbacks import ModelCheckpoint\n",
    "filepath=\"./logtalos/best5.hdf5\"\n",
    "checkpoint = ModelCheckpoint(filepath, monitor='loss', save_best_only=True, mode='min')\n",
    "callbacks_list = [checkpoint]"
   ]
  },
  {
   "cell_type": "code",
   "execution_count": 0,
   "metadata": {
    "colab": {},
    "colab_type": "code",
    "id": "INeUMoxIVylt"
   },
   "outputs": [],
   "source": [
    "from keras.models import Model, Sequential"
   ]
  },
  {
   "cell_type": "code",
   "execution_count": 0,
   "metadata": {
    "colab": {},
    "colab_type": "code",
    "id": "afAsD1zzVyl0"
   },
   "outputs": [],
   "source": [
    "# first we have to make sure to input data and params into the function\n",
    "# add input parameters to the function\n",
    "def dnn(x_train, ylabel_train, x_val, y_val, params):\n",
    "\n",
    "    input_dim = x_train.shape[1]\n",
    "\n",
    "    input_img = Input(shape=(input_dim,))\n",
    "    \n",
    "    first_neuron=params['first_neuron']\n",
    "    second_neuron=params['second_neuron']\n",
    "    third_neuron=params['third_neuron']\n",
    "    batch_size=params['batch_size']\n",
    "    kernel_initial=params['kernel_initializer']\n",
    "    lr=params['lr']\n",
    "    activation=params['activation']\n",
    "    \n",
    "    print('activation=',activation)\n",
    "    \n",
    "    log_file1 = './logtalos/best5/best5.hdf'\n",
    "    checkpoint2 = ModelCheckpoint(log_file1, monitor='acc', save_best_only=True, mode='max')\n",
    "\n",
    "    \n",
    "    log_file2 = './logtalos/best5/best5.csv'\n",
    "\n",
    "    csv_logger2 = CSVLogger(log_file2,separator=',', append=False)\n",
    "    callbacks_list2 = [checkpoint2,csv_logger2]\n",
    "    \n",
    "    ###AE\n",
    "    \n",
    "    # replace the hyperparameter inputs with references to params dictionary \n",
    "    autoencoder = Sequential()\n",
    "    #encoder\n",
    "    \n",
    "    if activation==PReLU: \n",
    "        autoencoder.add(Dense(first_neuron, input_shape=(input_dim,), kernel_initializer=kernel_initial))\n",
    "        autoencoder.add(PReLU())\n",
    "        autoencoder.add(Dense(second_neuron, kernel_initializer=kernel_initial))\n",
    "        autoencoder.add(PReLU())\n",
    "        autoencoder.add(Dense(third_neuron, kernel_initializer=kernel_initial))\n",
    "        autoencoder.add(PReLU())\n",
    "                   \n",
    "        #decoder\n",
    "        #model.add(Dense(8, activation=params['activation']))\n",
    "        autoencoder.add(Dense(second_neuron, kernel_initializer=kernel_initial))\n",
    "        autoencoder.add(PReLU())\n",
    "        autoencoder.add(Dense(first_neuron, kernel_initializer=kernel_initial))\n",
    "        autoencoder.add(PReLU())\n",
    "        autoencoder.add(Dense(input_dim, activation='sigmoid', kernel_initializer=kernel_initial))\n",
    "        \n",
    "    else:\n",
    "        autoencoder.add(Dense(first_neuron, input_shape=(input_dim,), activation=activation, kernel_initializer=kernel_initial))\n",
    "        autoencoder.add(Dense(second_neuron, activation=activation, kernel_initializer=kernel_initial))\n",
    "        autoencoder.add(Dense(third_neuron, activation=activation, kernel_initializer=kernel_initial))\n",
    "        #decoder\n",
    "        #model.add(Dense(8, activation=params['activation']))\n",
    "        autoencoder.add(Dense(second_neuron, activation=activation, kernel_initializer=kernel_initial))\n",
    "        autoencoder.add(Dense(first_neuron, activation=activation, kernel_initializer=kernel_initial))\n",
    "        autoencoder.add(Dense(input_dim, activation='sigmoid', kernel_initializer=kernel_initial))\n",
    "    \n",
    "    #model = multi_gpu_model(model, gpus=1)\n",
    "    autoencoder.summary()\n",
    "    print(input_dim)\n",
    "    \n",
    "    input_img = Input(shape=(input_dim,))\n",
    "    encoder_layer1 = autoencoder.layers[0]\n",
    "    encoder_layer2 = autoencoder.layers[1]\n",
    "    encoder_layer3 = autoencoder.layers[2]\n",
    "    encoder = Model(input_img, encoder_layer3(encoder_layer2(encoder_layer1(input_img))))\n",
    "    \n",
    "    #encoder_layer1 = autoencoder.layers[0]\n",
    "    #encoder_layer2 = autoencoder.layers[1]\n",
    "    #encoder_layer3 = autoencoder.layers[2]\n",
    "    #encoder = Model(input_img, encoder_layer3(encoder_layer2(encoder_layer1(input_img))))\n",
    "    encoder.summary()\n",
    "\n",
    "    \n",
    "    autoencoder.compile(loss='mse', optimizer='adam', metrics=['acc'])\n",
    "    #model.compile(loss=params['losses'],\n",
    "    #              optimizer=params['optimizer'](),\n",
    "    #              metrics=['acc', fmeasure_acc])\n",
    "    \n",
    "   \n",
    "\n",
    "    \n",
    "    history=autoencoder.fit(x,x,\n",
    "                             epochs=params['epochs'],\n",
    "                             batch_size=batch_size,\n",
    "                              #shuffle=True,\n",
    "                              #validation_split=0,\n",
    "                              callbacks=callbacks_list,                    \n",
    "                             #callbacks=[early_stopping])\n",
    "                              validation_data=(test,test),\n",
    "                              verbose=1)\n",
    "  \n",
    "\n",
    "    num_classes=15\n",
    "    out2 = Dense(num_classes, activation='softmax',kernel_initializer=kernel_initial)(encoder.output)\n",
    "    newmodel = Model(encoder.input,out2)\n",
    "    \n",
    "   \n",
    "    newmodel.compile(loss='categorical_crossentropy', \n",
    "                     #optimizer='adam', \n",
    "                     optimizer= Adam(lr=lr, beta_1=0.9, beta_2=0.999, epsilon=1e-08,decay=0.0, amsgrad=False),\n",
    "                     metrics=['acc']) \n",
    "    newmodel.summary()\n",
    "\n",
    "\n",
    "    history2a=newmodel.fit(x, y,\n",
    "                           epochs=params['epochs2'],\n",
    "                           batch_size=batch_size,\n",
    "                           #validation_split=0,\n",
    "                           callbacks=callbacks_list2,\n",
    "                           #callbacks=[early_stopping],\n",
    "                           validation_data=(test,ylabel_test),\n",
    "                           verbose=1)\n",
    "\n",
    "    \n",
    "    del encoder\n",
    "    del autoencoder\n",
    "    #del dnn_model\n",
    "    \n",
    "    tf.reset_default_graph()\n",
    "    \n",
    "    return history2a, newmodel #, encoder\n",
    "    "
   ]
  },
  {
   "cell_type": "code",
   "execution_count": 0,
   "metadata": {
    "colab": {},
    "colab_type": "code",
    "id": "KEVwjnAzVyl5"
   },
   "outputs": [],
   "source": [
    "# then we can go ahead and set the parameter space\n",
    "p = {'first_neuron':[60],\n",
    "     'second_neuron':[30],\n",
    "     'third_neuron':[25],   \n",
    "     'batch_size': [256],\n",
    "     'epochs': [20],\n",
    "     'epochs2': [200],\n",
    "     'dropout': [0],\n",
    "     'kernel_initializer': ['he_normal'],\n",
    "     'optimizer': [Adam],\n",
    "     'lr':[0.001],\n",
    "     'activation':[relu]}"
   ]
  },
  {
   "cell_type": "code",
   "execution_count": 0,
   "metadata": {
    "colab": {},
    "colab_type": "code",
    "id": "hIOehIFdVymC"
   },
   "outputs": [],
   "source": [
    "import tensorflow as tf\n",
    "from keras.backend.tensorflow_backend import set_session, clear_session\n",
    "\n",
    "config = tf.ConfigProto(allow_soft_placement=True)\n",
    "config.gpu_options.allow_growth = True#True  # dynamically grow the memory used on the GPU\n",
    "sess = tf.Session(config=config)\n",
    "set_session(sess)  # set this TensorFlow session as the default session for Keras"
   ]
  },
  {
   "cell_type": "code",
   "execution_count": 0,
   "metadata": {
    "colab": {},
    "colab_type": "code",
    "id": "FSv_kvySVymG"
   },
   "outputs": [],
   "source": [
    "x=train\n",
    "y=ylabel_train"
   ]
  },
  {
   "cell_type": "code",
   "execution_count": 56,
   "metadata": {
    "colab": {
     "base_uri": "https://localhost:8080/",
     "height": 36
    },
    "colab_type": "code",
    "executionInfo": {
     "elapsed": 48927,
     "status": "ok",
     "timestamp": 1584542320657,
     "user": {
      "displayName": "yesi kunang",
      "photoUrl": "",
      "userId": "04863916017268223052"
     },
     "user_tz": -420
    },
    "id": "UBSAi0ZqVymK",
    "outputId": "bc2ac5e6-51e6-4f51-d568-096181f58123"
   },
   "outputs": [
    {
     "data": {
      "text/plain": [
       "(1619315, 80)"
      ]
     },
     "execution_count": 56,
     "metadata": {
      "tags": []
     },
     "output_type": "execute_result"
    }
   ],
   "source": [
    "np.shape(x)"
   ]
  },
  {
   "cell_type": "code",
   "execution_count": 57,
   "metadata": {
    "colab": {
     "base_uri": "https://localhost:8080/",
     "height": 36
    },
    "colab_type": "code",
    "executionInfo": {
     "elapsed": 48921,
     "status": "ok",
     "timestamp": 1584542320657,
     "user": {
      "displayName": "yesi kunang",
      "photoUrl": "",
      "userId": "04863916017268223052"
     },
     "user_tz": -420
    },
    "id": "VNOwe_4OVymO",
    "outputId": "e6959052-20b0-4e97-dc30-c37bb54e55be"
   },
   "outputs": [
    {
     "data": {
      "text/plain": [
       "(1619315, 15)"
      ]
     },
     "execution_count": 57,
     "metadata": {
      "tags": []
     },
     "output_type": "execute_result"
    }
   ],
   "source": [
    "np.shape(y)"
   ]
  },
  {
   "cell_type": "code",
   "execution_count": 58,
   "metadata": {
    "colab": {
     "base_uri": "https://localhost:8080/",
     "height": 1000
    },
    "colab_type": "code",
    "executionInfo": {
     "elapsed": 4850419,
     "status": "ok",
     "timestamp": 1584547122161,
     "user": {
      "displayName": "yesi kunang",
      "photoUrl": "",
      "userId": "04863916017268223052"
     },
     "user_tz": -420
    },
    "id": "MVKTmkyeVymU",
    "outputId": "ebfc8dfa-352d-4712-bb8d-f3bb33f0b385"
   },
   "outputs": [
    {
     "name": "stderr",
     "output_type": "stream",
     "text": [
      "\n",
      "  0%|          | 0/1 [00:00<?, ?it/s]\u001b[A"
     ]
    },
    {
     "name": "stdout",
     "output_type": "stream",
     "text": [
      "activation= <function relu at 0x7f3f916fe730>\n",
      "Model: \"sequential_2\"\n",
      "_________________________________________________________________\n",
      "Layer (type)                 Output Shape              Param #   \n",
      "=================================================================\n",
      "dense_8 (Dense)              (None, 60)                4860      \n",
      "_________________________________________________________________\n",
      "dense_9 (Dense)              (None, 30)                1830      \n",
      "_________________________________________________________________\n",
      "dense_10 (Dense)             (None, 25)                775       \n",
      "_________________________________________________________________\n",
      "dense_11 (Dense)             (None, 30)                780       \n",
      "_________________________________________________________________\n",
      "dense_12 (Dense)             (None, 60)                1860      \n",
      "_________________________________________________________________\n",
      "dense_13 (Dense)             (None, 80)                4880      \n",
      "=================================================================\n",
      "Total params: 14,985\n",
      "Trainable params: 14,985\n",
      "Non-trainable params: 0\n",
      "_________________________________________________________________\n",
      "80\n",
      "Model: \"model_3\"\n",
      "_________________________________________________________________\n",
      "Layer (type)                 Output Shape              Param #   \n",
      "=================================================================\n",
      "input_4 (InputLayer)         (None, 80)                0         \n",
      "_________________________________________________________________\n",
      "dense_8 (Dense)              (None, 60)                4860      \n",
      "_________________________________________________________________\n",
      "dense_9 (Dense)              (None, 30)                1830      \n",
      "_________________________________________________________________\n",
      "dense_10 (Dense)             (None, 25)                775       \n",
      "=================================================================\n",
      "Total params: 7,465\n",
      "Trainable params: 7,465\n",
      "Non-trainable params: 0\n",
      "_________________________________________________________________\n",
      "Train on 1619315 samples, validate on 404836 samples\n",
      "Epoch 1/20\n",
      "1619315/1619315 [==============================] - 28s 17us/step - loss: 0.0022 - acc: 0.2359 - val_loss: 3.5127e-04 - val_acc: 0.2260\n",
      "Epoch 2/20\n",
      "1619315/1619315 [==============================] - 28s 17us/step - loss: 2.2596e-04 - acc: 0.2582 - val_loss: 1.5562e-04 - val_acc: 0.2816\n",
      "Epoch 3/20\n",
      "1619315/1619315 [==============================] - 28s 17us/step - loss: 1.3663e-04 - acc: 0.2883 - val_loss: 1.2998e-04 - val_acc: 0.2429\n",
      "Epoch 4/20\n",
      "1619315/1619315 [==============================] - 28s 17us/step - loss: 1.0949e-04 - acc: 0.2063 - val_loss: 1.0503e-04 - val_acc: 0.1812\n",
      "Epoch 5/20\n",
      "1619315/1619315 [==============================] - 28s 17us/step - loss: 1.0065e-04 - acc: 0.1967 - val_loss: 9.8913e-05 - val_acc: 0.2386\n",
      "Epoch 6/20\n",
      "1619315/1619315 [==============================] - 28s 17us/step - loss: 9.5136e-05 - acc: 0.2285 - val_loss: 9.7319e-05 - val_acc: 0.2728\n",
      "Epoch 7/20\n",
      "1619315/1619315 [==============================] - 28s 18us/step - loss: 9.3126e-05 - acc: 0.2618 - val_loss: 9.0376e-05 - val_acc: 0.2776\n",
      "Epoch 8/20\n",
      "1619315/1619315 [==============================] - 28s 17us/step - loss: 8.9982e-05 - acc: 0.2945 - val_loss: 8.9412e-05 - val_acc: 0.3125\n",
      "Epoch 9/20\n",
      "1619315/1619315 [==============================] - 28s 17us/step - loss: 8.7902e-05 - acc: 0.3025 - val_loss: 8.8467e-05 - val_acc: 0.2979\n",
      "Epoch 10/20\n",
      "1619315/1619315 [==============================] - 28s 17us/step - loss: 8.3776e-05 - acc: 0.3127 - val_loss: 8.2420e-05 - val_acc: 0.3366\n",
      "Epoch 11/20\n",
      "1619315/1619315 [==============================] - 28s 17us/step - loss: 8.0564e-05 - acc: 0.3162 - val_loss: 8.2684e-05 - val_acc: 0.3315\n",
      "Epoch 12/20\n",
      "1619315/1619315 [==============================] - 28s 17us/step - loss: 8.0041e-05 - acc: 0.3326 - val_loss: 8.1366e-05 - val_acc: 0.3556\n",
      "Epoch 13/20\n",
      "1619315/1619315 [==============================] - 28s 17us/step - loss: 7.9647e-05 - acc: 0.3412 - val_loss: 8.2767e-05 - val_acc: 0.4664\n",
      "Epoch 14/20\n",
      "1619315/1619315 [==============================] - 28s 17us/step - loss: 7.9447e-05 - acc: 0.3418 - val_loss: 8.3737e-05 - val_acc: 0.3772\n",
      "Epoch 15/20\n",
      "1619315/1619315 [==============================] - 28s 17us/step - loss: 7.6749e-05 - acc: 0.3536 - val_loss: 7.8343e-05 - val_acc: 0.3658\n",
      "Epoch 16/20\n",
      "1619315/1619315 [==============================] - 28s 17us/step - loss: 7.4403e-05 - acc: 0.3650 - val_loss: 4.5594e-05 - val_acc: 0.3369\n",
      "Epoch 17/20\n",
      "1619315/1619315 [==============================] - 28s 17us/step - loss: 4.1077e-05 - acc: 0.4088 - val_loss: 3.9553e-05 - val_acc: 0.5105\n",
      "Epoch 18/20\n",
      "1619315/1619315 [==============================] - 28s 17us/step - loss: 3.9193e-05 - acc: 0.3978 - val_loss: 4.1049e-05 - val_acc: 0.3389\n",
      "Epoch 19/20\n",
      "1619315/1619315 [==============================] - 28s 17us/step - loss: 3.9730e-05 - acc: 0.3977 - val_loss: 3.9234e-05 - val_acc: 0.4639\n",
      "Epoch 20/20\n",
      "1619315/1619315 [==============================] - 28s 17us/step - loss: 3.8724e-05 - acc: 0.3913 - val_loss: 3.9012e-05 - val_acc: 0.3494\n",
      "Model: \"model_4\"\n",
      "_________________________________________________________________\n",
      "Layer (type)                 Output Shape              Param #   \n",
      "=================================================================\n",
      "input_4 (InputLayer)         (None, 80)                0         \n",
      "_________________________________________________________________\n",
      "dense_8 (Dense)              (None, 60)                4860      \n",
      "_________________________________________________________________\n",
      "dense_9 (Dense)              (None, 30)                1830      \n",
      "_________________________________________________________________\n",
      "dense_10 (Dense)             (None, 25)                775       \n",
      "_________________________________________________________________\n",
      "dense_14 (Dense)             (None, 15)                390       \n",
      "=================================================================\n",
      "Total params: 7,855\n",
      "Trainable params: 7,855\n",
      "Non-trainable params: 0\n",
      "_________________________________________________________________\n",
      "Train on 1619315 samples, validate on 404836 samples\n",
      "Epoch 1/200\n",
      "1619315/1619315 [==============================] - 21s 13us/step - loss: 0.1874 - acc: 0.9393 - val_loss: 0.1370 - val_acc: 0.9534\n",
      "Epoch 2/200\n",
      "1619315/1619315 [==============================] - 21s 13us/step - loss: 0.1381 - acc: 0.9525 - val_loss: 0.1345 - val_acc: 0.9542\n",
      "Epoch 3/200\n",
      "1619315/1619315 [==============================] - 21s 13us/step - loss: 0.1355 - acc: 0.9534 - val_loss: 0.1367 - val_acc: 0.9539\n",
      "Epoch 4/200\n",
      "1619315/1619315 [==============================] - 21s 13us/step - loss: 0.1341 - acc: 0.9537 - val_loss: 0.1332 - val_acc: 0.9542\n",
      "Epoch 5/200\n",
      "1619315/1619315 [==============================] - 21s 13us/step - loss: 0.1330 - acc: 0.9540 - val_loss: 0.1331 - val_acc: 0.9492\n",
      "Epoch 6/200\n",
      "1619315/1619315 [==============================] - 21s 13us/step - loss: 0.1322 - acc: 0.9544 - val_loss: 0.1301 - val_acc: 0.9557\n",
      "Epoch 7/200\n",
      "1619315/1619315 [==============================] - 21s 13us/step - loss: 0.1316 - acc: 0.9545 - val_loss: 0.1302 - val_acc: 0.9550\n",
      "Epoch 8/200\n",
      "1619315/1619315 [==============================] - 21s 13us/step - loss: 0.1311 - acc: 0.9548 - val_loss: 0.1292 - val_acc: 0.9553\n",
      "Epoch 9/200\n",
      "1619315/1619315 [==============================] - 21s 13us/step - loss: 0.1306 - acc: 0.9549 - val_loss: 0.1288 - val_acc: 0.9566\n",
      "Epoch 10/200\n",
      "1619315/1619315 [==============================] - 21s 13us/step - loss: 0.1303 - acc: 0.9550 - val_loss: 0.1286 - val_acc: 0.9553\n",
      "Epoch 11/200\n",
      "1619315/1619315 [==============================] - 21s 13us/step - loss: 0.1299 - acc: 0.9551 - val_loss: 0.1286 - val_acc: 0.9551\n",
      "Epoch 12/200\n",
      "1619315/1619315 [==============================] - 21s 13us/step - loss: 0.1290 - acc: 0.9551 - val_loss: 0.1271 - val_acc: 0.9559\n",
      "Epoch 13/200\n",
      "1619315/1619315 [==============================] - 21s 13us/step - loss: 0.1285 - acc: 0.9553 - val_loss: 0.1284 - val_acc: 0.9554\n",
      "Epoch 14/200\n",
      "1619315/1619315 [==============================] - 21s 13us/step - loss: 0.1283 - acc: 0.9554 - val_loss: 0.1294 - val_acc: 0.9551\n",
      "Epoch 15/200\n",
      "1619315/1619315 [==============================] - 21s 13us/step - loss: 0.1282 - acc: 0.9555 - val_loss: 0.1277 - val_acc: 0.9554\n",
      "Epoch 16/200\n",
      "1619315/1619315 [==============================] - 21s 13us/step - loss: 0.1279 - acc: 0.9555 - val_loss: 0.1267 - val_acc: 0.9555\n",
      "Epoch 17/200\n",
      "1619315/1619315 [==============================] - 21s 13us/step - loss: 0.1276 - acc: 0.9557 - val_loss: 0.1261 - val_acc: 0.9564\n",
      "Epoch 18/200\n",
      "1619315/1619315 [==============================] - 21s 13us/step - loss: 0.1274 - acc: 0.9558 - val_loss: 0.1258 - val_acc: 0.9564\n",
      "Epoch 19/200\n",
      "1619315/1619315 [==============================] - 21s 13us/step - loss: 0.1271 - acc: 0.9558 - val_loss: 0.1268 - val_acc: 0.9566\n",
      "Epoch 20/200\n",
      "1619315/1619315 [==============================] - 21s 13us/step - loss: 0.1269 - acc: 0.9559 - val_loss: 0.1266 - val_acc: 0.9560\n",
      "Epoch 21/200\n",
      "1619315/1619315 [==============================] - 21s 13us/step - loss: 0.1267 - acc: 0.9560 - val_loss: 0.1263 - val_acc: 0.9567\n",
      "Epoch 22/200\n",
      "1619315/1619315 [==============================] - 21s 13us/step - loss: 0.1264 - acc: 0.9560 - val_loss: 0.1253 - val_acc: 0.9564\n",
      "Epoch 23/200\n",
      "1619315/1619315 [==============================] - 21s 13us/step - loss: 0.1263 - acc: 0.9561 - val_loss: 0.1264 - val_acc: 0.9564\n",
      "Epoch 24/200\n",
      "1619315/1619315 [==============================] - 21s 13us/step - loss: 0.1265 - acc: 0.9560 - val_loss: 0.1264 - val_acc: 0.9563\n",
      "Epoch 25/200\n",
      "1619315/1619315 [==============================] - 21s 13us/step - loss: 0.1263 - acc: 0.9561 - val_loss: 0.1252 - val_acc: 0.9566\n",
      "Epoch 26/200\n",
      "1619315/1619315 [==============================] - 21s 13us/step - loss: 0.1261 - acc: 0.9561 - val_loss: 0.1253 - val_acc: 0.9565\n",
      "Epoch 27/200\n",
      "1619315/1619315 [==============================] - 21s 13us/step - loss: 0.1259 - acc: 0.9561 - val_loss: 0.1249 - val_acc: 0.9563\n",
      "Epoch 28/200\n",
      "1619315/1619315 [==============================] - 21s 13us/step - loss: 0.1257 - acc: 0.9562 - val_loss: 0.1241 - val_acc: 0.9569\n",
      "Epoch 29/200\n",
      "1619315/1619315 [==============================] - 21s 13us/step - loss: 0.1256 - acc: 0.9562 - val_loss: 0.1248 - val_acc: 0.9559\n",
      "Epoch 30/200\n",
      "1619315/1619315 [==============================] - 21s 13us/step - loss: 0.1254 - acc: 0.9562 - val_loss: 0.1257 - val_acc: 0.9560\n",
      "Epoch 31/200\n",
      "1619315/1619315 [==============================] - 21s 13us/step - loss: 0.1253 - acc: 0.9562 - val_loss: 0.1245 - val_acc: 0.9568\n",
      "Epoch 32/200\n",
      "1619315/1619315 [==============================] - 21s 13us/step - loss: 0.1249 - acc: 0.9564 - val_loss: 0.1239 - val_acc: 0.9568\n",
      "Epoch 33/200\n",
      "1619315/1619315 [==============================] - 21s 13us/step - loss: 0.1246 - acc: 0.9565 - val_loss: 0.1249 - val_acc: 0.9565\n",
      "Epoch 34/200\n",
      "1619315/1619315 [==============================] - 21s 13us/step - loss: 0.1250 - acc: 0.9562 - val_loss: 0.1239 - val_acc: 0.9570\n",
      "Epoch 35/200\n",
      "1619315/1619315 [==============================] - 21s 13us/step - loss: 0.1250 - acc: 0.9563 - val_loss: 0.1247 - val_acc: 0.9565\n",
      "Epoch 36/200\n",
      "1619315/1619315 [==============================] - 21s 13us/step - loss: 0.1251 - acc: 0.9562 - val_loss: 0.1248 - val_acc: 0.9566\n",
      "Epoch 37/200\n",
      "1619315/1619315 [==============================] - 21s 13us/step - loss: 0.1250 - acc: 0.9563 - val_loss: 0.1239 - val_acc: 0.9567\n",
      "Epoch 38/200\n",
      "1619315/1619315 [==============================] - 21s 13us/step - loss: 0.1248 - acc: 0.9564 - val_loss: 0.1239 - val_acc: 0.9569\n",
      "Epoch 39/200\n",
      "1619315/1619315 [==============================] - 21s 13us/step - loss: 0.1246 - acc: 0.9563 - val_loss: 0.1243 - val_acc: 0.9565\n",
      "Epoch 40/200\n",
      "1619315/1619315 [==============================] - 21s 13us/step - loss: 0.1243 - acc: 0.9565 - val_loss: 0.1236 - val_acc: 0.9567\n",
      "Epoch 41/200\n",
      "1619315/1619315 [==============================] - 21s 13us/step - loss: 0.1241 - acc: 0.9565 - val_loss: 0.1225 - val_acc: 0.9572\n",
      "Epoch 42/200\n",
      "1619315/1619315 [==============================] - 21s 13us/step - loss: 0.1240 - acc: 0.9565 - val_loss: 0.1229 - val_acc: 0.9571\n",
      "Epoch 43/200\n",
      "1619315/1619315 [==============================] - 21s 13us/step - loss: 0.1237 - acc: 0.9566 - val_loss: 0.1227 - val_acc: 0.9572\n",
      "Epoch 44/200\n",
      "1619315/1619315 [==============================] - 21s 13us/step - loss: 0.1240 - acc: 0.9564 - val_loss: 0.1234 - val_acc: 0.9565\n",
      "Epoch 45/200\n",
      "1619315/1619315 [==============================] - 21s 13us/step - loss: 0.1240 - acc: 0.9565 - val_loss: 0.1223 - val_acc: 0.9569\n",
      "Epoch 46/200\n",
      "1619315/1619315 [==============================] - 21s 13us/step - loss: 0.1235 - acc: 0.9566 - val_loss: 0.1231 - val_acc: 0.9568\n",
      "Epoch 47/200\n",
      "1619315/1619315 [==============================] - 21s 13us/step - loss: 0.1233 - acc: 0.9566 - val_loss: 0.1240 - val_acc: 0.9569\n",
      "Epoch 48/200\n",
      "1619315/1619315 [==============================] - 21s 13us/step - loss: 0.1233 - acc: 0.9567 - val_loss: 0.1228 - val_acc: 0.9566\n",
      "Epoch 49/200\n",
      "1619315/1619315 [==============================] - 21s 13us/step - loss: 0.1236 - acc: 0.9566 - val_loss: 0.1240 - val_acc: 0.9568\n",
      "Epoch 50/200\n",
      "1619315/1619315 [==============================] - 21s 13us/step - loss: 0.1234 - acc: 0.9566 - val_loss: 0.1228 - val_acc: 0.9569\n",
      "Epoch 51/200\n",
      "1619315/1619315 [==============================] - 21s 13us/step - loss: 0.1240 - acc: 0.9564 - val_loss: 0.1232 - val_acc: 0.9568\n",
      "Epoch 52/200\n",
      "1619315/1619315 [==============================] - 21s 13us/step - loss: 0.1235 - acc: 0.9566 - val_loss: 0.1238 - val_acc: 0.9566\n",
      "Epoch 53/200\n",
      "1619315/1619315 [==============================] - 21s 13us/step - loss: 0.1234 - acc: 0.9566 - val_loss: 0.1222 - val_acc: 0.9570\n",
      "Epoch 54/200\n",
      "1619315/1619315 [==============================] - 21s 13us/step - loss: 0.1231 - acc: 0.9566 - val_loss: 0.1226 - val_acc: 0.9572\n",
      "Epoch 55/200\n",
      "1619315/1619315 [==============================] - 21s 13us/step - loss: 0.1233 - acc: 0.9566 - val_loss: 0.1234 - val_acc: 0.9568\n",
      "Epoch 56/200\n",
      "1619315/1619315 [==============================] - 21s 13us/step - loss: 0.1231 - acc: 0.9567 - val_loss: 0.1219 - val_acc: 0.9572\n",
      "Epoch 57/200\n",
      "1619315/1619315 [==============================] - 21s 13us/step - loss: 0.1230 - acc: 0.9566 - val_loss: 0.1218 - val_acc: 0.9574\n",
      "Epoch 58/200\n",
      "1619315/1619315 [==============================] - 21s 13us/step - loss: 0.1230 - acc: 0.9567 - val_loss: 0.1220 - val_acc: 0.9571\n",
      "Epoch 59/200\n",
      "1619315/1619315 [==============================] - 21s 13us/step - loss: 0.1230 - acc: 0.9567 - val_loss: 0.1230 - val_acc: 0.9569\n",
      "Epoch 60/200\n",
      "1619315/1619315 [==============================] - 22s 13us/step - loss: 0.1231 - acc: 0.9567 - val_loss: 0.1227 - val_acc: 0.9568\n",
      "Epoch 61/200\n",
      "1619315/1619315 [==============================] - 22s 13us/step - loss: 0.1230 - acc: 0.9566 - val_loss: 0.1222 - val_acc: 0.9570\n",
      "Epoch 62/200\n",
      "1619315/1619315 [==============================] - 21s 13us/step - loss: 0.1227 - acc: 0.9567 - val_loss: 0.1215 - val_acc: 0.9572\n",
      "Epoch 63/200\n",
      "1619315/1619315 [==============================] - 21s 13us/step - loss: 0.1227 - acc: 0.9567 - val_loss: 0.1229 - val_acc: 0.9573\n",
      "Epoch 64/200\n",
      "1619315/1619315 [==============================] - 21s 13us/step - loss: 0.1226 - acc: 0.9567 - val_loss: 0.1229 - val_acc: 0.9568\n",
      "Epoch 65/200\n",
      "1619315/1619315 [==============================] - 21s 13us/step - loss: 0.1229 - acc: 0.9566 - val_loss: 0.1211 - val_acc: 0.9573\n",
      "Epoch 66/200\n",
      "1619315/1619315 [==============================] - 21s 13us/step - loss: 0.1229 - acc: 0.9567 - val_loss: 0.1233 - val_acc: 0.9561\n",
      "Epoch 67/200\n",
      "1619315/1619315 [==============================] - 21s 13us/step - loss: 0.1228 - acc: 0.9567 - val_loss: 0.1212 - val_acc: 0.9572\n",
      "Epoch 68/200\n",
      "1619315/1619315 [==============================] - 21s 13us/step - loss: 0.1225 - acc: 0.9568 - val_loss: 0.1237 - val_acc: 0.9567\n",
      "Epoch 69/200\n",
      "1619315/1619315 [==============================] - 22s 13us/step - loss: 0.1226 - acc: 0.9567 - val_loss: 0.1213 - val_acc: 0.9575\n",
      "Epoch 70/200\n",
      "1619315/1619315 [==============================] - 22s 13us/step - loss: 0.1226 - acc: 0.9568 - val_loss: 0.1215 - val_acc: 0.9573\n",
      "Epoch 71/200\n",
      "1619315/1619315 [==============================] - 22s 13us/step - loss: 0.1230 - acc: 0.9567 - val_loss: 0.1229 - val_acc: 0.9570\n",
      "Epoch 72/200\n",
      "1619315/1619315 [==============================] - 22s 13us/step - loss: 0.1226 - acc: 0.9568 - val_loss: 0.1231 - val_acc: 0.9568\n",
      "Epoch 73/200\n",
      "1619315/1619315 [==============================] - 22s 13us/step - loss: 0.1228 - acc: 0.9568 - val_loss: 0.1221 - val_acc: 0.9571\n",
      "Epoch 74/200\n",
      "1619315/1619315 [==============================] - 21s 13us/step - loss: 0.1224 - acc: 0.9568 - val_loss: 0.1216 - val_acc: 0.9572\n",
      "Epoch 75/200\n",
      "1619315/1619315 [==============================] - 22s 14us/step - loss: 0.1223 - acc: 0.9569 - val_loss: 0.1229 - val_acc: 0.9572\n",
      "Epoch 76/200\n",
      "1619315/1619315 [==============================] - 21s 13us/step - loss: 0.1222 - acc: 0.9569 - val_loss: 0.1214 - val_acc: 0.9573\n",
      "Epoch 77/200\n",
      "1619315/1619315 [==============================] - 22s 13us/step - loss: 0.1223 - acc: 0.9569 - val_loss: 0.1214 - val_acc: 0.9571\n",
      "Epoch 78/200\n",
      "1619315/1619315 [==============================] - 22s 13us/step - loss: 0.1224 - acc: 0.9569 - val_loss: 0.1233 - val_acc: 0.9567\n",
      "Epoch 79/200\n",
      "1619315/1619315 [==============================] - 21s 13us/step - loss: 0.1221 - acc: 0.9569 - val_loss: 0.1217 - val_acc: 0.9575\n",
      "Epoch 80/200\n",
      "1619315/1619315 [==============================] - 21s 13us/step - loss: 0.1221 - acc: 0.9569 - val_loss: 0.1216 - val_acc: 0.9574\n",
      "Epoch 81/200\n",
      "1619315/1619315 [==============================] - 21s 13us/step - loss: 0.1219 - acc: 0.9570 - val_loss: 0.1214 - val_acc: 0.9576\n",
      "Epoch 82/200\n",
      "1619315/1619315 [==============================] - 21s 13us/step - loss: 0.1222 - acc: 0.9569 - val_loss: 0.1216 - val_acc: 0.9572\n",
      "Epoch 83/200\n",
      "1619315/1619315 [==============================] - 22s 13us/step - loss: 0.1219 - acc: 0.9570 - val_loss: 0.1211 - val_acc: 0.9574\n",
      "Epoch 84/200\n",
      "1619315/1619315 [==============================] - 21s 13us/step - loss: 0.1226 - acc: 0.9568 - val_loss: 0.1225 - val_acc: 0.9572\n",
      "Epoch 85/200\n",
      "1619315/1619315 [==============================] - 21s 13us/step - loss: 0.1224 - acc: 0.9568 - val_loss: 0.1207 - val_acc: 0.9575\n",
      "Epoch 86/200\n",
      "1619315/1619315 [==============================] - 21s 13us/step - loss: 0.1218 - acc: 0.9571 - val_loss: 0.1221 - val_acc: 0.9567\n",
      "Epoch 87/200\n",
      "1619315/1619315 [==============================] - 21s 13us/step - loss: 0.1218 - acc: 0.9571 - val_loss: 0.1213 - val_acc: 0.9573\n",
      "Epoch 88/200\n",
      "1619315/1619315 [==============================] - 21s 13us/step - loss: 0.1217 - acc: 0.9570 - val_loss: 0.1208 - val_acc: 0.9573\n",
      "Epoch 89/200\n",
      "1619315/1619315 [==============================] - 21s 13us/step - loss: 0.1216 - acc: 0.9570 - val_loss: 0.1207 - val_acc: 0.9574\n",
      "Epoch 90/200\n",
      "1619315/1619315 [==============================] - 21s 13us/step - loss: 0.1218 - acc: 0.9570 - val_loss: 0.1221 - val_acc: 0.9571\n",
      "Epoch 91/200\n",
      "1619315/1619315 [==============================] - 21s 13us/step - loss: 0.1222 - acc: 0.9569 - val_loss: 0.1213 - val_acc: 0.9573\n",
      "Epoch 92/200\n",
      "1619315/1619315 [==============================] - 21s 13us/step - loss: 0.1221 - acc: 0.9570 - val_loss: 0.1212 - val_acc: 0.9574\n",
      "Epoch 93/200\n",
      "1619315/1619315 [==============================] - 21s 13us/step - loss: 0.1217 - acc: 0.9570 - val_loss: 0.1227 - val_acc: 0.9572\n",
      "Epoch 94/200\n",
      "1619315/1619315 [==============================] - 21s 13us/step - loss: 0.1217 - acc: 0.9571 - val_loss: 0.1211 - val_acc: 0.9573\n",
      "Epoch 95/200\n",
      "1619315/1619315 [==============================] - 21s 13us/step - loss: 0.1218 - acc: 0.9571 - val_loss: 0.1209 - val_acc: 0.9573\n",
      "Epoch 96/200\n",
      "1619315/1619315 [==============================] - 22s 13us/step - loss: 0.1215 - acc: 0.9571 - val_loss: 0.1218 - val_acc: 0.9576\n",
      "Epoch 97/200\n",
      "1619315/1619315 [==============================] - 22s 13us/step - loss: 0.1217 - acc: 0.9570 - val_loss: 0.1211 - val_acc: 0.9575\n",
      "Epoch 98/200\n",
      "1619315/1619315 [==============================] - 22s 13us/step - loss: 0.1222 - acc: 0.9570 - val_loss: 0.1214 - val_acc: 0.9574\n",
      "Epoch 99/200\n",
      "1619315/1619315 [==============================] - 22s 13us/step - loss: 0.1218 - acc: 0.9571 - val_loss: 0.1209 - val_acc: 0.9574\n",
      "Epoch 100/200\n",
      "1619315/1619315 [==============================] - 22s 13us/step - loss: 0.1216 - acc: 0.9571 - val_loss: 0.1214 - val_acc: 0.9574\n",
      "Epoch 101/200\n",
      "1619315/1619315 [==============================] - 21s 13us/step - loss: 0.1217 - acc: 0.9571 - val_loss: 0.1228 - val_acc: 0.9572\n",
      "Epoch 102/200\n",
      "1619315/1619315 [==============================] - 22s 13us/step - loss: 0.1220 - acc: 0.9570 - val_loss: 0.1208 - val_acc: 0.9575\n",
      "Epoch 103/200\n",
      "1619315/1619315 [==============================] - 21s 13us/step - loss: 0.1215 - acc: 0.9571 - val_loss: 0.1213 - val_acc: 0.9573\n",
      "Epoch 104/200\n",
      "1619315/1619315 [==============================] - 21s 13us/step - loss: 0.1219 - acc: 0.9570 - val_loss: 0.1218 - val_acc: 0.9570\n",
      "Epoch 105/200\n",
      "1619315/1619315 [==============================] - 21s 13us/step - loss: 0.1215 - acc: 0.9571 - val_loss: 0.1207 - val_acc: 0.9576\n",
      "Epoch 106/200\n",
      "1619315/1619315 [==============================] - 21s 13us/step - loss: 0.1214 - acc: 0.9572 - val_loss: 0.1205 - val_acc: 0.9575\n",
      "Epoch 107/200\n",
      "1619315/1619315 [==============================] - 21s 13us/step - loss: 0.1215 - acc: 0.9571 - val_loss: 0.1216 - val_acc: 0.9574\n",
      "Epoch 108/200\n",
      "1619315/1619315 [==============================] - 21s 13us/step - loss: 0.1219 - acc: 0.9570 - val_loss: 0.1207 - val_acc: 0.9574\n",
      "Epoch 109/200\n",
      "1619315/1619315 [==============================] - 22s 13us/step - loss: 0.1214 - acc: 0.9571 - val_loss: 0.1206 - val_acc: 0.9577\n",
      "Epoch 110/200\n",
      "1619315/1619315 [==============================] - 21s 13us/step - loss: 0.1218 - acc: 0.9570 - val_loss: 0.1208 - val_acc: 0.9572\n",
      "Epoch 111/200\n",
      "1619315/1619315 [==============================] - 21s 13us/step - loss: 0.1214 - acc: 0.9571 - val_loss: 0.1206 - val_acc: 0.9576\n",
      "Epoch 112/200\n",
      "1619315/1619315 [==============================] - 21s 13us/step - loss: 0.1218 - acc: 0.9570 - val_loss: 0.1209 - val_acc: 0.9575\n",
      "Epoch 113/200\n",
      "1619315/1619315 [==============================] - 21s 13us/step - loss: 0.1214 - acc: 0.9571 - val_loss: 0.1211 - val_acc: 0.9574\n",
      "Epoch 114/200\n",
      "1619315/1619315 [==============================] - 21s 13us/step - loss: 0.1216 - acc: 0.9571 - val_loss: 0.1208 - val_acc: 0.9575\n",
      "Epoch 115/200\n",
      "1619315/1619315 [==============================] - 21s 13us/step - loss: 0.1213 - acc: 0.9571 - val_loss: 0.1207 - val_acc: 0.9575\n",
      "Epoch 116/200\n",
      "1619315/1619315 [==============================] - 21s 13us/step - loss: 0.1214 - acc: 0.9572 - val_loss: 0.1205 - val_acc: 0.9575\n",
      "Epoch 117/200\n",
      "1619315/1619315 [==============================] - 21s 13us/step - loss: 0.1213 - acc: 0.9572 - val_loss: 0.1219 - val_acc: 0.9574\n",
      "Epoch 118/200\n",
      "1619315/1619315 [==============================] - 21s 13us/step - loss: 0.1213 - acc: 0.9571 - val_loss: 0.1206 - val_acc: 0.9576\n",
      "Epoch 119/200\n",
      "1619315/1619315 [==============================] - 21s 13us/step - loss: 0.1218 - acc: 0.9570 - val_loss: 0.1207 - val_acc: 0.9573\n",
      "Epoch 120/200\n",
      "1619315/1619315 [==============================] - 21s 13us/step - loss: 0.1212 - acc: 0.9571 - val_loss: 0.1204 - val_acc: 0.9575\n",
      "Epoch 121/200\n",
      "1619315/1619315 [==============================] - 21s 13us/step - loss: 0.1213 - acc: 0.9572 - val_loss: 0.1205 - val_acc: 0.9576\n",
      "Epoch 122/200\n",
      "1619315/1619315 [==============================] - 21s 13us/step - loss: 0.1218 - acc: 0.9571 - val_loss: 0.1215 - val_acc: 0.9573\n",
      "Epoch 123/200\n",
      "1619315/1619315 [==============================] - 21s 13us/step - loss: 0.1217 - acc: 0.9571 - val_loss: 0.1206 - val_acc: 0.9573\n",
      "Epoch 124/200\n",
      "1619315/1619315 [==============================] - 21s 13us/step - loss: 0.1212 - acc: 0.9571 - val_loss: 0.1219 - val_acc: 0.9572\n",
      "Epoch 125/200\n",
      "1619315/1619315 [==============================] - 21s 13us/step - loss: 0.1240 - acc: 0.9570 - val_loss: 0.1206 - val_acc: 0.9575\n",
      "Epoch 126/200\n",
      "1619315/1619315 [==============================] - 21s 13us/step - loss: 0.1211 - acc: 0.9573 - val_loss: 0.1209 - val_acc: 0.9574\n",
      "Epoch 127/200\n",
      "1619315/1619315 [==============================] - 21s 13us/step - loss: 0.1215 - acc: 0.9571 - val_loss: 0.1204 - val_acc: 0.9576\n",
      "Epoch 128/200\n",
      "1619315/1619315 [==============================] - 21s 13us/step - loss: 0.1211 - acc: 0.9572 - val_loss: 0.1207 - val_acc: 0.9578\n",
      "Epoch 129/200\n",
      "1619315/1619315 [==============================] - 21s 13us/step - loss: 0.1212 - acc: 0.9571 - val_loss: 0.1229 - val_acc: 0.9569\n",
      "Epoch 130/200\n",
      "1619315/1619315 [==============================] - 21s 13us/step - loss: 0.1215 - acc: 0.9572 - val_loss: 0.1221 - val_acc: 0.9573\n",
      "Epoch 131/200\n",
      "1619315/1619315 [==============================] - 21s 13us/step - loss: 0.1215 - acc: 0.9571 - val_loss: 0.1204 - val_acc: 0.9576\n",
      "Epoch 132/200\n",
      "1619315/1619315 [==============================] - 21s 13us/step - loss: 0.1214 - acc: 0.9572 - val_loss: 0.1214 - val_acc: 0.9576\n",
      "Epoch 133/200\n",
      "1619315/1619315 [==============================] - 21s 13us/step - loss: 0.1214 - acc: 0.9571 - val_loss: 0.1204 - val_acc: 0.9573\n",
      "Epoch 134/200\n",
      "1619315/1619315 [==============================] - 21s 13us/step - loss: 0.1213 - acc: 0.9571 - val_loss: 0.1208 - val_acc: 0.9572\n",
      "Epoch 135/200\n",
      "1619315/1619315 [==============================] - 21s 13us/step - loss: 0.1212 - acc: 0.9571 - val_loss: 0.1228 - val_acc: 0.9572\n",
      "Epoch 136/200\n",
      "1619315/1619315 [==============================] - 21s 13us/step - loss: 0.1212 - acc: 0.9572 - val_loss: 0.1204 - val_acc: 0.9575\n",
      "Epoch 137/200\n",
      "1619315/1619315 [==============================] - 21s 13us/step - loss: 0.1212 - acc: 0.9572 - val_loss: 0.1208 - val_acc: 0.9576\n",
      "Epoch 138/200\n",
      "1619315/1619315 [==============================] - 21s 13us/step - loss: 0.1212 - acc: 0.9572 - val_loss: 0.1222 - val_acc: 0.9574\n",
      "Epoch 139/200\n",
      "1619315/1619315 [==============================] - 21s 13us/step - loss: 0.1212 - acc: 0.9571 - val_loss: 0.1209 - val_acc: 0.9577\n",
      "Epoch 140/200\n",
      "1619315/1619315 [==============================] - 21s 13us/step - loss: 0.1210 - acc: 0.9572 - val_loss: 0.1204 - val_acc: 0.9576\n",
      "Epoch 141/200\n",
      "1619315/1619315 [==============================] - 21s 13us/step - loss: 0.1211 - acc: 0.9572 - val_loss: 0.1207 - val_acc: 0.9574\n",
      "Epoch 142/200\n",
      "1619315/1619315 [==============================] - 21s 13us/step - loss: 0.1210 - acc: 0.9573 - val_loss: 0.1214 - val_acc: 0.9570\n",
      "Epoch 143/200\n",
      "1619315/1619315 [==============================] - 21s 13us/step - loss: 0.1214 - acc: 0.9572 - val_loss: 0.1206 - val_acc: 0.9575\n",
      "Epoch 144/200\n",
      "1619315/1619315 [==============================] - 21s 13us/step - loss: 0.1211 - acc: 0.9572 - val_loss: 0.1213 - val_acc: 0.9574\n",
      "Epoch 145/200\n",
      "1619315/1619315 [==============================] - 21s 13us/step - loss: 0.1211 - acc: 0.9572 - val_loss: 0.1210 - val_acc: 0.9571\n",
      "Epoch 146/200\n",
      "1619315/1619315 [==============================] - 21s 13us/step - loss: 0.1211 - acc: 0.9572 - val_loss: 0.1221 - val_acc: 0.9567\n",
      "Epoch 147/200\n",
      "1619315/1619315 [==============================] - 21s 13us/step - loss: 0.1210 - acc: 0.9572 - val_loss: 0.1215 - val_acc: 0.9572\n",
      "Epoch 148/200\n",
      "1619315/1619315 [==============================] - 21s 13us/step - loss: 0.1211 - acc: 0.9572 - val_loss: 0.1203 - val_acc: 0.9576\n",
      "Epoch 149/200\n",
      "1619315/1619315 [==============================] - 21s 13us/step - loss: 0.1210 - acc: 0.9572 - val_loss: 0.1218 - val_acc: 0.9570\n",
      "Epoch 150/200\n",
      "1619315/1619315 [==============================] - 21s 13us/step - loss: 0.1211 - acc: 0.9572 - val_loss: 0.1221 - val_acc: 0.9573\n",
      "Epoch 151/200\n",
      "1619315/1619315 [==============================] - 21s 13us/step - loss: 0.1211 - acc: 0.9572 - val_loss: 0.1204 - val_acc: 0.9578\n",
      "Epoch 152/200\n",
      "1619315/1619315 [==============================] - 21s 13us/step - loss: 0.1210 - acc: 0.9572 - val_loss: 0.1209 - val_acc: 0.9574\n",
      "Epoch 153/200\n",
      "1619315/1619315 [==============================] - 21s 13us/step - loss: 0.1210 - acc: 0.9572 - val_loss: 0.1205 - val_acc: 0.9577\n",
      "Epoch 154/200\n",
      "1619315/1619315 [==============================] - 21s 13us/step - loss: 0.1209 - acc: 0.9573 - val_loss: 0.1202 - val_acc: 0.9577\n",
      "Epoch 155/200\n",
      "1619315/1619315 [==============================] - 21s 13us/step - loss: 0.1209 - acc: 0.9573 - val_loss: 0.1202 - val_acc: 0.9578\n",
      "Epoch 156/200\n",
      "1619315/1619315 [==============================] - 21s 13us/step - loss: 0.1209 - acc: 0.9573 - val_loss: 0.1209 - val_acc: 0.9578\n",
      "Epoch 157/200\n",
      "1619315/1619315 [==============================] - 21s 13us/step - loss: 0.1597 - acc: 0.9549 - val_loss: 0.1201 - val_acc: 0.9578\n",
      "Epoch 158/200\n",
      "1619315/1619315 [==============================] - 21s 13us/step - loss: 0.1210 - acc: 0.9572 - val_loss: 0.1206 - val_acc: 0.9575\n",
      "Epoch 159/200\n",
      "1619315/1619315 [==============================] - 21s 13us/step - loss: 0.1208 - acc: 0.9573 - val_loss: 0.1204 - val_acc: 0.9573\n",
      "Epoch 160/200\n",
      "1619315/1619315 [==============================] - 21s 13us/step - loss: 0.1208 - acc: 0.9573 - val_loss: 0.1211 - val_acc: 0.9578\n",
      "Epoch 161/200\n",
      "1619315/1619315 [==============================] - 21s 13us/step - loss: 0.1212 - acc: 0.9572 - val_loss: 0.1201 - val_acc: 0.9578\n",
      "Epoch 162/200\n",
      "1619315/1619315 [==============================] - 21s 13us/step - loss: 0.1210 - acc: 0.9572 - val_loss: 0.1215 - val_acc: 0.9576\n",
      "Epoch 163/200\n",
      "1619315/1619315 [==============================] - 21s 13us/step - loss: 0.1212 - acc: 0.9572 - val_loss: 0.1208 - val_acc: 0.9577\n",
      "Epoch 164/200\n",
      "1619315/1619315 [==============================] - 21s 13us/step - loss: 0.1208 - acc: 0.9573 - val_loss: 0.1210 - val_acc: 0.9576\n",
      "Epoch 165/200\n",
      "1619315/1619315 [==============================] - 21s 13us/step - loss: 0.1208 - acc: 0.9573 - val_loss: 0.1202 - val_acc: 0.9576\n",
      "Epoch 166/200\n",
      "1619315/1619315 [==============================] - 21s 13us/step - loss: 0.1210 - acc: 0.9572 - val_loss: 0.1201 - val_acc: 0.9576\n",
      "Epoch 167/200\n",
      "1619315/1619315 [==============================] - 21s 13us/step - loss: 0.1208 - acc: 0.9573 - val_loss: 0.1203 - val_acc: 0.9576\n",
      "Epoch 168/200\n",
      "1619315/1619315 [==============================] - 21s 13us/step - loss: 0.1207 - acc: 0.9573 - val_loss: 0.1206 - val_acc: 0.9578\n",
      "Epoch 169/200\n",
      "1619315/1619315 [==============================] - 21s 13us/step - loss: 0.1208 - acc: 0.9573 - val_loss: 0.1210 - val_acc: 0.9575\n",
      "Epoch 170/200\n",
      "1619315/1619315 [==============================] - 21s 13us/step - loss: 0.1208 - acc: 0.9573 - val_loss: 0.1211 - val_acc: 0.9575\n",
      "Epoch 171/200\n",
      "1619315/1619315 [==============================] - 21s 13us/step - loss: 0.1212 - acc: 0.9572 - val_loss: 0.1202 - val_acc: 0.9578\n",
      "Epoch 172/200\n",
      "1619315/1619315 [==============================] - 21s 13us/step - loss: 0.1209 - acc: 0.9573 - val_loss: 0.1208 - val_acc: 0.9578\n",
      "Epoch 173/200\n",
      "1619315/1619315 [==============================] - 21s 13us/step - loss: 0.1208 - acc: 0.9573 - val_loss: 0.1205 - val_acc: 0.9577\n",
      "Epoch 174/200\n",
      "1619315/1619315 [==============================] - 21s 13us/step - loss: 0.1208 - acc: 0.9573 - val_loss: 0.1208 - val_acc: 0.9573\n",
      "Epoch 175/200\n",
      "1619315/1619315 [==============================] - 21s 13us/step - loss: 0.1208 - acc: 0.9573 - val_loss: 0.1208 - val_acc: 0.9576\n",
      "Epoch 176/200\n",
      "1619315/1619315 [==============================] - 21s 13us/step - loss: 0.1207 - acc: 0.9573 - val_loss: 0.1210 - val_acc: 0.9574\n",
      "Epoch 177/200\n",
      "1619315/1619315 [==============================] - 21s 13us/step - loss: 0.1209 - acc: 0.9573 - val_loss: 0.1202 - val_acc: 0.9578\n",
      "Epoch 178/200\n",
      "1619315/1619315 [==============================] - 21s 13us/step - loss: 0.1209 - acc: 0.9573 - val_loss: 0.1207 - val_acc: 0.9576\n",
      "Epoch 179/200\n",
      "1619315/1619315 [==============================] - 21s 13us/step - loss: 0.1209 - acc: 0.9573 - val_loss: 0.1209 - val_acc: 0.9575\n",
      "Epoch 180/200\n",
      "1619315/1619315 [==============================] - 21s 13us/step - loss: 0.1207 - acc: 0.9573 - val_loss: 0.1203 - val_acc: 0.9577\n",
      "Epoch 181/200\n",
      "1619315/1619315 [==============================] - 21s 13us/step - loss: 0.1210 - acc: 0.9572 - val_loss: 0.1209 - val_acc: 0.9575\n",
      "Epoch 182/200\n",
      "1619315/1619315 [==============================] - 21s 13us/step - loss: 0.1209 - acc: 0.9572 - val_loss: 0.1205 - val_acc: 0.9574\n",
      "Epoch 183/200\n",
      "1619315/1619315 [==============================] - 21s 13us/step - loss: 0.1208 - acc: 0.9573 - val_loss: 0.1230 - val_acc: 0.9571\n",
      "Epoch 184/200\n",
      "1619315/1619315 [==============================] - 21s 13us/step - loss: 0.1210 - acc: 0.9573 - val_loss: 0.1205 - val_acc: 0.9578\n",
      "Epoch 185/200\n",
      "1619315/1619315 [==============================] - 21s 13us/step - loss: 0.1213 - acc: 0.9572 - val_loss: 0.1204 - val_acc: 0.9579\n",
      "Epoch 186/200\n",
      "1619315/1619315 [==============================] - 21s 13us/step - loss: 0.1208 - acc: 0.9573 - val_loss: 0.1210 - val_acc: 0.9574\n",
      "Epoch 187/200\n",
      "1619315/1619315 [==============================] - 21s 13us/step - loss: 0.1209 - acc: 0.9573 - val_loss: 0.1207 - val_acc: 0.9576\n",
      "Epoch 188/200\n",
      "1619315/1619315 [==============================] - 21s 13us/step - loss: 0.1207 - acc: 0.9574 - val_loss: 0.1207 - val_acc: 0.9575\n",
      "Epoch 189/200\n",
      "1619315/1619315 [==============================] - 21s 13us/step - loss: 0.1207 - acc: 0.9573 - val_loss: 0.1200 - val_acc: 0.9578\n",
      "Epoch 190/200\n",
      "1619315/1619315 [==============================] - 21s 13us/step - loss: 0.1207 - acc: 0.9573 - val_loss: 0.1210 - val_acc: 0.9571\n",
      "Epoch 191/200\n",
      "1619315/1619315 [==============================] - 21s 13us/step - loss: 0.1208 - acc: 0.9573 - val_loss: 0.1210 - val_acc: 0.9576\n",
      "Epoch 192/200\n",
      "1619315/1619315 [==============================] - 21s 13us/step - loss: 0.1209 - acc: 0.9573 - val_loss: 0.1207 - val_acc: 0.9577\n",
      "Epoch 193/200\n",
      "1619315/1619315 [==============================] - 21s 13us/step - loss: 0.1206 - acc: 0.9574 - val_loss: 0.1205 - val_acc: 0.9576\n",
      "Epoch 194/200\n",
      "1619315/1619315 [==============================] - 21s 13us/step - loss: 0.1208 - acc: 0.9573 - val_loss: 0.1209 - val_acc: 0.9577\n",
      "Epoch 195/200\n",
      "1619315/1619315 [==============================] - 21s 13us/step - loss: 0.1205 - acc: 0.9573 - val_loss: 0.1205 - val_acc: 0.9576\n",
      "Epoch 196/200\n",
      "1619315/1619315 [==============================] - 21s 13us/step - loss: 0.1205 - acc: 0.9573 - val_loss: 0.1218 - val_acc: 0.9576\n",
      "Epoch 197/200\n",
      "1619315/1619315 [==============================] - 21s 13us/step - loss: 0.1209 - acc: 0.9573 - val_loss: 0.1205 - val_acc: 0.9576\n",
      "Epoch 198/200\n",
      "1619315/1619315 [==============================] - 21s 13us/step - loss: 0.1205 - acc: 0.9574 - val_loss: 0.1203 - val_acc: 0.9578\n",
      "Epoch 199/200\n",
      "1619315/1619315 [==============================] - 21s 13us/step - loss: 0.1207 - acc: 0.9574 - val_loss: 0.1208 - val_acc: 0.9576\n",
      "Epoch 200/200\n",
      "1619315/1619315 [==============================] - 21s 13us/step - loss: 0.1205 - acc: 0.9574 - val_loss: 0.1207 - val_acc: 0.9575\n"
     ]
    },
    {
     "name": "stderr",
     "output_type": "stream",
     "text": [
      "\n",
      "100%|██████████| 1/1 [1:19:56<00:00, 4796.77s/it]\u001b[A\n",
      "\u001b[A"
     ]
    },
    {
     "name": "stdout",
     "output_type": "stream",
     "text": [
      "Scan Finished!\n"
     ]
    }
   ],
   "source": [
    "\n",
    "t = ta.Scan(x, y, p, dnn, experiment_no='5')#,grid_downsample=0.05,)\n"
   ]
  },
  {
   "cell_type": "code",
   "execution_count": 59,
   "metadata": {
    "colab": {
     "base_uri": "https://localhost:8080/",
     "height": 36
    },
    "colab_type": "code",
    "executionInfo": {
     "elapsed": 4850413,
     "status": "ok",
     "timestamp": 1584547122166,
     "user": {
      "displayName": "yesi kunang",
      "photoUrl": "",
      "userId": "04863916017268223052"
     },
     "user_tz": -420
    },
    "id": "shsOd-TTVymc",
    "outputId": "9e8a2252-eccf-4cbd-fb0d-e224bd00ec46"
   },
   "outputs": [
    {
     "data": {
      "text/plain": [
       "(1619315, 80)"
      ]
     },
     "execution_count": 59,
     "metadata": {
      "tags": []
     },
     "output_type": "execute_result"
    }
   ],
   "source": [
    "x.shape"
   ]
  },
  {
   "cell_type": "code",
   "execution_count": 60,
   "metadata": {
    "colab": {
     "base_uri": "https://localhost:8080/",
     "height": 118
    },
    "colab_type": "code",
    "executionInfo": {
     "elapsed": 4850409,
     "status": "ok",
     "timestamp": 1584547122167,
     "user": {
      "displayName": "yesi kunang",
      "photoUrl": "",
      "userId": "04863916017268223052"
     },
     "user_tz": -420
    },
    "id": "dw3HbxfhVymg",
    "outputId": "a35c1784-2982-496a-ed7d-b7541b3b0723"
   },
   "outputs": [
    {
     "data": {
      "text/html": [
       "<div>\n",
       "<style scoped>\n",
       "    .dataframe tbody tr th:only-of-type {\n",
       "        vertical-align: middle;\n",
       "    }\n",
       "\n",
       "    .dataframe tbody tr th {\n",
       "        vertical-align: top;\n",
       "    }\n",
       "\n",
       "    .dataframe thead th {\n",
       "        text-align: right;\n",
       "    }\n",
       "</style>\n",
       "<table border=\"1\" class=\"dataframe\">\n",
       "  <thead>\n",
       "    <tr style=\"text-align: right;\">\n",
       "      <th></th>\n",
       "      <th>round_epochs</th>\n",
       "      <th>val_loss</th>\n",
       "      <th>val_acc</th>\n",
       "      <th>loss</th>\n",
       "      <th>acc</th>\n",
       "      <th>first_neuron</th>\n",
       "      <th>second_neuron</th>\n",
       "      <th>third_neuron</th>\n",
       "      <th>batch_size</th>\n",
       "      <th>epochs</th>\n",
       "      <th>epochs2</th>\n",
       "      <th>dropout</th>\n",
       "      <th>kernel_initializer</th>\n",
       "      <th>optimizer</th>\n",
       "      <th>lr</th>\n",
       "      <th>activation</th>\n",
       "    </tr>\n",
       "  </thead>\n",
       "  <tbody>\n",
       "    <tr>\n",
       "      <th>1</th>\n",
       "      <td>200</td>\n",
       "      <td>0.11999300242409687</td>\n",
       "      <td>0.9578742997187841</td>\n",
       "      <td>0.12050415424059185</td>\n",
       "      <td>0.9573696285150988</td>\n",
       "      <td>60</td>\n",
       "      <td>30</td>\n",
       "      <td>25</td>\n",
       "      <td>256</td>\n",
       "      <td>20</td>\n",
       "      <td>200</td>\n",
       "      <td>0</td>\n",
       "      <td>he_normal</td>\n",
       "      <td>&lt;class 'keras.optimizers.Adam'&gt;</td>\n",
       "      <td>0.001</td>\n",
       "      <td>&lt;function relu at 0x7f3f916fe730&gt;</td>\n",
       "    </tr>\n",
       "  </tbody>\n",
       "</table>\n",
       "</div>"
      ],
      "text/plain": [
       "  round_epochs             val_loss  ...     lr                         activation\n",
       "1          200  0.11999300242409687  ...  0.001  <function relu at 0x7f3f916fe730>\n",
       "\n",
       "[1 rows x 16 columns]"
      ]
     },
     "execution_count": 60,
     "metadata": {
      "tags": []
     },
     "output_type": "execute_result"
    }
   ],
   "source": [
    "t.data"
   ]
  },
  {
   "cell_type": "code",
   "execution_count": 0,
   "metadata": {
    "colab": {},
    "colab_type": "code",
    "id": "Ymgi1EK2VynX"
   },
   "outputs": [],
   "source": [
    "from keras.layers.advanced_activations import LeakyReLU\n",
    "from keras.layers.advanced_activations import PReLU\n",
    "#actvation leakyrelu\n",
    "LR= LeakyReLU(0.01)\n",
    "LR.__name__ = 'lrelu'\n",
    "#actvation prelu\n",
    "PR= PReLU()\n",
    "PR.__name__ = 'prelu'"
   ]
  },
  {
   "cell_type": "code",
   "execution_count": 67,
   "metadata": {
    "colab": {
     "base_uri": "https://localhost:8080/",
     "height": 351
    },
    "colab_type": "code",
    "executionInfo": {
     "elapsed": 1619,
     "status": "ok",
     "timestamp": 1584560595836,
     "user": {
      "displayName": "yesi kunang",
      "photoUrl": "",
      "userId": "04863916017268223052"
     },
     "user_tz": -420
    },
    "id": "BBhFGZI1jY8g",
    "outputId": "a849b06e-d021-4b48-8c5b-1efb14f00a31"
   },
   "outputs": [
    {
     "name": "stdout",
     "output_type": "stream",
     "text": [
      "Model: \"model_4\"\n",
      "_________________________________________________________________\n",
      "Layer (type)                 Output Shape              Param #   \n",
      "=================================================================\n",
      "input_4 (InputLayer)         (None, 80)                0         \n",
      "_________________________________________________________________\n",
      "dense_8 (Dense)              (None, 60)                4860      \n",
      "_________________________________________________________________\n",
      "dense_9 (Dense)              (None, 30)                1830      \n",
      "_________________________________________________________________\n",
      "dense_10 (Dense)             (None, 25)                775       \n",
      "_________________________________________________________________\n",
      "dense_14 (Dense)             (None, 15)                390       \n",
      "=================================================================\n",
      "Total params: 7,855\n",
      "Trainable params: 7,855\n",
      "Non-trainable params: 0\n",
      "_________________________________________________________________\n"
     ]
    }
   ],
   "source": [
    "## load model \n",
    "filepath2='./logtalos/best5/best5.hdf'\n",
    "dnn=load_model(filepath2)\n",
    "##karena fungsi aktivasi relu bisa diload\n",
    "dnn.summary()"
   ]
  },
  {
   "cell_type": "code",
   "execution_count": 68,
   "metadata": {
    "colab": {
     "base_uri": "https://localhost:8080/",
     "height": 54
    },
    "colab_type": "code",
    "executionInfo": {
     "elapsed": 7748,
     "status": "ok",
     "timestamp": 1584560620589,
     "user": {
      "displayName": "yesi kunang",
      "photoUrl": "",
      "userId": "04863916017268223052"
     },
     "user_tz": -420
    },
    "id": "j-p4l9OokSoJ",
    "outputId": "7095d7d7-88dc-4897-c309-dffa11aced3a"
   },
   "outputs": [
    {
     "name": "stdout",
     "output_type": "stream",
     "text": [
      "Created model and loaded weights from file\n",
      "acc: 95.78%\n"
     ]
    }
   ],
   "source": [
    "##loading autoencoder untuk data tes\n",
    "# load weights\n",
    "dnn.load_weights(filepath2)\n",
    "# Compile model (required to make predictions)\n",
    "dnn.compile(loss='categorical_crossentropy', optimizer='adam', metrics=['accuracy'])\n",
    "print(\"Created model and loaded weights from file\")\n",
    "scores = dnn.evaluate(test, ylabel_test, verbose=0)\n",
    "print(\"%s: %.2f%%\" % (dnn.metrics_names[1], scores[1]*100))"
   ]
  },
  {
   "cell_type": "code",
   "execution_count": 69,
   "metadata": {
    "colab": {
     "base_uri": "https://localhost:8080/",
     "height": 91
    },
    "colab_type": "code",
    "executionInfo": {
     "elapsed": 31318,
     "status": "ok",
     "timestamp": 1584560660830,
     "user": {
      "displayName": "yesi kunang",
      "photoUrl": "",
      "userId": "04863916017268223052"
     },
     "user_tz": -420
    },
    "id": "uq9mTLMNkWRg",
    "outputId": "27505f30-bad6-45be-ac5e-0c7d73912ebd"
   },
   "outputs": [
    {
     "name": "stdout",
     "output_type": "stream",
     "text": [
      "1619315/1619315 [==============================] - 31s 19us/step\n",
      "loss 0.12003683476555393\n",
      "acc 0.9575789762955692\n",
      "acc: 95.76%\n"
     ]
    }
   ],
   "source": [
    "result_train = dnn.evaluate(train,ylabel_train)\n",
    "for name, value in zip(dnn.metrics_names, result_train):\n",
    "    print(name, value)\n",
    "    \n",
    "print(\"%s: %.2f%%\" % (dnn.metrics_names[1], result_train[1]*100))"
   ]
  },
  {
   "cell_type": "code",
   "execution_count": 0,
   "metadata": {
    "colab": {},
    "colab_type": "code",
    "id": "VrYnkOrzkZg6"
   },
   "outputs": [],
   "source": [
    "##prediksi data Train\n",
    "\n",
    "preds = dnn.predict(train)\n",
    "pred_lbls = np.argmax(preds, axis=1)\n",
    "true_lbls = np.argmax(ylabel_train, axis=1)"
   ]
  },
  {
   "cell_type": "code",
   "execution_count": 0,
   "metadata": {
    "colab": {},
    "colab_type": "code",
    "id": "S5lKKDqwk0WW"
   },
   "outputs": [],
   "source": [
    "import matplotlib.pyplot as plt\n",
    "import itertools\n",
    "from sklearn.metrics import confusion_matrix\n",
    "\n",
    "def plot_confusion_matrix(cm, classes,\n",
    "                          normalize=False,\n",
    "                          title='Confusion matrix',\n",
    "                          cmap=plt.cm.Blues):\n",
    "    \"\"\"\n",
    "    This function prints and plots the confusion matrix.\n",
    "    Normalization can be applied by setting `normalize=True`.\n",
    "    \"\"\"\n",
    "    if normalize:\n",
    "        cm = cm.astype('float') / cm.sum(axis=1)[:, np.newaxis]\n",
    "        print(\"Normalized confusion matrix\")\n",
    "    else:\n",
    "        print('Confusion matrix, without normalization')\n",
    "\n",
    "    print(cm)\n",
    "\n",
    "    plt.imshow(cm, interpolation='nearest', cmap=cmap)\n",
    "    plt.title(title)\n",
    "    plt.colorbar()\n",
    "    tick_marks = np.arange(len(classes))\n",
    "    plt.xticks(tick_marks, classes, rotation=45)\n",
    "    plt.yticks(tick_marks, classes)\n",
    "\n",
    "    fmt = '.2f' if normalize else 'd'\n",
    "    thresh = cm.max() / 2.\n",
    "    for i, j in itertools.product(range(cm.shape[0]), range(cm.shape[1])):\n",
    "        plt.text(j, i, format(cm[i, j], fmt),\n",
    "                 horizontalalignment=\"center\",\n",
    "                 color=\"white\" if cm[i, j] > thresh else \"black\")\n",
    "\n",
    "    plt.tight_layout()\n",
    "    plt.ylabel('True label')\n",
    "    plt.xlabel('Predicted label')"
   ]
  },
  {
   "cell_type": "code",
   "execution_count": 72,
   "metadata": {
    "colab": {
     "base_uri": "https://localhost:8080/",
     "height": 425
    },
    "colab_type": "code",
    "executionInfo": {
     "elapsed": 3581,
     "status": "ok",
     "timestamp": 1584560759187,
     "user": {
      "displayName": "yesi kunang",
      "photoUrl": "",
      "userId": "04863916017268223052"
     },
     "user_tz": -420
    },
    "id": "Ae4LLMbUk5XA",
    "outputId": "b7dd8ed0-86e2-45f1-a3f9-923f082e7536"
   },
   "outputs": [
    {
     "name": "stdout",
     "output_type": "stream",
     "text": [
      "                          precision    recall  f1-score   support\n",
      "\n",
      "                  Benign    0.95539   0.99510   0.97484    803025\n",
      "                     Bot    0.99987   0.99981   0.99984     85842\n",
      "        Brute Force -Web    0.75699   0.70968   0.73257       496\n",
      "        Brute Force -XSS    1.00000   0.48663   0.65468       187\n",
      "        DDOS attack-HOIC    1.00000   1.00000   1.00000    192098\n",
      "    DDOS attack-LOIC-UDP    0.90696   0.96623   0.93566      1362\n",
      "  DDoS attacks-LOIC-HTTP    0.99912   0.99903   0.99908    161447\n",
      "   DoS attacks-GoldenEye    0.99836   0.99968   0.99902     25008\n",
      "        DoS attacks-Hulk    0.99990   0.99978   0.99984    138459\n",
      "DoS attacks-SlowHTTPTest    0.77069   0.50565   0.61065     41974\n",
      "   DoS attacks-Slowloris    0.99548   1.00000   0.99774      6612\n",
      "          FTP-BruteForce    0.71367   0.89128   0.79264     58055\n",
      "           Infilteration    0.74625   0.23164   0.35354     48347\n",
      "           SQL Injection    0.84615   0.46479   0.60000        71\n",
      "          SSH-Bruteforce    0.99991   0.99977   0.99984     56332\n",
      "\n",
      "                accuracy                        0.95758   1619315\n",
      "               macro avg    0.91258   0.81660   0.84333   1619315\n",
      "            weighted avg    0.95378   0.95758   0.95036   1619315\n",
      "\n"
     ]
    }
   ],
   "source": [
    "from sklearn.metrics import classification_report\n",
    "outcomes = ['Benign', 'Bot', 'Brute Force -Web', 'Brute Force -XSS',\n",
    "'DDOS attack-HOIC','DDOS attack-LOIC-UDP','DDoS attacks-LOIC-HTTP',\n",
    "'DoS attacks-GoldenEye','DoS attacks-Hulk','DoS attacks-SlowHTTPTest','DoS attacks-Slowloris',\n",
    "'FTP-BruteForce','Infilteration','SQL Injection','SSH-Bruteforce' ]\n",
    "class_names=outcomes\n",
    "\n",
    "\n",
    "target_names = [\"Class {}\".format(i) for i in range(15)]\n",
    "print(classification_report(true_lbls, pred_lbls, target_names=class_names, digits=5))\n",
    "#print(classification_report(Y_test, y_predict))"
   ]
  },
  {
   "cell_type": "code",
   "execution_count": 73,
   "metadata": {
    "colab": {
     "base_uri": "https://localhost:8080/",
     "height": 1000
    },
    "colab_type": "code",
    "executionInfo": {
     "elapsed": 3994,
     "status": "ok",
     "timestamp": 1584560789702,
     "user": {
      "displayName": "yesi kunang",
      "photoUrl": "",
      "userId": "04863916017268223052"
     },
     "user_tz": -420
    },
    "id": "GBlH49muk9_i",
    "outputId": "1c80fa5d-dd3a-49ed-a4b9-be3be6db79b5"
   },
   "outputs": [
    {
     "name": "stdout",
     "output_type": "stream",
     "text": [
      "Confusion matrix, without normalization\n",
      "[[799090     11      5      0      0      0     62      7      4      1\n",
      "      28      2   3807      3      5]\n",
      " [    16  85826      0      0      0      0      0      0      0      0\n",
      "       0      0      0      0      0]\n",
      " [   122      0    352      0      0      0     20      0      0      0\n",
      "       0      0      0      2      0]\n",
      " [     7      0     78     91      0      0     11      0      0      0\n",
      "       0      0      0      0      0]\n",
      " [     0      0      0      0 192098      0      0      0      0      0\n",
      "       0      0      0      0      0]\n",
      " [     0      0      0      0      0   1316     46      0      0      0\n",
      "       0      0      0      0      0]\n",
      " [    21      0      0      0      0    135 161291      0      0      0\n",
      "       0      0      0      0      0]\n",
      " [     1      0      0      0      0      0      0  25000      6      0\n",
      "       1      0      0      0      0]\n",
      " [     0      0      0      0      0      0      0     31 138428      0\n",
      "       0      0      0      0      0]\n",
      " [     0      0      0      0      0      0      0      0      0  21224\n",
      "       0  20750      0      0      0]\n",
      " [     0      0      0      0      0      0      0      0      0      0\n",
      "    6612      0      0      0      0]\n",
      " [     0      0      0      0      0      0      0      0      0   6312\n",
      "       0  51743      0      0      0]\n",
      " [ 37137      0      3      0      0      0      1      3      2      0\n",
      "       1      0  11199      1      0]\n",
      " [     9      0     27      0      0      0      2      0      0      0\n",
      "       0      0      0     33      0]\n",
      " [     0      0      0      0      0      0      0      0      2      2\n",
      "       0      8      1      0  56319]]\n"
     ]
    },
    {
     "data": {
      "image/png": "[encoded data removed]",
      "text/plain": [
       "<Figure size 720x720 with 2 Axes>"
      ]
     },
     "metadata": {
      "tags": []
     },
     "output_type": "display_data"
    }
   ],
   "source": [
    "#outcomes = ['DoS', 'normal','Probe' ,'R2L', 'U2R']\n",
    "class_names=outcomes\n",
    "\n",
    "\n",
    "results = confusion_matrix(true_lbls, pred_lbls)\n",
    "# Plot non-normalized confusion matrix\n",
    "plt.figure(figsize=(10,10))\n",
    "plot_confusion_matrix(results, classes=class_names,\n",
    "                      title='Confusion matrix')\n",
    "\n",
    "#print(classification_report(y_test, deepprediction, target_names=class_names, digits=5))"
   ]
  },
  {
   "cell_type": "markdown",
   "metadata": {
    "colab_type": "text",
    "id": "Io4ep3zvlGE4"
   },
   "source": [
    "# Data Test"
   ]
  },
  {
   "cell_type": "code",
   "execution_count": 74,
   "metadata": {
    "colab": {
     "base_uri": "https://localhost:8080/",
     "height": 91
    },
    "colab_type": "code",
    "executionInfo": {
     "elapsed": 7992,
     "status": "ok",
     "timestamp": 1584560804851,
     "user": {
      "displayName": "yesi kunang",
      "photoUrl": "",
      "userId": "04863916017268223052"
     },
     "user_tz": -420
    },
    "id": "OQ4aHCtnlML1",
    "outputId": "9c0224b6-a925-4a60-8b1a-987d05883a48"
   },
   "outputs": [
    {
     "name": "stdout",
     "output_type": "stream",
     "text": [
      "404836/404836 [==============================] - 7s 18us/step\n",
      "loss 0.12026550560202744\n",
      "acc 0.9578150164511061\n",
      "acc: 95.78%\n"
     ]
    }
   ],
   "source": [
    "#Data Test\n",
    "result_test = dnn.evaluate(test,ylabel_test)\n",
    "for name, value in zip(dnn.metrics_names, result_test):\n",
    "    print(name, value)\n",
    "    \n",
    "print(\"%s: %.2f%%\" % (dnn.metrics_names[1], result_test[1]*100))"
   ]
  },
  {
   "cell_type": "code",
   "execution_count": 0,
   "metadata": {
    "colab": {},
    "colab_type": "code",
    "id": "nlHZaSAflQIc"
   },
   "outputs": [],
   "source": [
    "##prediksi data Train\n",
    "#y_test=y_test.to_numpy()\n",
    "\n",
    "preds = dnn.predict(test)\n",
    "pred_lbls = np.argmax(preds, axis=1)\n",
    "true_lbls = np.argmax(ylabel_test, axis=1)"
   ]
  },
  {
   "cell_type": "code",
   "execution_count": 76,
   "metadata": {
    "colab": {
     "base_uri": "https://localhost:8080/",
     "height": 1000
    },
    "colab_type": "code",
    "executionInfo": {
     "elapsed": 3503,
     "status": "ok",
     "timestamp": 1584560819793,
     "user": {
      "displayName": "yesi kunang",
      "photoUrl": "",
      "userId": "04863916017268223052"
     },
     "user_tz": -420
    },
    "id": "H2LjgYw7lT7X",
    "outputId": "1500c45d-6562-49cd-dad9-6291554f7854"
   },
   "outputs": [
    {
     "name": "stdout",
     "output_type": "stream",
     "text": [
      "                          precision    recall  f1-score   support\n",
      "\n",
      "                  Benign    0.95622   0.99472   0.97509    201238\n",
      "                     Bot    0.99986   0.99967   0.99977     21479\n",
      "        Brute Force -Web    0.69369   0.66957   0.68142       115\n",
      "        Brute Force -XSS    0.95455   0.48837   0.64615        43\n",
      "        DDOS attack-HOIC    1.00000   1.00000   1.00000     48006\n",
      "    DDOS attack-LOIC-UDP    0.87750   0.95380   0.91406       368\n",
      "  DDoS attacks-LOIC-HTTP    0.99905   0.99853   0.99879     40219\n",
      "   DoS attacks-GoldenEye    0.99804   0.99935   0.99869      6123\n",
      "        DoS attacks-Hulk    0.99983   0.99971   0.99977     34758\n",
      "DoS attacks-SlowHTTPTest    0.77010   0.50992   0.61357     10484\n",
      "   DoS attacks-Slowloris    0.99088   1.00000   0.99542      1630\n",
      "          FTP-BruteForce    0.71445   0.88970   0.79251     14452\n",
      "           Infilteration    0.73203   0.23385   0.35447     11892\n",
      "           SQL Injection    0.85714   0.37500   0.52174        16\n",
      "          SSH-Bruteforce    0.99993   0.99964   0.99979     14013\n",
      "\n",
      "                accuracy                        0.95782    404836\n",
      "               macro avg    0.90289   0.80746   0.83275    404836\n",
      "            weighted avg    0.95382   0.95782   0.95082    404836\n",
      "\n",
      "Confusion matrix, without normalization\n",
      "[[200175      2      7      1      0      0     17      1      3      1\n",
      "      12      0   1018      1      0]\n",
      " [     7  21472      0      0      0      0      0      0      0      0\n",
      "       0      0      0      0      0]\n",
      " [    35      0     77      0      0      0      3      0      0      0\n",
      "       0      0      0      0      0]\n",
      " [     0      0     21     21      0      0      1      0      0      0\n",
      "       0      0      0      0      0]\n",
      " [     0      0      0      0  48006      0      0      0      0      0\n",
      "       0      0      0      0      0]\n",
      " [     1      0      0      0      0    351     16      0      0      0\n",
      "       0      0      0      0      0]\n",
      " [    10      0      0      0      0     49  40160      0      0      0\n",
      "       0      0      0      0      0]\n",
      " [     1      0      0      0      0      0      0   6119      2      0\n",
      "       1      0      0      0      0]\n",
      " [     0      0      0      0      0      0      0     10  34748      0\n",
      "       0      0      0      0      0]\n",
      " [     0      0      0      0      0      0      0      0      0   5346\n",
      "       0   5138      0      0      0]\n",
      " [     0      0      0      0      0      0      0      0      0      0\n",
      "    1630      0      0      0      0]\n",
      " [     0      0      0      0      0      0      0      0      0   1594\n",
      "       0  12858      0      0      0]\n",
      " [  9105      1      0      0      0      0      1      1      0      0\n",
      "       2      0   2781      0      1]\n",
      " [     4      0      6      0      0      0      0      0      0      0\n",
      "       0      0      0      6      0]\n",
      " [     2      0      0      0      0      0      0      0      1      1\n",
      "       0      1      0      0  14008]]\n"
     ]
    },
    {
     "data": {
      "image/png": "[encoded data removed]",
      "text/plain": [
       "<Figure size 720x720 with 2 Axes>"
      ]
     },
     "metadata": {
      "tags": []
     },
     "output_type": "display_data"
    }
   ],
   "source": [
    "target_names = [\"Class {}\".format(i) for i in range(15)]\n",
    "print(classification_report(true_lbls, pred_lbls, target_names=class_names, digits=5))\n",
    "#print(classification_report(Y_test, y_predict))\n",
    "\n",
    "results = confusion_matrix(true_lbls, pred_lbls)\n",
    "# Plot non-normalized confusion matrix\n",
    "plt.figure(figsize=(10,10))\n",
    "plot_confusion_matrix(results, classes=class_names,\n",
    "                      title='Confusion matrix')\n",
    "\n",
    "#print(classification_report(y_test, deepprediction, target_names=class_names, digits=5))"
   ]
  }
 ],
 "metadata": {
  "colab": {
   "collapsed_sections": [],
   "name": "best5hiddenlayer-200epoch.ipynb",
   "provenance": []
  },
  "kernelspec": {
   "display_name": "Python [default]",
   "language": "python",
   "name": "python3"
  },
  "language_info": {
   "codemirror_mode": {
    "name": "ipython",
    "version": 3
   },
   "file_extension": ".py",
   "mimetype": "text/x-python",
   "name": "python",
   "nbconvert_exporter": "python",
   "pygments_lexer": "ipython3",
   "version": "3.6.5"
  }
 },
 "nbformat": 4,
 "nbformat_minor": 1
}
