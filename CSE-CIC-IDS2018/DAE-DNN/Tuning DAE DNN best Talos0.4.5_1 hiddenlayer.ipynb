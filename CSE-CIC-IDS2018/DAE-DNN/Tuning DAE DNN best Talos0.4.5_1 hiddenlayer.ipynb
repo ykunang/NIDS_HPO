{
 "cells": [
  {
   "cell_type": "markdown",
   "metadata": {
    "colab_type": "text",
    "id": "_Tq9Xo-EudiN"
   },
   "source": [
    "# Network Intrusion Detection with Deep Learning"
   ]
  },
  {
   "cell_type": "code",
   "execution_count": 0,
   "metadata": {
    "colab": {},
    "colab_type": "code",
    "id": "KgPdBRqTudiS"
   },
   "outputs": [],
   "source": [
    "import os\n",
    "#os.environ[\"CUDA_DEVICE_ORDER\"]=\"PCI_BUS_ID\"\n",
    "#os.environ[\"CUDA_VISIBLE_DEVICES\"]=\"0,1,2,3\" #model will be trained on GPU 0"
   ]
  },
  {
   "cell_type": "code",
   "execution_count": 0,
   "metadata": {
    "colab": {},
    "colab_type": "code",
    "id": "fM-2muvGudiZ"
   },
   "outputs": [],
   "source": [
    "import pandas as pd\n",
    "import numpy as np\n",
    "from sklearn.preprocessing import MinMaxScaler"
   ]
  },
  {
   "cell_type": "markdown",
   "metadata": {
    "colab_type": "text",
    "id": "f_74tmNKudii"
   },
   "source": [
    "## The Data"
   ]
  },
  {
   "cell_type": "markdown",
   "metadata": {
    "colab_type": "text",
    "id": "oTsn1nxqAw1U"
   },
   "source": [
    "# New Section"
   ]
  },
  {
   "cell_type": "code",
   "execution_count": 0,
   "metadata": {
    "colab": {},
    "colab_type": "code",
    "id": "nt267GE-udik"
   },
   "outputs": [],
   "source": [
    "import numpy as np\n",
    "def load_matrices(file_name):\n",
    "    with open(file_name, 'rb') as f:\n",
    "        A = np.load(f)\n",
    "        B = np.load(f)\n",
    "        C = np.load(f)\n",
    "        D = np.load(f)\n",
    "        E = np.load(f)\n",
    "        F = np.load(f)\n",
    "    return (A,B,C,D,E,F)"
   ]
  },
  {
   "cell_type": "code",
   "execution_count": 0,
   "metadata": {
    "colab": {},
    "colab_type": "code",
    "id": "cspEdnm3udip"
   },
   "outputs": [],
   "source": [
    "my_file =  '10data2.npy'\n",
    "train,test,y_train,y_test,ylabel_train, ylabel_test = load_matrices(my_file)"
   ]
  },
  {
   "cell_type": "markdown",
   "metadata": {
    "colab_type": "text",
    "id": "myU7v-Ziudiv"
   },
   "source": [
    "## The Model"
   ]
  },
  {
   "cell_type": "code",
   "execution_count": 10,
   "metadata": {
    "colab": {
     "base_uri": "https://localhost:8080/",
     "height": 304
    },
    "colab_type": "code",
    "executionInfo": {
     "elapsed": 124185,
     "status": "ok",
     "timestamp": 1583224755080,
     "user": {
      "displayName": "yesi kunang",
      "photoUrl": "",
      "userId": "04863916017268223052"
     },
     "user_tz": -420
    },
    "id": "wIv9zClCudix",
    "outputId": "a8d664e3-aaae-4b78-c416-e7da498fa2a0"
   },
   "outputs": [
    {
     "name": "stderr",
     "output_type": "stream",
     "text": [
      "Using TensorFlow backend.\n",
      "/usr/local/lib/python3.6/dist-packages/tensorflow/python/framework/dtypes.py:526: FutureWarning: Passing (type, 1) or '1type' as a synonym of type is deprecated; in a future version of numpy, it will be understood as (type, (1,)) / '(1,)type'.\n",
      "  _np_qint8 = np.dtype([(\"qint8\", np.int8, 1)])\n",
      "/usr/local/lib/python3.6/dist-packages/tensorflow/python/framework/dtypes.py:527: FutureWarning: Passing (type, 1) or '1type' as a synonym of type is deprecated; in a future version of numpy, it will be understood as (type, (1,)) / '(1,)type'.\n",
      "  _np_quint8 = np.dtype([(\"quint8\", np.uint8, 1)])\n",
      "/usr/local/lib/python3.6/dist-packages/tensorflow/python/framework/dtypes.py:528: FutureWarning: Passing (type, 1) or '1type' as a synonym of type is deprecated; in a future version of numpy, it will be understood as (type, (1,)) / '(1,)type'.\n",
      "  _np_qint16 = np.dtype([(\"qint16\", np.int16, 1)])\n",
      "/usr/local/lib/python3.6/dist-packages/tensorflow/python/framework/dtypes.py:529: FutureWarning: Passing (type, 1) or '1type' as a synonym of type is deprecated; in a future version of numpy, it will be understood as (type, (1,)) / '(1,)type'.\n",
      "  _np_quint16 = np.dtype([(\"quint16\", np.uint16, 1)])\n",
      "/usr/local/lib/python3.6/dist-packages/tensorflow/python/framework/dtypes.py:530: FutureWarning: Passing (type, 1) or '1type' as a synonym of type is deprecated; in a future version of numpy, it will be understood as (type, (1,)) / '(1,)type'.\n",
      "  _np_qint32 = np.dtype([(\"qint32\", np.int32, 1)])\n",
      "/usr/local/lib/python3.6/dist-packages/tensorflow/python/framework/dtypes.py:535: FutureWarning: Passing (type, 1) or '1type' as a synonym of type is deprecated; in a future version of numpy, it will be understood as (type, (1,)) / '(1,)type'.\n",
      "  np_resource = np.dtype([(\"resource\", np.ubyte, 1)])\n"
     ]
    },
    {
     "data": {
      "text/html": [
       "<p style=\"color: red;\">\n",
       "The default version of TensorFlow in Colab will soon switch to TensorFlow 2.x.<br>\n",
       "We recommend you <a href=\"https://www.tensorflow.org/guide/migrate\" target=\"_blank\">upgrade</a> now \n",
       "or ensure your notebook will continue to use TensorFlow 1.x via the <code>%tensorflow_version 1.x</code> magic:\n",
       "<a href=\"https://colab.research.google.com/notebooks/tensorflow_version.ipynb\" target=\"_blank\">more info</a>.</p>\n"
      ],
      "text/plain": [
       "<IPython.core.display.HTML object>"
      ]
     },
     "metadata": {
      "tags": []
     },
     "output_type": "display_data"
    }
   ],
   "source": [
    "from keras import backend as K\n",
    "from keras.callbacks import EarlyStopping\n",
    "from keras.models import Sequential\n",
    "#from keras.layers import Dense, Activation, Merge, Reshape, Dropout\n",
    "from keras.layers import Dense, Activation, Reshape, Dropout\n",
    "from keras.layers.embeddings import Embedding\n",
    "from keras.layers import InputLayer, Input\n",
    "from keras.optimizers import Adam\n",
    "from keras.callbacks import TensorBoard\n",
    "from keras.models import load_model"
   ]
  },
  {
   "cell_type": "code",
   "execution_count": 0,
   "metadata": {
    "colab": {},
    "colab_type": "code",
    "id": "klw8bvfNudi2"
   },
   "outputs": [],
   "source": [
    "import talos as ta\n",
    "import wrangle as wr\n",
    "from talos.metrics.keras_metrics import fmeasure_acc\n",
    "from talos import live\n",
    "\n",
    "from keras.layers import Dropout, Dense\n",
    "\n",
    "# Keras items\n",
    "from keras.activations import relu, elu\n",
    "from keras.losses import binary_crossentropy\n"
   ]
  },
  {
   "cell_type": "code",
   "execution_count": 0,
   "metadata": {
    "colab": {},
    "colab_type": "code",
    "id": "mHTgiejIudi6"
   },
   "outputs": [],
   "source": [
    "from keras.layers import Input, Dense\n",
    "from keras.models import Model, Sequential\n",
    "from keras.optimizers import Adam\n",
    "from keras.layers.advanced_activations import LeakyReLU\n",
    "from keras.layers.advanced_activations import PReLU\n",
    "from keras.activations import elu\n"
   ]
  },
  {
   "cell_type": "code",
   "execution_count": 0,
   "metadata": {
    "colab": {},
    "colab_type": "code",
    "id": "lmEo3rjXudjB"
   },
   "outputs": [],
   "source": [
    "def selu(x):\n",
    "    \"\"\"Scaled Exponential Linear Unit. (Klambauer et al., 2017)\n",
    "    # Arguments\n",
    "        x: A tensor or variable to compute the activation function for.\n",
    "    # References\n",
    "        - [Self-Normalizing Neural Networks](https://arxiv.org/abs/1706.02515)\n",
    "    \"\"\"\n",
    "    alpha = 1.6732632423543772848170429916717\n",
    "    scale = 1.0507009873554804934193349852946\n",
    "    return scale * elu(x, alpha)\n"
   ]
  },
  {
   "cell_type": "code",
   "execution_count": 0,
   "metadata": {
    "colab": {},
    "colab_type": "code",
    "id": "48l2GiaqudjE"
   },
   "outputs": [],
   "source": [
    "#actvation leakyrelu\n",
    "LR= LeakyReLU(0.01)\n",
    "LR.__name__ = 'lrelu'\n",
    "#actvation prelu\n",
    "#PR= PReLU(init='zero', weights=None)\n",
    "#PR.__name__ = 'prelu'"
   ]
  },
  {
   "cell_type": "code",
   "execution_count": 0,
   "metadata": {
    "colab": {},
    "colab_type": "code",
    "id": "sjlst_FGudjM"
   },
   "outputs": [],
   "source": [
    "from keras.callbacks import ModelCheckpoint, CSVLogger"
   ]
  },
  {
   "cell_type": "code",
   "execution_count": 0,
   "metadata": {
    "colab": {},
    "colab_type": "code",
    "id": "zabvFfuyudjP"
   },
   "outputs": [],
   "source": [
    "def log_file_name1(first_neuron,batch_size,kernel_initial,lr,activation):\n",
    "    \n",
    "    if activation==LR:\n",
    "       activation= 'lrelu'\n",
    "    \n",
    "    if activation==PReLU:\n",
    "       activation= 'prelu'\n",
    "    \n",
    "    if activation==relu:\n",
    "       activation= 'relu'\n",
    "    \n",
    "    if activation==elu:\n",
    "       activation= 'elu'\n",
    "    \n",
    "    if activation==selu:\n",
    "       activation= 'selu'\n",
    "\n",
    "    # The dir-name for the TensorBoard log-dir.\n",
    "    s = \"./logtalos/log1layerb/neuron1_{0}-batch{1}-kernelinit_{2}-lr{3}-activ_{4}.hdf\"\n",
    "    log_file = s.format(first_neuron,batch_size,kernel_initial,lr,activation)\n",
    "    return log_file\n",
    "\n",
    "def log_file_name2(first_neuron,batch_size,kernel_initial,lr,activation):\n",
    "    \n",
    "    if activation==LR:\n",
    "       activation= 'lrelu'\n",
    "    \n",
    "    if activation==PReLU:\n",
    "       activation= 'prelu'\n",
    "    \n",
    "    if activation==relu:\n",
    "       activation= 'relu'\n",
    "    \n",
    "    if activation==elu:\n",
    "       activation= 'elu'\n",
    "    \n",
    "    if activation==selu:\n",
    "       activation= 'selu'\n",
    "    \n",
    "    # The dir-name for the TensorBoard log-dir.\n",
    "    s = \"./logtalos/log1layerb/neuron1_{0}-batch{1}-kernelinit_{2}-lr{3}-activ_{4}.csv\"\n",
    "    log_file = s.format(first_neuron,batch_size,kernel_initial,lr,activation)\n",
    "    return log_file\n"
   ]
  },
  {
   "cell_type": "code",
   "execution_count": 0,
   "metadata": {
    "colab": {},
    "colab_type": "code",
    "id": "X5eBMZssudjd"
   },
   "outputs": [],
   "source": [
    "from keras.callbacks import ModelCheckpoint\n",
    "filepath=\"./logtalos/1layertes_b.best.hdf5\"\n",
    "checkpoint = ModelCheckpoint(filepath, monitor='loss', save_best_only=True, mode='min')\n",
    "callbacks_list = [checkpoint]"
   ]
  },
  {
   "cell_type": "code",
   "execution_count": 0,
   "metadata": {
    "colab": {},
    "colab_type": "code",
    "id": "wGBpJAtVudjg"
   },
   "outputs": [],
   "source": [
    "from keras.models import Model, Sequential"
   ]
  },
  {
   "cell_type": "code",
   "execution_count": 0,
   "metadata": {
    "colab": {},
    "colab_type": "code",
    "id": "XCHp8jZRudjj"
   },
   "outputs": [],
   "source": [
    "# first we have to make sure to input data and params into the function\n",
    "# add input parameters to the function\n",
    "def dnn(x_train, ylabel_train, x_val, y_val, params):\n",
    "\n",
    "    input_dim = x_train.shape[1]\n",
    "\n",
    "    input_img = Input(shape=(input_dim,))\n",
    "    \n",
    "    first_neuron=params['first_neuron']\n",
    "    batch_size=params['batch_size']\n",
    "    kernel_initial=params['kernel_initializer']\n",
    "    lr=params['lr']\n",
    "    activation=params['activation']\n",
    "    \n",
    "    print('activation=',activation)\n",
    "    \n",
    "    log_file1 = log_file_name1(first_neuron,batch_size,kernel_initial,lr,activation)\n",
    "    checkpoint2 = ModelCheckpoint(log_file1, monitor='acc', save_best_only=True, mode='max')\n",
    "\n",
    "    \n",
    "    log_file2 = log_file_name2(first_neuron,batch_size,kernel_initial,lr,activation)\n",
    "\n",
    "    csv_logger2 = CSVLogger(log_file2,separator=',', append=False)\n",
    "    callbacks_list2 = [checkpoint2,csv_logger2]\n",
    "    \n",
    "    ###AE\n",
    "    \n",
    "    # replace the hyperparameter inputs with references to params dictionary \n",
    "    autoencoder = Sequential()\n",
    "    #encoder\n",
    "    \n",
    "    if activation==PReLU: \n",
    "        autoencoder.add(Dense(first_neuron, input_shape=(input_dim,), kernel_initializer=kernel_initial))\n",
    "        autoencoder.add(PReLU())\n",
    "        \n",
    "                   \n",
    "        #decoder\n",
    "        #model.add(Dense(8, activation=params['activation']))\n",
    "        autoencoder.add(Dense(input_dim, activation='sigmoid', kernel_initializer=kernel_initial))\n",
    "        \n",
    "    else:\n",
    "        autoencoder.add(Dense(first_neuron, input_shape=(input_dim,), activation=activation, kernel_initializer=kernel_initial))\n",
    "        #decoder\n",
    "        #model.add(Dense(8, activation=params['activation']))\n",
    "        autoencoder.add(Dense(input_dim, activation='sigmoid', kernel_initializer=kernel_initial))\n",
    "    \n",
    "    #model = multi_gpu_model(model, gpus=1)\n",
    "    autoencoder.summary()\n",
    "    print(input_dim)\n",
    "    \n",
    "    input_img = Input(shape=(input_dim,))\n",
    "    encoder_layer1 = autoencoder.layers[0]\n",
    "   \n",
    "    encoder = Model(input_img, encoder_layer1(input_img))\n",
    "    \n",
    "    #encoder_layer1 = autoencoder.layers[0]\n",
    "    #encoder_layer2 = autoencoder.layers[1]\n",
    "    #encoder_layer3 = autoencoder.layers[2]\n",
    "    #encoder = Model(input_img, encoder_layer3(encoder_layer2(encoder_layer1(input_img))))\n",
    "    encoder.summary()\n",
    "\n",
    "    \n",
    "    autoencoder.compile(loss='mse', optimizer='adam', metrics=['acc'])\n",
    "    #model.compile(loss=params['losses'],\n",
    "    #              optimizer=params['optimizer'](),\n",
    "    #              metrics=['acc', fmeasure_acc])\n",
    "    \n",
    "   \n",
    "\n",
    "    \n",
    "    history=autoencoder.fit(x,x,\n",
    "                             epochs=params['epochs'],\n",
    "                             batch_size=batch_size,\n",
    "                              #shuffle=True,\n",
    "                              validation_split=0.2,\n",
    "                              callbacks=callbacks_list,                    \n",
    "                             #callbacks=[early_stopping])\n",
    "                              #validation_data=(test,test),\n",
    "                              verbose=0)\n",
    "  \n",
    "\n",
    "    num_classes=15\n",
    "    out2 = Dense(num_classes, activation='softmax',kernel_initializer=kernel_initial)(encoder.output)\n",
    "    newmodel = Model(encoder.input,out2)\n",
    "    \n",
    "   \n",
    "    newmodel.compile(loss='categorical_crossentropy', \n",
    "                     #optimizer='adam', \n",
    "                     optimizer= Adam(lr=lr, beta_1=0.9, beta_2=0.999, epsilon=1e-08,decay=0.0, amsgrad=False),\n",
    "                     metrics=['acc']) \n",
    "    newmodel.summary()\n",
    "\n",
    "\n",
    "    history2a=newmodel.fit(x, y,\n",
    "                           epochs=params['epochs2'],\n",
    "                           batch_size=batch_size,\n",
    "                           validation_split=0.2,\n",
    "                           callbacks=callbacks_list2,\n",
    "                           #callbacks=[early_stopping],\n",
    "                           #validation_data=(test,y_test),\n",
    "                           verbose=0)\n",
    "\n",
    "    \n",
    "    del encoder\n",
    "    del autoencoder\n",
    "    #del dnn_model\n",
    "    \n",
    "    tf.reset_default_graph()\n",
    "    \n",
    "    return history2a, newmodel #, encoder\n",
    "    "
   ]
  },
  {
   "cell_type": "code",
   "execution_count": 0,
   "metadata": {
    "colab": {},
    "colab_type": "code",
    "id": "vUnZ_ApLudjm"
   },
   "outputs": [],
   "source": [
    "# then we can go ahead and set the parameter space\n",
    "p = {'first_neuron':[60,50, 40,30],\n",
    "     'batch_size': [32,64,256],\n",
    "     'epochs': [20],\n",
    "     'epochs2': [30],\n",
    "     'dropout': [0],\n",
    "     'kernel_initializer': ['lecun_uniform','lecun_normal','he_normal','he_uniform','normal','glorot_uniform','glorot_normal'],\n",
    "     'optimizer': [Adam],\n",
    "     'lr':[0.1,0.01, 0.001,0.0001,0.00001],\n",
    "     'activation':[relu, elu,selu,  LR, PReLU]}"
   ]
  },
  {
   "cell_type": "code",
   "execution_count": 0,
   "metadata": {
    "colab": {},
    "colab_type": "code",
    "id": "uoxzovAIudjs"
   },
   "outputs": [],
   "source": [
    "import tensorflow as tf\n",
    "from keras.backend.tensorflow_backend import set_session, clear_session\n",
    "\n",
    "config = tf.ConfigProto(allow_soft_placement=True)\n",
    "#config.gpu_options.allow_growth = True  # dynamically grow the memory used on the GPU\n",
    "sess = tf.Session(config=config)\n",
    "set_session(sess)  # set this TensorFlow session as the default session for Keras"
   ]
  },
  {
   "cell_type": "code",
   "execution_count": 0,
   "metadata": {
    "colab": {},
    "colab_type": "code",
    "id": "wIFMvuijudjv"
   },
   "outputs": [],
   "source": [
    "x=train\n",
    "y=ylabel_train"
   ]
  },
  {
   "cell_type": "code",
   "execution_count": 28,
   "metadata": {
    "colab": {
     "base_uri": "https://localhost:8080/",
     "height": 34
    },
    "colab_type": "code",
    "executionInfo": {
     "elapsed": 124938,
     "status": "ok",
     "timestamp": 1583224755992,
     "user": {
      "displayName": "yesi kunang",
      "photoUrl": "",
      "userId": "04863916017268223052"
     },
     "user_tz": -420
    },
    "id": "HxjQjoxMudjy",
    "outputId": "57db1020-8dee-4cc1-bf5b-1acfd892000f"
   },
   "outputs": [
    {
     "data": {
      "text/plain": [
       "(1619315, 80)"
      ]
     },
     "execution_count": 28,
     "metadata": {
      "tags": []
     },
     "output_type": "execute_result"
    }
   ],
   "source": [
    "np.shape(x)"
   ]
  },
  {
   "cell_type": "code",
   "execution_count": 29,
   "metadata": {
    "colab": {
     "base_uri": "https://localhost:8080/",
     "height": 34
    },
    "colab_type": "code",
    "executionInfo": {
     "elapsed": 124913,
     "status": "ok",
     "timestamp": 1583224755993,
     "user": {
      "displayName": "yesi kunang",
      "photoUrl": "",
      "userId": "04863916017268223052"
     },
     "user_tz": -420
    },
    "id": "EuWyAYbKudj1",
    "outputId": "7c0ad7e7-2931-4907-a407-0a61ed5b06f0"
   },
   "outputs": [
    {
     "data": {
      "text/plain": [
       "(1619315, 15)"
      ]
     },
     "execution_count": 29,
     "metadata": {
      "tags": []
     },
     "output_type": "execute_result"
    }
   ],
   "source": [
    "np.shape(y)"
   ]
  },
  {
   "cell_type": "code",
   "execution_count": 0,
   "metadata": {
    "colab": {
     "base_uri": "https://localhost:8080/",
     "height": 1000
    },
    "colab_type": "code",
    "id": "HaqMuz-Ludj4",
    "outputId": "b4e88e18-5044-4f26-e246-f56712cf483f"
   },
   "outputs": [
    {
     "name": "stderr",
     "output_type": "stream",
     "text": [
      "\r",
      "  0%|          | 0/33 [00:00<?, ?it/s]"
     ]
    },
    {
     "name": "stdout",
     "output_type": "stream",
     "text": [
      "activation= <function relu at 0x7f667712dd08>\n",
      "WARNING:tensorflow:From /usr/local/lib/python3.6/dist-packages/tensorflow/python/framework/op_def_library.py:263: colocate_with (from tensorflow.python.framework.ops) is deprecated and will be removed in a future version.\n",
      "Instructions for updating:\n",
      "Colocations handled automatically by placer.\n",
      "Model: \"sequential_1\"\n",
      "_________________________________________________________________\n",
      "Layer (type)                 Output Shape              Param #   \n",
      "=================================================================\n",
      "dense_1 (Dense)              (None, 50)                4050      \n",
      "_________________________________________________________________\n",
      "dense_2 (Dense)              (None, 80)                4080      \n",
      "=================================================================\n",
      "Total params: 8,130\n",
      "Trainable params: 8,130\n",
      "Non-trainable params: 0\n",
      "_________________________________________________________________\n",
      "80\n",
      "Model: \"model_1\"\n",
      "_________________________________________________________________\n",
      "Layer (type)                 Output Shape              Param #   \n",
      "=================================================================\n",
      "input_2 (InputLayer)         (None, 80)                0         \n",
      "_________________________________________________________________\n",
      "dense_1 (Dense)              (None, 50)                4050      \n",
      "=================================================================\n",
      "Total params: 4,050\n",
      "Trainable params: 4,050\n",
      "Non-trainable params: 0\n",
      "_________________________________________________________________\n",
      "WARNING:tensorflow:From /usr/local/lib/python3.6/dist-packages/tensorflow/python/ops/math_ops.py:3066: to_int32 (from tensorflow.python.ops.math_ops) is deprecated and will be removed in a future version.\n",
      "Instructions for updating:\n",
      "Use tf.cast instead.\n",
      "Model: \"model_2\"\n",
      "_________________________________________________________________\n",
      "Layer (type)                 Output Shape              Param #   \n",
      "=================================================================\n",
      "input_2 (InputLayer)         (None, 80)                0         \n",
      "_________________________________________________________________\n",
      "dense_1 (Dense)              (None, 50)                4050      \n",
      "_________________________________________________________________\n",
      "dense_3 (Dense)              (None, 15)                765       \n",
      "=================================================================\n",
      "Total params: 4,815\n",
      "Trainable params: 4,815\n",
      "Non-trainable params: 0\n",
      "_________________________________________________________________\n"
     ]
    },
    {
     "name": "stderr",
     "output_type": "stream",
     "text": [
      "\r",
      "  3%|▎         | 1/33 [23:47<12:41:30, 1427.82s/it]"
     ]
    },
    {
     "name": "stdout",
     "output_type": "stream",
     "text": [
      "activation= <function relu at 0x7f667712dd08>\n",
      "Model: \"sequential_1\"\n",
      "_________________________________________________________________\n",
      "Layer (type)                 Output Shape              Param #   \n",
      "=================================================================\n",
      "dense_1 (Dense)              (None, 40)                3240      \n",
      "_________________________________________________________________\n",
      "dense_2 (Dense)              (None, 80)                3280      \n",
      "=================================================================\n",
      "Total params: 6,520\n",
      "Trainable params: 6,520\n",
      "Non-trainable params: 0\n",
      "_________________________________________________________________\n",
      "80\n",
      "Model: \"model_1\"\n",
      "_________________________________________________________________\n",
      "Layer (type)                 Output Shape              Param #   \n",
      "=================================================================\n",
      "input_2 (InputLayer)         (None, 80)                0         \n",
      "_________________________________________________________________\n",
      "dense_1 (Dense)              (None, 40)                3240      \n",
      "=================================================================\n",
      "Total params: 3,240\n",
      "Trainable params: 3,240\n",
      "Non-trainable params: 0\n",
      "_________________________________________________________________\n",
      "Model: \"model_2\"\n",
      "_________________________________________________________________\n",
      "Layer (type)                 Output Shape              Param #   \n",
      "=================================================================\n",
      "input_2 (InputLayer)         (None, 80)                0         \n",
      "_________________________________________________________________\n",
      "dense_1 (Dense)              (None, 40)                3240      \n",
      "_________________________________________________________________\n",
      "dense_3 (Dense)              (None, 15)                615       \n",
      "=================================================================\n",
      "Total params: 3,855\n",
      "Trainable params: 3,855\n",
      "Non-trainable params: 0\n",
      "_________________________________________________________________\n"
     ]
    },
    {
     "name": "stderr",
     "output_type": "stream",
     "text": [
      "\r",
      "  6%|▌         | 2/33 [58:35<14:00:00, 1625.83s/it]"
     ]
    },
    {
     "name": "stdout",
     "output_type": "stream",
     "text": [
      "activation= <function relu at 0x7f667712dd08>\n",
      "Model: \"sequential_1\"\n",
      "_________________________________________________________________\n",
      "Layer (type)                 Output Shape              Param #   \n",
      "=================================================================\n",
      "dense_1 (Dense)              (None, 30)                2430      \n",
      "_________________________________________________________________\n",
      "dense_2 (Dense)              (None, 80)                2480      \n",
      "=================================================================\n",
      "Total params: 4,910\n",
      "Trainable params: 4,910\n",
      "Non-trainable params: 0\n",
      "_________________________________________________________________\n",
      "80\n",
      "Model: \"model_1\"\n",
      "_________________________________________________________________\n",
      "Layer (type)                 Output Shape              Param #   \n",
      "=================================================================\n",
      "input_2 (InputLayer)         (None, 80)                0         \n",
      "_________________________________________________________________\n",
      "dense_1 (Dense)              (None, 30)                2430      \n",
      "=================================================================\n",
      "Total params: 2,430\n",
      "Trainable params: 2,430\n",
      "Non-trainable params: 0\n",
      "_________________________________________________________________\n",
      "Model: \"model_2\"\n",
      "_________________________________________________________________\n",
      "Layer (type)                 Output Shape              Param #   \n",
      "=================================================================\n",
      "input_2 (InputLayer)         (None, 80)                0         \n",
      "_________________________________________________________________\n",
      "dense_1 (Dense)              (None, 30)                2430      \n",
      "_________________________________________________________________\n",
      "dense_3 (Dense)              (None, 15)                465       \n",
      "=================================================================\n",
      "Total params: 2,895\n",
      "Trainable params: 2,895\n",
      "Non-trainable params: 0\n",
      "_________________________________________________________________\n"
     ]
    },
    {
     "name": "stderr",
     "output_type": "stream",
     "text": [
      "\r",
      "  9%|▉         | 3/33 [1:16:15<12:07:59, 1455.97s/it]"
     ]
    },
    {
     "name": "stdout",
     "output_type": "stream",
     "text": [
      "activation= <function relu at 0x7f667712dd08>\n",
      "Model: \"sequential_1\"\n",
      "_________________________________________________________________\n",
      "Layer (type)                 Output Shape              Param #   \n",
      "=================================================================\n",
      "dense_1 (Dense)              (None, 40)                3240      \n",
      "_________________________________________________________________\n",
      "dense_2 (Dense)              (None, 80)                3280      \n",
      "=================================================================\n",
      "Total params: 6,520\n",
      "Trainable params: 6,520\n",
      "Non-trainable params: 0\n",
      "_________________________________________________________________\n",
      "80\n",
      "Model: \"model_1\"\n",
      "_________________________________________________________________\n",
      "Layer (type)                 Output Shape              Param #   \n",
      "=================================================================\n",
      "input_2 (InputLayer)         (None, 80)                0         \n",
      "_________________________________________________________________\n",
      "dense_1 (Dense)              (None, 40)                3240      \n",
      "=================================================================\n",
      "Total params: 3,240\n",
      "Trainable params: 3,240\n",
      "Non-trainable params: 0\n",
      "_________________________________________________________________\n",
      "Model: \"model_2\"\n",
      "_________________________________________________________________\n",
      "Layer (type)                 Output Shape              Param #   \n",
      "=================================================================\n",
      "input_2 (InputLayer)         (None, 80)                0         \n",
      "_________________________________________________________________\n",
      "dense_1 (Dense)              (None, 40)                3240      \n",
      "_________________________________________________________________\n",
      "dense_3 (Dense)              (None, 15)                615       \n",
      "=================================================================\n",
      "Total params: 3,855\n",
      "Trainable params: 3,855\n",
      "Non-trainable params: 0\n",
      "_________________________________________________________________\n"
     ]
    },
    {
     "name": "stderr",
     "output_type": "stream",
     "text": [
      "\r",
      " 12%|█▏        | 4/33 [1:25:11<9:30:20, 1180.01s/it] "
     ]
    },
    {
     "name": "stdout",
     "output_type": "stream",
     "text": [
      "activation= <function relu at 0x7f667712dd08>\n",
      "Model: \"sequential_1\"\n",
      "_________________________________________________________________\n",
      "Layer (type)                 Output Shape              Param #   \n",
      "=================================================================\n",
      "dense_1 (Dense)              (None, 40)                3240      \n",
      "_________________________________________________________________\n",
      "dense_2 (Dense)              (None, 80)                3280      \n",
      "=================================================================\n",
      "Total params: 6,520\n",
      "Trainable params: 6,520\n",
      "Non-trainable params: 0\n",
      "_________________________________________________________________\n",
      "80\n",
      "Model: \"model_1\"\n",
      "_________________________________________________________________\n",
      "Layer (type)                 Output Shape              Param #   \n",
      "=================================================================\n",
      "input_2 (InputLayer)         (None, 80)                0         \n",
      "_________________________________________________________________\n",
      "dense_1 (Dense)              (None, 40)                3240      \n",
      "=================================================================\n",
      "Total params: 3,240\n",
      "Trainable params: 3,240\n",
      "Non-trainable params: 0\n",
      "_________________________________________________________________\n",
      "Model: \"model_2\"\n",
      "_________________________________________________________________\n",
      "Layer (type)                 Output Shape              Param #   \n",
      "=================================================================\n",
      "input_2 (InputLayer)         (None, 80)                0         \n",
      "_________________________________________________________________\n",
      "dense_1 (Dense)              (None, 40)                3240      \n",
      "_________________________________________________________________\n",
      "dense_3 (Dense)              (None, 15)                615       \n",
      "=================================================================\n",
      "Total params: 3,855\n",
      "Trainable params: 3,855\n",
      "Non-trainable params: 0\n",
      "_________________________________________________________________\n"
     ]
    },
    {
     "name": "stderr",
     "output_type": "stream",
     "text": [
      "\r",
      " 15%|█▌        | 5/33 [1:55:44<10:42:03, 1375.84s/it]"
     ]
    },
    {
     "name": "stdout",
     "output_type": "stream",
     "text": [
      "activation= <function relu at 0x7f667712dd08>\n",
      "Model: \"sequential_1\"\n",
      "_________________________________________________________________\n",
      "Layer (type)                 Output Shape              Param #   \n",
      "=================================================================\n",
      "dense_1 (Dense)              (None, 60)                4860      \n",
      "_________________________________________________________________\n",
      "dense_2 (Dense)              (None, 80)                4880      \n",
      "=================================================================\n",
      "Total params: 9,740\n",
      "Trainable params: 9,740\n",
      "Non-trainable params: 0\n",
      "_________________________________________________________________\n",
      "80\n",
      "Model: \"model_1\"\n",
      "_________________________________________________________________\n",
      "Layer (type)                 Output Shape              Param #   \n",
      "=================================================================\n",
      "input_2 (InputLayer)         (None, 80)                0         \n",
      "_________________________________________________________________\n",
      "dense_1 (Dense)              (None, 60)                4860      \n",
      "=================================================================\n",
      "Total params: 4,860\n",
      "Trainable params: 4,860\n",
      "Non-trainable params: 0\n",
      "_________________________________________________________________\n",
      "Model: \"model_2\"\n",
      "_________________________________________________________________\n",
      "Layer (type)                 Output Shape              Param #   \n",
      "=================================================================\n",
      "input_2 (InputLayer)         (None, 80)                0         \n",
      "_________________________________________________________________\n",
      "dense_1 (Dense)              (None, 60)                4860      \n",
      "_________________________________________________________________\n",
      "dense_3 (Dense)              (None, 15)                915       \n",
      "=================================================================\n",
      "Total params: 5,775\n",
      "Trainable params: 5,775\n",
      "Non-trainable params: 0\n",
      "_________________________________________________________________\n"
     ]
    },
    {
     "name": "stderr",
     "output_type": "stream",
     "text": [
      "\r",
      " 18%|█▊        | 6/33 [2:17:02<10:05:59, 1346.64s/it]"
     ]
    },
    {
     "name": "stdout",
     "output_type": "stream",
     "text": [
      "activation= <function relu at 0x7f667712dd08>\n",
      "Model: \"sequential_1\"\n",
      "_________________________________________________________________\n",
      "Layer (type)                 Output Shape              Param #   \n",
      "=================================================================\n",
      "dense_1 (Dense)              (None, 50)                4050      \n",
      "_________________________________________________________________\n",
      "dense_2 (Dense)              (None, 80)                4080      \n",
      "=================================================================\n",
      "Total params: 8,130\n",
      "Trainable params: 8,130\n",
      "Non-trainable params: 0\n",
      "_________________________________________________________________\n",
      "80\n",
      "Model: \"model_1\"\n",
      "_________________________________________________________________\n",
      "Layer (type)                 Output Shape              Param #   \n",
      "=================================================================\n",
      "input_2 (InputLayer)         (None, 80)                0         \n",
      "_________________________________________________________________\n",
      "dense_1 (Dense)              (None, 50)                4050      \n",
      "=================================================================\n",
      "Total params: 4,050\n",
      "Trainable params: 4,050\n",
      "Non-trainable params: 0\n",
      "_________________________________________________________________\n",
      "Model: \"model_2\"\n",
      "_________________________________________________________________\n",
      "Layer (type)                 Output Shape              Param #   \n",
      "=================================================================\n",
      "input_2 (InputLayer)         (None, 80)                0         \n",
      "_________________________________________________________________\n",
      "dense_1 (Dense)              (None, 50)                4050      \n",
      "_________________________________________________________________\n",
      "dense_3 (Dense)              (None, 15)                765       \n",
      "=================================================================\n",
      "Total params: 4,815\n",
      "Trainable params: 4,815\n",
      "Non-trainable params: 0\n",
      "_________________________________________________________________\n"
     ]
    },
    {
     "name": "stderr",
     "output_type": "stream",
     "text": [
      "\r",
      " 21%|██        | 7/33 [2:38:06<9:32:43, 1321.69s/it] "
     ]
    },
    {
     "name": "stdout",
     "output_type": "stream",
     "text": [
      "activation= <function relu at 0x7f667712dd08>\n",
      "Model: \"sequential_1\"\n",
      "_________________________________________________________________\n",
      "Layer (type)                 Output Shape              Param #   \n",
      "=================================================================\n",
      "dense_1 (Dense)              (None, 60)                4860      \n",
      "_________________________________________________________________\n",
      "dense_2 (Dense)              (None, 80)                4880      \n",
      "=================================================================\n",
      "Total params: 9,740\n",
      "Trainable params: 9,740\n",
      "Non-trainable params: 0\n",
      "_________________________________________________________________\n",
      "80\n",
      "Model: \"model_1\"\n",
      "_________________________________________________________________\n",
      "Layer (type)                 Output Shape              Param #   \n",
      "=================================================================\n",
      "input_2 (InputLayer)         (None, 80)                0         \n",
      "_________________________________________________________________\n",
      "dense_1 (Dense)              (None, 60)                4860      \n",
      "=================================================================\n",
      "Total params: 4,860\n",
      "Trainable params: 4,860\n",
      "Non-trainable params: 0\n",
      "_________________________________________________________________\n",
      "Model: \"model_2\"\n",
      "_________________________________________________________________\n",
      "Layer (type)                 Output Shape              Param #   \n",
      "=================================================================\n",
      "input_2 (InputLayer)         (None, 80)                0         \n",
      "_________________________________________________________________\n",
      "dense_1 (Dense)              (None, 60)                4860      \n",
      "_________________________________________________________________\n",
      "dense_3 (Dense)              (None, 15)                915       \n",
      "=================================================================\n",
      "Total params: 5,775\n",
      "Trainable params: 5,775\n",
      "Non-trainable params: 0\n",
      "_________________________________________________________________\n"
     ]
    },
    {
     "name": "stderr",
     "output_type": "stream",
     "text": [
      "\r",
      " 24%|██▍       | 8/33 [2:59:22<9:05:03, 1308.15s/it]"
     ]
    },
    {
     "name": "stdout",
     "output_type": "stream",
     "text": [
      "activation= <function relu at 0x7f667712dd08>\n",
      "Model: \"sequential_1\"\n",
      "_________________________________________________________________\n",
      "Layer (type)                 Output Shape              Param #   \n",
      "=================================================================\n",
      "dense_1 (Dense)              (None, 40)                3240      \n",
      "_________________________________________________________________\n",
      "dense_2 (Dense)              (None, 80)                3280      \n",
      "=================================================================\n",
      "Total params: 6,520\n",
      "Trainable params: 6,520\n",
      "Non-trainable params: 0\n",
      "_________________________________________________________________\n",
      "80\n",
      "Model: \"model_1\"\n",
      "_________________________________________________________________\n",
      "Layer (type)                 Output Shape              Param #   \n",
      "=================================================================\n",
      "input_2 (InputLayer)         (None, 80)                0         \n",
      "_________________________________________________________________\n",
      "dense_1 (Dense)              (None, 40)                3240      \n",
      "=================================================================\n",
      "Total params: 3,240\n",
      "Trainable params: 3,240\n",
      "Non-trainable params: 0\n",
      "_________________________________________________________________\n",
      "Model: \"model_2\"\n",
      "_________________________________________________________________\n",
      "Layer (type)                 Output Shape              Param #   \n",
      "=================================================================\n",
      "input_2 (InputLayer)         (None, 80)                0         \n",
      "_________________________________________________________________\n",
      "dense_1 (Dense)              (None, 40)                3240      \n",
      "_________________________________________________________________\n",
      "dense_3 (Dense)              (None, 15)                615       \n",
      "=================================================================\n",
      "Total params: 3,855\n",
      "Trainable params: 3,855\n",
      "Non-trainable params: 0\n",
      "_________________________________________________________________\n"
     ]
    },
    {
     "name": "stderr",
     "output_type": "stream",
     "text": [
      "\r",
      " 27%|██▋       | 9/33 [3:30:18<9:48:59, 1472.49s/it]"
     ]
    },
    {
     "name": "stdout",
     "output_type": "stream",
     "text": [
      "activation= <function relu at 0x7f667712dd08>\n",
      "Model: \"sequential_1\"\n",
      "_________________________________________________________________\n",
      "Layer (type)                 Output Shape              Param #   \n",
      "=================================================================\n",
      "dense_1 (Dense)              (None, 30)                2430      \n",
      "_________________________________________________________________\n",
      "dense_2 (Dense)              (None, 80)                2480      \n",
      "=================================================================\n",
      "Total params: 4,910\n",
      "Trainable params: 4,910\n",
      "Non-trainable params: 0\n",
      "_________________________________________________________________\n",
      "80\n",
      "Model: \"model_1\"\n",
      "_________________________________________________________________\n",
      "Layer (type)                 Output Shape              Param #   \n",
      "=================================================================\n",
      "input_2 (InputLayer)         (None, 80)                0         \n",
      "_________________________________________________________________\n",
      "dense_1 (Dense)              (None, 30)                2430      \n",
      "=================================================================\n",
      "Total params: 2,430\n",
      "Trainable params: 2,430\n",
      "Non-trainable params: 0\n",
      "_________________________________________________________________\n",
      "Model: \"model_2\"\n",
      "_________________________________________________________________\n",
      "Layer (type)                 Output Shape              Param #   \n",
      "=================================================================\n",
      "input_2 (InputLayer)         (None, 80)                0         \n",
      "_________________________________________________________________\n",
      "dense_1 (Dense)              (None, 30)                2430      \n",
      "_________________________________________________________________\n",
      "dense_3 (Dense)              (None, 15)                465       \n",
      "=================================================================\n",
      "Total params: 2,895\n",
      "Trainable params: 2,895\n",
      "Non-trainable params: 0\n",
      "_________________________________________________________________\n"
     ]
    },
    {
     "name": "stderr",
     "output_type": "stream",
     "text": [
      "\r",
      " 30%|███       | 10/33 [3:48:18<8:39:18, 1354.70s/it]"
     ]
    },
    {
     "name": "stdout",
     "output_type": "stream",
     "text": [
      "activation= <function relu at 0x7f667712dd08>\n",
      "Model: \"sequential_1\"\n",
      "_________________________________________________________________\n",
      "Layer (type)                 Output Shape              Param #   \n",
      "=================================================================\n",
      "dense_1 (Dense)              (None, 40)                3240      \n",
      "_________________________________________________________________\n",
      "dense_2 (Dense)              (None, 80)                3280      \n",
      "=================================================================\n",
      "Total params: 6,520\n",
      "Trainable params: 6,520\n",
      "Non-trainable params: 0\n",
      "_________________________________________________________________\n",
      "80\n",
      "Model: \"model_1\"\n",
      "_________________________________________________________________\n",
      "Layer (type)                 Output Shape              Param #   \n",
      "=================================================================\n",
      "input_2 (InputLayer)         (None, 80)                0         \n",
      "_________________________________________________________________\n",
      "dense_1 (Dense)              (None, 40)                3240      \n",
      "=================================================================\n",
      "Total params: 3,240\n",
      "Trainable params: 3,240\n",
      "Non-trainable params: 0\n",
      "_________________________________________________________________\n",
      "Model: \"model_2\"\n",
      "_________________________________________________________________\n",
      "Layer (type)                 Output Shape              Param #   \n",
      "=================================================================\n",
      "input_2 (InputLayer)         (None, 80)                0         \n",
      "_________________________________________________________________\n",
      "dense_1 (Dense)              (None, 40)                3240      \n",
      "_________________________________________________________________\n",
      "dense_3 (Dense)              (None, 15)                615       \n",
      "=================================================================\n",
      "Total params: 3,855\n",
      "Trainable params: 3,855\n",
      "Non-trainable params: 0\n",
      "_________________________________________________________________\n"
     ]
    },
    {
     "name": "stderr",
     "output_type": "stream",
     "text": [
      "\r",
      " 33%|███▎      | 11/33 [3:57:10<6:46:10, 1107.77s/it]"
     ]
    },
    {
     "name": "stdout",
     "output_type": "stream",
     "text": [
      "activation= <function relu at 0x7f667712dd08>\n",
      "Model: \"sequential_1\"\n",
      "_________________________________________________________________\n",
      "Layer (type)                 Output Shape              Param #   \n",
      "=================================================================\n",
      "dense_1 (Dense)              (None, 50)                4050      \n",
      "_________________________________________________________________\n",
      "dense_2 (Dense)              (None, 80)                4080      \n",
      "=================================================================\n",
      "Total params: 8,130\n",
      "Trainable params: 8,130\n",
      "Non-trainable params: 0\n",
      "_________________________________________________________________\n",
      "80\n",
      "Model: \"model_1\"\n",
      "_________________________________________________________________\n",
      "Layer (type)                 Output Shape              Param #   \n",
      "=================================================================\n",
      "input_2 (InputLayer)         (None, 80)                0         \n",
      "_________________________________________________________________\n",
      "dense_1 (Dense)              (None, 50)                4050      \n",
      "=================================================================\n",
      "Total params: 4,050\n",
      "Trainable params: 4,050\n",
      "Non-trainable params: 0\n",
      "_________________________________________________________________\n",
      "Model: \"model_2\"\n",
      "_________________________________________________________________\n",
      "Layer (type)                 Output Shape              Param #   \n",
      "=================================================================\n",
      "input_2 (InputLayer)         (None, 80)                0         \n",
      "_________________________________________________________________\n",
      "dense_1 (Dense)              (None, 50)                4050      \n",
      "_________________________________________________________________\n",
      "dense_3 (Dense)              (None, 15)                765       \n",
      "=================================================================\n",
      "Total params: 4,815\n",
      "Trainable params: 4,815\n",
      "Non-trainable params: 0\n",
      "_________________________________________________________________\n"
     ]
    },
    {
     "name": "stderr",
     "output_type": "stream",
     "text": [
      "\r",
      " 36%|███▋      | 12/33 [4:29:23<7:54:27, 1355.60s/it]"
     ]
    },
    {
     "name": "stdout",
     "output_type": "stream",
     "text": [
      "activation= <function relu at 0x7f667712dd08>\n",
      "Model: \"sequential_1\"\n",
      "_________________________________________________________________\n",
      "Layer (type)                 Output Shape              Param #   \n",
      "=================================================================\n",
      "dense_1 (Dense)              (None, 30)                2430      \n",
      "_________________________________________________________________\n",
      "dense_2 (Dense)              (None, 80)                2480      \n",
      "=================================================================\n",
      "Total params: 4,910\n",
      "Trainable params: 4,910\n",
      "Non-trainable params: 0\n",
      "_________________________________________________________________\n",
      "80\n",
      "Model: \"model_1\"\n",
      "_________________________________________________________________\n",
      "Layer (type)                 Output Shape              Param #   \n",
      "=================================================================\n",
      "input_2 (InputLayer)         (None, 80)                0         \n",
      "_________________________________________________________________\n",
      "dense_1 (Dense)              (None, 30)                2430      \n",
      "=================================================================\n",
      "Total params: 2,430\n",
      "Trainable params: 2,430\n",
      "Non-trainable params: 0\n",
      "_________________________________________________________________\n",
      "Model: \"model_2\"\n",
      "_________________________________________________________________\n",
      "Layer (type)                 Output Shape              Param #   \n",
      "=================================================================\n",
      "input_2 (InputLayer)         (None, 80)                0         \n",
      "_________________________________________________________________\n",
      "dense_1 (Dense)              (None, 30)                2430      \n",
      "_________________________________________________________________\n",
      "dense_3 (Dense)              (None, 15)                465       \n",
      "=================================================================\n",
      "Total params: 2,895\n",
      "Trainable params: 2,895\n",
      "Non-trainable params: 0\n",
      "_________________________________________________________________\n"
     ]
    },
    {
     "name": "stderr",
     "output_type": "stream",
     "text": [
      "\r",
      " 39%|███▉      | 13/33 [5:00:41<8:24:06, 1512.30s/it]"
     ]
    },
    {
     "name": "stdout",
     "output_type": "stream",
     "text": [
      "activation= <function relu at 0x7f667712dd08>\n",
      "Model: \"sequential_1\"\n",
      "_________________________________________________________________\n",
      "Layer (type)                 Output Shape              Param #   \n",
      "=================================================================\n",
      "dense_1 (Dense)              (None, 30)                2430      \n",
      "_________________________________________________________________\n",
      "dense_2 (Dense)              (None, 80)                2480      \n",
      "=================================================================\n",
      "Total params: 4,910\n",
      "Trainable params: 4,910\n",
      "Non-trainable params: 0\n",
      "_________________________________________________________________\n",
      "80\n",
      "Model: \"model_1\"\n",
      "_________________________________________________________________\n",
      "Layer (type)                 Output Shape              Param #   \n",
      "=================================================================\n",
      "input_2 (InputLayer)         (None, 80)                0         \n",
      "_________________________________________________________________\n",
      "dense_1 (Dense)              (None, 30)                2430      \n",
      "=================================================================\n",
      "Total params: 2,430\n",
      "Trainable params: 2,430\n",
      "Non-trainable params: 0\n",
      "_________________________________________________________________\n",
      "Model: \"model_2\"\n",
      "_________________________________________________________________\n",
      "Layer (type)                 Output Shape              Param #   \n",
      "=================================================================\n",
      "input_2 (InputLayer)         (None, 80)                0         \n",
      "_________________________________________________________________\n",
      "dense_1 (Dense)              (None, 30)                2430      \n",
      "_________________________________________________________________\n",
      "dense_3 (Dense)              (None, 15)                465       \n",
      "=================================================================\n",
      "Total params: 2,895\n",
      "Trainable params: 2,895\n",
      "Non-trainable params: 0\n",
      "_________________________________________________________________\n"
     ]
    },
    {
     "name": "stderr",
     "output_type": "stream",
     "text": [
      "\r",
      " 42%|████▏     | 14/33 [5:32:03<8:33:55, 1622.95s/it]"
     ]
    },
    {
     "name": "stdout",
     "output_type": "stream",
     "text": [
      "activation= <function relu at 0x7f667712dd08>\n",
      "Model: \"sequential_1\"\n",
      "_________________________________________________________________\n",
      "Layer (type)                 Output Shape              Param #   \n",
      "=================================================================\n",
      "dense_1 (Dense)              (None, 60)                4860      \n",
      "_________________________________________________________________\n",
      "dense_2 (Dense)              (None, 80)                4880      \n",
      "=================================================================\n",
      "Total params: 9,740\n",
      "Trainable params: 9,740\n",
      "Non-trainable params: 0\n",
      "_________________________________________________________________\n",
      "80\n",
      "Model: \"model_1\"\n",
      "_________________________________________________________________\n",
      "Layer (type)                 Output Shape              Param #   \n",
      "=================================================================\n",
      "input_2 (InputLayer)         (None, 80)                0         \n",
      "_________________________________________________________________\n",
      "dense_1 (Dense)              (None, 60)                4860      \n",
      "=================================================================\n",
      "Total params: 4,860\n",
      "Trainable params: 4,860\n",
      "Non-trainable params: 0\n",
      "_________________________________________________________________\n",
      "Model: \"model_2\"\n",
      "_________________________________________________________________\n",
      "Layer (type)                 Output Shape              Param #   \n",
      "=================================================================\n",
      "input_2 (InputLayer)         (None, 80)                0         \n",
      "_________________________________________________________________\n",
      "dense_1 (Dense)              (None, 60)                4860      \n",
      "_________________________________________________________________\n",
      "dense_3 (Dense)              (None, 15)                915       \n",
      "=================================================================\n",
      "Total params: 5,775\n",
      "Trainable params: 5,775\n",
      "Non-trainable params: 0\n",
      "_________________________________________________________________\n"
     ]
    },
    {
     "name": "stderr",
     "output_type": "stream",
     "text": [
      "\r",
      " 45%|████▌     | 15/33 [5:41:51<6:33:47, 1312.65s/it]"
     ]
    },
    {
     "name": "stdout",
     "output_type": "stream",
     "text": [
      "activation= <function relu at 0x7f667712dd08>\n",
      "Model: \"sequential_1\"\n",
      "_________________________________________________________________\n",
      "Layer (type)                 Output Shape              Param #   \n",
      "=================================================================\n",
      "dense_1 (Dense)              (None, 50)                4050      \n",
      "_________________________________________________________________\n",
      "dense_2 (Dense)              (None, 80)                4080      \n",
      "=================================================================\n",
      "Total params: 8,130\n",
      "Trainable params: 8,130\n",
      "Non-trainable params: 0\n",
      "_________________________________________________________________\n",
      "80\n",
      "Model: \"model_1\"\n",
      "_________________________________________________________________\n",
      "Layer (type)                 Output Shape              Param #   \n",
      "=================================================================\n",
      "input_2 (InputLayer)         (None, 80)                0         \n",
      "_________________________________________________________________\n",
      "dense_1 (Dense)              (None, 50)                4050      \n",
      "=================================================================\n",
      "Total params: 4,050\n",
      "Trainable params: 4,050\n",
      "Non-trainable params: 0\n",
      "_________________________________________________________________\n",
      "Model: \"model_2\"\n",
      "_________________________________________________________________\n",
      "Layer (type)                 Output Shape              Param #   \n",
      "=================================================================\n",
      "input_2 (InputLayer)         (None, 80)                0         \n",
      "_________________________________________________________________\n",
      "dense_1 (Dense)              (None, 50)                4050      \n",
      "_________________________________________________________________\n",
      "dense_3 (Dense)              (None, 15)                765       \n",
      "=================================================================\n",
      "Total params: 4,815\n",
      "Trainable params: 4,815\n",
      "Non-trainable params: 0\n",
      "_________________________________________________________________\n"
     ]
    },
    {
     "name": "stderr",
     "output_type": "stream",
     "text": [
      "\r",
      " 48%|████▊     | 16/33 [6:13:17<7:00:40, 1484.74s/it]"
     ]
    },
    {
     "name": "stdout",
     "output_type": "stream",
     "text": [
      "activation= <function relu at 0x7f667712dd08>\n",
      "Model: \"sequential_1\"\n",
      "_________________________________________________________________\n",
      "Layer (type)                 Output Shape              Param #   \n",
      "=================================================================\n",
      "dense_1 (Dense)              (None, 50)                4050      \n",
      "_________________________________________________________________\n",
      "dense_2 (Dense)              (None, 80)                4080      \n",
      "=================================================================\n",
      "Total params: 8,130\n",
      "Trainable params: 8,130\n",
      "Non-trainable params: 0\n",
      "_________________________________________________________________\n",
      "80\n",
      "Model: \"model_1\"\n",
      "_________________________________________________________________\n",
      "Layer (type)                 Output Shape              Param #   \n",
      "=================================================================\n",
      "input_2 (InputLayer)         (None, 80)                0         \n",
      "_________________________________________________________________\n",
      "dense_1 (Dense)              (None, 50)                4050      \n",
      "=================================================================\n",
      "Total params: 4,050\n",
      "Trainable params: 4,050\n",
      "Non-trainable params: 0\n",
      "_________________________________________________________________\n",
      "Model: \"model_2\"\n",
      "_________________________________________________________________\n",
      "Layer (type)                 Output Shape              Param #   \n",
      "=================================================================\n",
      "input_2 (InputLayer)         (None, 80)                0         \n",
      "_________________________________________________________________\n",
      "dense_1 (Dense)              (None, 50)                4050      \n",
      "_________________________________________________________________\n",
      "dense_3 (Dense)              (None, 15)                765       \n",
      "=================================================================\n",
      "Total params: 4,815\n",
      "Trainable params: 4,815\n",
      "Non-trainable params: 0\n",
      "_________________________________________________________________\n"
     ]
    },
    {
     "name": "stderr",
     "output_type": "stream",
     "text": [
      "\r",
      " 52%|█████▏    | 17/33 [6:22:52<5:23:05, 1211.58s/it]"
     ]
    },
    {
     "name": "stdout",
     "output_type": "stream",
     "text": [
      "activation= <function relu at 0x7f667712dd08>\n",
      "Model: \"sequential_1\"\n",
      "_________________________________________________________________\n",
      "Layer (type)                 Output Shape              Param #   \n",
      "=================================================================\n",
      "dense_1 (Dense)              (None, 30)                2430      \n",
      "_________________________________________________________________\n",
      "dense_2 (Dense)              (None, 80)                2480      \n",
      "=================================================================\n",
      "Total params: 4,910\n",
      "Trainable params: 4,910\n",
      "Non-trainable params: 0\n",
      "_________________________________________________________________\n",
      "80\n",
      "Model: \"model_1\"\n",
      "_________________________________________________________________\n",
      "Layer (type)                 Output Shape              Param #   \n",
      "=================================================================\n",
      "input_2 (InputLayer)         (None, 80)                0         \n",
      "_________________________________________________________________\n",
      "dense_1 (Dense)              (None, 30)                2430      \n",
      "=================================================================\n",
      "Total params: 2,430\n",
      "Trainable params: 2,430\n",
      "Non-trainable params: 0\n",
      "_________________________________________________________________\n",
      "Model: \"model_2\"\n",
      "_________________________________________________________________\n",
      "Layer (type)                 Output Shape              Param #   \n",
      "=================================================================\n",
      "input_2 (InputLayer)         (None, 80)                0         \n",
      "_________________________________________________________________\n",
      "dense_1 (Dense)              (None, 30)                2430      \n",
      "_________________________________________________________________\n",
      "dense_3 (Dense)              (None, 15)                465       \n",
      "=================================================================\n",
      "Total params: 2,895\n",
      "Trainable params: 2,895\n",
      "Non-trainable params: 0\n",
      "_________________________________________________________________\n"
     ]
    },
    {
     "name": "stderr",
     "output_type": "stream",
     "text": [
      "\r",
      " 55%|█████▍    | 18/33 [6:32:08<4:13:46, 1015.11s/it]"
     ]
    },
    {
     "name": "stdout",
     "output_type": "stream",
     "text": [
      "activation= <function relu at 0x7f667712dd08>\n",
      "Model: \"sequential_1\"\n",
      "_________________________________________________________________\n",
      "Layer (type)                 Output Shape              Param #   \n",
      "=================================================================\n",
      "dense_1 (Dense)              (None, 40)                3240      \n",
      "_________________________________________________________________\n",
      "dense_2 (Dense)              (None, 80)                3280      \n",
      "=================================================================\n",
      "Total params: 6,520\n",
      "Trainable params: 6,520\n",
      "Non-trainable params: 0\n",
      "_________________________________________________________________\n",
      "80\n",
      "Model: \"model_1\"\n",
      "_________________________________________________________________\n",
      "Layer (type)                 Output Shape              Param #   \n",
      "=================================================================\n",
      "input_2 (InputLayer)         (None, 80)                0         \n",
      "_________________________________________________________________\n",
      "dense_1 (Dense)              (None, 40)                3240      \n",
      "=================================================================\n",
      "Total params: 3,240\n",
      "Trainable params: 3,240\n",
      "Non-trainable params: 0\n",
      "_________________________________________________________________\n",
      "Model: \"model_2\"\n",
      "_________________________________________________________________\n",
      "Layer (type)                 Output Shape              Param #   \n",
      "=================================================================\n",
      "input_2 (InputLayer)         (None, 80)                0         \n",
      "_________________________________________________________________\n",
      "dense_1 (Dense)              (None, 40)                3240      \n",
      "_________________________________________________________________\n",
      "dense_3 (Dense)              (None, 15)                615       \n",
      "=================================================================\n",
      "Total params: 3,855\n",
      "Trainable params: 3,855\n",
      "Non-trainable params: 0\n",
      "_________________________________________________________________\n"
     ]
    },
    {
     "name": "stderr",
     "output_type": "stream",
     "text": [
      "\r",
      " 58%|█████▊    | 19/33 [6:51:18<4:06:15, 1055.42s/it]"
     ]
    },
    {
     "name": "stdout",
     "output_type": "stream",
     "text": [
      "activation= <function relu at 0x7f667712dd08>\n",
      "Model: \"sequential_1\"\n",
      "_________________________________________________________________\n",
      "Layer (type)                 Output Shape              Param #   \n",
      "=================================================================\n",
      "dense_1 (Dense)              (None, 50)                4050      \n",
      "_________________________________________________________________\n",
      "dense_2 (Dense)              (None, 80)                4080      \n",
      "=================================================================\n",
      "Total params: 8,130\n",
      "Trainable params: 8,130\n",
      "Non-trainable params: 0\n",
      "_________________________________________________________________\n",
      "80\n",
      "Model: \"model_1\"\n",
      "_________________________________________________________________\n",
      "Layer (type)                 Output Shape              Param #   \n",
      "=================================================================\n",
      "input_2 (InputLayer)         (None, 80)                0         \n",
      "_________________________________________________________________\n",
      "dense_1 (Dense)              (None, 50)                4050      \n",
      "=================================================================\n",
      "Total params: 4,050\n",
      "Trainable params: 4,050\n",
      "Non-trainable params: 0\n",
      "_________________________________________________________________\n",
      "Model: \"model_2\"\n",
      "_________________________________________________________________\n",
      "Layer (type)                 Output Shape              Param #   \n",
      "=================================================================\n",
      "input_2 (InputLayer)         (None, 80)                0         \n",
      "_________________________________________________________________\n",
      "dense_1 (Dense)              (None, 50)                4050      \n",
      "_________________________________________________________________\n",
      "dense_3 (Dense)              (None, 15)                765       \n",
      "=================================================================\n",
      "Total params: 4,815\n",
      "Trainable params: 4,815\n",
      "Non-trainable params: 0\n",
      "_________________________________________________________________\n"
     ]
    },
    {
     "name": "stderr",
     "output_type": "stream",
     "text": [
      "\r",
      " 61%|██████    | 20/33 [7:25:53<4:54:57, 1361.35s/it]"
     ]
    },
    {
     "name": "stdout",
     "output_type": "stream",
     "text": [
      "activation= <function relu at 0x7f667712dd08>\n",
      "Model: \"sequential_1\"\n",
      "_________________________________________________________________\n",
      "Layer (type)                 Output Shape              Param #   \n",
      "=================================================================\n",
      "dense_1 (Dense)              (None, 30)                2430      \n",
      "_________________________________________________________________\n",
      "dense_2 (Dense)              (None, 80)                2480      \n",
      "=================================================================\n",
      "Total params: 4,910\n",
      "Trainable params: 4,910\n",
      "Non-trainable params: 0\n",
      "_________________________________________________________________\n",
      "80\n",
      "Model: \"model_1\"\n",
      "_________________________________________________________________\n",
      "Layer (type)                 Output Shape              Param #   \n",
      "=================================================================\n",
      "input_2 (InputLayer)         (None, 80)                0         \n",
      "_________________________________________________________________\n",
      "dense_1 (Dense)              (None, 30)                2430      \n",
      "=================================================================\n",
      "Total params: 2,430\n",
      "Trainable params: 2,430\n",
      "Non-trainable params: 0\n",
      "_________________________________________________________________\n",
      "Model: \"model_2\"\n",
      "_________________________________________________________________\n",
      "Layer (type)                 Output Shape              Param #   \n",
      "=================================================================\n",
      "input_2 (InputLayer)         (None, 80)                0         \n",
      "_________________________________________________________________\n",
      "dense_1 (Dense)              (None, 30)                2430      \n",
      "_________________________________________________________________\n",
      "dense_3 (Dense)              (None, 15)                465       \n",
      "=================================================================\n",
      "Total params: 2,895\n",
      "Trainable params: 2,895\n",
      "Non-trainable params: 0\n",
      "_________________________________________________________________\n"
     ]
    },
    {
     "name": "stderr",
     "output_type": "stream",
     "text": [
      "\r",
      " 64%|██████▎   | 21/33 [7:35:12<3:44:07, 1120.66s/it]"
     ]
    },
    {
     "name": "stdout",
     "output_type": "stream",
     "text": [
      "activation= <function relu at 0x7f667712dd08>\n",
      "Model: \"sequential_1\"\n",
      "_________________________________________________________________\n",
      "Layer (type)                 Output Shape              Param #   \n",
      "=================================================================\n",
      "dense_1 (Dense)              (None, 30)                2430      \n",
      "_________________________________________________________________\n",
      "dense_2 (Dense)              (None, 80)                2480      \n",
      "=================================================================\n",
      "Total params: 4,910\n",
      "Trainable params: 4,910\n",
      "Non-trainable params: 0\n",
      "_________________________________________________________________\n",
      "80\n",
      "Model: \"model_1\"\n",
      "_________________________________________________________________\n",
      "Layer (type)                 Output Shape              Param #   \n",
      "=================================================================\n",
      "input_2 (InputLayer)         (None, 80)                0         \n",
      "_________________________________________________________________\n",
      "dense_1 (Dense)              (None, 30)                2430      \n",
      "=================================================================\n",
      "Total params: 2,430\n",
      "Trainable params: 2,430\n",
      "Non-trainable params: 0\n",
      "_________________________________________________________________\n",
      "Model: \"model_2\"\n",
      "_________________________________________________________________\n",
      "Layer (type)                 Output Shape              Param #   \n",
      "=================================================================\n",
      "input_2 (InputLayer)         (None, 80)                0         \n",
      "_________________________________________________________________\n",
      "dense_1 (Dense)              (None, 30)                2430      \n",
      "_________________________________________________________________\n",
      "dense_3 (Dense)              (None, 15)                465       \n",
      "=================================================================\n",
      "Total params: 2,895\n",
      "Trainable params: 2,895\n",
      "Non-trainable params: 0\n",
      "_________________________________________________________________\n"
     ]
    },
    {
     "name": "stderr",
     "output_type": "stream",
     "text": [
      "\r",
      " 67%|██████▋   | 22/33 [7:54:37<3:27:52, 1133.86s/it]"
     ]
    },
    {
     "name": "stdout",
     "output_type": "stream",
     "text": [
      "activation= <function relu at 0x7f667712dd08>\n",
      "Model: \"sequential_1\"\n",
      "_________________________________________________________________\n",
      "Layer (type)                 Output Shape              Param #   \n",
      "=================================================================\n",
      "dense_1 (Dense)              (None, 60)                4860      \n",
      "_________________________________________________________________\n",
      "dense_2 (Dense)              (None, 80)                4880      \n",
      "=================================================================\n",
      "Total params: 9,740\n",
      "Trainable params: 9,740\n",
      "Non-trainable params: 0\n",
      "_________________________________________________________________\n",
      "80\n",
      "Model: \"model_1\"\n",
      "_________________________________________________________________\n",
      "Layer (type)                 Output Shape              Param #   \n",
      "=================================================================\n",
      "input_2 (InputLayer)         (None, 80)                0         \n",
      "_________________________________________________________________\n",
      "dense_1 (Dense)              (None, 60)                4860      \n",
      "=================================================================\n",
      "Total params: 4,860\n",
      "Trainable params: 4,860\n",
      "Non-trainable params: 0\n",
      "_________________________________________________________________\n",
      "Model: \"model_2\"\n",
      "_________________________________________________________________\n",
      "Layer (type)                 Output Shape              Param #   \n",
      "=================================================================\n",
      "input_2 (InputLayer)         (None, 80)                0         \n",
      "_________________________________________________________________\n",
      "dense_1 (Dense)              (None, 60)                4860      \n",
      "_________________________________________________________________\n",
      "dense_3 (Dense)              (None, 15)                915       \n",
      "=================================================================\n",
      "Total params: 5,775\n",
      "Trainable params: 5,775\n",
      "Non-trainable params: 0\n",
      "_________________________________________________________________\n"
     ]
    },
    {
     "name": "stderr",
     "output_type": "stream",
     "text": [
      "\r",
      " 70%|██████▉   | 23/33 [8:29:31<3:57:01, 1422.11s/it]"
     ]
    },
    {
     "name": "stdout",
     "output_type": "stream",
     "text": [
      "activation= <function relu at 0x7f667712dd08>\n",
      "Model: \"sequential_1\"\n",
      "_________________________________________________________________\n",
      "Layer (type)                 Output Shape              Param #   \n",
      "=================================================================\n",
      "dense_1 (Dense)              (None, 50)                4050      \n",
      "_________________________________________________________________\n",
      "dense_2 (Dense)              (None, 80)                4080      \n",
      "=================================================================\n",
      "Total params: 8,130\n",
      "Trainable params: 8,130\n",
      "Non-trainable params: 0\n",
      "_________________________________________________________________\n",
      "80\n",
      "Model: \"model_1\"\n",
      "_________________________________________________________________\n",
      "Layer (type)                 Output Shape              Param #   \n",
      "=================================================================\n",
      "input_2 (InputLayer)         (None, 80)                0         \n",
      "_________________________________________________________________\n",
      "dense_1 (Dense)              (None, 50)                4050      \n",
      "=================================================================\n",
      "Total params: 4,050\n",
      "Trainable params: 4,050\n",
      "Non-trainable params: 0\n",
      "_________________________________________________________________\n",
      "Model: \"model_2\"\n",
      "_________________________________________________________________\n",
      "Layer (type)                 Output Shape              Param #   \n",
      "=================================================================\n",
      "input_2 (InputLayer)         (None, 80)                0         \n",
      "_________________________________________________________________\n",
      "dense_1 (Dense)              (None, 50)                4050      \n",
      "_________________________________________________________________\n",
      "dense_3 (Dense)              (None, 15)                765       \n",
      "=================================================================\n",
      "Total params: 4,815\n",
      "Trainable params: 4,815\n",
      "Non-trainable params: 0\n",
      "_________________________________________________________________\n"
     ]
    },
    {
     "name": "stderr",
     "output_type": "stream",
     "text": [
      "\r",
      " 73%|███████▎  | 24/33 [9:05:18<4:05:55, 1639.53s/it]"
     ]
    },
    {
     "name": "stdout",
     "output_type": "stream",
     "text": [
      "activation= <function relu at 0x7f667712dd08>\n",
      "Model: \"sequential_1\"\n",
      "_________________________________________________________________\n",
      "Layer (type)                 Output Shape              Param #   \n",
      "=================================================================\n",
      "dense_1 (Dense)              (None, 60)                4860      \n",
      "_________________________________________________________________\n",
      "dense_2 (Dense)              (None, 80)                4880      \n",
      "=================================================================\n",
      "Total params: 9,740\n",
      "Trainable params: 9,740\n",
      "Non-trainable params: 0\n",
      "_________________________________________________________________\n",
      "80\n",
      "Model: \"model_1\"\n",
      "_________________________________________________________________\n",
      "Layer (type)                 Output Shape              Param #   \n",
      "=================================================================\n",
      "input_2 (InputLayer)         (None, 80)                0         \n",
      "_________________________________________________________________\n",
      "dense_1 (Dense)              (None, 60)                4860      \n",
      "=================================================================\n",
      "Total params: 4,860\n",
      "Trainable params: 4,860\n",
      "Non-trainable params: 0\n",
      "_________________________________________________________________\n",
      "Model: \"model_2\"\n",
      "_________________________________________________________________\n",
      "Layer (type)                 Output Shape              Param #   \n",
      "=================================================================\n",
      "input_2 (InputLayer)         (None, 80)                0         \n",
      "_________________________________________________________________\n",
      "dense_1 (Dense)              (None, 60)                4860      \n",
      "_________________________________________________________________\n",
      "dense_3 (Dense)              (None, 15)                915       \n",
      "=================================================================\n",
      "Total params: 5,775\n",
      "Trainable params: 5,775\n",
      "Non-trainable params: 0\n",
      "_________________________________________________________________\n"
     ]
    },
    {
     "name": "stderr",
     "output_type": "stream",
     "text": [
      "\r",
      " 76%|███████▌  | 25/33 [9:30:36<3:33:43, 1602.96s/it]"
     ]
    },
    {
     "name": "stdout",
     "output_type": "stream",
     "text": [
      "activation= <function relu at 0x7f667712dd08>\n",
      "Model: \"sequential_1\"\n",
      "_________________________________________________________________\n",
      "Layer (type)                 Output Shape              Param #   \n",
      "=================================================================\n",
      "dense_1 (Dense)              (None, 40)                3240      \n",
      "_________________________________________________________________\n",
      "dense_2 (Dense)              (None, 80)                3280      \n",
      "=================================================================\n",
      "Total params: 6,520\n",
      "Trainable params: 6,520\n",
      "Non-trainable params: 0\n",
      "_________________________________________________________________\n",
      "80\n",
      "Model: \"model_1\"\n",
      "_________________________________________________________________\n",
      "Layer (type)                 Output Shape              Param #   \n",
      "=================================================================\n",
      "input_2 (InputLayer)         (None, 80)                0         \n",
      "_________________________________________________________________\n",
      "dense_1 (Dense)              (None, 40)                3240      \n",
      "=================================================================\n",
      "Total params: 3,240\n",
      "Trainable params: 3,240\n",
      "Non-trainable params: 0\n",
      "_________________________________________________________________\n"
     ]
    }
   ],
   "source": [
    "\n",
    "t = ta.Scan(x, y, p, dnn, experiment_no='11',grid_downsample=0.1,)\n"
   ]
  },
  {
   "cell_type": "code",
   "execution_count": 0,
   "metadata": {
    "colab": {},
    "colab_type": "code",
    "id": "spsA52qhudj-"
   },
   "outputs": [],
   "source": [
    "t.data"
   ]
  },
  {
   "cell_type": "code",
   "execution_count": 0,
   "metadata": {
    "colab": {},
    "colab_type": "code",
    "id": "io5vb0wsudkB"
   },
   "outputs": [],
   "source": [
    "r = ta.Reporting(t)"
   ]
  },
  {
   "cell_type": "code",
   "execution_count": 0,
   "metadata": {
    "colab": {},
    "colab_type": "code",
    "id": "Bpq1AEJhudkI"
   },
   "outputs": [],
   "source": [
    "r.best_params()"
   ]
  }
 ],
 "metadata": {
  "accelerator": "GPU",
  "colab": {
   "collapsed_sections": [],
   "name": "Tuning DAE DNN best Talos0.4.5_1 hiddenlayer.ipynb",
   "provenance": []
  },
  "kernelspec": {
   "display_name": "Python [default]",
   "language": "python",
   "name": "python3"
  },
  "language_info": {
   "codemirror_mode": {
    "name": "ipython",
    "version": 3
   },
   "file_extension": ".py",
   "mimetype": "text/x-python",
   "name": "python",
   "nbconvert_exporter": "python",
   "pygments_lexer": "ipython3",
   "version": "3.6.5"
  }
 },
 "nbformat": 4,
 "nbformat_minor": 1
}
