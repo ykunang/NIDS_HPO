{
 "cells": [
  {
   "cell_type": "markdown",
   "metadata": {
    "colab_type": "text",
    "id": "_Tq9Xo-EudiN"
   },
   "source": [
    "# Network Intrusion Detection with Deep Learning"
   ]
  },
  {
   "cell_type": "code",
   "execution_count": 0,
   "metadata": {
    "colab": {},
    "colab_type": "code",
    "id": "KgPdBRqTudiS"
   },
   "outputs": [],
   "source": [
    "import os\n",
    "os.environ[\"CUDA_DEVICE_ORDER\"]=\"PCI_BUS_ID\"\n",
    "os.environ[\"CUDA_VISIBLE_DEVICES\"]=\"2,4\" #model will be trained on GPU 0"
   ]
  },
  {
   "cell_type": "code",
   "execution_count": 0,
   "metadata": {
    "colab": {},
    "colab_type": "code",
    "id": "fM-2muvGudiZ"
   },
   "outputs": [],
   "source": [
    "import pandas as pd\n",
    "import numpy as np\n",
    "from sklearn.preprocessing import MinMaxScaler"
   ]
  },
  {
   "cell_type": "markdown",
   "metadata": {
    "colab_type": "text",
    "id": "f_74tmNKudii"
   },
   "source": [
    "## The Data"
   ]
  },
  {
   "cell_type": "markdown",
   "metadata": {
    "colab_type": "text",
    "id": "oTsn1nxqAw1U"
   },
   "source": [
    "# New Section"
   ]
  },
  {
   "cell_type": "code",
   "execution_count": 0,
   "metadata": {
    "colab": {},
    "colab_type": "code",
    "id": "nt267GE-udik"
   },
   "outputs": [],
   "source": [
    "import numpy as np\n",
    "def load_matrices(file_name):\n",
    "    with open(file_name, 'rb') as f:\n",
    "        A = np.load(f)\n",
    "        B = np.load(f)\n",
    "        C = np.load(f)\n",
    "        D = np.load(f)\n",
    "        E = np.load(f)\n",
    "        F = np.load(f)\n",
    "    return (A,B,C,D,E,F)"
   ]
  },
  {
   "cell_type": "code",
   "execution_count": 0,
   "metadata": {
    "colab": {},
    "colab_type": "code",
    "id": "cspEdnm3udip"
   },
   "outputs": [],
   "source": [
    "my_file =  '10data2.npy'\n",
    "train,test,y_train,y_test,ylabel_train, ylabel_test = load_matrices(my_file)"
   ]
  },
  {
   "cell_type": "markdown",
   "metadata": {
    "colab_type": "text",
    "id": "myU7v-Ziudiv"
   },
   "source": [
    "## The Model"
   ]
  },
  {
   "cell_type": "code",
   "execution_count": 0,
   "metadata": {
    "colab": {
     "base_uri": "https://localhost:8080/",
     "height": 304
    },
    "colab_type": "code",
    "executionInfo": {
     "elapsed": 2048,
     "status": "ok",
     "timestamp": 1584570577112,
     "user": {
      "displayName": "yesi novaria kunang",
      "photoUrl": "",
      "userId": "10182320802774426296"
     },
     "user_tz": -420
    },
    "id": "wIv9zClCudix",
    "outputId": "79f67221-e8c7-4565-ca8c-c620bb905658"
   },
   "outputs": [
    {
     "name": "stderr",
     "output_type": "stream",
     "text": [
      "Using TensorFlow backend.\n",
      "/usr/local/lib/python3.6/dist-packages/tensorflow/python/framework/dtypes.py:526: FutureWarning: Passing (type, 1) or '1type' as a synonym of type is deprecated; in a future version of numpy, it will be understood as (type, (1,)) / '(1,)type'.\n",
      "  _np_qint8 = np.dtype([(\"qint8\", np.int8, 1)])\n",
      "/usr/local/lib/python3.6/dist-packages/tensorflow/python/framework/dtypes.py:527: FutureWarning: Passing (type, 1) or '1type' as a synonym of type is deprecated; in a future version of numpy, it will be understood as (type, (1,)) / '(1,)type'.\n",
      "  _np_quint8 = np.dtype([(\"quint8\", np.uint8, 1)])\n",
      "/usr/local/lib/python3.6/dist-packages/tensorflow/python/framework/dtypes.py:528: FutureWarning: Passing (type, 1) or '1type' as a synonym of type is deprecated; in a future version of numpy, it will be understood as (type, (1,)) / '(1,)type'.\n",
      "  _np_qint16 = np.dtype([(\"qint16\", np.int16, 1)])\n",
      "/usr/local/lib/python3.6/dist-packages/tensorflow/python/framework/dtypes.py:529: FutureWarning: Passing (type, 1) or '1type' as a synonym of type is deprecated; in a future version of numpy, it will be understood as (type, (1,)) / '(1,)type'.\n",
      "  _np_quint16 = np.dtype([(\"quint16\", np.uint16, 1)])\n",
      "/usr/local/lib/python3.6/dist-packages/tensorflow/python/framework/dtypes.py:530: FutureWarning: Passing (type, 1) or '1type' as a synonym of type is deprecated; in a future version of numpy, it will be understood as (type, (1,)) / '(1,)type'.\n",
      "  _np_qint32 = np.dtype([(\"qint32\", np.int32, 1)])\n",
      "/usr/local/lib/python3.6/dist-packages/tensorflow/python/framework/dtypes.py:535: FutureWarning: Passing (type, 1) or '1type' as a synonym of type is deprecated; in a future version of numpy, it will be understood as (type, (1,)) / '(1,)type'.\n",
      "  np_resource = np.dtype([(\"resource\", np.ubyte, 1)])\n"
     ]
    },
    {
     "data": {
      "text/html": [
       "<p style=\"color: red;\">\n",
       "The default version of TensorFlow in Colab will soon switch to TensorFlow 2.x.<br>\n",
       "We recommend you <a href=\"https://www.tensorflow.org/guide/migrate\" target=\"_blank\">upgrade</a> now \n",
       "or ensure your notebook will continue to use TensorFlow 1.x via the <code>%tensorflow_version 1.x</code> magic:\n",
       "<a href=\"https://colab.research.google.com/notebooks/tensorflow_version.ipynb\" target=\"_blank\">more info</a>.</p>\n"
      ],
      "text/plain": [
       "<IPython.core.display.HTML object>"
      ]
     },
     "metadata": {
      "tags": []
     },
     "output_type": "display_data"
    }
   ],
   "source": [
    "from keras import backend as K\n",
    "from keras.layers import Input,Dense, Activation, Reshape, Dropout\n",
    "from keras.layers.embeddings import Embedding\n",
    "from keras.layers import InputLayer, Input\n",
    "from keras.optimizers import Adam\n",
    "from keras.callbacks import TensorBoard\n",
    "from keras.models import load_model\n",
    "from keras.layers.advanced_activations import LeakyReLU\n",
    "from keras.layers.advanced_activations import PReLU\n",
    "from keras.activations import relu, elu\n",
    "from keras.losses import binary_crossentropy\n",
    "from keras.models import Model, Sequential\n",
    "from keras.callbacks import ModelCheckpoint, CSVLogger"
   ]
  },
  {
   "cell_type": "code",
   "execution_count": 0,
   "metadata": {
    "colab": {},
    "colab_type": "code",
    "id": "TRk_aVkit6AJ"
   },
   "outputs": [],
   "source": [
    "import talos as ta\n",
    "import wrangle as wr\n",
    "from talos.metrics.keras_metrics import fmeasure_acc\n",
    "from talos import live"
   ]
  },
  {
   "cell_type": "code",
   "execution_count": 0,
   "metadata": {
    "colab": {},
    "colab_type": "code",
    "id": "Ip19Xb_uudi-"
   },
   "outputs": [],
   "source": [
    "# We apply a fairly simple MLP architecture"
   ]
  },
  {
   "cell_type": "code",
   "execution_count": 0,
   "metadata": {
    "colab": {},
    "colab_type": "code",
    "id": "48l2GiaqudjE"
   },
   "outputs": [],
   "source": [
    "#actvation leakyrelu\n",
    "LR= LeakyReLU(0.01)\n",
    "LR.__name__ = 'lrelu'\n",
    "#actvation prelu\n",
    "#PR= PReLU(init='zero', weights=None)\n",
    "#PR.__name__ = 'prelu'"
   ]
  },
  {
   "cell_type": "code",
   "execution_count": 0,
   "metadata": {
    "colab": {},
    "colab_type": "code",
    "id": "IvupgcgiuNDV"
   },
   "outputs": [],
   "source": [
    "\n",
    "filepath=\"./logtalos/best1.hdf5\"\n",
    "checkpoint = ModelCheckpoint(filepath, monitor='loss', save_best_only=True, mode='min')\n",
    "callbacks_list = [checkpoint]"
   ]
  },
  {
   "cell_type": "code",
   "execution_count": 0,
   "metadata": {
    "colab": {},
    "colab_type": "code",
    "id": "UxhwoWAWuVF-"
   },
   "outputs": [],
   "source": [
    "# first we have to make sure to input data and params into the function\n",
    "# add input parameters to the function\n",
    "def dnn(x_train, ylabel_train, x_val, y_val, params):\n",
    "\n",
    "    input_dim = x_train.shape[1]\n",
    "\n",
    "    input_img = Input(shape=(input_dim,))\n",
    "    \n",
    "    first_neuron=params['first_neuron']\n",
    "    batch_size=params['batch_size']\n",
    "    kernel_initial=params['kernel_initializer']\n",
    "    lr=params['lr']\n",
    "    activation=params['activation']\n",
    "    \n",
    "    print('activation=',activation)\n",
    "    \n",
    "    log_file1 = './logtalos/best1/best1.hdf'\n",
    "    checkpoint2 = ModelCheckpoint(log_file1, monitor='acc', save_best_only=True, mode='max')\n",
    "\n",
    "    \n",
    "    log_file2 = './logtalos/best1/best1.csv'\n",
    "\n",
    "    csv_logger2 = CSVLogger(log_file2,separator=',', append=False)\n",
    "    callbacks_list2 = [checkpoint2,csv_logger2]\n",
    "    \n",
    "    ###AE\n",
    "    \n",
    "    # replace the hyperparameter inputs with references to params dictionary \n",
    "    autoencoder = Sequential()\n",
    "    #encoder\n",
    "    \n",
    "    if activation==PReLU: \n",
    "        autoencoder.add(Dense(first_neuron, input_shape=(input_dim,), kernel_initializer=kernel_initial))\n",
    "        autoencoder.add(PReLU())\n",
    "        \n",
    "                   \n",
    "        #decoder\n",
    "        #model.add(Dense(8, activation=params['activation']))\n",
    "        autoencoder.add(Dense(input_dim, activation='sigmoid', kernel_initializer=kernel_initial))\n",
    "        \n",
    "    else:\n",
    "        autoencoder.add(Dense(first_neuron, input_shape=(input_dim,), activation=activation, kernel_initializer=kernel_initial))\n",
    "        #decoder\n",
    "        #model.add(Dense(8, activation=params['activation']))\n",
    "        autoencoder.add(Dense(input_dim, activation='sigmoid', kernel_initializer=kernel_initial))\n",
    "    \n",
    "    #model = multi_gpu_model(model, gpus=1)\n",
    "    autoencoder.summary()\n",
    "    print(input_dim)\n",
    "    \n",
    "    input_img = Input(shape=(input_dim,))\n",
    "    encoder_layer1 = autoencoder.layers[0]\n",
    "   \n",
    "    encoder = Model(input_img, encoder_layer1(input_img))\n",
    "    \n",
    "    #encoder_layer1 = autoencoder.layers[0]\n",
    "    #encoder_layer2 = autoencoder.layers[1]\n",
    "    #encoder_layer3 = autoencoder.layers[2]\n",
    "    #encoder = Model(input_img, encoder_layer3(encoder_layer2(encoder_layer1(input_img))))\n",
    "    encoder.summary()\n",
    "\n",
    "    \n",
    "    autoencoder.compile(loss='mse', optimizer='adam', metrics=['acc'])\n",
    "    #model.compile(loss=params['losses'],\n",
    "    #              optimizer=params['optimizer'](),\n",
    "    #              metrics=['acc', fmeasure_acc])\n",
    "    \n",
    "   \n",
    "\n",
    "    \n",
    "    history=autoencoder.fit(x,x,\n",
    "                             epochs=params['epochs'],\n",
    "                             batch_size=batch_size,\n",
    "                              #shuffle=True,\n",
    "                              #validation_split=0,\n",
    "                              callbacks=callbacks_list,                    \n",
    "                             #callbacks=[early_stopping])\n",
    "                              validation_data=(test,test),\n",
    "                              verbose=1)\n",
    "  \n",
    "\n",
    "    num_classes=15\n",
    "    out2 = Dense(num_classes, activation='softmax',kernel_initializer=kernel_initial)(encoder.output)\n",
    "    newmodel = Model(encoder.input,out2)\n",
    "    \n",
    "   \n",
    "    newmodel.compile(loss='categorical_crossentropy', \n",
    "                     #optimizer='adam', \n",
    "                     optimizer= Adam(lr=lr, beta_1=0.9, beta_2=0.999, epsilon=1e-08,decay=0.0, amsgrad=False),\n",
    "                     metrics=['acc']) \n",
    "    newmodel.summary()\n",
    "\n",
    "\n",
    "    history2a=newmodel.fit(x, y,\n",
    "                           epochs=params['epochs2'],\n",
    "                           batch_size=batch_size,\n",
    "                           #validation_split=0,\n",
    "                           callbacks=callbacks_list2,\n",
    "                           #callbacks=[early_stopping],\n",
    "                           validation_data=(test,ylabel_test),\n",
    "                           verbose=1)\n",
    "\n",
    "    \n",
    "    del encoder\n",
    "    del autoencoder\n",
    "    #del dnn_model\n",
    "    \n",
    "    tf.reset_default_graph()\n",
    "    \n",
    "    return history2a, newmodel #, encoder\n",
    "    "
   ]
  },
  {
   "cell_type": "code",
   "execution_count": 0,
   "metadata": {
    "colab": {},
    "colab_type": "code",
    "id": "Nr8JU5IJupWq"
   },
   "outputs": [],
   "source": [
    "# then we can go ahead and set the parameter space\n",
    "p = {'first_neuron':[60],\n",
    "     'batch_size': [32],\n",
    "     'epochs': [20],\n",
    "     'epochs2': [200],\n",
    "     'dropout': [0],\n",
    "     'kernel_initializer': ['lecun_normal'],\n",
    "     'optimizer': [Adam],\n",
    "     'lr':[0.001],\n",
    "     'activation':[relu]}\n"
   ]
  },
  {
   "cell_type": "code",
   "execution_count": 0,
   "metadata": {
    "colab": {},
    "colab_type": "code",
    "id": "uoxzovAIudjs"
   },
   "outputs": [],
   "source": [
    "import tensorflow as tf\n",
    "from keras.backend.tensorflow_backend import set_session, clear_session\n",
    "\n",
    "config = tf.ConfigProto(allow_soft_placement=True)\n",
    "#config.gpu_options.allow_growth = True  # dynamically grow the memory used on the GPU\n",
    "sess = tf.Session(config=config)\n",
    "set_session(sess)  # set this TensorFlow session as the default session for Keras"
   ]
  },
  {
   "cell_type": "code",
   "execution_count": 0,
   "metadata": {
    "colab": {},
    "colab_type": "code",
    "id": "wIFMvuijudjv"
   },
   "outputs": [],
   "source": [
    "x=train\n",
    "y=ylabel_train"
   ]
  },
  {
   "cell_type": "code",
   "execution_count": 0,
   "metadata": {
    "colab": {
     "base_uri": "https://localhost:8080/",
     "height": 34
    },
    "colab_type": "code",
    "executionInfo": {
     "elapsed": 1654,
     "status": "ok",
     "timestamp": 1584570620640,
     "user": {
      "displayName": "yesi novaria kunang",
      "photoUrl": "",
      "userId": "10182320802774426296"
     },
     "user_tz": -420
    },
    "id": "HxjQjoxMudjy",
    "outputId": "12baa673-1636-4259-d6c3-0641961c8bd2"
   },
   "outputs": [
    {
     "data": {
      "text/plain": [
       "(1619315, 80)"
      ]
     },
     "execution_count": 25,
     "metadata": {
      "tags": []
     },
     "output_type": "execute_result"
    }
   ],
   "source": [
    "np.shape(x)"
   ]
  },
  {
   "cell_type": "code",
   "execution_count": 0,
   "metadata": {
    "colab": {
     "base_uri": "https://localhost:8080/",
     "height": 34
    },
    "colab_type": "code",
    "executionInfo": {
     "elapsed": 1864,
     "status": "ok",
     "timestamp": 1584570624455,
     "user": {
      "displayName": "yesi novaria kunang",
      "photoUrl": "",
      "userId": "10182320802774426296"
     },
     "user_tz": -420
    },
    "id": "EuWyAYbKudj1",
    "outputId": "d240d82d-45f5-4c95-da1c-9e8ac681b1f2"
   },
   "outputs": [
    {
     "data": {
      "text/plain": [
       "(1619315, 15)"
      ]
     },
     "execution_count": 26,
     "metadata": {
      "tags": []
     },
     "output_type": "execute_result"
    }
   ],
   "source": [
    "np.shape(y)"
   ]
  },
  {
   "cell_type": "code",
   "execution_count": 27,
   "metadata": {
    "colab": {
     "base_uri": "https://localhost:8080/",
     "height": 1000
    },
    "colab_type": "code",
    "executionInfo": {
     "elapsed": 3700746,
     "status": "ok",
     "timestamp": 1584586294979,
     "user": {
      "displayName": "yesi novaria kunang",
      "photoUrl": "",
      "userId": "10182320802774426296"
     },
     "user_tz": -420
    },
    "id": "KpJR5uwUu4Kz",
    "outputId": "e54ed9d5-109b-42b4-9555-25ebd7409b52"
   },
   "outputs": [
    {
     "name": "stderr",
     "output_type": "stream",
     "text": [
      "\r",
      "  0%|          | 0/1 [00:00<?, ?it/s]"
     ]
    },
    {
     "name": "stdout",
     "output_type": "stream",
     "text": [
      "activation= <function relu at 0x7fa35de459d8>\n",
      "WARNING:tensorflow:From /usr/local/lib/python3.6/dist-packages/tensorflow/python/framework/op_def_library.py:263: colocate_with (from tensorflow.python.framework.ops) is deprecated and will be removed in a future version.\n",
      "Instructions for updating:\n",
      "Colocations handled automatically by placer.\n",
      "Model: \"sequential_1\"\n",
      "_________________________________________________________________\n",
      "Layer (type)                 Output Shape              Param #   \n",
      "=================================================================\n",
      "dense_1 (Dense)              (None, 60)                4860      \n",
      "_________________________________________________________________\n",
      "dense_2 (Dense)              (None, 80)                4880      \n",
      "=================================================================\n",
      "Total params: 9,740\n",
      "Trainable params: 9,740\n",
      "Non-trainable params: 0\n",
      "_________________________________________________________________\n",
      "80\n",
      "Model: \"model_1\"\n",
      "_________________________________________________________________\n",
      "Layer (type)                 Output Shape              Param #   \n",
      "=================================================================\n",
      "input_2 (InputLayer)         (None, 80)                0         \n",
      "_________________________________________________________________\n",
      "dense_1 (Dense)              (None, 60)                4860      \n",
      "=================================================================\n",
      "Total params: 4,860\n",
      "Trainable params: 4,860\n",
      "Non-trainable params: 0\n",
      "_________________________________________________________________\n",
      "WARNING:tensorflow:From /usr/local/lib/python3.6/dist-packages/tensorflow/python/ops/math_ops.py:3066: to_int32 (from tensorflow.python.ops.math_ops) is deprecated and will be removed in a future version.\n",
      "Instructions for updating:\n",
      "Use tf.cast instead.\n",
      "Train on 1619315 samples, validate on 404836 samples\n",
      "Epoch 1/20\n",
      "1619315/1619315 [==============================] - 67s 41us/step - loss: 4.5184e-04 - acc: 0.2457 - val_loss: 2.9027e-05 - val_acc: 0.2862\n",
      "Epoch 2/20\n",
      "1619315/1619315 [==============================] - 67s 41us/step - loss: 2.1683e-05 - acc: 0.3151 - val_loss: 2.3118e-05 - val_acc: 0.2877\n",
      "Epoch 3/20\n",
      "1619315/1619315 [==============================] - 67s 41us/step - loss: 1.9777e-05 - acc: 0.2916 - val_loss: 2.2155e-05 - val_acc: 0.2865\n",
      "Epoch 4/20\n",
      "1619315/1619315 [==============================] - 66s 41us/step - loss: 1.8781e-05 - acc: 0.3085 - val_loss: 1.9297e-05 - val_acc: 0.3217\n",
      "Epoch 5/20\n",
      "1619315/1619315 [==============================] - 66s 41us/step - loss: 1.7860e-05 - acc: 0.3239 - val_loss: 1.9373e-05 - val_acc: 0.3182\n",
      "Epoch 6/20\n",
      "1619315/1619315 [==============================] - 67s 41us/step - loss: 1.7258e-05 - acc: 0.3236 - val_loss: 1.7782e-05 - val_acc: 0.3296\n",
      "Epoch 7/20\n",
      "1619315/1619315 [==============================] - 67s 41us/step - loss: 1.6566e-05 - acc: 0.3252 - val_loss: 1.7257e-05 - val_acc: 0.3227\n",
      "Epoch 8/20\n",
      "1619315/1619315 [==============================] - 70s 43us/step - loss: 1.5795e-05 - acc: 0.3243 - val_loss: 1.7096e-05 - val_acc: 0.3097\n",
      "Epoch 9/20\n",
      "1619315/1619315 [==============================] - 69s 43us/step - loss: 1.5464e-05 - acc: 0.3132 - val_loss: 1.6111e-05 - val_acc: 0.3169\n",
      "Epoch 10/20\n",
      "1619315/1619315 [==============================] - 68s 42us/step - loss: 1.5270e-05 - acc: 0.2981 - val_loss: 1.6354e-05 - val_acc: 0.2824\n",
      "Epoch 11/20\n",
      "1619315/1619315 [==============================] - 67s 42us/step - loss: 1.5105e-05 - acc: 0.2869 - val_loss: 1.5655e-05 - val_acc: 0.2910\n",
      "Epoch 12/20\n",
      "1619315/1619315 [==============================] - 67s 42us/step - loss: 1.4938e-05 - acc: 0.2950 - val_loss: 1.6018e-05 - val_acc: 0.2976\n",
      "Epoch 13/20\n",
      "1619315/1619315 [==============================] - 67s 41us/step - loss: 1.4783e-05 - acc: 0.2926 - val_loss: 1.5558e-05 - val_acc: 0.2933\n",
      "Epoch 14/20\n",
      "1619315/1619315 [==============================] - 67s 42us/step - loss: 1.4675e-05 - acc: 0.3020 - val_loss: 1.6330e-05 - val_acc: 0.2992\n",
      "Epoch 15/20\n",
      "1619315/1619315 [==============================] - 68s 42us/step - loss: 1.4558e-05 - acc: 0.3195 - val_loss: 1.6205e-05 - val_acc: 0.3798\n",
      "Epoch 16/20\n",
      "1619315/1619315 [==============================] - 67s 41us/step - loss: 1.4433e-05 - acc: 0.3288 - val_loss: 1.5334e-05 - val_acc: 0.3807\n",
      "Epoch 17/20\n",
      "1619315/1619315 [==============================] - 67s 42us/step - loss: 1.4284e-05 - acc: 0.3631 - val_loss: 1.5515e-05 - val_acc: 0.3076\n",
      "Epoch 18/20\n",
      "1619315/1619315 [==============================] - 67s 41us/step - loss: 1.4202e-05 - acc: 0.3577 - val_loss: 1.5040e-05 - val_acc: 0.3874\n",
      "Epoch 19/20\n",
      "1619315/1619315 [==============================] - 67s 41us/step - loss: 1.4155e-05 - acc: 0.3787 - val_loss: 1.5132e-05 - val_acc: 0.5056\n",
      "Epoch 20/20\n",
      "1619315/1619315 [==============================] - 67s 41us/step - loss: 1.4077e-05 - acc: 0.3816 - val_loss: 1.5647e-05 - val_acc: 0.3849\n",
      "Model: \"model_2\"\n",
      "_________________________________________________________________\n",
      "Layer (type)                 Output Shape              Param #   \n",
      "=================================================================\n",
      "input_2 (InputLayer)         (None, 80)                0         \n",
      "_________________________________________________________________\n",
      "dense_1 (Dense)              (None, 60)                4860      \n",
      "_________________________________________________________________\n",
      "dense_3 (Dense)              (None, 15)                915       \n",
      "=================================================================\n",
      "Total params: 5,775\n",
      "Trainable params: 5,775\n",
      "Non-trainable params: 0\n",
      "_________________________________________________________________\n",
      "Train on 1619315 samples, validate on 404836 samples\n",
      "Epoch 1/200\n",
      "1619315/1619315 [==============================] - 70s 43us/step - loss: 0.1664 - acc: 0.9447 - val_loss: 0.1388 - val_acc: 0.9523\n",
      "Epoch 2/200\n",
      "1619315/1619315 [==============================] - 70s 43us/step - loss: 0.1371 - acc: 0.9525 - val_loss: 0.1346 - val_acc: 0.9536\n",
      "Epoch 3/200\n",
      "1619315/1619315 [==============================] - 69s 43us/step - loss: 0.1347 - acc: 0.9533 - val_loss: 0.1334 - val_acc: 0.9540\n",
      "Epoch 4/200\n",
      "1619315/1619315 [==============================] - 69s 43us/step - loss: 0.1335 - acc: 0.9538 - val_loss: 0.1324 - val_acc: 0.9544\n",
      "Epoch 5/200\n",
      "1619315/1619315 [==============================] - 69s 43us/step - loss: 0.1327 - acc: 0.9540 - val_loss: 0.1306 - val_acc: 0.9553\n",
      "Epoch 6/200\n",
      "1619315/1619315 [==============================] - 70s 43us/step - loss: 0.1321 - acc: 0.9543 - val_loss: 0.1311 - val_acc: 0.9549\n",
      "Epoch 7/200\n",
      "1619315/1619315 [==============================] - 70s 43us/step - loss: 0.1317 - acc: 0.9545 - val_loss: 0.1295 - val_acc: 0.9560\n",
      "Epoch 8/200\n",
      "1619315/1619315 [==============================] - 70s 43us/step - loss: 0.1313 - acc: 0.9546 - val_loss: 0.1293 - val_acc: 0.9560\n",
      "Epoch 9/200\n",
      "1619315/1619315 [==============================] - 70s 43us/step - loss: 0.1310 - acc: 0.9546 - val_loss: 0.1299 - val_acc: 0.9551\n",
      "Epoch 10/200\n",
      "1619315/1619315 [==============================] - 70s 43us/step - loss: 0.1308 - acc: 0.9548 - val_loss: 0.1292 - val_acc: 0.9556\n",
      "Epoch 11/200\n",
      "1619315/1619315 [==============================] - 70s 43us/step - loss: 0.1305 - acc: 0.9548 - val_loss: 0.1289 - val_acc: 0.9561\n",
      "Epoch 12/200\n",
      "1619315/1619315 [==============================] - 70s 43us/step - loss: 0.1303 - acc: 0.9550 - val_loss: 0.1295 - val_acc: 0.9549\n",
      "Epoch 13/200\n",
      "1619315/1619315 [==============================] - 70s 43us/step - loss: 0.1301 - acc: 0.9551 - val_loss: 0.1296 - val_acc: 0.9558\n",
      "Epoch 14/200\n",
      "1619315/1619315 [==============================] - 70s 43us/step - loss: 0.1300 - acc: 0.9552 - val_loss: 0.1284 - val_acc: 0.9561\n",
      "Epoch 15/200\n",
      "1619315/1619315 [==============================] - 70s 43us/step - loss: 0.1299 - acc: 0.9553 - val_loss: 0.1293 - val_acc: 0.9559\n",
      "Epoch 16/200\n",
      "1619315/1619315 [==============================] - 70s 43us/step - loss: 0.1298 - acc: 0.9553 - val_loss: 0.1285 - val_acc: 0.9557\n",
      "Epoch 17/200\n",
      "1619315/1619315 [==============================] - 70s 43us/step - loss: 0.1296 - acc: 0.9554 - val_loss: 0.1286 - val_acc: 0.9558\n",
      "Epoch 18/200\n",
      "1619315/1619315 [==============================] - 69s 43us/step - loss: 0.1295 - acc: 0.9554 - val_loss: 0.1295 - val_acc: 0.9561\n",
      "Epoch 19/200\n",
      "1619315/1619315 [==============================] - 70s 43us/step - loss: 0.1294 - acc: 0.9554 - val_loss: 0.1280 - val_acc: 0.9563\n",
      "Epoch 20/200\n",
      "1619315/1619315 [==============================] - 70s 43us/step - loss: 0.1295 - acc: 0.9554 - val_loss: 0.1286 - val_acc: 0.9564\n",
      "Epoch 21/200\n",
      "1619315/1619315 [==============================] - 70s 43us/step - loss: 0.1294 - acc: 0.9555 - val_loss: 0.1280 - val_acc: 0.9551\n",
      "Epoch 22/200\n",
      "1619315/1619315 [==============================] - 69s 43us/step - loss: 0.1292 - acc: 0.9555 - val_loss: 0.1275 - val_acc: 0.9557\n",
      "Epoch 23/200\n",
      "1619315/1619315 [==============================] - 69s 43us/step - loss: 0.1292 - acc: 0.9556 - val_loss: 0.1280 - val_acc: 0.9565\n",
      "Epoch 24/200\n",
      "1619315/1619315 [==============================] - 70s 43us/step - loss: 0.1290 - acc: 0.9556 - val_loss: 0.1281 - val_acc: 0.9565\n",
      "Epoch 25/200\n",
      "1619315/1619315 [==============================] - 69s 43us/step - loss: 0.1290 - acc: 0.9557 - val_loss: 0.1274 - val_acc: 0.9562\n",
      "Epoch 26/200\n",
      "1619315/1619315 [==============================] - 70s 43us/step - loss: 0.1289 - acc: 0.9557 - val_loss: 0.1289 - val_acc: 0.9550\n",
      "Epoch 27/200\n",
      "1619315/1619315 [==============================] - 69s 43us/step - loss: 0.1289 - acc: 0.9558 - val_loss: 0.1280 - val_acc: 0.9562\n",
      "Epoch 28/200\n",
      "1619315/1619315 [==============================] - 70s 43us/step - loss: 0.1289 - acc: 0.9558 - val_loss: 0.1286 - val_acc: 0.9549\n",
      "Epoch 29/200\n",
      " 101216/1619315 [>.............................] - ETA: 57s - loss: 0.1297 - acc: 0.9560Buffered data was truncated after reaching the output size limit."
     ]
    }
   ],
   "source": [
    "t = ta.Scan(x, y, p, dnn, experiment_no='11')#,grid_downsample=0.1,)\n"
   ]
  },
  {
   "cell_type": "code",
   "execution_count": 28,
   "metadata": {
    "colab": {
     "base_uri": "https://localhost:8080/",
     "height": 306
    },
    "colab_type": "code",
    "executionInfo": {
     "elapsed": 3670505,
     "status": "ok",
     "timestamp": 1584586302347,
     "user": {
      "displayName": "yesi novaria kunang",
      "photoUrl": "",
      "userId": "10182320802774426296"
     },
     "user_tz": -420
    },
    "id": "7cBAs2MJsY_O",
    "outputId": "4cc5067e-2a05-4f8b-850f-27edcce74063"
   },
   "outputs": [
    {
     "name": "stdout",
     "output_type": "stream",
     "text": [
      "Model: \"model_2\"\n",
      "_________________________________________________________________\n",
      "Layer (type)                 Output Shape              Param #   \n",
      "=================================================================\n",
      "input_2 (InputLayer)         (None, 80)                0         \n",
      "_________________________________________________________________\n",
      "dense_1 (Dense)              (None, 60)                4860      \n",
      "_________________________________________________________________\n",
      "dense_3 (Dense)              (None, 15)                915       \n",
      "=================================================================\n",
      "Total params: 5,775\n",
      "Trainable params: 5,775\n",
      "Non-trainable params: 0\n",
      "_________________________________________________________________\n",
      "None\n",
      "Created model and loaded weights from file\n",
      "acc: 95.70%\n"
     ]
    }
   ],
   "source": [
    "from keras.models import load_model\n",
    "filepath2='./logtalos/best1/best1.hdf'\n",
    "dnn=load_model(filepath2)\n",
    "print(dnn.summary())\n",
    "dnn.load_weights(filepath2)\n",
    "dnn.compile(loss='categorical_crossentropy', optimizer='adam', metrics=['accuracy'])\n",
    "print(\"Created model and loaded weights from file\")\n",
    "scores = dnn.evaluate(test, ylabel_test, verbose=0)\n",
    "print(\"%s: %.2f%%\" % (dnn.metrics_names[1], scores[1]*100))"
   ]
  },
  {
   "cell_type": "code",
   "execution_count": 29,
   "metadata": {
    "colab": {
     "base_uri": "https://localhost:8080/",
     "height": 85
    },
    "colab_type": "code",
    "executionInfo": {
     "elapsed": 3716810,
     "status": "ok",
     "timestamp": 1584586350877,
     "user": {
      "displayName": "yesi novaria kunang",
      "photoUrl": "",
      "userId": "10182320802774426296"
     },
     "user_tz": -420
    },
    "id": "io5vb0wsudkB",
    "outputId": "5bef4ecd-fa35-417d-bcac-00514b5bb917"
   },
   "outputs": [
    {
     "name": "stdout",
     "output_type": "stream",
     "text": [
      "1619315/1619315 [==============================] - 28s 18us/step\n",
      "loss 0.12557761152540184\n",
      "acc 0.9567588764385309\n",
      "acc: 95.68%\n"
     ]
    }
   ],
   "source": [
    "\n",
    "\n",
    "result_train = dnn.evaluate(train,ylabel_train)\n",
    "for name, value in zip(dnn.metrics_names, result_train):\n",
    "    print(name, value)\n",
    "    \n",
    "print(\"%s: %.2f%%\" % (dnn.metrics_names[1], result_train[1]*100))\n",
    "\n",
    "##prediksi data Train\n",
    "\n",
    "preds = dnn.predict(train)\n",
    "pred_lbls = np.argmax(preds, axis=1)\n",
    "true_lbls = np.argmax(ylabel_train, axis=1)"
   ]
  },
  {
   "cell_type": "code",
   "execution_count": 0,
   "metadata": {
    "colab": {},
    "colab_type": "code",
    "id": "3xphKw0IsY_V"
   },
   "outputs": [],
   "source": [
    "import matplotlib.pyplot as plt\n",
    "import itertools\n",
    "from sklearn.metrics import confusion_matrix\n",
    "\n",
    "def plot_confusion_matrix(cm, classes,\n",
    "                          normalize=False,\n",
    "                          title='Confusion matrix',\n",
    "                          cmap=plt.cm.Blues):\n",
    "    \"\"\"\n",
    "    This function prints and plots the confusion matrix.\n",
    "    Normalization can be applied by setting `normalize=True`.\n",
    "    \"\"\"\n",
    "    if normalize:\n",
    "        cm = cm.astype('float') / cm.sum(axis=1)[:, np.newaxis]\n",
    "        print(\"Normalized confusion matrix\")\n",
    "    else:\n",
    "        print('Confusion matrix, without normalization')\n",
    "\n",
    "    print(cm)\n",
    "\n",
    "    plt.imshow(cm, interpolation='nearest', cmap=cmap)\n",
    "    plt.title(title)\n",
    "    plt.colorbar()\n",
    "    tick_marks = np.arange(len(classes))\n",
    "    plt.xticks(tick_marks, classes, rotation=45)\n",
    "    plt.yticks(tick_marks, classes)\n",
    "\n",
    "    fmt = '.2f' if normalize else 'd'\n",
    "    thresh = cm.max() / 2.\n",
    "    for i, j in itertools.product(range(cm.shape[0]), range(cm.shape[1])):\n",
    "        plt.text(j, i, format(cm[i, j], fmt),\n",
    "                 horizontalalignment=\"center\",\n",
    "                 color=\"white\" if cm[i, j] > thresh else \"black\")\n",
    "\n",
    "    plt.tight_layout()\n",
    "    plt.ylabel('True label')\n",
    "    plt.xlabel('Predicted label')"
   ]
  },
  {
   "cell_type": "code",
   "execution_count": 31,
   "metadata": {
    "colab": {
     "base_uri": "https://localhost:8080/",
     "height": 391
    },
    "colab_type": "code",
    "executionInfo": {
     "elapsed": 3685311,
     "status": "ok",
     "timestamp": 1584586353088,
     "user": {
      "displayName": "yesi novaria kunang",
      "photoUrl": "",
      "userId": "10182320802774426296"
     },
     "user_tz": -420
    },
    "id": "eXOm19QPsY_c",
    "outputId": "8c82d94a-2ace-4f90-b050-3e163f2cc8ec"
   },
   "outputs": [
    {
     "name": "stdout",
     "output_type": "stream",
     "text": [
      "                          precision    recall  f1-score   support\n",
      "\n",
      "                  Benign    0.95427   0.99527   0.97434    803025\n",
      "                     Bot    0.99963   0.99973   0.99968     85842\n",
      "        Brute Force -Web    0.80500   0.64919   0.71875       496\n",
      "        Brute Force -XSS    0.97849   0.48663   0.65000       187\n",
      "        DDOS attack-HOIC    0.99994   0.99999   0.99997    192098\n",
      "    DDOS attack-LOIC-UDP    0.90612   0.95668   0.93071      1362\n",
      "  DDoS attacks-LOIC-HTTP    0.99903   0.99877   0.99890    161447\n",
      "   DoS attacks-GoldenEye    0.99840   0.99952   0.99896     25008\n",
      "        DoS attacks-Hulk    0.99989   0.99978   0.99984    138459\n",
      "DoS attacks-SlowHTTPTest    0.77124   0.48964   0.59899     41974\n",
      "   DoS attacks-Slowloris    0.99533   0.99924   0.99728      6612\n",
      "          FTP-BruteForce    0.70799   0.89510   0.79062     58055\n",
      "           Infilteration    0.73773   0.21294   0.33049     48347\n",
      "           SQL Injection    0.51064   0.33803   0.40678        71\n",
      "          SSH-Bruteforce    0.99991   0.99975   0.99983     56332\n",
      "\n",
      "                accuracy                        0.95676   1619315\n",
      "               macro avg    0.89091   0.80135   0.82634   1619315\n",
      "            weighted avg    0.95275   0.95676   0.94900   1619315\n",
      "\n"
     ]
    }
   ],
   "source": [
    "\n",
    "from sklearn.metrics import classification_report\n",
    "outcomes = ['Benign', 'Bot', 'Brute Force -Web', 'Brute Force -XSS',\n",
    "'DDOS attack-HOIC','DDOS attack-LOIC-UDP','DDoS attacks-LOIC-HTTP',\n",
    "'DoS attacks-GoldenEye','DoS attacks-Hulk','DoS attacks-SlowHTTPTest','DoS attacks-Slowloris',\n",
    "'FTP-BruteForce','Infilteration','SQL Injection','SSH-Bruteforce' ]\n",
    "class_names=outcomes\n",
    "\n",
    "\n",
    "target_names = [\"Class {}\".format(i) for i in range(15)]\n",
    "print(classification_report(true_lbls, pred_lbls, target_names=class_names, digits=5))\n",
    "#print(classification_report(Y_test, y_predict))"
   ]
  },
  {
   "cell_type": "code",
   "execution_count": 32,
   "metadata": {
    "colab": {
     "base_uri": "https://localhost:8080/",
     "height": 1000
    },
    "colab_type": "code",
    "executionInfo": {
     "elapsed": 3687302,
     "status": "ok",
     "timestamp": 1584586356226,
     "user": {
      "displayName": "yesi novaria kunang",
      "photoUrl": "",
      "userId": "10182320802774426296"
     },
     "user_tz": -420
    },
    "id": "_vux5YmhsY_g",
    "outputId": "4785aea6-5fe7-4855-a24c-716b2deeb1f8"
   },
   "outputs": [
    {
     "name": "stdout",
     "output_type": "stream",
     "text": [
      "Confusion matrix, without normalization\n",
      "[[799228     31     11      0     11      0     23     10      5      3\n",
      "      25      2   3657     14      5]\n",
      " [    22  85819      0      0      0      0      0      0      0      0\n",
      "       0      0      1      0      0]\n",
      " [   134      0    322      2      0      0     33      0      0      0\n",
      "       0      0      0      5      0]\n",
      " [    15      0     47     91      0      0     34      0      0      0\n",
      "       0      0      0      0      0]\n",
      " [     1      0      0      0 192097      0      0      0      0      0\n",
      "       0      0      0      0      0]\n",
      " [     0      0      0      0      0   1303     59      0      0      0\n",
      "       0      0      0      0      0]\n",
      " [    64      0      0      0      0    135 161248      0      0      0\n",
      "       0      0      0      0      0]\n",
      " [     2      0      0      0      0      0      0  24996      6      0\n",
      "       4      0      0      0      0]\n",
      " [     1      0      0      0      0      0      0     28 138429      0\n",
      "       0      0      1      0      0]\n",
      " [     0      0      0      0      0      0      0      0      0  20552\n",
      "       0  21422      0      0      0]\n",
      " [     4      0      0      0      0      0      0      0      0      0\n",
      "    6607      0      1      0      0]\n",
      " [     0      0      0      0      0      0      0      0      0   6090\n",
      "       0  51965      0      0      0]\n",
      " [ 38033      1      2      0      0      0      5      2      1      1\n",
      "       2      1  10295      4      0]\n",
      " [    25      0     18      0      0      0      3      0      1      0\n",
      "       0      0      0     24      0]\n",
      " [     2      0      0      0      0      0      0      0      2      2\n",
      "       0      8      0      0  56318]]\n"
     ]
    },
    {
     "data": {
      "image/png": "[encoded data removed]",
      "text/plain": [
       "<Figure size 720x720 with 2 Axes>"
      ]
     },
     "metadata": {
      "tags": []
     },
     "output_type": "display_data"
    }
   ],
   "source": [
    "\n",
    "\n",
    "#outcomes = ['DoS', 'normal','Probe' ,'R2L', 'U2R']\n",
    "class_names=outcomes\n",
    "\n",
    "\n",
    "results = confusion_matrix(true_lbls, pred_lbls)\n",
    "# Plot non-normalized confusion matrix\n",
    "plt.figure(figsize=(10,10))\n",
    "plot_confusion_matrix(results, classes=class_names,\n",
    "                      title='Confusion matrix')\n",
    "\n",
    "#print(classification_report(y_test, deepprediction, target_names=class_names, digits=5))"
   ]
  },
  {
   "cell_type": "markdown",
   "metadata": {
    "colab_type": "text",
    "id": "4dGr4-PgsY_k"
   },
   "source": [
    "# Data Test"
   ]
  },
  {
   "cell_type": "code",
   "execution_count": 33,
   "metadata": {
    "colab": {
     "base_uri": "https://localhost:8080/",
     "height": 85
    },
    "colab_type": "code",
    "executionInfo": {
     "elapsed": 3692001,
     "status": "ok",
     "timestamp": 1584586362630,
     "user": {
      "displayName": "yesi novaria kunang",
      "photoUrl": "",
      "userId": "10182320802774426296"
     },
     "user_tz": -420
    },
    "id": "AjVoWvkrsY_l",
    "outputId": "691539fe-4f4f-4a2c-ba31-0c27d97ff799"
   },
   "outputs": [
    {
     "name": "stdout",
     "output_type": "stream",
     "text": [
      "404836/404836 [==============================] - 7s 17us/step\n",
      "loss 0.12590469080661634\n",
      "acc 0.9569825806005394\n",
      "acc: 95.70%\n"
     ]
    }
   ],
   "source": [
    "\n",
    "#Data Test\n",
    "result_test = dnn.evaluate(test,ylabel_test)\n",
    "for name, value in zip(dnn.metrics_names, result_test):\n",
    "    print(name, value)\n",
    "    \n",
    "print(\"%s: %.2f%%\" % (dnn.metrics_names[1], result_test[1]*100))\n"
   ]
  },
  {
   "cell_type": "code",
   "execution_count": 0,
   "metadata": {
    "colab": {},
    "colab_type": "code",
    "id": "fe3y2jWlsY_o"
   },
   "outputs": [],
   "source": [
    "\n",
    "##prediksi data Train\n",
    "#y_test=y_test.to_numpy()\n",
    "\n",
    "preds = dnn.predict(test)\n",
    "pred_lbls = np.argmax(preds, axis=1)\n",
    "true_lbls = np.argmax(ylabel_test, axis=1)\n",
    "\n"
   ]
  },
  {
   "cell_type": "code",
   "execution_count": 35,
   "metadata": {
    "colab": {
     "base_uri": "https://localhost:8080/",
     "height": 1000
    },
    "colab_type": "code",
    "executionInfo": {
     "elapsed": 3697320,
     "status": "ok",
     "timestamp": 1584586370233,
     "user": {
      "displayName": "yesi novaria kunang",
      "photoUrl": "",
      "userId": "10182320802774426296"
     },
     "user_tz": -420
    },
    "id": "XPFaMXTksY_s",
    "outputId": "fb0c9716-fa51-42d6-c506-54012e6950d9"
   },
   "outputs": [
    {
     "name": "stdout",
     "output_type": "stream",
     "text": [
      "                          precision    recall  f1-score   support\n",
      "\n",
      "                  Benign    0.95511   0.99487   0.97458    201238\n",
      "                     Bot    0.99949   0.99967   0.99958     21479\n",
      "        Brute Force -Web    0.78889   0.61739   0.69268       115\n",
      "        Brute Force -XSS    1.00000   0.48837   0.65625        43\n",
      "        DDOS attack-HOIC    0.99998   0.99998   0.99998     48006\n",
      "    DDOS attack-LOIC-UDP    0.87500   0.95109   0.91146       368\n",
      "  DDoS attacks-LOIC-HTTP    0.99886   0.99831   0.99858     40219\n",
      "   DoS attacks-GoldenEye    0.99788   0.99918   0.99853      6123\n",
      "        DoS attacks-Hulk    0.99980   0.99974   0.99977     34758\n",
      "DoS attacks-SlowHTTPTest    0.77048   0.49246   0.60087     10484\n",
      "   DoS attacks-Slowloris    0.99330   1.00000   0.99664      1630\n",
      "          FTP-BruteForce    0.70819   0.89372   0.79021     14452\n",
      "           Infilteration    0.72243   0.21535   0.33180     11892\n",
      "           SQL Injection    0.33333   0.12500   0.18182        16\n",
      "          SSH-Bruteforce    1.00000   0.99957   0.99979     14013\n",
      "\n",
      "                accuracy                        0.95698    404836\n",
      "               macro avg    0.87618   0.78498   0.80884    404836\n",
      "            weighted avg    0.95275   0.95698   0.94945    404836\n",
      "\n",
      "Confusion matrix, without normalization\n",
      "[[200205     11      3      0      1      1     11      3      3      1\n",
      "      11      0    984      4      0]\n",
      " [     7  21472      0      0      0      0      0      0      0      0\n",
      "       0      0      0      0      0]\n",
      " [    37      0     71      0      0      0      7      0      0      0\n",
      "       0      0      0      0      0]\n",
      " [     0      0     12     21      0      0     10      0      0      0\n",
      "       0      0      0      0      0]\n",
      " [     1      0      0      0  48005      0      0      0      0      0\n",
      "       0      0      0      0      0]\n",
      " [     0      0      0      0      0    350     18      0      0      0\n",
      "       0      0      0      0      0]\n",
      " [    19      0      0      0      0     49  40151      0      0      0\n",
      "       0      0      0      0      0]\n",
      " [     2      0      0      0      0      0      0   6118      3      0\n",
      "       0      0      0      0      0]\n",
      " [     1      0      0      0      0      0      0      8  34749      0\n",
      "       0      0      0      0      0]\n",
      " [     0      0      0      0      0      0      0      0      0   5163\n",
      "       0   5321      0      0      0]\n",
      " [     0      0      0      0      0      0      0      0      0      0\n",
      "    1630      0      0      0      0]\n",
      " [     0      0      0      0      0      0      0      0      0   1536\n",
      "       0  12916      0      0      0]\n",
      " [  9329      0      0      0      0      0      0      2      0      0\n",
      "       0      0   2561      0      0]\n",
      " [    10      0      4      0      0      0      0      0      0      0\n",
      "       0      0      0      2      0]\n",
      " [     3      0      0      0      0      0      0      0      1      1\n",
      "       0      1      0      0  14007]]\n"
     ]
    },
    {
     "data": {
      "image/png": "[encoded data removed]",
      "text/plain": [
       "<Figure size 720x720 with 2 Axes>"
      ]
     },
     "metadata": {
      "tags": []
     },
     "output_type": "display_data"
    }
   ],
   "source": [
    "target_names = [\"Class {}\".format(i) for i in range(15)]\n",
    "print(classification_report(true_lbls, pred_lbls, target_names=class_names, digits=5))\n",
    "#print(classification_report(Y_test, y_predict))\n",
    "\n",
    "results = confusion_matrix(true_lbls, pred_lbls)\n",
    "# Plot non-normalized confusion matrix\n",
    "plt.figure(figsize=(10,10))\n",
    "plot_confusion_matrix(results, classes=class_names,\n",
    "                      title='Confusion matrix')\n",
    "\n",
    "#print(classification_report(y_test, deepprediction, target_names=class_names, digits=5))"
   ]
  },
  {
   "cell_type": "code",
   "execution_count": 0,
   "metadata": {
    "colab": {},
    "colab_type": "code",
    "id": "OB6FTakmsY_w"
   },
   "outputs": [],
   "source": [
    "\n"
   ]
  },
  {
   "cell_type": "code",
   "execution_count": 0,
   "metadata": {
    "colab": {},
    "colab_type": "code",
    "id": "qMssqwmdsY_y"
   },
   "outputs": [],
   "source": []
  },
  {
   "cell_type": "code",
   "execution_count": 0,
   "metadata": {
    "colab": {},
    "colab_type": "code",
    "id": "yYsjqaIQsY_0"
   },
   "outputs": [],
   "source": []
  }
 ],
 "metadata": {
  "accelerator": "GPU",
  "colab": {
   "collapsed_sections": [],
   "name": "Best 1 Layer DAE DNN-200epoch.ipynb",
   "provenance": []
  },
  "kernelspec": {
   "display_name": "Python [default]",
   "language": "python",
   "name": "python3"
  },
  "language_info": {
   "codemirror_mode": {
    "name": "ipython",
    "version": 3
   },
   "file_extension": ".py",
   "mimetype": "text/x-python",
   "name": "python",
   "nbconvert_exporter": "python",
   "pygments_lexer": "ipython3",
   "version": "3.6.5"
  }
 },
 "nbformat": 4,
 "nbformat_minor": 1
}
