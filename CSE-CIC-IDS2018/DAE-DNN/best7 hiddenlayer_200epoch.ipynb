{
 "cells": [
  {
   "cell_type": "markdown",
   "metadata": {
    "colab_type": "text",
    "id": "_Tq9Xo-EudiN"
   },
   "source": [
    "# Network Intrusion Detection with Deep Learning"
   ]
  },
  {
   "cell_type": "code",
   "execution_count": 0,
   "metadata": {
    "colab": {},
    "colab_type": "code",
    "id": "KgPdBRqTudiS"
   },
   "outputs": [],
   "source": [
    "import os\n",
    "#os.environ[\"CUDA_DEVICE_ORDER\"]=\"PCI_BUS_ID\"\n",
    "#os.environ[\"CUDA_VISIBLE_DEVICES\"]=\"0,1,2,3\" #model will be trained on GPU 0"
   ]
  },
  {
   "cell_type": "code",
   "execution_count": 0,
   "metadata": {
    "colab": {},
    "colab_type": "code",
    "id": "fM-2muvGudiZ"
   },
   "outputs": [],
   "source": [
    "import pandas as pd\n",
    "import numpy as np\n",
    "from sklearn.preprocessing import MinMaxScaler"
   ]
  },
  {
   "cell_type": "markdown",
   "metadata": {
    "colab_type": "text",
    "id": "f_74tmNKudii"
   },
   "source": [
    "## The Data"
   ]
  },
  {
   "cell_type": "markdown",
   "metadata": {
    "colab_type": "text",
    "id": "oTsn1nxqAw1U"
   },
   "source": [
    "# New Section"
   ]
  },
  {
   "cell_type": "code",
   "execution_count": 0,
   "metadata": {
    "colab": {},
    "colab_type": "code",
    "id": "nt267GE-udik"
   },
   "outputs": [],
   "source": [
    "import numpy as np\n",
    "def load_matrices(file_name):\n",
    "    with open(file_name, 'rb') as f:\n",
    "        A = np.load(f)\n",
    "        B = np.load(f)\n",
    "        C = np.load(f)\n",
    "        D = np.load(f)\n",
    "        E = np.load(f)\n",
    "        F = np.load(f)\n",
    "    return (A,B,C,D,E,F)"
   ]
  },
  {
   "cell_type": "code",
   "execution_count": 0,
   "metadata": {
    "colab": {},
    "colab_type": "code",
    "id": "cspEdnm3udip"
   },
   "outputs": [],
   "source": [
    "my_file =  '10data2.npy'\n",
    "train,test,y_train,y_test,ylabel_train, ylabel_test = load_matrices(my_file)"
   ]
  },
  {
   "cell_type": "markdown",
   "metadata": {
    "colab_type": "text",
    "id": "myU7v-Ziudiv"
   },
   "source": [
    "## The Model"
   ]
  },
  {
   "cell_type": "code",
   "execution_count": null,
   "metadata": {},
   "outputs": [],
   "source": [
    "from keras import backend as K\n",
    "from keras.layers import Input,Dense, Activation, Reshape, Dropout\n",
    "from keras.layers.embeddings import Embedding\n",
    "from keras.layers import InputLayer, Input\n",
    "from keras.optimizers import Adam\n",
    "from keras.callbacks import TensorBoard\n",
    "from keras.models import load_model\n",
    "from keras.layers.advanced_activations import LeakyReLU\n",
    "from keras.layers.advanced_activations import PReLU\n",
    "from keras.activations import relu, elu\n",
    "from keras.losses import binary_crossentropy\n",
    "from keras.models import Model, Sequential\n",
    "from keras.callbacks import ModelCheckpoint, CSVLogger"
   ]
  },
  {
   "cell_type": "code",
   "execution_count": 0,
   "metadata": {
    "colab": {},
    "colab_type": "code",
    "id": "klw8bvfNudi2"
   },
   "outputs": [],
   "source": [
    "import talos as ta\n",
    "import wrangle as wr\n",
    "from talos.metrics.keras_metrics import fmeasure_acc\n",
    "from talos import live"
   ]
  },
  {
   "cell_type": "code",
   "execution_count": 0,
   "metadata": {
    "colab": {},
    "colab_type": "code",
    "id": "48l2GiaqudjE"
   },
   "outputs": [],
   "source": [
    "#actvation leakyrelu\n",
    "LR= LeakyReLU(0.01)\n",
    "LR.__name__ = 'lrelu'\n",
    "#actvation prelu\n",
    "#PR= PReLU(init='zero', weights=None)\n",
    "#PR.__name__ = 'prelu'"
   ]
  },
  {
   "cell_type": "code",
   "execution_count": 0,
   "metadata": {
    "colab": {},
    "colab_type": "code",
    "id": "X5eBMZssudjd"
   },
   "outputs": [],
   "source": [
    "\n",
    "filepath=\"./logtalos/best7layer.hdf5\"\n",
    "checkpoint = ModelCheckpoint(filepath, monitor='loss', save_best_only=True, mode='min')\n",
    "callbacks_list = [checkpoint]"
   ]
  },
  {
   "cell_type": "code",
   "execution_count": 0,
   "metadata": {
    "colab": {},
    "colab_type": "code",
    "id": "XCHp8jZRudjj"
   },
   "outputs": [],
   "source": [
    "# first we have to make sure to input data and params into the function\n",
    "# add input parameters to the function\n",
    "def dnn(x_train, ylabel_train, x_val, y_val, params):\n",
    "\n",
    "    input_dim = x_train.shape[1]\n",
    "\n",
    "    input_img = Input(shape=(input_dim,))\n",
    "    \n",
    "    first_neuron=params['first_neuron']\n",
    "    second_neuron=params['second_neuron']\n",
    "    third_neuron=params['third_neuron']\n",
    "    fourth_neuron=params['fourth_neuron']\n",
    "    batch_size=params['batch_size']\n",
    "    kernel_initial=params['kernel_initializer']\n",
    "    lr=params['lr']\n",
    "    activation=params['activation']\n",
    "    \n",
    "    print('activation=',activation)\n",
    "    \n",
    "    log_file1 = \"./logtalos/best7/best7.hdf\"\n",
    "    checkpoint2 = ModelCheckpoint(log_file1, monitor='acc', save_best_only=True, mode='max')\n",
    "\n",
    "    \n",
    "    log_file2 =\"./logtalos/best7/best7.csv\"\n",
    "\n",
    "    csv_logger2 = CSVLogger(log_file2,separator=',', append=False)\n",
    "    callbacks_list2 = [checkpoint2,csv_logger2]\n",
    "    \n",
    "    ###AE\n",
    "    \n",
    "    # replace the hyperparameter inputs with references to params dictionary \n",
    "    autoencoder = Sequential()\n",
    "    #encoder\n",
    "    \n",
    "    if activation==PReLU: \n",
    "        autoencoder.add(Dense(first_neuron, input_shape=(input_dim,), kernel_initializer=kernel_initial))\n",
    "        autoencoder.add(PReLU())\n",
    "        autoencoder.add(Dense(second_neuron, kernel_initializer=kernel_initial))\n",
    "        autoencoder.add(PReLU())\n",
    "        autoencoder.add(Dense(third_neuron, kernel_initializer=kernel_initial))\n",
    "        autoencoder.add(PReLU())\n",
    "        autoencoder.add(Dense(fourth_neuron, kernel_initializer=kernel_initial))\n",
    "        autoencoder.add(PReLU())\n",
    "                   \n",
    "        #decoder\n",
    "        #model.add(Dense(8, activation=params['activation']))\n",
    "        autoencoder.add(Dense(third_neuron, kernel_initializer=kernel_initial))\n",
    "        autoencoder.add(PReLU())\n",
    "        autoencoder.add(Dense(second_neuron, kernel_initializer=kernel_initial))\n",
    "        autoencoder.add(PReLU())\n",
    "        autoencoder.add(Dense(first_neuron, kernel_initializer=kernel_initial))\n",
    "        autoencoder.add(PReLU())\n",
    "        autoencoder.add(Dense(input_dim, activation='sigmoid', kernel_initializer=kernel_initial))\n",
    "        \n",
    "    else:\n",
    "        autoencoder.add(Dense(first_neuron, input_shape=(input_dim,), activation=activation, kernel_initializer=kernel_initial))\n",
    "        autoencoder.add(Dense(second_neuron, activation=activation, kernel_initializer=kernel_initial))\n",
    "        autoencoder.add(Dense(third_neuron, activation=activation, kernel_initializer=kernel_initial))\n",
    "        autoencoder.add(Dense(fourth_neuron, activation=activation, kernel_initializer=kernel_initial))\n",
    "        #decoder\n",
    "        #model.add(Dense(8, activation=params['activation']))\n",
    "        autoencoder.add(Dense(third_neuron, activation=activation, kernel_initializer=kernel_initial))\n",
    "        autoencoder.add(Dense(second_neuron, activation=activation, kernel_initializer=kernel_initial))\n",
    "        autoencoder.add(Dense(first_neuron, activation=activation, kernel_initializer=kernel_initial))\n",
    "        autoencoder.add(Dense(input_dim, activation='sigmoid', kernel_initializer=kernel_initial))\n",
    "    \n",
    "    #model = multi_gpu_model(model, gpus=1)\n",
    "    autoencoder.summary()\n",
    "    print(input_dim)\n",
    "    \n",
    "    input_img = Input(shape=(input_dim,))\n",
    "    encoder_layer1 = autoencoder.layers[0]\n",
    "    encoder_layer2 = autoencoder.layers[1]\n",
    "    encoder_layer3 = autoencoder.layers[2]\n",
    "    encoder_layer4 = autoencoder.layers[3]\n",
    "    encoder = Model(input_img, encoder_layer4(encoder_layer3(encoder_layer2(encoder_layer1(input_img)))))\n",
    "    \n",
    "    #encoder_layer1 = autoencoder.layers[0]\n",
    "    #encoder_layer2 = autoencoder.layers[1]\n",
    "    #encoder_layer3 = autoencoder.layers[2]\n",
    "    #encoder = Model(input_img, encoder_layer3(encoder_layer2(encoder_layer1(input_img))))\n",
    "    encoder.summary()\n",
    "\n",
    "    \n",
    "    autoencoder.compile(loss='mse', optimizer='adam', metrics=['acc'])\n",
    "    #model.compile(loss=params['losses'],\n",
    "    #              optimizer=params['optimizer'](),\n",
    "    #              metrics=['acc', fmeasure_acc])\n",
    "    \n",
    "   \n",
    "\n",
    "    \n",
    "    history=autoencoder.fit(x,x,\n",
    "                             epochs=params['epochs'],\n",
    "                             batch_size=batch_size,\n",
    "                              #shuffle=True,\n",
    "                              #validation_split=0,\n",
    "                              callbacks=callbacks_list,                    \n",
    "                             #callbacks=[early_stopping])\n",
    "                              validation_data=(test,test),\n",
    "                              verbose=1)\n",
    "  \n",
    "\n",
    "    num_classes=15\n",
    "    out2 = Dense(num_classes, activation='softmax',kernel_initializer=kernel_initial)(encoder.output)\n",
    "    newmodel = Model(encoder.input,out2)\n",
    "    \n",
    "   \n",
    "    newmodel.compile(loss='categorical_crossentropy', \n",
    "                     #optimizer='adam', \n",
    "                     optimizer= Adam(lr=lr, beta_1=0.9, beta_2=0.999, epsilon=1e-08,decay=0.0, amsgrad=False),\n",
    "                     metrics=['acc']) \n",
    "    newmodel.summary()\n",
    "\n",
    "\n",
    "    history2a=newmodel.fit(x, y,\n",
    "                           epochs=params['epochs2'],\n",
    "                           batch_size=batch_size,\n",
    "                           #validation_split=0,\n",
    "                           callbacks=callbacks_list2,\n",
    "                           #callbacks=[early_stopping],\n",
    "                           validation_data=(test,ylabel_test),\n",
    "                           verbose=1)\n",
    "\n",
    "    \n",
    "    del encoder\n",
    "    del autoencoder\n",
    "    #del dnn_model\n",
    "    \n",
    "    tf.reset_default_graph()\n",
    "    \n",
    "    return history2a, newmodel #, encoder\n",
    "    "
   ]
  },
  {
   "cell_type": "code",
   "execution_count": 0,
   "metadata": {
    "colab": {},
    "colab_type": "code",
    "id": "vUnZ_ApLudjm"
   },
   "outputs": [],
   "source": [
    "# then we can go ahead and set the parameter space\n",
    "p = {'first_neuron':[70],\n",
    "     'second_neuron':[40],\n",
    "     'third_neuron':[30],\n",
    "     'fourth_neuron':[25],\n",
    "     'batch_size': [256],\n",
    "     'epochs': [20],\n",
    "     'epochs2': [200],\n",
    "     'dropout': [0],\n",
    "     'kernel_initializer': ['lecun_uniform'],\n",
    "     'optimizer': [Adam],\n",
    "     'lr':[0.001],\n",
    "     'activation':[LR]}"
   ]
  },
  {
   "cell_type": "code",
   "execution_count": 0,
   "metadata": {
    "colab": {},
    "colab_type": "code",
    "id": "uoxzovAIudjs"
   },
   "outputs": [],
   "source": [
    "import tensorflow as tf\n",
    "from keras.backend.tensorflow_backend import set_session, clear_session\n",
    "\n",
    "config = tf.ConfigProto(allow_soft_placement=True)\n",
    "#config.gpu_options.allow_growth = True  # dynamically grow the memory used on the GPU\n",
    "sess = tf.Session(config=config)\n",
    "set_session(sess)  # set this TensorFlow session as the default session for Keras"
   ]
  },
  {
   "cell_type": "code",
   "execution_count": 0,
   "metadata": {
    "colab": {},
    "colab_type": "code",
    "id": "wIFMvuijudjv"
   },
   "outputs": [],
   "source": [
    "x=train\n",
    "y=ylabel_train"
   ]
  },
  {
   "cell_type": "code",
   "execution_count": 0,
   "metadata": {
    "colab": {
     "base_uri": "https://localhost:8080/",
     "height": 34
    },
    "colab_type": "code",
    "executionInfo": {
     "elapsed": 144168,
     "status": "ok",
     "timestamp": 1584570434738,
     "user": {
      "displayName": "yesi novaria kunang",
      "photoUrl": "",
      "userId": "10182320802774426296"
     },
     "user_tz": -420
    },
    "id": "HxjQjoxMudjy",
    "outputId": "49ad9011-77dd-4446-9774-2fe4177aba76"
   },
   "outputs": [
    {
     "data": {
      "text/plain": [
       "(1619315, 80)"
      ]
     },
     "execution_count": 27,
     "metadata": {
      "tags": []
     },
     "output_type": "execute_result"
    }
   ],
   "source": [
    "np.shape(x)"
   ]
  },
  {
   "cell_type": "code",
   "execution_count": 0,
   "metadata": {
    "colab": {
     "base_uri": "https://localhost:8080/",
     "height": 34
    },
    "colab_type": "code",
    "executionInfo": {
     "elapsed": 144157,
     "status": "ok",
     "timestamp": 1584570434740,
     "user": {
      "displayName": "yesi novaria kunang",
      "photoUrl": "",
      "userId": "10182320802774426296"
     },
     "user_tz": -420
    },
    "id": "EuWyAYbKudj1",
    "outputId": "4e6ce263-3782-4023-e332-360043402108"
   },
   "outputs": [
    {
     "data": {
      "text/plain": [
       "(1619315, 15)"
      ]
     },
     "execution_count": 28,
     "metadata": {
      "tags": []
     },
     "output_type": "execute_result"
    }
   ],
   "source": [
    "np.shape(y)"
   ]
  },
  {
   "cell_type": "code",
   "execution_count": 0,
   "metadata": {
    "colab": {
     "base_uri": "https://localhost:8080/",
     "height": 1000
    },
    "colab_type": "code",
    "executionInfo": {
     "elapsed": 30569,
     "status": "ok",
     "timestamp": 1584579948113,
     "user": {
      "displayName": "yesi novaria kunang",
      "photoUrl": "",
      "userId": "10182320802774426296"
     },
     "user_tz": -420
    },
    "id": "HaqMuz-Ludj4",
    "outputId": "8cf212f0-24f5-4206-eff6-afac42c54f92"
   },
   "outputs": [
    {
     "name": "stderr",
     "output_type": "stream",
     "text": [
      "\r",
      "  0%|          | 0/1 [00:00<?, ?it/s]"
     ]
    },
    {
     "name": "stdout",
     "output_type": "stream",
     "text": [
      "activation= <keras.layers.advanced_activations.LeakyReLU object at 0x7f2a8a71dcc0>\n",
      "WARNING:tensorflow:From /usr/local/lib/python3.6/dist-packages/tensorflow/python/framework/op_def_library.py:263: colocate_with (from tensorflow.python.framework.ops) is deprecated and will be removed in a future version.\n",
      "Instructions for updating:\n",
      "Colocations handled automatically by placer.\n",
      "Model: \"sequential_1\"\n",
      "_________________________________________________________________\n",
      "Layer (type)                 Output Shape              Param #   \n",
      "=================================================================\n",
      "dense_1 (Dense)              (None, 70)                5670      \n",
      "_________________________________________________________________\n",
      "dense_2 (Dense)              (None, 40)                2840      \n",
      "_________________________________________________________________\n",
      "dense_3 (Dense)              (None, 30)                1230      \n",
      "_________________________________________________________________\n",
      "dense_4 (Dense)              (None, 25)                775       \n",
      "_________________________________________________________________\n",
      "dense_5 (Dense)              (None, 30)                780       \n",
      "_________________________________________________________________\n",
      "dense_6 (Dense)              (None, 40)                1240      \n",
      "_________________________________________________________________\n",
      "dense_7 (Dense)              (None, 70)                2870      \n",
      "_________________________________________________________________\n",
      "dense_8 (Dense)              (None, 80)                5680      \n",
      "=================================================================\n",
      "Total params: 21,085\n",
      "Trainable params: 21,085\n",
      "Non-trainable params: 0\n",
      "_________________________________________________________________\n",
      "80\n",
      "Model: \"model_1\"\n",
      "_________________________________________________________________\n",
      "Layer (type)                 Output Shape              Param #   \n",
      "=================================================================\n",
      "input_2 (InputLayer)         (None, 80)                0         \n",
      "_________________________________________________________________\n",
      "dense_1 (Dense)              (None, 70)                5670      \n",
      "_________________________________________________________________\n",
      "dense_2 (Dense)              (None, 40)                2840      \n",
      "_________________________________________________________________\n",
      "dense_3 (Dense)              (None, 30)                1230      \n",
      "_________________________________________________________________\n",
      "dense_4 (Dense)              (None, 25)                775       \n",
      "=================================================================\n",
      "Total params: 10,515\n",
      "Trainable params: 10,515\n",
      "Non-trainable params: 0\n",
      "_________________________________________________________________\n",
      "WARNING:tensorflow:From /usr/local/lib/python3.6/dist-packages/tensorflow/python/ops/math_ops.py:3066: to_int32 (from tensorflow.python.ops.math_ops) is deprecated and will be removed in a future version.\n",
      "Instructions for updating:\n",
      "Use tf.cast instead.\n",
      "Train on 1619315 samples, validate on 404836 samples\n",
      "Epoch 1/20\n",
      "1619315/1619315 [==============================] - 35s 22us/step - loss: 0.0120 - acc: 0.3886 - val_loss: 0.0101 - val_acc: 0.2870\n",
      "Epoch 2/20\n",
      "1619315/1619315 [==============================] - 35s 21us/step - loss: 0.0053 - acc: 0.2432 - val_loss: 0.0020 - val_acc: 0.2506\n",
      "Epoch 3/20\n",
      "1619315/1619315 [==============================] - 35s 22us/step - loss: 0.0018 - acc: 0.2718 - val_loss: 0.0013 - val_acc: 0.2421\n",
      "Epoch 4/20\n",
      "1619315/1619315 [==============================] - 35s 22us/step - loss: 9.1395e-04 - acc: 0.2892 - val_loss: 8.8908e-04 - val_acc: 0.2973\n",
      "Epoch 5/20\n",
      "1619315/1619315 [==============================] - 35s 22us/step - loss: 7.9927e-04 - acc: 0.3933 - val_loss: 7.0683e-04 - val_acc: 0.2597\n",
      "Epoch 6/20\n",
      "1619315/1619315 [==============================] - 35s 21us/step - loss: 4.9671e-04 - acc: 0.2569 - val_loss: 2.9513e-04 - val_acc: 0.2453\n",
      "Epoch 7/20\n",
      "1619315/1619315 [==============================] - 35s 22us/step - loss: 2.8841e-04 - acc: 0.2867 - val_loss: 2.8864e-04 - val_acc: 0.2866\n",
      "Epoch 8/20\n",
      "1619315/1619315 [==============================] - 35s 22us/step - loss: 2.8409e-04 - acc: 0.3032 - val_loss: 2.9452e-04 - val_acc: 0.2723\n",
      "Epoch 9/20\n",
      "1619315/1619315 [==============================] - 34s 21us/step - loss: 2.7783e-04 - acc: 0.2801 - val_loss: 2.7611e-04 - val_acc: 0.2752\n",
      "Epoch 10/20\n",
      "1619315/1619315 [==============================] - 34s 21us/step - loss: 2.7533e-04 - acc: 0.2872 - val_loss: 2.6706e-04 - val_acc: 0.2959\n",
      "Epoch 11/20\n",
      "1619315/1619315 [==============================] - 35s 21us/step - loss: 2.6198e-04 - acc: 0.2832 - val_loss: 2.6093e-04 - val_acc: 0.2610\n",
      "Epoch 12/20\n",
      "1619315/1619315 [==============================] - 35s 22us/step - loss: 2.3212e-04 - acc: 0.2816 - val_loss: 1.2031e-04 - val_acc: 0.2563\n",
      "Epoch 13/20\n",
      "1619315/1619315 [==============================] - 35s 22us/step - loss: 9.8657e-05 - acc: 0.2609 - val_loss: 7.0410e-05 - val_acc: 0.2827\n",
      "Epoch 14/20\n",
      "1619315/1619315 [==============================] - 36s 22us/step - loss: 6.4824e-05 - acc: 0.2633 - val_loss: 6.2293e-05 - val_acc: 0.2140\n",
      "Epoch 15/20\n",
      "1619315/1619315 [==============================] - 36s 22us/step - loss: 6.3408e-05 - acc: 0.2783 - val_loss: 5.9792e-05 - val_acc: 0.2996\n",
      "Epoch 16/20\n",
      "1619315/1619315 [==============================] - 35s 22us/step - loss: 6.2505e-05 - acc: 0.2530 - val_loss: 6.1585e-05 - val_acc: 0.2253\n",
      "Epoch 17/20\n",
      "1619315/1619315 [==============================] - 35s 22us/step - loss: 6.2258e-05 - acc: 0.2875 - val_loss: 6.0739e-05 - val_acc: 0.3303\n",
      "Epoch 18/20\n",
      "1619315/1619315 [==============================] - 34s 21us/step - loss: 6.1377e-05 - acc: 0.2840 - val_loss: 6.1498e-05 - val_acc: 0.2446\n",
      "Epoch 19/20\n",
      "1619315/1619315 [==============================] - 35s 21us/step - loss: 6.1048e-05 - acc: 0.2473 - val_loss: 6.0051e-05 - val_acc: 0.2453\n",
      "Epoch 20/20\n",
      "1619315/1619315 [==============================] - 35s 21us/step - loss: 5.9937e-05 - acc: 0.3070 - val_loss: 5.9341e-05 - val_acc: 0.2423\n",
      "Model: \"model_2\"\n",
      "_________________________________________________________________\n",
      "Layer (type)                 Output Shape              Param #   \n",
      "=================================================================\n",
      "input_2 (InputLayer)         (None, 80)                0         \n",
      "_________________________________________________________________\n",
      "dense_1 (Dense)              (None, 70)                5670      \n",
      "_________________________________________________________________\n",
      "dense_2 (Dense)              (None, 40)                2840      \n",
      "_________________________________________________________________\n",
      "dense_3 (Dense)              (None, 30)                1230      \n",
      "_________________________________________________________________\n",
      "dense_4 (Dense)              (None, 25)                775       \n",
      "_________________________________________________________________\n",
      "dense_9 (Dense)              (None, 15)                390       \n",
      "=================================================================\n",
      "Total params: 10,905\n",
      "Trainable params: 10,905\n",
      "Non-trainable params: 0\n",
      "_________________________________________________________________\n",
      "Train on 1619315 samples, validate on 404836 samples\n",
      "Epoch 1/200\n",
      "1619315/1619315 [==============================] - 26s 16us/step - loss: 0.1752 - acc: 0.9438 - val_loss: 0.1364 - val_acc: 0.9525\n",
      "Epoch 2/200\n",
      "1619315/1619315 [==============================] - 26s 16us/step - loss: 0.1361 - acc: 0.9525 - val_loss: 0.1326 - val_acc: 0.9544\n",
      "Epoch 3/200\n",
      "1619315/1619315 [==============================] - 26s 16us/step - loss: 0.1335 - acc: 0.9533 - val_loss: 0.1326 - val_acc: 0.9545\n",
      "Epoch 4/200\n",
      "1619315/1619315 [==============================] - 26s 16us/step - loss: 0.1320 - acc: 0.9538 - val_loss: 0.1305 - val_acc: 0.9538\n",
      "Epoch 5/200\n",
      "1619315/1619315 [==============================] - 26s 16us/step - loss: 0.1310 - acc: 0.9541 - val_loss: 0.1294 - val_acc: 0.9549\n",
      "Epoch 6/200\n",
      "1619315/1619315 [==============================] - 26s 16us/step - loss: 0.1302 - acc: 0.9544 - val_loss: 0.1295 - val_acc: 0.9552\n",
      "Epoch 7/200\n",
      "1619315/1619315 [==============================] - 26s 16us/step - loss: 0.1295 - acc: 0.9547 - val_loss: 0.1278 - val_acc: 0.9554\n",
      "Epoch 8/200\n",
      "1619315/1619315 [==============================] - 26s 16us/step - loss: 0.1291 - acc: 0.9548 - val_loss: 0.1288 - val_acc: 0.9555\n",
      "Epoch 9/200\n",
      "1619315/1619315 [==============================] - 26s 16us/step - loss: 0.1286 - acc: 0.9550 - val_loss: 0.1297 - val_acc: 0.9544\n",
      "Epoch 10/200\n",
      "1619315/1619315 [==============================] - 26s 16us/step - loss: 0.1282 - acc: 0.9552 - val_loss: 0.1277 - val_acc: 0.9553\n",
      "Epoch 11/200\n",
      "1619315/1619315 [==============================] - 26s 16us/step - loss: 0.1278 - acc: 0.9553 - val_loss: 0.1268 - val_acc: 0.9554\n",
      "Epoch 12/200\n",
      "1619315/1619315 [==============================] - 25s 16us/step - loss: 0.1275 - acc: 0.9554 - val_loss: 0.1271 - val_acc: 0.9557\n",
      "Epoch 13/200\n",
      "1619315/1619315 [==============================] - 25s 16us/step - loss: 0.1271 - acc: 0.9554 - val_loss: 0.1270 - val_acc: 0.9559\n",
      "Epoch 14/200\n",
      "1619315/1619315 [==============================] - 25s 16us/step - loss: 0.1269 - acc: 0.9555 - val_loss: 0.1256 - val_acc: 0.9553\n",
      "Epoch 15/200\n",
      "1619315/1619315 [==============================] - 25s 16us/step - loss: 0.1266 - acc: 0.9556 - val_loss: 0.1263 - val_acc: 0.9556\n",
      "Epoch 16/200\n",
      "1619315/1619315 [==============================] - 25s 15us/step - loss: 0.1265 - acc: 0.9556 - val_loss: 0.1260 - val_acc: 0.9557\n",
      "Epoch 17/200\n",
      "1619315/1619315 [==============================] - 25s 15us/step - loss: 0.1263 - acc: 0.9558 - val_loss: 0.1267 - val_acc: 0.9547\n",
      "Epoch 18/200\n",
      "1619315/1619315 [==============================] - 25s 15us/step - loss: 0.1262 - acc: 0.9558 - val_loss: 0.1249 - val_acc: 0.9555\n",
      "Epoch 19/200\n",
      "1619315/1619315 [==============================] - 25s 15us/step - loss: 0.1258 - acc: 0.9559 - val_loss: 0.1255 - val_acc: 0.9566\n",
      "Epoch 20/200\n",
      "1619315/1619315 [==============================] - 25s 16us/step - loss: 0.1256 - acc: 0.9561 - val_loss: 0.1246 - val_acc: 0.9569\n",
      "Epoch 21/200\n",
      "1619315/1619315 [==============================] - 25s 15us/step - loss: 0.1253 - acc: 0.9563 - val_loss: 0.1249 - val_acc: 0.9567\n",
      "Epoch 22/200\n",
      "1619315/1619315 [==============================] - 25s 15us/step - loss: 0.1252 - acc: 0.9563 - val_loss: 0.1255 - val_acc: 0.9565\n",
      "Epoch 23/200\n",
      "1619315/1619315 [==============================] - 25s 16us/step - loss: 0.1250 - acc: 0.9564 - val_loss: 0.1243 - val_acc: 0.9561\n",
      "Epoch 24/200\n",
      "1619315/1619315 [==============================] - 25s 15us/step - loss: 0.1249 - acc: 0.9564 - val_loss: 0.1252 - val_acc: 0.9555\n",
      "Epoch 25/200\n",
      "1619315/1619315 [==============================] - 26s 16us/step - loss: 0.1252 - acc: 0.9559 - val_loss: 0.1249 - val_acc: 0.9556\n",
      "Epoch 26/200\n",
      "1619315/1619315 [==============================] - 26s 16us/step - loss: 0.1249 - acc: 0.9564 - val_loss: 0.1247 - val_acc: 0.9567\n",
      "Epoch 27/200\n",
      "1619315/1619315 [==============================] - 27s 16us/step - loss: 0.1246 - acc: 0.9564 - val_loss: 0.1251 - val_acc: 0.9566\n",
      "Epoch 28/200\n",
      "1619315/1619315 [==============================] - 26s 16us/step - loss: 0.1245 - acc: 0.9564 - val_loss: 0.1248 - val_acc: 0.9570\n",
      "Epoch 29/200\n",
      "1619315/1619315 [==============================] - 26s 16us/step - loss: 0.1243 - acc: 0.9565 - val_loss: 0.1236 - val_acc: 0.9567\n",
      "Epoch 30/200\n",
      "1619315/1619315 [==============================] - 26s 16us/step - loss: 0.1242 - acc: 0.9565 - val_loss: 0.1234 - val_acc: 0.9569\n",
      "Epoch 31/200\n",
      "1619315/1619315 [==============================] - 26s 16us/step - loss: 0.1242 - acc: 0.9565 - val_loss: 0.1232 - val_acc: 0.9568\n",
      "Epoch 32/200\n",
      "1619315/1619315 [==============================] - 26s 16us/step - loss: 0.1241 - acc: 0.9565 - val_loss: 0.1235 - val_acc: 0.9567\n",
      "Epoch 33/200\n",
      "1619315/1619315 [==============================] - 26s 16us/step - loss: 0.1240 - acc: 0.9565 - val_loss: 0.1252 - val_acc: 0.9558\n",
      "Epoch 34/200\n",
      "1619315/1619315 [==============================] - 25s 16us/step - loss: 0.1240 - acc: 0.9566 - val_loss: 0.1237 - val_acc: 0.9567\n",
      "Epoch 35/200\n",
      "1619315/1619315 [==============================] - 26s 16us/step - loss: 0.1238 - acc: 0.9566 - val_loss: 0.1251 - val_acc: 0.9557\n",
      "Epoch 36/200\n",
      "1619315/1619315 [==============================] - 25s 16us/step - loss: 0.1240 - acc: 0.9564 - val_loss: 0.1239 - val_acc: 0.9557\n",
      "Epoch 37/200\n",
      "1619315/1619315 [==============================] - 26s 16us/step - loss: 0.1239 - acc: 0.9564 - val_loss: 0.1229 - val_acc: 0.9571\n",
      "Epoch 38/200\n",
      "1619315/1619315 [==============================] - 25s 16us/step - loss: 0.1237 - acc: 0.9566 - val_loss: 0.1234 - val_acc: 0.9562\n",
      "Epoch 39/200\n",
      "1619315/1619315 [==============================] - 25s 16us/step - loss: 0.1236 - acc: 0.9566 - val_loss: 0.1230 - val_acc: 0.9570\n",
      "Epoch 40/200\n",
      "1619315/1619315 [==============================] - 25s 16us/step - loss: 0.1238 - acc: 0.9566 - val_loss: 0.1245 - val_acc: 0.9560\n",
      "Epoch 41/200\n",
      "1619315/1619315 [==============================] - 25s 15us/step - loss: 0.1235 - acc: 0.9566 - val_loss: 0.1234 - val_acc: 0.9565\n",
      "Epoch 42/200\n",
      "1619315/1619315 [==============================] - 25s 16us/step - loss: 0.1235 - acc: 0.9565 - val_loss: 0.1250 - val_acc: 0.9559\n",
      "Epoch 43/200\n",
      "1619315/1619315 [==============================] - 25s 16us/step - loss: 0.1238 - acc: 0.9564 - val_loss: 0.1235 - val_acc: 0.9569\n",
      "Epoch 44/200\n",
      "1619315/1619315 [==============================] - 25s 16us/step - loss: 0.1234 - acc: 0.9567 - val_loss: 0.1228 - val_acc: 0.9572\n",
      "Epoch 45/200\n",
      "1619315/1619315 [==============================] - 25s 16us/step - loss: 0.1234 - acc: 0.9567 - val_loss: 0.1225 - val_acc: 0.9571\n",
      "Epoch 46/200\n",
      "1619315/1619315 [==============================] - 25s 15us/step - loss: 0.1233 - acc: 0.9567 - val_loss: 0.1224 - val_acc: 0.9573\n",
      "Epoch 47/200\n",
      "1619315/1619315 [==============================] - 25s 16us/step - loss: 0.1232 - acc: 0.9566 - val_loss: 0.1226 - val_acc: 0.9571\n",
      "Epoch 48/200\n",
      "1619315/1619315 [==============================] - 25s 15us/step - loss: 0.1232 - acc: 0.9567 - val_loss: 0.1231 - val_acc: 0.9571\n",
      "Epoch 49/200\n",
      "1619315/1619315 [==============================] - 25s 15us/step - loss: 0.1232 - acc: 0.9567 - val_loss: 0.1235 - val_acc: 0.9568\n",
      "Epoch 50/200\n",
      "1619315/1619315 [==============================] - 25s 15us/step - loss: 0.1231 - acc: 0.9567 - val_loss: 0.1231 - val_acc: 0.9570\n",
      "Epoch 51/200\n",
      "1619315/1619315 [==============================] - 25s 15us/step - loss: 0.1230 - acc: 0.9567 - val_loss: 0.1221 - val_acc: 0.9571\n",
      "Epoch 52/200\n",
      "1619315/1619315 [==============================] - 25s 15us/step - loss: 0.1229 - acc: 0.9568 - val_loss: 0.1221 - val_acc: 0.9571\n",
      "Epoch 53/200\n",
      "1619315/1619315 [==============================] - 25s 15us/step - loss: 0.1235 - acc: 0.9566 - val_loss: 0.1231 - val_acc: 0.9568\n",
      "Epoch 54/200\n",
      "1619315/1619315 [==============================] - 25s 15us/step - loss: 0.1230 - acc: 0.9567 - val_loss: 0.1229 - val_acc: 0.9572\n",
      "Epoch 55/200\n",
      "1619315/1619315 [==============================] - 25s 15us/step - loss: 0.1228 - acc: 0.9567 - val_loss: 0.1223 - val_acc: 0.9570\n",
      "Epoch 56/200\n",
      "1619315/1619315 [==============================] - 26s 16us/step - loss: 0.1232 - acc: 0.9567 - val_loss: 0.1225 - val_acc: 0.9571\n",
      "Epoch 57/200\n",
      "1619315/1619315 [==============================] - 25s 15us/step - loss: 0.1227 - acc: 0.9568 - val_loss: 0.1229 - val_acc: 0.9570\n",
      "Epoch 58/200\n",
      "1619315/1619315 [==============================] - 25s 15us/step - loss: 0.1228 - acc: 0.9568 - val_loss: 0.1215 - val_acc: 0.9573\n",
      "Epoch 59/200\n",
      "1619315/1619315 [==============================] - 25s 15us/step - loss: 0.1226 - acc: 0.9568 - val_loss: 0.1217 - val_acc: 0.9571\n",
      "Epoch 60/200\n",
      "1619315/1619315 [==============================] - 25s 15us/step - loss: 0.1227 - acc: 0.9568 - val_loss: 0.1223 - val_acc: 0.9572\n",
      "Epoch 61/200\n",
      "1619315/1619315 [==============================] - 25s 15us/step - loss: 0.1226 - acc: 0.9568 - val_loss: 0.1219 - val_acc: 0.9575\n",
      "Epoch 62/200\n",
      "1619315/1619315 [==============================] - 26s 16us/step - loss: 0.1226 - acc: 0.9569 - val_loss: 0.1225 - val_acc: 0.9571\n",
      "Epoch 63/200\n",
      "1619315/1619315 [==============================] - 26s 16us/step - loss: 0.1225 - acc: 0.9569 - val_loss: 0.1222 - val_acc: 0.9571\n",
      "Epoch 64/200\n",
      "1619315/1619315 [==============================] - 25s 15us/step - loss: 0.1225 - acc: 0.9568 - val_loss: 0.1219 - val_acc: 0.9572\n",
      "Epoch 65/200\n",
      "1619315/1619315 [==============================] - 25s 15us/step - loss: 0.1234 - acc: 0.9568 - val_loss: 0.1219 - val_acc: 0.9574\n",
      "Epoch 66/200\n",
      "1619315/1619315 [==============================] - 25s 15us/step - loss: 0.1224 - acc: 0.9568 - val_loss: 0.1223 - val_acc: 0.9572\n",
      "Epoch 67/200\n",
      "1619315/1619315 [==============================] - 25s 15us/step - loss: 0.1234 - acc: 0.9568 - val_loss: 0.1234 - val_acc: 0.9562\n",
      "Epoch 68/200\n",
      "1619315/1619315 [==============================] - 26s 16us/step - loss: 0.1225 - acc: 0.9568 - val_loss: 0.1224 - val_acc: 0.9566\n",
      "Epoch 69/200\n",
      "1619315/1619315 [==============================] - 25s 15us/step - loss: 0.1223 - acc: 0.9569 - val_loss: 0.1222 - val_acc: 0.9572\n",
      "Epoch 70/200\n",
      "1619315/1619315 [==============================] - 24s 15us/step - loss: 0.1223 - acc: 0.9569 - val_loss: 0.1239 - val_acc: 0.9566\n",
      "Epoch 71/200\n",
      "1619315/1619315 [==============================] - 26s 16us/step - loss: 0.1223 - acc: 0.9569 - val_loss: 0.1215 - val_acc: 0.9573\n",
      "Epoch 72/200\n",
      "1619315/1619315 [==============================] - 26s 16us/step - loss: 0.1222 - acc: 0.9569 - val_loss: 0.1225 - val_acc: 0.9570\n",
      "Epoch 73/200\n",
      "1619315/1619315 [==============================] - 25s 16us/step - loss: 0.1239 - acc: 0.9568 - val_loss: 0.1222 - val_acc: 0.9571\n",
      "Epoch 74/200\n",
      "1619315/1619315 [==============================] - 25s 16us/step - loss: 0.1220 - acc: 0.9570 - val_loss: 0.1217 - val_acc: 0.9571\n",
      "Epoch 75/200\n",
      "1619315/1619315 [==============================] - 26s 16us/step - loss: 0.1221 - acc: 0.9570 - val_loss: 0.1216 - val_acc: 0.9571\n",
      "Epoch 76/200\n",
      "1619315/1619315 [==============================] - 26s 16us/step - loss: 0.1221 - acc: 0.9569 - val_loss: 0.1226 - val_acc: 0.9572\n",
      "Epoch 77/200\n",
      "1619315/1619315 [==============================] - 25s 16us/step - loss: 0.1219 - acc: 0.9569 - val_loss: 0.1239 - val_acc: 0.9572\n",
      "Epoch 78/200\n",
      "1619315/1619315 [==============================] - 26s 16us/step - loss: 0.1219 - acc: 0.9570 - val_loss: 0.1209 - val_acc: 0.9574\n",
      "Epoch 79/200\n",
      "1619315/1619315 [==============================] - 25s 16us/step - loss: 0.1218 - acc: 0.9570 - val_loss: 0.1214 - val_acc: 0.9573\n",
      "Epoch 80/200\n",
      "1619315/1619315 [==============================] - 25s 15us/step - loss: 0.1216 - acc: 0.9571 - val_loss: 0.1224 - val_acc: 0.9573\n",
      "Epoch 81/200\n",
      "1619315/1619315 [==============================] - 25s 15us/step - loss: 0.1217 - acc: 0.9571 - val_loss: 0.1216 - val_acc: 0.9572\n",
      "Epoch 82/200\n",
      "1619315/1619315 [==============================] - 24s 15us/step - loss: 0.1216 - acc: 0.9571 - val_loss: 0.1209 - val_acc: 0.9572\n",
      "Epoch 83/200\n",
      "1619315/1619315 [==============================] - 25s 15us/step - loss: 0.1214 - acc: 0.9572 - val_loss: 0.1210 - val_acc: 0.9575\n",
      "Epoch 84/200\n",
      "1619315/1619315 [==============================] - 24s 15us/step - loss: 0.1216 - acc: 0.9571 - val_loss: 0.1218 - val_acc: 0.9574\n",
      "Epoch 85/200\n",
      "1619315/1619315 [==============================] - 25s 15us/step - loss: 0.1214 - acc: 0.9571 - val_loss: 0.1212 - val_acc: 0.9575\n",
      "Epoch 86/200\n",
      "1619315/1619315 [==============================] - 25s 15us/step - loss: 0.1214 - acc: 0.9572 - val_loss: 0.1206 - val_acc: 0.9576\n",
      "Epoch 87/200\n",
      "1619315/1619315 [==============================] - 25s 15us/step - loss: 0.1213 - acc: 0.9572 - val_loss: 0.1204 - val_acc: 0.9575\n",
      "Epoch 88/200\n",
      "1619315/1619315 [==============================] - 24s 15us/step - loss: 0.1212 - acc: 0.9572 - val_loss: 0.1214 - val_acc: 0.9577\n",
      "Epoch 89/200\n",
      "1619315/1619315 [==============================] - 25s 15us/step - loss: 0.1212 - acc: 0.9572 - val_loss: 0.1212 - val_acc: 0.9572\n",
      "Epoch 90/200\n",
      "1619315/1619315 [==============================] - 25s 15us/step - loss: 0.1213 - acc: 0.9572 - val_loss: 0.1204 - val_acc: 0.9577\n",
      "Epoch 91/200\n",
      "1619315/1619315 [==============================] - 25s 15us/step - loss: 0.1212 - acc: 0.9572 - val_loss: 0.1205 - val_acc: 0.9575\n",
      "Epoch 92/200\n",
      "1619315/1619315 [==============================] - 25s 15us/step - loss: 0.1213 - acc: 0.9572 - val_loss: 0.1212 - val_acc: 0.9576\n",
      "Epoch 93/200\n",
      "1619315/1619315 [==============================] - 25s 15us/step - loss: 0.1248 - acc: 0.9570 - val_loss: 0.1216 - val_acc: 0.9576\n",
      "Epoch 94/200\n",
      "1619315/1619315 [==============================] - 25s 15us/step - loss: 0.1211 - acc: 0.9572 - val_loss: 0.1207 - val_acc: 0.9576\n",
      "Epoch 95/200\n",
      "1619315/1619315 [==============================] - 25s 15us/step - loss: 0.1211 - acc: 0.9572 - val_loss: 0.1210 - val_acc: 0.9575\n",
      "Epoch 96/200\n",
      "1619315/1619315 [==============================] - 25s 15us/step - loss: 0.1211 - acc: 0.9572 - val_loss: 0.1205 - val_acc: 0.9576\n",
      "Epoch 97/200\n",
      "1619315/1619315 [==============================] - 25s 15us/step - loss: 0.1211 - acc: 0.9572 - val_loss: 0.1229 - val_acc: 0.9569\n",
      "Epoch 98/200\n",
      "1619315/1619315 [==============================] - 26s 16us/step - loss: 0.1211 - acc: 0.9572 - val_loss: 0.1212 - val_acc: 0.9574\n",
      "Epoch 99/200\n",
      "1619315/1619315 [==============================] - 25s 15us/step - loss: 0.1212 - acc: 0.9572 - val_loss: 0.1211 - val_acc: 0.9576\n",
      "Epoch 100/200\n",
      "1619315/1619315 [==============================] - 25s 15us/step - loss: 0.1228 - acc: 0.9571 - val_loss: 0.1214 - val_acc: 0.9575\n",
      "Epoch 101/200\n",
      "1619315/1619315 [==============================] - 25s 15us/step - loss: 0.1213 - acc: 0.9572 - val_loss: 0.1210 - val_acc: 0.9577\n",
      "Epoch 102/200\n",
      "1619315/1619315 [==============================] - 25s 16us/step - loss: 0.1211 - acc: 0.9573 - val_loss: 0.1223 - val_acc: 0.9571\n",
      "Epoch 103/200\n",
      "1619315/1619315 [==============================] - 26s 16us/step - loss: 0.1220 - acc: 0.9572 - val_loss: 0.1211 - val_acc: 0.9570\n",
      "Epoch 104/200\n",
      "1619315/1619315 [==============================] - 26s 16us/step - loss: 0.1210 - acc: 0.9573 - val_loss: 0.1205 - val_acc: 0.9576\n",
      "Epoch 105/200\n",
      " 190464/1619315 [==>...........................] - ETA: 20s - loss: 0.1204 - acc: 0.9574Buffered data was truncated after reaching the output size limit."
     ]
    }
   ],
   "source": [
    "\n",
    "t = ta.Scan(x, y, p, dnn, experiment_no='7')\n"
   ]
  },
  {
   "cell_type": "code",
   "execution_count": 0,
   "metadata": {
    "colab": {
     "base_uri": "https://localhost:8080/",
     "height": 117
    },
    "colab_type": "code",
    "executionInfo": {
     "elapsed": 321,
     "status": "ok",
     "timestamp": 1584576262760,
     "user": {
      "displayName": "yesi novaria kunang",
      "photoUrl": "",
      "userId": "10182320802774426296"
     },
     "user_tz": -420
    },
    "id": "spsA52qhudj-",
    "outputId": "3c73d3fc-4d78-4ef8-a163-d74a62281810"
   },
   "outputs": [
    {
     "data": {
      "text/html": [
       "<div>\n",
       "<style scoped>\n",
       "    .dataframe tbody tr th:only-of-type {\n",
       "        vertical-align: middle;\n",
       "    }\n",
       "\n",
       "    .dataframe tbody tr th {\n",
       "        vertical-align: top;\n",
       "    }\n",
       "\n",
       "    .dataframe thead th {\n",
       "        text-align: right;\n",
       "    }\n",
       "</style>\n",
       "<table border=\"1\" class=\"dataframe\">\n",
       "  <thead>\n",
       "    <tr style=\"text-align: right;\">\n",
       "      <th></th>\n",
       "      <th>round_epochs</th>\n",
       "      <th>val_loss</th>\n",
       "      <th>val_acc</th>\n",
       "      <th>loss</th>\n",
       "      <th>acc</th>\n",
       "      <th>first_neuron</th>\n",
       "      <th>second_neuron</th>\n",
       "      <th>third_neuron</th>\n",
       "      <th>fourth_neuron</th>\n",
       "      <th>batch_size</th>\n",
       "      <th>epochs</th>\n",
       "      <th>epochs2</th>\n",
       "      <th>dropout</th>\n",
       "      <th>kernel_initializer</th>\n",
       "      <th>optimizer</th>\n",
       "      <th>lr</th>\n",
       "      <th>activation</th>\n",
       "    </tr>\n",
       "  </thead>\n",
       "  <tbody>\n",
       "    <tr>\n",
       "      <th>1</th>\n",
       "      <td>200</td>\n",
       "      <td>0.11948105481202426</td>\n",
       "      <td>0.9579607544807124</td>\n",
       "      <td>0.11983143466879553</td>\n",
       "      <td>0.9575345130488725</td>\n",
       "      <td>70</td>\n",
       "      <td>40</td>\n",
       "      <td>30</td>\n",
       "      <td>25</td>\n",
       "      <td>256</td>\n",
       "      <td>20</td>\n",
       "      <td>200</td>\n",
       "      <td>0</td>\n",
       "      <td>lecun_uniform</td>\n",
       "      <td>&lt;class 'keras.optimizers.Adam'&gt;</td>\n",
       "      <td>0.001</td>\n",
       "      <td>&lt;keras.layers.advanced_activations.LeakyReLU o...</td>\n",
       "    </tr>\n",
       "  </tbody>\n",
       "</table>\n",
       "</div>"
      ],
      "text/plain": [
       "  round_epochs  ...                                         activation\n",
       "1          200  ...  <keras.layers.advanced_activations.LeakyReLU o...\n",
       "\n",
       "[1 rows x 17 columns]"
      ]
     },
     "execution_count": 30,
     "metadata": {
      "tags": []
     },
     "output_type": "execute_result"
    }
   ],
   "source": [
    "t.data"
   ]
  },
  {
   "cell_type": "code",
   "execution_count": 0,
   "metadata": {
    "colab": {},
    "colab_type": "code",
    "id": "Sc18Cy9TK1o2"
   },
   "outputs": [],
   "source": [
    "from keras.layers.advanced_activations import LeakyReLU\n",
    "from keras.layers.advanced_activations import PReLU\n",
    "#actvation leakyrelu\n",
    "LR= LeakyReLU(0.01)\n",
    "LR.__name__ = 'lrelu'\n",
    "#actvation prelu\n",
    "PR= PReLU()\n",
    "PR.__name__ = 'prelu'"
   ]
  },
  {
   "cell_type": "code",
   "execution_count": 0,
   "metadata": {
    "colab": {
     "base_uri": "https://localhost:8080/",
     "height": 816
    },
    "colab_type": "code",
    "executionInfo": {
     "elapsed": 185,
     "status": "ok",
     "timestamp": 1584576262764,
     "user": {
      "displayName": "yesi novaria kunang",
      "photoUrl": "",
      "userId": "10182320802774426296"
     },
     "user_tz": -420
    },
    "id": "lJsXpHqBL9Cm",
    "outputId": "13799e03-4a4c-4adc-cdc0-6d4b51549818"
   },
   "outputs": [
    {
     "name": "stdout",
     "output_type": "stream",
     "text": [
      "80\n",
      "Model: \"model_1\"\n",
      "_________________________________________________________________\n",
      "Layer (type)                 Output Shape              Param #   \n",
      "=================================================================\n",
      "input_1 (InputLayer)         (None, 80)                0         \n",
      "_________________________________________________________________\n",
      "dense_1 (Dense)              (None, 70)                5670      \n",
      "_________________________________________________________________\n",
      "dense_2 (Dense)              (None, 40)                2840      \n",
      "_________________________________________________________________\n",
      "dense_3 (Dense)              (None, 30)                1230      \n",
      "_________________________________________________________________\n",
      "dense_4 (Dense)              (None, 25)                775       \n",
      "_________________________________________________________________\n",
      "dense_5 (Dense)              (None, 30)                780       \n",
      "_________________________________________________________________\n",
      "dense_6 (Dense)              (None, 40)                1240      \n",
      "_________________________________________________________________\n",
      "dense_7 (Dense)              (None, 70)                2870      \n",
      "_________________________________________________________________\n",
      "dense_8 (Dense)              (None, 80)                5680      \n",
      "=================================================================\n",
      "Total params: 21,085\n",
      "Trainable params: 21,085\n",
      "Non-trainable params: 0\n",
      "_________________________________________________________________\n",
      "Model: \"model_3\"\n",
      "_________________________________________________________________\n",
      "Layer (type)                 Output Shape              Param #   \n",
      "=================================================================\n",
      "input_1 (InputLayer)         (None, 80)                0         \n",
      "_________________________________________________________________\n",
      "dense_1 (Dense)              (None, 70)                5670      \n",
      "_________________________________________________________________\n",
      "dense_2 (Dense)              (None, 40)                2840      \n",
      "_________________________________________________________________\n",
      "dense_3 (Dense)              (None, 30)                1230      \n",
      "_________________________________________________________________\n",
      "dense_4 (Dense)              (None, 25)                775       \n",
      "_________________________________________________________________\n",
      "dense_9 (Dense)              (None, 15)                390       \n",
      "=================================================================\n",
      "Total params: 10,905\n",
      "Trainable params: 10,905\n",
      "Non-trainable params: 0\n",
      "_________________________________________________________________\n"
     ]
    }
   ],
   "source": [
    "# tcreate model\n",
    "input_dim = train.shape[1]\n",
    "print(input_dim)\n",
    "\n",
    "input_img = Input(shape=(input_dim,))\n",
    "encoded = Dense(70, activation=LR, kernel_initializer='lecun_uniform')(input_img)\n",
    "encoded= Dense(40, activation=LR, kernel_initializer='lecun_uniform')(encoded)\n",
    "encoded = Dense(30, activation=LR, kernel_initializer='lecun_uniform')(encoded)\n",
    "encoded = Dense(25, activation=LR, kernel_initializer='lecun_uniform')(encoded)\n",
    "decoded = Dense(30, activation=LR, kernel_initializer='lecun_uniform')(encoded)\n",
    "decoded = Dense(40, activation=LR, kernel_initializer='lecun_uniform')(decoded)\n",
    "decoded = Dense(70, activation=LR, kernel_initializer='lecun_uniform')(decoded)\n",
    "z = Dense(input_dim, activation='sigmoid', kernel_initializer='lecun_uniform')(decoded)\n",
    "autoencoder = Model(input_img, z)\n",
    "autoencoder.summary()\n",
    "\n",
    "\n",
    "\n",
    "num_classes=15\n",
    "#encoder is the model of the autoencoder slice in the middle \n",
    "encoder = Model(input_img, encoded)\n",
    "# define new model encoder->Dense  10 neurons with soft max for classification \n",
    "out2 = Dense(num_classes, activation='softmax', kernel_initializer='lecun_uniform')(encoder.output)\n",
    "dnn = Model(encoder.input,out2)\n",
    "dnn.summary()"
   ]
  },
  {
   "cell_type": "code",
   "execution_count": 0,
   "metadata": {
    "colab": {
     "base_uri": "https://localhost:8080/",
     "height": 51
    },
    "colab_type": "code",
    "executionInfo": {
     "elapsed": 8693,
     "status": "ok",
     "timestamp": 1584581891969,
     "user": {
      "displayName": "yesi novaria kunang",
      "photoUrl": "",
      "userId": "10182320802774426296"
     },
     "user_tz": -420
    },
    "id": "hqc-yFz0udj7",
    "outputId": "ac80acc5-05aa-4f0d-dd45-3a9231916c39"
   },
   "outputs": [
    {
     "name": "stdout",
     "output_type": "stream",
     "text": [
      "Created model and loaded weights from file\n",
      "acc: 95.79%\n"
     ]
    }
   ],
   "source": [
    "##loading autoencoder untuk data tes\n",
    "# load weights\n",
    "filepath2='./logtalos/best7/best7.hdf'\n",
    "dnn.load_weights(filepath2)\n",
    "# Compile model (required to make predictions)\n",
    "dnn.compile(loss='categorical_crossentropy', optimizer='adam', metrics=['accuracy'])\n",
    "print(\"Created model and loaded weights from file\")\n",
    "scores = dnn.evaluate(test, ylabel_test, verbose=0)\n",
    "print(\"%s: %.2f%%\" % (dnn.metrics_names[1], scores[1]*100))"
   ]
  },
  {
   "cell_type": "code",
   "execution_count": 0,
   "metadata": {
    "colab": {
     "base_uri": "https://localhost:8080/",
     "height": 85
    },
    "colab_type": "code",
    "executionInfo": {
     "elapsed": 33352,
     "status": "ok",
     "timestamp": 1584581931287,
     "user": {
      "displayName": "yesi novaria kunang",
      "photoUrl": "",
      "userId": "10182320802774426296"
     },
     "user_tz": -420
    },
    "id": "-NczgR3EPUak",
    "outputId": "1eccb69b-269a-435a-9c08-558f3861596a"
   },
   "outputs": [
    {
     "name": "stdout",
     "output_type": "stream",
     "text": [
      "1619315/1619315 [==============================] - 32s 20us/step\n",
      "loss 0.11918442317434542\n",
      "acc 0.9576851940481373\n",
      "acc: 95.77%\n"
     ]
    }
   ],
   "source": [
    "result_train = dnn.evaluate(train,ylabel_train)\n",
    "for name, value in zip(dnn.metrics_names, result_train):\n",
    "    print(name, value)\n",
    "    \n",
    "print(\"%s: %.2f%%\" % (dnn.metrics_names[1], result_train[1]*100))"
   ]
  },
  {
   "cell_type": "code",
   "execution_count": 0,
   "metadata": {
    "colab": {},
    "colab_type": "code",
    "id": "WgTjrdefPtT4"
   },
   "outputs": [],
   "source": [
    "##prediksi data Train\n",
    "\n",
    "preds = dnn.predict(train)\n",
    "pred_lbls = np.argmax(preds, axis=1)\n",
    "true_lbls = np.argmax(ylabel_train, axis=1)"
   ]
  },
  {
   "cell_type": "code",
   "execution_count": 0,
   "metadata": {
    "colab": {},
    "colab_type": "code",
    "id": "w3I_5982QehB"
   },
   "outputs": [],
   "source": [
    "import matplotlib.pyplot as plt\n",
    "import itertools\n",
    "from sklearn.metrics import confusion_matrix\n",
    "\n",
    "def plot_confusion_matrix(cm, classes,\n",
    "                          normalize=False,\n",
    "                          title='Confusion matrix',\n",
    "                          cmap=plt.cm.Blues):\n",
    "    \"\"\"\n",
    "    This function prints and plots the confusion matrix.\n",
    "    Normalization can be applied by setting `normalize=True`.\n",
    "    \"\"\"\n",
    "    if normalize:\n",
    "        cm = cm.astype('float') / cm.sum(axis=1)[:, np.newaxis]\n",
    "        print(\"Normalized confusion matrix\")\n",
    "    else:\n",
    "        print('Confusion matrix, without normalization')\n",
    "\n",
    "    print(cm)\n",
    "\n",
    "    plt.imshow(cm, interpolation='nearest', cmap=cmap)\n",
    "    plt.title(title)\n",
    "    plt.colorbar()\n",
    "    tick_marks = np.arange(len(classes))\n",
    "    plt.xticks(tick_marks, classes, rotation=45)\n",
    "    plt.yticks(tick_marks, classes)\n",
    "\n",
    "    fmt = '.2f' if normalize else 'd'\n",
    "    thresh = cm.max() / 2.\n",
    "    for i, j in itertools.product(range(cm.shape[0]), range(cm.shape[1])):\n",
    "        plt.text(j, i, format(cm[i, j], fmt),\n",
    "                 horizontalalignment=\"center\",\n",
    "                 color=\"white\" if cm[i, j] > thresh else \"black\")\n",
    "\n",
    "    plt.tight_layout()\n",
    "    plt.ylabel('True label')\n",
    "    plt.xlabel('Predicted label')"
   ]
  },
  {
   "cell_type": "code",
   "execution_count": 0,
   "metadata": {
    "colab": {
     "base_uri": "https://localhost:8080/",
     "height": 391
    },
    "colab_type": "code",
    "executionInfo": {
     "elapsed": 4016,
     "status": "ok",
     "timestamp": 1584582150375,
     "user": {
      "displayName": "yesi novaria kunang",
      "photoUrl": "",
      "userId": "10182320802774426296"
     },
     "user_tz": -420
    },
    "id": "nwZGsdZKEcD9",
    "outputId": "b2e01274-4487-4b68-a0d3-ced497c46b1d"
   },
   "outputs": [
    {
     "name": "stdout",
     "output_type": "stream",
     "text": [
      "                          precision    recall  f1-score   support\n",
      "\n",
      "                  Benign    0.95564   0.99510   0.97497    803025\n",
      "                     Bot    0.99988   0.99980   0.99984     85842\n",
      "        Brute Force -Web    0.80285   0.68145   0.73719       496\n",
      "        Brute Force -XSS    0.81333   0.65241   0.72404       187\n",
      "        DDOS attack-HOIC    0.99999   1.00000   1.00000    192098\n",
      "    DDOS attack-LOIC-UDP    0.89239   0.99853   0.94248      1362\n",
      "  DDoS attacks-LOIC-HTTP    0.99983   0.99874   0.99928    161447\n",
      "   DoS attacks-GoldenEye    0.99924   0.99972   0.99948     25008\n",
      "        DoS attacks-Hulk    0.99993   0.99991   0.99992    138459\n",
      "DoS attacks-SlowHTTPTest    0.75937   0.51577   0.61430     41974\n",
      "   DoS attacks-Slowloris    0.99578   0.99985   0.99781      6612\n",
      "          FTP-BruteForce    0.71577   0.88201   0.79024     58055\n",
      "           Infilteration    0.74796   0.23687   0.35980     48347\n",
      "           SQL Injection    0.90909   0.42254   0.57692        71\n",
      "          SSH-Bruteforce    0.99989   0.99979   0.99984     56332\n",
      "\n",
      "                accuracy                        0.95769   1619315\n",
      "               macro avg    0.90606   0.82550   0.84774   1619315\n",
      "            weighted avg    0.95381   0.95769   0.95067   1619315\n",
      "\n"
     ]
    }
   ],
   "source": [
    "from sklearn.metrics import classification_report\n",
    "outcomes = ['Benign', 'Bot', 'Brute Force -Web', 'Brute Force -XSS',\n",
    "'DDOS attack-HOIC','DDOS attack-LOIC-UDP','DDoS attacks-LOIC-HTTP',\n",
    "'DoS attacks-GoldenEye','DoS attacks-Hulk','DoS attacks-SlowHTTPTest','DoS attacks-Slowloris',\n",
    "'FTP-BruteForce','Infilteration','SQL Injection','SSH-Bruteforce' ]\n",
    "class_names=outcomes\n",
    "\n",
    "\n",
    "target_names = [\"Class {}\".format(i) for i in range(15)]\n",
    "print(classification_report(true_lbls, pred_lbls, target_names=class_names, digits=5))\n",
    "#print(classification_report(Y_test, y_predict))\n"
   ]
  },
  {
   "cell_type": "code",
   "execution_count": 0,
   "metadata": {
    "colab": {
     "base_uri": "https://localhost:8080/",
     "height": 1000
    },
    "colab_type": "code",
    "executionInfo": {
     "elapsed": 6487,
     "status": "ok",
     "timestamp": 1584582159707,
     "user": {
      "displayName": "yesi novaria kunang",
      "photoUrl": "",
      "userId": "10182320802774426296"
     },
     "user_tz": -420
    },
    "id": "Fov-7Q8TSObq",
    "outputId": "2841aba7-f25a-42a4-f96c-649132783a9e"
   },
   "outputs": [
    {
     "name": "stdout",
     "output_type": "stream",
     "text": [
      "Confusion matrix, without normalization\n",
      "[[799093     10      2      1      1      0     17      4      1      6\n",
      "      25      0   3859      0      6]\n",
      " [    17  85825      0      0      0      0      0      0      0      0\n",
      "       0      0      0      0      0]\n",
      " [   124      0    338     25      0      0      8      0      0      0\n",
      "       0      0      0      1      0]\n",
      " [    10      0     54    122      0      0      0      0      0      0\n",
      "       0      0      0      1      0]\n",
      " [     0      0      0      0 192098      0      0      0      0      0\n",
      "       0      0      0      0      0]\n",
      " [     0      0      0      0      0   1360      2      0      0      0\n",
      "       0      0      0      0      0]\n",
      " [    39      0      0      0      0    164 161244      0      0      0\n",
      "       0      0      0      0      0]\n",
      " [     0      0      0      0      0      0      0  25001      6      0\n",
      "       1      0      0      0      0]\n",
      " [     0      0      0      0      0      0      0     13 138446      0\n",
      "       0      0      0      0      0]\n",
      " [     0      0      0      0      0      0      0      0      0  21649\n",
      "       0  20325      0      0      0]\n",
      " [     1      0      0      0      0      0      0      0      0      0\n",
      "    6611      0      0      0      0]\n",
      " [     0      0      0      0      0      0      0      0      0   6850\n",
      "       0  51205      0      0      0]\n",
      " [ 36886      0      2      0      0      0      0      2      0      2\n",
      "       2      0  11452      1      0]\n",
      " [    13      0     25      2      0      0      1      0      0      0\n",
      "       0      0      0     30      0]\n",
      " [     0      0      0      0      0      0      0      0      2      2\n",
      "       0      8      0      0  56320]]\n"
     ]
    },
    {
     "data": {
      "image/png": "[encoded data removed]",
      "text/plain": [
       "<Figure size 720x720 with 2 Axes>"
      ]
     },
     "metadata": {
      "tags": []
     },
     "output_type": "display_data"
    }
   ],
   "source": [
    "#outcomes = ['DoS', 'normal','Probe' ,'R2L', 'U2R']\n",
    "class_names=outcomes\n",
    "\n",
    "\n",
    "results = confusion_matrix(true_lbls, pred_lbls)\n",
    "# Plot non-normalized confusion matrix\n",
    "plt.figure(figsize=(10,10))\n",
    "plot_confusion_matrix(results, classes=class_names,\n",
    "                      title='Confusion matrix')\n",
    "\n",
    "#print(classification_report(y_test, deepprediction, target_names=class_names, digits=5))"
   ]
  },
  {
   "cell_type": "markdown",
   "metadata": {
    "colab_type": "text",
    "id": "o32zwo-AS9SI"
   },
   "source": [
    "# Data Test"
   ]
  },
  {
   "cell_type": "code",
   "execution_count": 0,
   "metadata": {
    "colab": {
     "base_uri": "https://localhost:8080/",
     "height": 85
    },
    "colab_type": "code",
    "executionInfo": {
     "elapsed": 8546,
     "status": "ok",
     "timestamp": 1584582188284,
     "user": {
      "displayName": "yesi novaria kunang",
      "photoUrl": "",
      "userId": "10182320802774426296"
     },
     "user_tz": -420
    },
    "id": "leT5RcBXTNt7",
    "outputId": "0a1a618a-3abe-4f81-b188-c80bef98a59b"
   },
   "outputs": [
    {
     "name": "stdout",
     "output_type": "stream",
     "text": [
      "404836/404836 [==============================] - 8s 19us/step\n",
      "loss 0.11973357653892827\n",
      "acc 0.9579014712130344\n",
      "acc: 95.79%\n"
     ]
    }
   ],
   "source": [
    "#Data Test\n",
    "result_test = dnn.evaluate(test,ylabel_test)\n",
    "for name, value in zip(dnn.metrics_names, result_test):\n",
    "    print(name, value)\n",
    "    \n",
    "print(\"%s: %.2f%%\" % (dnn.metrics_names[1], result_test[1]*100))"
   ]
  },
  {
   "cell_type": "code",
   "execution_count": 0,
   "metadata": {
    "colab": {},
    "colab_type": "code",
    "id": "cAlrWKbRTUOc"
   },
   "outputs": [],
   "source": [
    "##prediksi data Train\n",
    "#y_test=y_test.to_numpy()\n",
    "\n",
    "preds = dnn.predict(test)\n",
    "pred_lbls = np.argmax(preds, axis=1)\n",
    "true_lbls = np.argmax(ylabel_test, axis=1)"
   ]
  },
  {
   "cell_type": "code",
   "execution_count": 0,
   "metadata": {
    "colab": {
     "base_uri": "https://localhost:8080/",
     "height": 1000
    },
    "colab_type": "code",
    "executionInfo": {
     "elapsed": 11097,
     "status": "ok",
     "timestamp": 1584582196632,
     "user": {
      "displayName": "yesi novaria kunang",
      "photoUrl": "",
      "userId": "10182320802774426296"
     },
     "user_tz": -420
    },
    "id": "oT8bjOlNTbIU",
    "outputId": "a4020c3b-4331-47ea-c336-6fa00079424e"
   },
   "outputs": [
    {
     "name": "stdout",
     "output_type": "stream",
     "text": [
      "                          precision    recall  f1-score   support\n",
      "\n",
      "                  Benign    0.95643   0.99461   0.97515    201238\n",
      "                     Bot    0.99991   0.99967   0.99979     21479\n",
      "        Brute Force -Web    0.79310   0.60000   0.68317       115\n",
      "        Brute Force -XSS    0.76190   0.74419   0.75294        43\n",
      "        DDOS attack-HOIC    1.00000   1.00000   1.00000     48006\n",
      "    DDOS attack-LOIC-UDP    0.86183   1.00000   0.92579       368\n",
      "  DDoS attacks-LOIC-HTTP    0.99978   0.99816   0.99897     40219\n",
      "   DoS attacks-GoldenEye    0.99918   0.99935   0.99927      6123\n",
      "        DoS attacks-Hulk    0.99986   0.99991   0.99988     34758\n",
      "DoS attacks-SlowHTTPTest    0.76089   0.51994   0.61775     10484\n",
      "   DoS attacks-Slowloris    0.99330   1.00000   0.99664      1630\n",
      "          FTP-BruteForce    0.71679   0.88161   0.79070     14452\n",
      "           Infilteration    0.72842   0.23840   0.35922     11892\n",
      "           SQL Injection    0.87500   0.43750   0.58333        16\n",
      "          SSH-Bruteforce    1.00000   0.99971   0.99986     14013\n",
      "\n",
      "                accuracy                        0.95790    404836\n",
      "               macro avg    0.89643   0.82754   0.84550    404836\n",
      "            weighted avg    0.95377   0.95790   0.95110    404836\n",
      "\n",
      "Confusion matrix, without normalization\n",
      "[[200154      2      2      1      0      0      8      1      1      0\n",
      "      11      0   1057      1      0]\n",
      " [     7  21472      0      0      0      0      0      0      0      0\n",
      "       0      0      0      0      0]\n",
      " [    36      0     69      9      0      0      1      0      0      0\n",
      "       0      0      0      0      0]\n",
      " [     0      0     11     32      0      0      0      0      0      0\n",
      "       0      0      0      0      0]\n",
      " [     0      0      0      0  48006      0      0      0      0      0\n",
      "       0      0      0      0      0]\n",
      " [     0      0      0      0      0    368      0      0      0      0\n",
      "       0      0      0      0      0]\n",
      " [    15      0      0      0      0     59  40145      0      0      0\n",
      "       0      0      0      0      0]\n",
      " [     2      0      0      0      0      0      0   6119      2      0\n",
      "       0      0      0      0      0]\n",
      " [     0      0      0      0      0      0      0      3  34755      0\n",
      "       0      0      0      0      0]\n",
      " [     0      0      0      0      0      0      0      0      0   5451\n",
      "       0   5033      0      0      0]\n",
      " [     0      0      0      0      0      0      0      0      0      0\n",
      "    1630      0      0      0      0]\n",
      " [     0      0      0      0      0      0      0      0      0   1711\n",
      "       0  12741      0      0      0]\n",
      " [  9054      0      0      0      0      0      0      1      1      1\n",
      "       0      0   2835      0      0]\n",
      " [     4      0      5      0      0      0      0      0      0      0\n",
      "       0      0      0      7      0]\n",
      " [     1      0      0      0      0      0      0      0      1      1\n",
      "       0      1      0      0  14009]]\n"
     ]
    },
    {
     "data": {
      "image/png": "[encoded data removed]",
      "text/plain": [
       "<Figure size 720x720 with 2 Axes>"
      ]
     },
     "metadata": {
      "tags": []
     },
     "output_type": "display_data"
    }
   ],
   "source": [
    "target_names = [\"Class {}\".format(i) for i in range(15)]\n",
    "print(classification_report(true_lbls, pred_lbls, target_names=class_names, digits=5))\n",
    "#print(classification_report(Y_test, y_predict))\n",
    "\n",
    "results = confusion_matrix(true_lbls, pred_lbls)\n",
    "# Plot non-normalized confusion matrix\n",
    "plt.figure(figsize=(10,10))\n",
    "plot_confusion_matrix(results, classes=class_names,\n",
    "                      title='Confusion matrix')\n",
    "\n",
    "#print(classification_report(y_test, deepprediction, target_names=class_names, digits=5))"
   ]
  }
 ],
 "metadata": {
  "accelerator": "GPU",
  "colab": {
   "collapsed_sections": [],
   "name": " best7 hiddenlayer_200epoch.ipynb",
   "provenance": [
    {
     "file_id": "1ZbbTqiClzkX1V_Z3AdGlM43B-3NzCdGA",
     "timestamp": 1583302544951
    },
    {
     "file_id": "1oUAVhdeYwKktk-Rr4xKo27HS1FOOIBrU",
     "timestamp": 1583297786666
    }
   ]
  },
  "kernelspec": {
   "display_name": "Python [default]",
   "language": "python",
   "name": "python3"
  },
  "language_info": {
   "codemirror_mode": {
    "name": "ipython",
    "version": 3
   },
   "file_extension": ".py",
   "mimetype": "text/x-python",
   "name": "python",
   "nbconvert_exporter": "python",
   "pygments_lexer": "ipython3",
   "version": "3.6.5"
  }
 },
 "nbformat": 4,
 "nbformat_minor": 1
}
