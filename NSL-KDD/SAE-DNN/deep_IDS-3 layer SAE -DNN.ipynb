{
 "cells": [
  {
   "cell_type": "markdown",
   "metadata": {},
   "source": [
    "# Network Intrusion Detection with Deep Learning"
   ]
  },
  {
   "cell_type": "markdown",
   "metadata": {},
   "source": [
    "menggunakan stacked AE tanpa pretraining AE di hidden layer 1 dan 2, full sae MLP dengan input= 122 di seluruh layer AE"
   ]
  },
  {
   "cell_type": "markdown",
   "metadata": {},
   "source": [
    "https://github.com/jay07121993/stacked-Autoencoder/blob/master/Greedy%20pre-training%20Stacked%20auto%20encoder.ipynb"
   ]
  },
  {
   "cell_type": "code",
   "execution_count": 1,
   "metadata": {},
   "outputs": [],
   "source": [
    "import os\n",
    "os.environ[\"CUDA_DEVICE_ORDER\"]=\"PCI_BUS_ID\"\n",
    "os.environ[\"CUDA_VISIBLE_DEVICES\"]=\"1,3\" #model will be trained on GPU 0"
   ]
  },
  {
   "cell_type": "code",
   "execution_count": 2,
   "metadata": {},
   "outputs": [],
   "source": [
    "import pandas as pd\n",
    "import numpy as np\n",
    "from sklearn.preprocessing import MinMaxScaler"
   ]
  },
  {
   "cell_type": "markdown",
   "metadata": {},
   "source": [
    "# Open Data"
   ]
  },
  {
   "cell_type": "code",
   "execution_count": 3,
   "metadata": {},
   "outputs": [],
   "source": [
    "import numpy as np\n",
    "def load_matrices(file_name):\n",
    "    with open(file_name, 'rb') as f:\n",
    "        A = np.load(f)\n",
    "        B = np.load(f)\n",
    "        C = np.load(f)\n",
    "        D = np.load(f)\n",
    "        E = np.load(f)\n",
    "        F = np.load(f)\n",
    "    return (A,B,C,D,E,F)"
   ]
  },
  {
   "cell_type": "code",
   "execution_count": 4,
   "metadata": {},
   "outputs": [],
   "source": [
    "my_file = '../data_NSL/data.npy'\n",
    "train, test, test2, y_train, y_test, y_test2 = load_matrices(my_file)"
   ]
  },
  {
   "cell_type": "markdown",
   "metadata": {},
   "source": [
    "## The Model"
   ]
  },
  {
   "cell_type": "code",
   "execution_count": 5,
   "metadata": {},
   "outputs": [
    {
     "name": "stderr",
     "output_type": "stream",
     "text": [
      "Using TensorFlow backend.\n"
     ]
    }
   ],
   "source": [
    "from keras.callbacks import EarlyStopping\n",
    "from keras.models import Sequential\n",
    "from keras.layers import Dense, Activation#, Merge, Reshape, Dropout\n",
    "from keras.layers.embeddings import Embedding"
   ]
  },
  {
   "cell_type": "code",
   "execution_count": 6,
   "metadata": {},
   "outputs": [],
   "source": [
    "# We apply a fairly simple MLP architecture"
   ]
  },
  {
   "cell_type": "code",
   "execution_count": 1,
   "metadata": {},
   "outputs": [
    {
     "name": "stderr",
     "output_type": "stream",
     "text": [
      "Using TensorFlow backend.\n"
     ]
    }
   ],
   "source": [
    "from keras.callbacks import ModelCheckpoint\n",
    "filepath=\"./logsae/weights_fullsae_d.best.hdf5\"\n",
    "checkpoint = ModelCheckpoint(filepath, monitor='loss', save_best_only=True, mode='min')\n",
    "callbacks_list = [checkpoint]\n",
    "filepath2=\"./logsae/weights_fullsae_2d.best.hdf5\"\n",
    "checkpoint2 = ModelCheckpoint(filepath2, monitor='val_acc', save_best_only=True, mode='max')\n",
    "callbacks_list2 = [checkpoint2]\n"
   ]
  },
  {
   "cell_type": "code",
   "execution_count": 8,
   "metadata": {},
   "outputs": [],
   "source": [
    "# We use early stopping on a holdout validation set"
   ]
  },
  {
   "cell_type": "code",
   "execution_count": 9,
   "metadata": {},
   "outputs": [],
   "source": [
    "#from keras.layers.advanced_activations import ELU\n",
    "from keras.activations import elu\n",
    "\n",
    "\n",
    "def selu(x):\n",
    "    \"\"\"Scaled Exponential Linear Unit. (Klambauer et al., 2017)\n",
    "    # Arguments\n",
    "        x: A tensor or variable to compute the activation function for.\n",
    "    # References\n",
    "        - [Self-Normalizing Neural Networks](https://arxiv.org/abs/1706.02515)\n",
    "    \"\"\"\n",
    "    alpha = 1.6732632423543772848170429916717\n",
    "    scale = 1.0507009873554804934193349852946\n",
    "    return scale * elu(x, alpha)\n",
    "\n",
    "#model.add(Dense(32, input_shape=(input_length - 1,)), activation=selu)"
   ]
  },
  {
   "cell_type": "code",
   "execution_count": 10,
   "metadata": {},
   "outputs": [],
   "source": [
    "from keras.layers import Input, Dense\n",
    "from keras.models import Model, Sequential\n",
    "from time import time\n",
    "from keras.activations import relu, elu\n",
    "from keras.layers.advanced_activations import LeakyReLU\n",
    "from keras.optimizers import Adam"
   ]
  },
  {
   "cell_type": "code",
   "execution_count": 11,
   "metadata": {},
   "outputs": [
    {
     "name": "stdout",
     "output_type": "stream",
     "text": [
      "WARNING:tensorflow:From C:\\ProgramData\\Anaconda3\\lib\\site-packages\\tensorflow\\python\\framework\\op_def_library.py:263: colocate_with (from tensorflow.python.framework.ops) is deprecated and will be removed in a future version.\n",
      "Instructions for updating:\n",
      "Colocations handled automatically by placer.\n",
      "_________________________________________________________________\n",
      "Layer (type)                 Output Shape              Param #   \n",
      "=================================================================\n",
      "input_1 (InputLayer)         (None, 122)               0         \n",
      "_________________________________________________________________\n",
      "dense_1 (Dense)              (None, 100)               12300     \n",
      "_________________________________________________________________\n",
      "dense_2 (Dense)              (None, 122)               12322     \n",
      "=================================================================\n",
      "Total params: 24,622\n",
      "Trainable params: 24,622\n",
      "Non-trainable params: 0\n",
      "_________________________________________________________________\n",
      "WARNING:tensorflow:From C:\\ProgramData\\Anaconda3\\lib\\site-packages\\tensorflow\\python\\ops\\math_ops.py:3066: to_int32 (from tensorflow.python.ops.math_ops) is deprecated and will be removed in a future version.\n",
      "Instructions for updating:\n",
      "Use tf.cast instead.\n",
      "Train on 125973 samples, validate on 22544 samples\n",
      "Epoch 1/50\n",
      "125973/125973 [==============================] - 2s 16us/step - loss: 0.0231 - acc: 0.1835 - val_loss: 0.0051 - val_acc: 0.1759\n",
      "Epoch 2/50\n",
      "125973/125973 [==============================] - 2s 13us/step - loss: 0.0026 - acc: 0.2229 - val_loss: 0.0027 - val_acc: 0.2960\n",
      "Epoch 3/50\n",
      "125973/125973 [==============================] - 2s 14us/step - loss: 0.0016 - acc: 0.3386 - val_loss: 0.0020 - val_acc: 0.4957\n",
      "Epoch 4/50\n",
      "125973/125973 [==============================] - 2s 15us/step - loss: 0.0011 - acc: 0.5163 - val_loss: 0.0013 - val_acc: 0.6006\n",
      "Epoch 5/50\n",
      "125973/125973 [==============================] - 2s 15us/step - loss: 7.6658e-04 - acc: 0.5624 - val_loss: 0.0010 - val_acc: 0.5795\n",
      "Epoch 6/50\n",
      "125973/125973 [==============================] - 2s 15us/step - loss: 5.8643e-04 - acc: 0.5816 - val_loss: 8.3622e-04 - val_acc: 0.5913\n",
      "Epoch 7/50\n",
      "125973/125973 [==============================] - 2s 14us/step - loss: 4.3194e-04 - acc: 0.6032 - val_loss: 7.4251e-04 - val_acc: 0.6111\n",
      "Epoch 8/50\n",
      "125973/125973 [==============================] - 2s 13us/step - loss: 3.4721e-04 - acc: 0.6273 - val_loss: 6.2492e-04 - val_acc: 0.6101\n",
      "Epoch 9/50\n",
      "125973/125973 [==============================] - 2s 13us/step - loss: 2.7704e-04 - acc: 0.6139 - val_loss: 5.6085e-04 - val_acc: 0.6533\n",
      "Epoch 10/50\n",
      "125973/125973 [==============================] - 2s 13us/step - loss: 2.4050e-04 - acc: 0.6419 - val_loss: 5.2597e-04 - val_acc: 0.6805\n",
      "Epoch 11/50\n",
      "125973/125973 [==============================] - 2s 13us/step - loss: 2.2826e-04 - acc: 0.6852 - val_loss: 4.9309e-04 - val_acc: 0.6851\n",
      "Epoch 12/50\n",
      "125973/125973 [==============================] - 2s 13us/step - loss: 2.2008e-04 - acc: 0.6935 - val_loss: 4.8203e-04 - val_acc: 0.6644\n",
      "Epoch 13/50\n",
      "125973/125973 [==============================] - 2s 14us/step - loss: 1.9955e-04 - acc: 0.6918 - val_loss: 4.5762e-04 - val_acc: 0.6931\n",
      "Epoch 14/50\n",
      "125973/125973 [==============================] - 2s 14us/step - loss: 1.5966e-04 - acc: 0.7006 - val_loss: 4.4121e-04 - val_acc: 0.6705\n",
      "Epoch 15/50\n",
      "125973/125973 [==============================] - 2s 14us/step - loss: 1.5052e-04 - acc: 0.6875 - val_loss: 4.3098e-04 - val_acc: 0.7365\n",
      "Epoch 16/50\n",
      "125973/125973 [==============================] - 2s 14us/step - loss: 1.3786e-04 - acc: 0.6970 - val_loss: 3.9155e-04 - val_acc: 0.6773\n",
      "Epoch 17/50\n",
      "125973/125973 [==============================] - 2s 13us/step - loss: 1.2639e-04 - acc: 0.6824 - val_loss: 3.8090e-04 - val_acc: 0.7210\n",
      "Epoch 18/50\n",
      "125973/125973 [==============================] - 2s 14us/step - loss: 1.2363e-04 - acc: 0.6864 - val_loss: 3.7521e-04 - val_acc: 0.6576\n",
      "Epoch 19/50\n",
      "125973/125973 [==============================] - 2s 15us/step - loss: 1.1918e-04 - acc: 0.6783 - val_loss: 3.6065e-04 - val_acc: 0.6472\n",
      "Epoch 20/50\n",
      "125973/125973 [==============================] - 2s 14us/step - loss: 1.1397e-04 - acc: 0.6676 - val_loss: 3.6038e-04 - val_acc: 0.6913\n",
      "Epoch 21/50\n",
      "125973/125973 [==============================] - 2s 13us/step - loss: 1.0044e-04 - acc: 0.6804 - val_loss: 3.4148e-04 - val_acc: 0.6116\n",
      "Epoch 22/50\n",
      "125973/125973 [==============================] - 2s 14us/step - loss: 9.4109e-05 - acc: 0.6777 - val_loss: 3.3537e-04 - val_acc: 0.6053\n",
      "Epoch 23/50\n",
      "125973/125973 [==============================] - 2s 15us/step - loss: 8.9502e-05 - acc: 0.6688 - val_loss: 3.3421e-04 - val_acc: 0.6635\n",
      "Epoch 24/50\n",
      "125973/125973 [==============================] - 2s 16us/step - loss: 8.1293e-05 - acc: 0.6871 - val_loss: 3.2577e-04 - val_acc: 0.6578\n",
      "Epoch 25/50\n",
      "125973/125973 [==============================] - 2s 14us/step - loss: 7.7297e-05 - acc: 0.6838 - val_loss: 3.2655e-04 - val_acc: 0.6178\n",
      "Epoch 26/50\n",
      "125973/125973 [==============================] - 2s 14us/step - loss: 7.5598e-05 - acc: 0.6836 - val_loss: 3.1999e-04 - val_acc: 0.7158\n",
      "Epoch 27/50\n",
      "125973/125973 [==============================] - 2s 14us/step - loss: 7.3737e-05 - acc: 0.6958 - val_loss: 3.1438e-04 - val_acc: 0.6932\n",
      "Epoch 28/50\n",
      "125973/125973 [==============================] - 2s 14us/step - loss: 7.1850e-05 - acc: 0.6966 - val_loss: 3.0685e-04 - val_acc: 0.6888\n",
      "Epoch 29/50\n",
      "125973/125973 [==============================] - 2s 13us/step - loss: 7.0353e-05 - acc: 0.6987 - val_loss: 3.0628e-04 - val_acc: 0.7083\n",
      "Epoch 30/50\n",
      "125973/125973 [==============================] - 2s 15us/step - loss: 6.9187e-05 - acc: 0.6998 - val_loss: 2.9666e-04 - val_acc: 0.6794\n",
      "Epoch 31/50\n",
      "125973/125973 [==============================] - 2s 13us/step - loss: 6.7746e-05 - acc: 0.7002 - val_loss: 2.9441e-04 - val_acc: 0.6797\n",
      "Epoch 32/50\n",
      "125973/125973 [==============================] - 2s 15us/step - loss: 6.6733e-05 - acc: 0.6952 - val_loss: 2.8963e-04 - val_acc: 0.6925\n",
      "Epoch 33/50\n",
      "125973/125973 [==============================] - 2s 14us/step - loss: 6.5713e-05 - acc: 0.6990 - val_loss: 2.9454e-04 - val_acc: 0.6926\n",
      "Epoch 34/50\n",
      "125973/125973 [==============================] - 2s 14us/step - loss: 6.4846e-05 - acc: 0.6957 - val_loss: 2.8629e-04 - val_acc: 0.6824\n",
      "Epoch 35/50\n",
      "125973/125973 [==============================] - 2s 14us/step - loss: 6.3882e-05 - acc: 0.6918 - val_loss: 2.8649e-04 - val_acc: 0.6745\n",
      "Epoch 36/50\n",
      "125973/125973 [==============================] - 2s 13us/step - loss: 6.3218e-05 - acc: 0.6975 - val_loss: 2.8326e-04 - val_acc: 0.6905\n",
      "Epoch 37/50\n",
      "125973/125973 [==============================] - 2s 13us/step - loss: 6.2462e-05 - acc: 0.6978 - val_loss: 2.8082e-04 - val_acc: 0.7068\n",
      "Epoch 38/50\n",
      "125973/125973 [==============================] - 2s 13us/step - loss: 6.2007e-05 - acc: 0.7018 - val_loss: 2.7364e-04 - val_acc: 0.6779\n",
      "Epoch 39/50\n",
      "125973/125973 [==============================] - 2s 13us/step - loss: 6.0362e-05 - acc: 0.6997 - val_loss: 2.2712e-04 - val_acc: 0.6788\n",
      "Epoch 40/50\n",
      "125973/125973 [==============================] - 2s 14us/step - loss: 5.8151e-05 - acc: 0.7018 - val_loss: 2.0512e-04 - val_acc: 0.6927\n",
      "Epoch 41/50\n",
      "125973/125973 [==============================] - 2s 14us/step - loss: 5.6316e-05 - acc: 0.7037 - val_loss: 1.9156e-04 - val_acc: 0.7100\n",
      "Epoch 42/50\n",
      "125973/125973 [==============================] - 2s 13us/step - loss: 5.2158e-05 - acc: 0.7092 - val_loss: 1.8365e-04 - val_acc: 0.6932\n",
      "Epoch 43/50\n",
      "125973/125973 [==============================] - 2s 13us/step - loss: 5.1274e-05 - acc: 0.7000 - val_loss: 1.8532e-04 - val_acc: 0.7101\n",
      "Epoch 44/50\n",
      "125973/125973 [==============================] - 2s 13us/step - loss: 5.0945e-05 - acc: 0.7010 - val_loss: 1.8448e-04 - val_acc: 0.7009\n",
      "Epoch 45/50\n",
      "125973/125973 [==============================] - 2s 14us/step - loss: 5.0443e-05 - acc: 0.7026 - val_loss: 1.8375e-04 - val_acc: 0.7094\n",
      "Epoch 46/50\n",
      "125973/125973 [==============================] - 2s 13us/step - loss: 4.9887e-05 - acc: 0.7033 - val_loss: 1.8101e-04 - val_acc: 0.6891\n",
      "Epoch 47/50\n",
      "125973/125973 [==============================] - 2s 13us/step - loss: 4.9314e-05 - acc: 0.7015 - val_loss: 1.7875e-04 - val_acc: 0.6913\n",
      "Epoch 48/50\n",
      "125973/125973 [==============================] - 2s 13us/step - loss: 4.8896e-05 - acc: 0.7011 - val_loss: 1.8003e-04 - val_acc: 0.6971\n",
      "Epoch 49/50\n",
      "125973/125973 [==============================] - 2s 14us/step - loss: 4.8328e-05 - acc: 0.6956 - val_loss: 1.7692e-04 - val_acc: 0.6873\n",
      "Epoch 50/50\n",
      "125973/125973 [==============================] - 2s 14us/step - loss: 4.7883e-05 - acc: 0.6910 - val_loss: 1.8022e-04 - val_acc: 0.6736\n",
      "FEATURE EXTRACTION in 94.381 seconds\n",
      "(125973, 100)\n"
     ]
    }
   ],
   "source": [
    "# layer 1\n",
    "input_dim = train.shape[1]\n",
    "input_ly_1= Input(shape=(input_dim,))\n",
    "enc_ly_1= Dense(100, activation= 'relu', kernel_initializer='he_uniform')(input_ly_1)\n",
    "dec_ly_1=Dense(input_dim, activation='sigmoid', kernel_initializer='he_uniform')(enc_ly_1)\n",
    "\n",
    "auto_ly_1= Model(input_ly_1, dec_ly_1)\n",
    "encoder_ly_1= Model(input_ly_1, enc_ly_1)\n",
    "auto_ly_1.summary()\n",
    "\n",
    "\n",
    "t0 = time()\n",
    "auto_ly_1.compile(loss='mse',optimizer='adam', metrics=['accuracy']) # reporting the loss\n",
    "\n",
    "auto_ly_1.fit(train,train,\n",
    "      epochs=50,\n",
    "      batch_size=256,\n",
    "      shuffle=True,\n",
    "      callbacks=callbacks_list,                    \n",
    "      #callbacks=[early_stopping])\n",
    "      validation_data=(test,test))\n",
    "      #validation_split=0.2)   \n",
    "  \n",
    "tt = time()-t0\n",
    "print (\"FEATURE EXTRACTION in {} seconds\".format(round(tt,3)))\n",
    "# if you want an encoded flatten representation of every test MNIST\n",
    "\n",
    "\n",
    "ly1_predict= encoder_ly_1.predict(train)\n",
    "print(ly1_predict.shape)\n"
   ]
  },
  {
   "cell_type": "code",
   "execution_count": 12,
   "metadata": {},
   "outputs": [
    {
     "name": "stdout",
     "output_type": "stream",
     "text": [
      "_________________________________________________________________\n",
      "Layer (type)                 Output Shape              Param #   \n",
      "=================================================================\n",
      "input_2 (InputLayer)         (None, 100)               0         \n",
      "_________________________________________________________________\n",
      "dense_3 (Dense)              (None, 20)                2020      \n",
      "_________________________________________________________________\n",
      "dense_4 (Dense)              (None, 100)               2100      \n",
      "=================================================================\n",
      "Total params: 4,120\n",
      "Trainable params: 4,120\n",
      "Non-trainable params: 0\n",
      "_________________________________________________________________\n",
      "Train on 100778 samples, validate on 25195 samples\n",
      "Epoch 1/100\n",
      "100778/100778 [==============================] - 3s 28us/step - loss: 0.4426 - acc: 0.0198 - val_loss: 0.4080 - val_acc: 0.0021\n",
      "Epoch 2/100\n",
      "100778/100778 [==============================] - 2s 24us/step - loss: 0.4027 - acc: 0.0021 - val_loss: 0.4015 - val_acc: 0.0025\n",
      "Epoch 3/100\n",
      "100778/100778 [==============================] - 2s 22us/step - loss: 0.3979 - acc: 0.0022 - val_loss: 0.3968 - val_acc: 0.0025\n",
      "Epoch 4/100\n",
      "100778/100778 [==============================] - 2s 22us/step - loss: 0.3931 - acc: 0.0024 - val_loss: 0.3924 - val_acc: 0.0023\n",
      "Epoch 5/100\n",
      "100778/100778 [==============================] - 2s 22us/step - loss: 0.3904 - acc: 0.0024 - val_loss: 0.3909 - val_acc: 0.0027\n",
      "Epoch 6/100\n",
      "100778/100778 [==============================] - 2s 23us/step - loss: 0.3883 - acc: 0.0024 - val_loss: 0.3886 - val_acc: 0.0025\n",
      "Epoch 7/100\n",
      "100778/100778 [==============================] - 2s 22us/step - loss: 0.3869 - acc: 0.0023 - val_loss: 0.3876 - val_acc: 0.0024\n",
      "Epoch 8/100\n",
      "100778/100778 [==============================] - 2s 22us/step - loss: 0.3856 - acc: 0.0022 - val_loss: 0.3865 - val_acc: 0.0021\n",
      "Epoch 9/100\n",
      "100778/100778 [==============================] - 2s 22us/step - loss: 0.3852 - acc: 0.0020 - val_loss: 0.3862 - val_acc: 0.0019\n",
      "Epoch 10/100\n",
      "100778/100778 [==============================] - 2s 23us/step - loss: 0.3849 - acc: 0.0015 - val_loss: 0.3858 - val_acc: 0.0017\n",
      "Epoch 11/100\n",
      "100778/100778 [==============================] - 2s 22us/step - loss: 0.3845 - acc: 0.0013 - val_loss: 0.3855 - val_acc: 0.0016\n",
      "Epoch 12/100\n",
      "100778/100778 [==============================] - 2s 23us/step - loss: 0.3843 - acc: 0.0013 - val_loss: 0.3853 - val_acc: 0.0017\n",
      "Epoch 13/100\n",
      "100778/100778 [==============================] - 2s 23us/step - loss: 0.3840 - acc: 0.0015 - val_loss: 0.3850 - val_acc: 0.0017\n",
      "Epoch 14/100\n",
      "100778/100778 [==============================] - 2s 22us/step - loss: 0.3838 - acc: 0.0017 - val_loss: 0.3847 - val_acc: 0.0021\n",
      "Epoch 15/100\n",
      "100778/100778 [==============================] - 2s 22us/step - loss: 0.3833 - acc: 0.0018 - val_loss: 0.3843 - val_acc: 0.0018\n",
      "Epoch 16/100\n",
      "100778/100778 [==============================] - 2s 22us/step - loss: 0.3829 - acc: 0.0017 - val_loss: 0.3838 - val_acc: 0.0017\n",
      "Epoch 17/100\n",
      "100778/100778 [==============================] - 2s 23us/step - loss: 0.3826 - acc: 0.0018 - val_loss: 0.3837 - val_acc: 0.0019\n",
      "Epoch 18/100\n",
      "100778/100778 [==============================] - 2s 22us/step - loss: 0.3825 - acc: 0.0018 - val_loss: 0.3836 - val_acc: 0.0018\n",
      "Epoch 19/100\n",
      "100778/100778 [==============================] - 2s 22us/step - loss: 0.3824 - acc: 0.0017 - val_loss: 0.3835 - val_acc: 0.0018\n",
      "Epoch 20/100\n",
      "100778/100778 [==============================] - 2s 24us/step - loss: 0.3822 - acc: 0.0017 - val_loss: 0.3833 - val_acc: 0.0018\n",
      "Epoch 21/100\n",
      "100778/100778 [==============================] - 2s 22us/step - loss: 0.3819 - acc: 0.0017 - val_loss: 0.3828 - val_acc: 0.0019\n",
      "Epoch 22/100\n",
      "100778/100778 [==============================] - 2s 22us/step - loss: 0.3815 - acc: 0.0016 - val_loss: 0.3826 - val_acc: 0.0019\n",
      "Epoch 23/100\n",
      "100778/100778 [==============================] - 2s 22us/step - loss: 0.3813 - acc: 0.0016 - val_loss: 0.3824 - val_acc: 0.0016\n",
      "Epoch 24/100\n",
      "100778/100778 [==============================] - 2s 22us/step - loss: 0.3812 - acc: 0.0016 - val_loss: 0.3823 - val_acc: 0.0017\n",
      "Epoch 25/100\n",
      "100778/100778 [==============================] - 2s 22us/step - loss: 0.3811 - acc: 0.0015 - val_loss: 0.3822 - val_acc: 0.0017\n",
      "Epoch 26/100\n",
      "100778/100778 [==============================] - 2s 22us/step - loss: 0.3805 - acc: 0.0016 - val_loss: 0.3814 - val_acc: 0.0016\n",
      "Epoch 27/100\n",
      "100778/100778 [==============================] - 2s 24us/step - loss: 0.3802 - acc: 0.0015 - val_loss: 0.3814 - val_acc: 0.0017\n",
      "Epoch 28/100\n",
      "100778/100778 [==============================] - 2s 22us/step - loss: 0.3801 - acc: 0.0015 - val_loss: 0.3813 - val_acc: 0.0016\n",
      "Epoch 29/100\n",
      "100778/100778 [==============================] - 2s 22us/step - loss: 0.3801 - acc: 0.0015 - val_loss: 0.3813 - val_acc: 0.0016\n",
      "Epoch 30/100\n",
      "100778/100778 [==============================] - 2s 23us/step - loss: 0.3801 - acc: 0.0014 - val_loss: 0.3813 - val_acc: 0.0017\n",
      "Epoch 31/100\n",
      "100778/100778 [==============================] - 2s 23us/step - loss: 0.3800 - acc: 0.0014 - val_loss: 0.3813 - val_acc: 0.0017\n",
      "Epoch 32/100\n",
      "100778/100778 [==============================] - 2s 22us/step - loss: 0.3795 - acc: 0.0014 - val_loss: 0.3806 - val_acc: 0.0017\n",
      "Epoch 33/100\n",
      "100778/100778 [==============================] - 2s 22us/step - loss: 0.3794 - acc: 0.0014 - val_loss: 0.3806 - val_acc: 0.0017\n",
      "Epoch 34/100\n",
      "100778/100778 [==============================] - 2s 23us/step - loss: 0.3793 - acc: 0.0015 - val_loss: 0.3805 - val_acc: 0.0017\n",
      "Epoch 35/100\n",
      "100778/100778 [==============================] - 2s 22us/step - loss: 0.3793 - acc: 0.0014 - val_loss: 0.3805 - val_acc: 0.0017\n",
      "Epoch 36/100\n",
      "100778/100778 [==============================] - 2s 22us/step - loss: 0.3793 - acc: 0.0015 - val_loss: 0.3805 - val_acc: 0.0017\n",
      "Epoch 37/100\n",
      "100778/100778 [==============================] - 2s 22us/step - loss: 0.3788 - acc: 0.0014 - val_loss: 0.3799 - val_acc: 0.0017\n",
      "Epoch 38/100\n",
      "100778/100778 [==============================] - 2s 22us/step - loss: 0.3787 - acc: 0.0015 - val_loss: 0.3799 - val_acc: 0.0017\n",
      "Epoch 39/100\n",
      "100778/100778 [==============================] - 2s 22us/step - loss: 0.3784 - acc: 0.0015 - val_loss: 0.3793 - val_acc: 0.0017\n",
      "Epoch 40/100\n",
      "100778/100778 [==============================] - 2s 22us/step - loss: 0.3781 - acc: 0.0015 - val_loss: 0.3793 - val_acc: 0.0017\n",
      "Epoch 41/100\n",
      "100778/100778 [==============================] - 2s 23us/step - loss: 0.3781 - acc: 0.0015 - val_loss: 0.3793 - val_acc: 0.0017\n",
      "Epoch 42/100\n",
      "100778/100778 [==============================] - 2s 22us/step - loss: 0.3781 - acc: 0.0015 - val_loss: 0.3793 - val_acc: 0.0017\n",
      "Epoch 43/100\n",
      "100778/100778 [==============================] - 2s 22us/step - loss: 0.3780 - acc: 0.0015 - val_loss: 0.3793 - val_acc: 0.0017\n",
      "Epoch 44/100\n",
      "100778/100778 [==============================] - 2s 22us/step - loss: 0.3780 - acc: 0.0015 - val_loss: 0.3793 - val_acc: 0.0017\n",
      "Epoch 45/100\n",
      "100778/100778 [==============================] - 2s 22us/step - loss: 0.3780 - acc: 0.0015 - val_loss: 0.3792 - val_acc: 0.0017\n",
      "Epoch 46/100\n",
      "100778/100778 [==============================] - 2s 22us/step - loss: 0.3780 - acc: 0.0015 - val_loss: 0.3792 - val_acc: 0.0017\n",
      "Epoch 47/100\n",
      "100778/100778 [==============================] - 2s 22us/step - loss: 0.3779 - acc: 0.0015 - val_loss: 0.3792 - val_acc: 0.0017\n",
      "Epoch 48/100\n",
      "100778/100778 [==============================] - 2s 24us/step - loss: 0.3779 - acc: 0.0015 - val_loss: 0.3791 - val_acc: 0.0017\n",
      "Epoch 49/100\n",
      "100778/100778 [==============================] - 2s 23us/step - loss: 0.3779 - acc: 0.0015 - val_loss: 0.3791 - val_acc: 0.0017\n",
      "Epoch 50/100\n",
      "100778/100778 [==============================] - 2s 22us/step - loss: 0.3779 - acc: 0.0015 - val_loss: 0.3791 - val_acc: 0.0017\n",
      "Epoch 51/100\n",
      "100778/100778 [==============================] - 2s 23us/step - loss: 0.3779 - acc: 0.0015 - val_loss: 0.3791 - val_acc: 0.0017\n",
      "Epoch 52/100\n",
      "100778/100778 [==============================] - 2s 22us/step - loss: 0.3778 - acc: 0.0015 - val_loss: 0.3790 - val_acc: 0.0017\n",
      "Epoch 53/100\n",
      "100778/100778 [==============================] - 2s 23us/step - loss: 0.3778 - acc: 0.0015 - val_loss: 0.3790 - val_acc: 0.0017\n",
      "Epoch 54/100\n",
      "100778/100778 [==============================] - 2s 22us/step - loss: 0.3778 - acc: 0.0014 - val_loss: 0.3791 - val_acc: 0.0017\n",
      "Epoch 55/100\n",
      "100778/100778 [==============================] - 2s 23us/step - loss: 0.3778 - acc: 0.0015 - val_loss: 0.3791 - val_acc: 0.0017\n",
      "Epoch 56/100\n",
      "100778/100778 [==============================] - 2s 22us/step - loss: 0.3778 - acc: 0.0015 - val_loss: 0.3790 - val_acc: 0.0017\n",
      "Epoch 57/100\n",
      "100778/100778 [==============================] - 2s 22us/step - loss: 0.3778 - acc: 0.0015 - val_loss: 0.3790 - val_acc: 0.0017\n",
      "Epoch 58/100\n",
      "100778/100778 [==============================] - 2s 22us/step - loss: 0.3778 - acc: 0.0015 - val_loss: 0.3790 - val_acc: 0.0017\n",
      "Epoch 59/100\n",
      "100778/100778 [==============================] - 2s 22us/step - loss: 0.3778 - acc: 0.0015 - val_loss: 0.3790 - val_acc: 0.0017\n",
      "Epoch 60/100\n",
      "100778/100778 [==============================] - 2s 22us/step - loss: 0.3778 - acc: 0.0015 - val_loss: 0.3790 - val_acc: 0.0017\n",
      "Epoch 61/100\n",
      "100778/100778 [==============================] - 2s 22us/step - loss: 0.3778 - acc: 0.0015 - val_loss: 0.3790 - val_acc: 0.0017\n",
      "Epoch 62/100\n",
      "100778/100778 [==============================] - 2s 23us/step - loss: 0.3777 - acc: 0.0015 - val_loss: 0.3790 - val_acc: 0.0017\n",
      "Epoch 63/100\n",
      "100778/100778 [==============================] - 2s 23us/step - loss: 0.3777 - acc: 0.0015 - val_loss: 0.3790 - val_acc: 0.0017\n",
      "Epoch 64/100\n",
      "100778/100778 [==============================] - 2s 22us/step - loss: 0.3777 - acc: 0.0015 - val_loss: 0.3790 - val_acc: 0.0017\n",
      "Epoch 65/100\n",
      "100778/100778 [==============================] - 2s 22us/step - loss: 0.3777 - acc: 0.0015 - val_loss: 0.3789 - val_acc: 0.0017\n",
      "Epoch 66/100\n",
      "100778/100778 [==============================] - 2s 22us/step - loss: 0.3777 - acc: 0.0014 - val_loss: 0.3789 - val_acc: 0.0017\n",
      "Epoch 67/100\n",
      "100778/100778 [==============================] - 2s 22us/step - loss: 0.3777 - acc: 0.0015 - val_loss: 0.3789 - val_acc: 0.0017\n",
      "Epoch 68/100\n",
      "100778/100778 [==============================] - 2s 22us/step - loss: 0.3777 - acc: 0.0015 - val_loss: 0.3789 - val_acc: 0.0017\n",
      "Epoch 69/100\n",
      "100778/100778 [==============================] - 2s 23us/step - loss: 0.3777 - acc: 0.0015 - val_loss: 0.3789 - val_acc: 0.0017\n",
      "Epoch 70/100\n",
      "100778/100778 [==============================] - 2s 23us/step - loss: 0.3777 - acc: 0.0015 - val_loss: 0.3789 - val_acc: 0.0017\n",
      "Epoch 71/100\n",
      "100778/100778 [==============================] - 2s 22us/step - loss: 0.3777 - acc: 0.0015 - val_loss: 0.3789 - val_acc: 0.0017\n",
      "Epoch 72/100\n",
      "100778/100778 [==============================] - 2s 23us/step - loss: 0.3777 - acc: 0.0014 - val_loss: 0.3789 - val_acc: 0.0017\n",
      "Epoch 73/100\n",
      "100778/100778 [==============================] - 2s 22us/step - loss: 0.3777 - acc: 0.0015 - val_loss: 0.3789 - val_acc: 0.0017\n",
      "Epoch 74/100\n",
      "100778/100778 [==============================] - 2s 23us/step - loss: 0.3776 - acc: 0.0014 - val_loss: 0.3789 - val_acc: 0.0017\n",
      "Epoch 75/100\n",
      "100778/100778 [==============================] - 2s 22us/step - loss: 0.3776 - acc: 0.0015 - val_loss: 0.3789 - val_acc: 0.0017\n",
      "Epoch 76/100\n",
      "100778/100778 [==============================] - 2s 22us/step - loss: 0.3776 - acc: 0.0014 - val_loss: 0.3789 - val_acc: 0.0016\n",
      "Epoch 77/100\n",
      "100778/100778 [==============================] - 2s 23us/step - loss: 0.3776 - acc: 0.0015 - val_loss: 0.3789 - val_acc: 0.0016\n",
      "Epoch 78/100\n",
      "100778/100778 [==============================] - 2s 23us/step - loss: 0.3776 - acc: 0.0015 - val_loss: 0.3788 - val_acc: 0.0017\n",
      "Epoch 79/100\n",
      "100778/100778 [==============================] - 2s 22us/step - loss: 0.3776 - acc: 0.0015 - val_loss: 0.3789 - val_acc: 0.0017\n",
      "Epoch 80/100\n",
      "100778/100778 [==============================] - 2s 22us/step - loss: 0.3776 - acc: 0.0014 - val_loss: 0.3788 - val_acc: 0.0017\n",
      "Epoch 81/100\n",
      "100778/100778 [==============================] - 2s 22us/step - loss: 0.3776 - acc: 0.0014 - val_loss: 0.3789 - val_acc: 0.0016\n",
      "Epoch 82/100\n",
      "100778/100778 [==============================] - 2s 23us/step - loss: 0.3776 - acc: 0.0014 - val_loss: 0.3788 - val_acc: 0.0016\n",
      "Epoch 83/100\n",
      "100778/100778 [==============================] - 2s 22us/step - loss: 0.3776 - acc: 0.0014 - val_loss: 0.3789 - val_acc: 0.0016\n",
      "Epoch 84/100\n",
      "100778/100778 [==============================] - 2s 23us/step - loss: 0.3776 - acc: 0.0014 - val_loss: 0.3789 - val_acc: 0.0016\n",
      "Epoch 85/100\n",
      "100778/100778 [==============================] - 2s 22us/step - loss: 0.3776 - acc: 0.0014 - val_loss: 0.3788 - val_acc: 0.0016\n",
      "Epoch 86/100\n",
      "100778/100778 [==============================] - 2s 22us/step - loss: 0.3776 - acc: 0.0014 - val_loss: 0.3788 - val_acc: 0.0016\n",
      "Epoch 87/100\n",
      "100778/100778 [==============================] - 2s 23us/step - loss: 0.3776 - acc: 0.0014 - val_loss: 0.3789 - val_acc: 0.0016\n",
      "Epoch 88/100\n",
      "100778/100778 [==============================] - 2s 22us/step - loss: 0.3776 - acc: 0.0014 - val_loss: 0.3788 - val_acc: 0.0016\n",
      "Epoch 89/100\n",
      "100778/100778 [==============================] - 2s 22us/step - loss: 0.3776 - acc: 0.0014 - val_loss: 0.3788 - val_acc: 0.0017\n",
      "Epoch 90/100\n",
      "100778/100778 [==============================] - 2s 24us/step - loss: 0.3776 - acc: 0.0014 - val_loss: 0.3788 - val_acc: 0.0017\n",
      "Epoch 91/100\n",
      "100778/100778 [==============================] - 2s 24us/step - loss: 0.3776 - acc: 0.0014 - val_loss: 0.3789 - val_acc: 0.0016\n",
      "Epoch 92/100\n",
      "100778/100778 [==============================] - 2s 23us/step - loss: 0.3776 - acc: 0.0013 - val_loss: 0.3788 - val_acc: 0.0016\n",
      "Epoch 93/100\n",
      "100778/100778 [==============================] - 3s 27us/step - loss: 0.3776 - acc: 0.0014 - val_loss: 0.3789 - val_acc: 0.0016\n",
      "Epoch 94/100\n",
      "100778/100778 [==============================] - 3s 26us/step - loss: 0.3776 - acc: 0.0014 - val_loss: 0.3788 - val_acc: 0.0016\n",
      "Epoch 95/100\n",
      "100778/100778 [==============================] - 3s 26us/step - loss: 0.3776 - acc: 0.0013 - val_loss: 0.3788 - val_acc: 0.0016\n",
      "Epoch 96/100\n",
      "100778/100778 [==============================] - 3s 26us/step - loss: 0.3775 - acc: 0.0014 - val_loss: 0.3788 - val_acc: 0.0017\n",
      "Epoch 97/100\n",
      "100778/100778 [==============================] - 3s 26us/step - loss: 0.3775 - acc: 0.0013 - val_loss: 0.3788 - val_acc: 0.0015\n",
      "Epoch 98/100\n",
      "100778/100778 [==============================] - 3s 25us/step - loss: 0.3774 - acc: 0.0014 - val_loss: 0.3786 - val_acc: 0.0016\n",
      "Epoch 99/100\n",
      "100778/100778 [==============================] - 2s 25us/step - loss: 0.3774 - acc: 0.0014 - val_loss: 0.3786 - val_acc: 0.0017\n",
      "Epoch 100/100\n",
      "100778/100778 [==============================] - 3s 25us/step - loss: 0.3773 - acc: 0.0012 - val_loss: 0.3786 - val_acc: 0.0016\n",
      "FEATURE EXTRACTION in 230.088 seconds\n",
      "(125973, 20)\n"
     ]
    }
   ],
   "source": [
    "# layer 2\n",
    "input_ly_2= Input(shape=(100,))\n",
    "enc_ly_2= Dense(20, activation= 'relu', kernel_initializer='he_uniform')(input_ly_2)\n",
    "dec_ly_2=Dense(100, activation='sigmoid', kernel_initializer='he_uniform')(enc_ly_2)\n",
    "\n",
    "auto_ly_2= Model(input_ly_2, dec_ly_2)\n",
    "encoder_ly_2= Model(input_ly_2, enc_ly_2)\n",
    "auto_ly_2.summary()\n",
    "\n",
    "\n",
    "t0 = time()\n",
    "auto_ly_2.compile(loss='mse',optimizer='adam', metrics=['accuracy']) # reporting the loss\n",
    "\n",
    "history_a=auto_ly_2.fit(ly1_predict,ly1_predict,\n",
    "      epochs=50,\n",
    "      batch_size=256,\n",
    "      shuffle=True,\n",
    "      callbacks=callbacks_list,                    \n",
    "      #callbacks=[early_stopping])\n",
    "      #validation_data=(test,test))\n",
    "      validation_split=0.2)   \n",
    "  \n",
    "tt = time()-t0\n",
    "print (\"FEATURE EXTRACTION in {} seconds\".format(round(tt,3)))\n",
    "# if you want an encoded flatten representation of every test MNIST\n",
    "\n",
    "\n",
    "ly2_predict= encoder_ly_2.predict(ly1_predict)\n",
    "print(ly2_predict.shape)"
   ]
  },
  {
   "cell_type": "code",
   "execution_count": 18,
   "metadata": {},
   "outputs": [
    {
     "name": "stdout",
     "output_type": "stream",
     "text": [
      "_________________________________________________________________\n",
      "Layer (type)                 Output Shape              Param #   \n",
      "=================================================================\n",
      "input_8 (InputLayer)         (None, 122)               0         \n",
      "_________________________________________________________________\n",
      "layer1 (Dense)               (None, 100)               12300     \n",
      "_________________________________________________________________\n",
      "layer2 (Dense)               (None, 20)                2020      \n",
      "_________________________________________________________________\n",
      "dense_9 (Dense)              (None, 5)                 105       \n",
      "=================================================================\n",
      "Total params: 14,425\n",
      "Trainable params: 14,425\n",
      "Non-trainable params: 0\n",
      "_________________________________________________________________\n",
      "Train on 125973 samples, validate on 22544 samples\n",
      "Epoch 1/100\n",
      "125973/125973 [==============================] - 2s 14us/step - loss: 0.2921 - acc: 0.9743 - val_loss: 3.4238 - val_acc: 0.7233\n",
      "Epoch 2/100\n",
      "125973/125973 [==============================] - 1s 11us/step - loss: 0.2627 - acc: 0.9797 - val_loss: 3.4469 - val_acc: 0.7340\n",
      "Epoch 3/100\n",
      "125973/125973 [==============================] - 2s 12us/step - loss: 0.1489 - acc: 0.9873 - val_loss: 3.0247 - val_acc: 0.7818\n",
      "Epoch 4/100\n",
      "125973/125973 [==============================] - 1s 11us/step - loss: 0.1361 - acc: 0.9895 - val_loss: 3.0748 - val_acc: 0.7670\n",
      "Epoch 5/100\n",
      "125973/125973 [==============================] - 2s 13us/step - loss: 0.1346 - acc: 0.9899 - val_loss: 3.1982 - val_acc: 0.7551\n",
      "Epoch 6/100\n",
      "125973/125973 [==============================] - 2s 12us/step - loss: 0.1353 - acc: 0.9895 - val_loss: 3.1303 - val_acc: 0.7682\n",
      "Epoch 7/100\n",
      "125973/125973 [==============================] - 1s 11us/step - loss: 0.1337 - acc: 0.9901 - val_loss: 3.1779 - val_acc: 0.7742\n",
      "Epoch 8/100\n",
      "125973/125973 [==============================] - 1s 11us/step - loss: 0.1331 - acc: 0.9903 - val_loss: 3.1964 - val_acc: 0.7592\n",
      "Epoch 9/100\n",
      "125973/125973 [==============================] - 1s 11us/step - loss: 0.1332 - acc: 0.9904 - val_loss: 3.0907 - val_acc: 0.7734\n",
      "Epoch 10/100\n",
      "125973/125973 [==============================] - 1s 11us/step - loss: 0.1336 - acc: 0.9902 - val_loss: 3.2060 - val_acc: 0.7749\n",
      "Epoch 11/100\n",
      "125973/125973 [==============================] - 1s 10us/step - loss: 0.1329 - acc: 0.9903 - val_loss: 3.1904 - val_acc: 0.7545\n",
      "Epoch 12/100\n",
      "125973/125973 [==============================] - 1s 11us/step - loss: 0.1316 - acc: 0.9907 - val_loss: 3.0745 - val_acc: 0.7753\n",
      "Epoch 13/100\n",
      "125973/125973 [==============================] - 1s 11us/step - loss: 0.1310 - acc: 0.9905 - val_loss: 3.2794 - val_acc: 0.7622\n",
      "Epoch 14/100\n",
      "125973/125973 [==============================] - 1s 11us/step - loss: 0.0556 - acc: 0.9929 - val_loss: 2.2782 - val_acc: 0.7844\n",
      "Epoch 15/100\n",
      "125973/125973 [==============================] - 1s 11us/step - loss: 0.0132 - acc: 0.9966 - val_loss: 2.3595 - val_acc: 0.7952\n",
      "Epoch 16/100\n",
      "125973/125973 [==============================] - 1s 11us/step - loss: 0.0091 - acc: 0.9975 - val_loss: 2.3766 - val_acc: 0.7938\n",
      "Epoch 17/100\n",
      "125973/125973 [==============================] - 1s 12us/step - loss: 0.0087 - acc: 0.9976 - val_loss: 2.4168 - val_acc: 0.8017\n",
      "Epoch 18/100\n",
      "125973/125973 [==============================] - 1s 11us/step - loss: 0.0074 - acc: 0.9979 - val_loss: 2.5100 - val_acc: 0.7919\n",
      "Epoch 19/100\n",
      "125973/125973 [==============================] - 1s 11us/step - loss: 0.0072 - acc: 0.9980 - val_loss: 2.5663 - val_acc: 0.7853\n",
      "Epoch 20/100\n",
      "125973/125973 [==============================] - 1s 11us/step - loss: 0.0085 - acc: 0.9976 - val_loss: 2.4124 - val_acc: 0.7961\n",
      "Epoch 21/100\n",
      "125973/125973 [==============================] - 1s 11us/step - loss: 0.0070 - acc: 0.9980 - val_loss: 2.5275 - val_acc: 0.7883\n",
      "Epoch 22/100\n",
      "125973/125973 [==============================] - 1s 11us/step - loss: 0.0080 - acc: 0.9978 - val_loss: 2.5783 - val_acc: 0.7849\n",
      "Epoch 23/100\n",
      "125973/125973 [==============================] - 1s 11us/step - loss: 0.0079 - acc: 0.9979 - val_loss: 2.6041 - val_acc: 0.7764\n",
      "Epoch 24/100\n",
      "125973/125973 [==============================] - 1s 11us/step - loss: 0.0063 - acc: 0.9982 - val_loss: 2.7925 - val_acc: 0.7677\n",
      "Epoch 25/100\n",
      "125973/125973 [==============================] - 1s 11us/step - loss: 0.0061 - acc: 0.9982 - val_loss: 2.5802 - val_acc: 0.7844\n",
      "Epoch 26/100\n",
      "125973/125973 [==============================] - 1s 10us/step - loss: 0.0058 - acc: 0.9983 - val_loss: 2.7237 - val_acc: 0.7693\n",
      "Epoch 27/100\n",
      "125973/125973 [==============================] - 1s 11us/step - loss: 0.0060 - acc: 0.9982 - val_loss: 2.9160 - val_acc: 0.7765\n",
      "Epoch 28/100\n",
      "125973/125973 [==============================] - 1s 12us/step - loss: 0.0068 - acc: 0.9981 - val_loss: 2.6460 - val_acc: 0.7778\n",
      "Epoch 29/100\n",
      "125973/125973 [==============================] - 1s 11us/step - loss: 0.0057 - acc: 0.9984 - val_loss: 2.8887 - val_acc: 0.7806\n",
      "Epoch 30/100\n",
      "125973/125973 [==============================] - 1s 11us/step - loss: 0.0069 - acc: 0.9981 - val_loss: 3.0952 - val_acc: 0.7509\n",
      "Epoch 31/100\n",
      "125973/125973 [==============================] - 1s 10us/step - loss: 0.0061 - acc: 0.9982 - val_loss: 2.8493 - val_acc: 0.7697\n",
      "Epoch 32/100\n",
      "125973/125973 [==============================] - 1s 10us/step - loss: 0.0059 - acc: 0.9983 - val_loss: 3.0103 - val_acc: 0.7695\n",
      "Epoch 33/100\n",
      "125973/125973 [==============================] - 1s 11us/step - loss: 0.0051 - acc: 0.9985 - val_loss: 2.8362 - val_acc: 0.7858\n",
      "Epoch 34/100\n",
      "125973/125973 [==============================] - 1s 11us/step - loss: 0.0055 - acc: 0.9984 - val_loss: 2.9083 - val_acc: 0.7780\n",
      "Epoch 35/100\n",
      "125973/125973 [==============================] - 1s 10us/step - loss: 0.0048 - acc: 0.9986 - val_loss: 3.0878 - val_acc: 0.7790\n",
      "Epoch 36/100\n",
      "125973/125973 [==============================] - 1s 10us/step - loss: 0.0052 - acc: 0.9983 - val_loss: 2.7583 - val_acc: 0.7805\n",
      "Epoch 37/100\n",
      "125973/125973 [==============================] - 1s 11us/step - loss: 0.0052 - acc: 0.9984 - val_loss: 2.8076 - val_acc: 0.7781\n",
      "Epoch 38/100\n",
      "125973/125973 [==============================] - 1s 10us/step - loss: 0.0056 - acc: 0.9985 - val_loss: 2.9497 - val_acc: 0.7728\n",
      "Epoch 39/100\n",
      "125973/125973 [==============================] - 1s 11us/step - loss: 0.0058 - acc: 0.9983 - val_loss: 2.8593 - val_acc: 0.7838\n",
      "Epoch 40/100\n",
      "125973/125973 [==============================] - 1s 12us/step - loss: 0.0063 - acc: 0.9981 - val_loss: 2.8688 - val_acc: 0.7879\n",
      "Epoch 41/100\n",
      "125973/125973 [==============================] - 1s 11us/step - loss: 0.0048 - acc: 0.9985 - val_loss: 2.8221 - val_acc: 0.7779\n",
      "Epoch 42/100\n",
      "125973/125973 [==============================] - 1s 11us/step - loss: 0.0046 - acc: 0.9985 - val_loss: 2.8528 - val_acc: 0.7807\n",
      "Epoch 43/100\n",
      "125973/125973 [==============================] - 1s 11us/step - loss: 0.0047 - acc: 0.9987 - val_loss: 2.9450 - val_acc: 0.7807\n",
      "Epoch 44/100\n",
      "125973/125973 [==============================] - 1s 11us/step - loss: 0.0045 - acc: 0.9987 - val_loss: 2.8629 - val_acc: 0.7812\n",
      "Epoch 45/100\n",
      "125973/125973 [==============================] - 1s 11us/step - loss: 0.0050 - acc: 0.9985 - val_loss: 2.7723 - val_acc: 0.7849\n",
      "Epoch 46/100\n",
      "125973/125973 [==============================] - 1s 11us/step - loss: 0.0050 - acc: 0.9985 - val_loss: 2.9888 - val_acc: 0.7755\n",
      "Epoch 47/100\n",
      "125973/125973 [==============================] - 1s 11us/step - loss: 0.0050 - acc: 0.9985 - val_loss: 3.0536 - val_acc: 0.7760\n",
      "Epoch 48/100\n",
      "125973/125973 [==============================] - 1s 11us/step - loss: 0.0058 - acc: 0.9983 - val_loss: 3.1562 - val_acc: 0.7770\n",
      "Epoch 49/100\n",
      "125973/125973 [==============================] - 1s 11us/step - loss: 0.0050 - acc: 0.9984 - val_loss: 2.6445 - val_acc: 0.7901\n",
      "Epoch 50/100\n",
      "125973/125973 [==============================] - 1s 12us/step - loss: 0.0050 - acc: 0.9985 - val_loss: 2.8185 - val_acc: 0.7946\n",
      "Epoch 51/100\n",
      "125973/125973 [==============================] - 1s 11us/step - loss: 0.0056 - acc: 0.9984 - val_loss: 2.9141 - val_acc: 0.7858\n",
      "Epoch 52/100\n",
      "125973/125973 [==============================] - 1s 11us/step - loss: 0.0040 - acc: 0.9986 - val_loss: 2.9024 - val_acc: 0.7752\n",
      "Epoch 53/100\n",
      "125973/125973 [==============================] - 1s 11us/step - loss: 0.0036 - acc: 0.9988 - val_loss: 2.8405 - val_acc: 0.7865\n",
      "Epoch 54/100\n",
      "125973/125973 [==============================] - 1s 11us/step - loss: 0.0040 - acc: 0.9987 - val_loss: 2.9266 - val_acc: 0.7797\n",
      "Epoch 55/100\n",
      "125973/125973 [==============================] - 1s 10us/step - loss: 0.0044 - acc: 0.9986 - val_loss: 2.8932 - val_acc: 0.7839\n",
      "Epoch 56/100\n",
      "125973/125973 [==============================] - 1s 11us/step - loss: 0.0049 - acc: 0.9984 - val_loss: 3.0117 - val_acc: 0.7826\n",
      "Epoch 57/100\n",
      "125973/125973 [==============================] - 1s 11us/step - loss: 0.0044 - acc: 0.9987 - val_loss: 3.0677 - val_acc: 0.7875\n",
      "Epoch 58/100\n",
      "125973/125973 [==============================] - 1s 12us/step - loss: 0.0043 - acc: 0.9987 - val_loss: 3.3073 - val_acc: 0.7625\n",
      "Epoch 59/100\n",
      "125973/125973 [==============================] - 1s 12us/step - loss: 0.0037 - acc: 0.9988 - val_loss: 3.1497 - val_acc: 0.7768\n",
      "Epoch 60/100\n",
      "125973/125973 [==============================] - 1s 11us/step - loss: 0.0037 - acc: 0.9987 - val_loss: 3.1096 - val_acc: 0.7745\n",
      "Epoch 61/100\n",
      "125973/125973 [==============================] - 1s 11us/step - loss: 0.0034 - acc: 0.9989 - val_loss: 3.1014 - val_acc: 0.7760\n",
      "Epoch 62/100\n",
      "125973/125973 [==============================] - 2s 12us/step - loss: 0.0039 - acc: 0.9987 - val_loss: 3.2494 - val_acc: 0.7657\n",
      "Epoch 63/100\n",
      "125973/125973 [==============================] - 1s 11us/step - loss: 0.0038 - acc: 0.9988 - val_loss: 3.1113 - val_acc: 0.7740\n",
      "Epoch 64/100\n",
      "125973/125973 [==============================] - 1s 10us/step - loss: 0.0041 - acc: 0.9986 - val_loss: 3.3281 - val_acc: 0.7630\n",
      "Epoch 65/100\n",
      "125973/125973 [==============================] - 1s 12us/step - loss: 0.0036 - acc: 0.9987 - val_loss: 3.0599 - val_acc: 0.7641\n",
      "Epoch 66/100\n",
      "125973/125973 [==============================] - 1s 12us/step - loss: 0.0043 - acc: 0.9986 - val_loss: 3.4432 - val_acc: 0.7530\n",
      "Epoch 67/100\n",
      "125973/125973 [==============================] - 1s 11us/step - loss: 0.0040 - acc: 0.9987 - val_loss: 3.4604 - val_acc: 0.7516\n",
      "Epoch 68/100\n",
      "125973/125973 [==============================] - 1s 12us/step - loss: 0.0038 - acc: 0.9987 - val_loss: 3.5161 - val_acc: 0.7394\n",
      "Epoch 69/100\n",
      "125973/125973 [==============================] - 2s 12us/step - loss: 0.0037 - acc: 0.9988 - val_loss: 3.3303 - val_acc: 0.7486\n",
      "Epoch 70/100\n",
      "125973/125973 [==============================] - 1s 11us/step - loss: 0.0044 - acc: 0.9986 - val_loss: 3.2739 - val_acc: 0.7700\n",
      "Epoch 71/100\n",
      "125973/125973 [==============================] - 1s 11us/step - loss: 0.0042 - acc: 0.9987 - val_loss: 3.1772 - val_acc: 0.7448\n",
      "Epoch 72/100\n",
      "125973/125973 [==============================] - 1s 11us/step - loss: 0.0040 - acc: 0.9988 - val_loss: 3.3632 - val_acc: 0.7603\n",
      "Epoch 73/100\n",
      "125973/125973 [==============================] - 1s 11us/step - loss: 0.0073 - acc: 0.9984 - val_loss: 3.1522 - val_acc: 0.7859\n",
      "Epoch 74/100\n",
      "125973/125973 [==============================] - 1s 11us/step - loss: 0.0093 - acc: 0.9983 - val_loss: 3.3494 - val_acc: 0.7595\n",
      "Epoch 75/100\n",
      "125973/125973 [==============================] - 1s 10us/step - loss: 0.0040 - acc: 0.9988 - val_loss: 3.2498 - val_acc: 0.7661\n",
      "Epoch 76/100\n",
      "125973/125973 [==============================] - 1s 10us/step - loss: 0.0040 - acc: 0.9987 - val_loss: 3.6322 - val_acc: 0.7428\n",
      "Epoch 77/100\n",
      "125973/125973 [==============================] - 1s 10us/step - loss: 0.0037 - acc: 0.9989 - val_loss: 3.1966 - val_acc: 0.7742\n",
      "Epoch 78/100\n",
      "125973/125973 [==============================] - 1s 11us/step - loss: 0.0034 - acc: 0.9989 - val_loss: 3.2250 - val_acc: 0.7725\n",
      "Epoch 79/100\n",
      "125973/125973 [==============================] - 2s 12us/step - loss: 0.0034 - acc: 0.9989 - val_loss: 3.1319 - val_acc: 0.7817\n",
      "Epoch 80/100\n",
      "125973/125973 [==============================] - 2s 13us/step - loss: 0.0034 - acc: 0.9988 - val_loss: 3.0289 - val_acc: 0.7832\n",
      "Epoch 81/100\n",
      "125973/125973 [==============================] - 2s 13us/step - loss: 0.0035 - acc: 0.9988 - val_loss: 3.1343 - val_acc: 0.7628\n",
      "Epoch 82/100\n",
      "125973/125973 [==============================] - 2s 13us/step - loss: 0.0033 - acc: 0.9989 - val_loss: 2.9847 - val_acc: 0.7858\n",
      "Epoch 83/100\n",
      "125973/125973 [==============================] - 2s 13us/step - loss: 0.0034 - acc: 0.9989 - val_loss: 3.1042 - val_acc: 0.7787\n",
      "Epoch 84/100\n",
      "125973/125973 [==============================] - 2s 14us/step - loss: 0.0045 - acc: 0.9987 - val_loss: 3.1441 - val_acc: 0.7630\n",
      "Epoch 85/100\n",
      "125973/125973 [==============================] - 2s 12us/step - loss: 0.0040 - acc: 0.9987 - val_loss: 3.0828 - val_acc: 0.7642\n",
      "Epoch 86/100\n",
      "125973/125973 [==============================] - 1s 11us/step - loss: 0.0034 - acc: 0.9989 - val_loss: 3.0148 - val_acc: 0.7705\n",
      "Epoch 87/100\n",
      "125973/125973 [==============================] - 1s 12us/step - loss: 0.0036 - acc: 0.9989 - val_loss: 3.2066 - val_acc: 0.7647\n",
      "Epoch 88/100\n",
      "125973/125973 [==============================] - 1s 11us/step - loss: 0.0041 - acc: 0.9988 - val_loss: 3.2533 - val_acc: 0.7509\n",
      "Epoch 89/100\n",
      "125973/125973 [==============================] - 2s 12us/step - loss: 0.0042 - acc: 0.9989 - val_loss: 3.3409 - val_acc: 0.7528\n",
      "Epoch 90/100\n",
      "125973/125973 [==============================] - 1s 11us/step - loss: 0.0050 - acc: 0.9986 - val_loss: 3.3219 - val_acc: 0.7573\n",
      "Epoch 91/100\n",
      "125973/125973 [==============================] - 1s 10us/step - loss: 0.0030 - acc: 0.9990 - val_loss: 3.4036 - val_acc: 0.7666\n",
      "Epoch 92/100\n",
      "125973/125973 [==============================] - 1s 11us/step - loss: 0.0031 - acc: 0.9989 - val_loss: 3.1374 - val_acc: 0.7723\n",
      "Epoch 93/100\n",
      "125973/125973 [==============================] - 1s 11us/step - loss: 0.0029 - acc: 0.9990 - val_loss: 3.1885 - val_acc: 0.7700\n",
      "Epoch 94/100\n",
      "125973/125973 [==============================] - 1s 11us/step - loss: 0.0029 - acc: 0.9990 - val_loss: 3.2490 - val_acc: 0.7747\n",
      "Epoch 95/100\n",
      "125973/125973 [==============================] - 2s 13us/step - loss: 0.0028 - acc: 0.9990 - val_loss: 3.2508 - val_acc: 0.7734\n",
      "Epoch 96/100\n",
      "125973/125973 [==============================] - 2s 14us/step - loss: 0.0036 - acc: 0.9988 - val_loss: 3.4172 - val_acc: 0.7502\n",
      "Epoch 97/100\n",
      "125973/125973 [==============================] - 1s 11us/step - loss: 0.0043 - acc: 0.9987 - val_loss: 2.9756 - val_acc: 0.7891\n",
      "Epoch 98/100\n",
      "125973/125973 [==============================] - 1s 10us/step - loss: 0.0045 - acc: 0.9987 - val_loss: 3.1991 - val_acc: 0.7654\n",
      "Epoch 99/100\n",
      "125973/125973 [==============================] - 1s 11us/step - loss: 0.0026 - acc: 0.9991 - val_loss: 3.2625 - val_acc: 0.7563\n",
      "Epoch 100/100\n",
      "125973/125973 [==============================] - 1s 10us/step - loss: 0.0027 - acc: 0.9991 - val_loss: 3.1806 - val_acc: 0.7678\n",
      "FEATURE CLASSIFICATION in 142.743 seconds\n"
     ]
    }
   ],
   "source": [
    "# define new model encoder->Dense  22 neurons with soft max for classification \n",
    "\n",
    "# Deep stacked auto encoder\n",
    "ly_1= auto_ly_1.layers[1].get_weights()\n",
    "ly_2= auto_ly_2.layers[1].get_weights()\n",
    "#ly_3= auto_ly_3.layers[1].get_weights()\n",
    "\n",
    "input_da= Input(shape=(input_dim,))\n",
    "dnn_1=Dense(100, activation='relu',  kernel_initializer='he_uniform',input_shape=(input_dim,),\n",
    "            name=\"layer1\")(input_da)\n",
    "dnn_2= Dense(20, activation='relu', kernel_initializer='he_uniform',name=\"layer2\")(dnn_1)\n",
    "dnn_3= Dense(5, activation='softmax',kernel_initializer='he_uniform')(dnn_2)\n",
    "\n",
    "dnn= Model(input_da, dnn_3)\n",
    "dnn.summary()\n",
    "\n",
    "dnn.layers[1].set_weights(ly_1) # first dense layer\n",
    "dnn.layers[2].set_weights(ly_2)\n",
    "#dnn.layers[3].set_weights(ly_3)\n",
    "\n",
    "\n",
    "t1=time()\n",
    "dnn.compile(loss='categorical_crossentropy', metrics=['accuracy'],\n",
    "            optimizer= Adam(lr=0.01, beta_1=0.9, beta_2=0.999, epsilon=1e-08,decay=0.0, amsgrad=False))\n",
    "history2a=dnn.fit(train, y_train,epochs=100,batch_size=256,shuffle=True,verbose=1, \n",
    "                    callbacks=callbacks_list2, \n",
    "                     # validation_split=0)\n",
    "                     validation_data=(test,y_test))\n",
    "tt2 = time()-t1\n",
    "print (\"FEATURE CLASSIFICATION in {} seconds\".format(round(tt2,3)))\n"
   ]
  },
  {
   "cell_type": "code",
   "execution_count": 20,
   "metadata": {},
   "outputs": [
    {
     "data": {
      "image/png": "[encoded data removed]",
      "text/plain": [
       "<Figure size 432x288 with 1 Axes>"
      ]
     },
     "metadata": {},
     "output_type": "display_data"
    },
    {
     "data": {
      "image/png": "[encoded data removed]",
      "text/plain": [
       "<Figure size 432x288 with 1 Axes>"
      ]
     },
     "metadata": {},
     "output_type": "display_data"
    }
   ],
   "source": [
    "import matplotlib.pyplot as plt\n",
    "\n",
    "accuracy_a = history_a.history['acc']\n",
    "val_accuracy_a = history_a.history['val_acc']\n",
    "loss_a = history_a.history['loss']\n",
    "val_loss_a = history_a.history['val_loss']\n",
    "epochs = range(len(accuracy_a))\n",
    "plt.plot(epochs, accuracy_a, 'bo', label='Training Recall_av ')\n",
    "plt.plot(epochs, val_accuracy_a, 'b', label='Test Recall_av')\n",
    "plt.title('Training and Test Loss')\n",
    "plt.legend()\n",
    "plt.figure()\n",
    "plt.plot(epochs, loss_a, 'bo', label='Training loss')\n",
    "plt.plot(epochs, val_loss_a, 'b', label='Test loss')\n",
    "plt.title('Training and Test Loss')\n",
    "plt.legend()\n",
    "plt.show()"
   ]
  },
  {
   "cell_type": "code",
   "execution_count": 21,
   "metadata": {
    "scrolled": true
   },
   "outputs": [
    {
     "data": {
      "image/png": "[encoded data removed]",
      "text/plain": [
       "<Figure size 432x288 with 1 Axes>"
      ]
     },
     "metadata": {},
     "output_type": "display_data"
    },
    {
     "data": {
      "image/png": "[encoded data removed]",
      "text/plain": [
       "<Figure size 432x288 with 1 Axes>"
      ]
     },
     "metadata": {},
     "output_type": "display_data"
    }
   ],
   "source": [
    "accuracy_2a = history2a.history['acc']\n",
    "val_accuracy_2a = history2a.history['val_acc']\n",
    "loss_2a = history2a.history['loss']\n",
    "val_loss_2a = history2a.history['val_loss']\n",
    "epochs = range(len(accuracy_2a))\n",
    "plt.plot(epochs, accuracy_2a, 'bo', label='Training accuracy')\n",
    "plt.plot(epochs, val_accuracy_2a, 'b', label='Test accuracy')\n",
    "plt.ylim(bottom=0, top=1.0)  # this line\n",
    "plt.title('Training and Test Detectian Rate')\n",
    "plt.legend()\n",
    "plt.figure()\n",
    "plt.plot(epochs, loss_2a, 'bo', label='Training loss')\n",
    "plt.plot(epochs, val_loss_2a, 'b', label='Test loss')\n",
    "plt.ylim(bottom=0, top=10.0)  # this line\n",
    "plt.title('Training and Test 1 hidden layer neuron 20 activation relu')\n",
    "plt.legend()\n",
    "plt.show()"
   ]
  },
  {
   "cell_type": "code",
   "execution_count": 22,
   "metadata": {},
   "outputs": [
    {
     "name": "stdout",
     "output_type": "stream",
     "text": [
      "22544/22544 [==============================] - 0s 18us/step\n"
     ]
    },
    {
     "data": {
      "text/plain": [
       "[3.180602667812255, 0.7678317955997161]"
      ]
     },
     "execution_count": 22,
     "metadata": {},
     "output_type": "execute_result"
    }
   ],
   "source": [
    "dnn.evaluate(test,y_test)"
   ]
  },
  {
   "cell_type": "code",
   "execution_count": 23,
   "metadata": {},
   "outputs": [
    {
     "name": "stdout",
     "output_type": "stream",
     "text": [
      "125973/125973 [==============================] - 2s 18us/step\n",
      "\n",
      "Loss: 0.00, Accuracy: 99.91%\n"
     ]
    }
   ],
   "source": [
    "# 4. evaluate the network\n",
    "loss, val_accuracy = dnn.evaluate(train,y_train)\n",
    "print(\"\\nLoss: %.2f, Accuracy: %.2f%%\" % (loss, val_accuracy*100))"
   ]
  },
  {
   "cell_type": "code",
   "execution_count": 18,
   "metadata": {},
   "outputs": [
    {
     "name": "stdout",
     "output_type": "stream",
     "text": [
      "22544/22544 [==============================] - 0s 16us/step\n",
      "\n",
      "Loss: 3.12, Accuracy: 78.72%\n"
     ]
    }
   ],
   "source": [
    "# 4. evaluate the network\n",
    "loss, val_accuracy = dnn.evaluate(test,y_test)\n",
    "print(\"\\nLoss: %.2f, Accuracy: %.2f%%\" % (loss, val_accuracy*100))"
   ]
  },
  {
   "cell_type": "markdown",
   "metadata": {},
   "source": [
    "## The Performance"
   ]
  },
  {
   "cell_type": "code",
   "execution_count": 24,
   "metadata": {},
   "outputs": [],
   "source": [
    "from sklearn.metrics import confusion_matrix\n"
   ]
  },
  {
   "cell_type": "code",
   "execution_count": null,
   "metadata": {},
   "outputs": [],
   "source": [
    "##loading autoencoder untuk data tes\n",
    "# load weights\n",
    "#autoencoder.load_weights(\"./log2/talos_weights_tes_a.best.hdf5\")\n",
    "\n",
    "# Compile model (required to make predictions)\n",
    "#autoencoder.compile(loss='binary_crossentropy', optimizer='adam', metrics=['accuracy'])\n",
    "#print(\"Created model and loaded weights from file\")\n",
    "#scores = autoencoder.evaluate(test, test, verbose=0)\n",
    "#print(\"%s: %.2f%%\" % (autoencoder.metrics_names[1], scores[1]*100))"
   ]
  },
  {
   "cell_type": "code",
   "execution_count": 25,
   "metadata": {},
   "outputs": [
    {
     "name": "stdout",
     "output_type": "stream",
     "text": [
      "Created model and loaded weights from file\n",
      "acc: 80.17%\n"
     ]
    }
   ],
   "source": [
    "##loading autoencoder untuk data tes\n",
    "# load weights\n",
    "dnn.load_weights(filepath2)\n",
    "# Compile model (required to make predictions)\n",
    "dnn.compile(loss='categorical_crossentropy', optimizer='adam', metrics=['accuracy'])\n",
    "print(\"Created model and loaded weights from file\")\n",
    "scores = dnn.evaluate(test, y_test, verbose=0)\n",
    "print(\"%s: %.2f%%\" % (dnn.metrics_names[1], scores[1]*100))"
   ]
  },
  {
   "cell_type": "code",
   "execution_count": 26,
   "metadata": {},
   "outputs": [
    {
     "name": "stdout",
     "output_type": "stream",
     "text": [
      "acc: 80.17%\n"
     ]
    }
   ],
   "source": [
    "scores = dnn.evaluate(test, y_test, verbose=0)\n",
    "print(\"%s: %.2f%%\" % (dnn.metrics_names[1], scores[1]*100))\n",
    "\n"
   ]
  },
  {
   "cell_type": "code",
   "execution_count": 27,
   "metadata": {},
   "outputs": [],
   "source": [
    "preds = dnn.predict(test)\n",
    "pred_lbls = np.argmax(preds, axis=1)\n",
    "true_lbls = np.argmax(y_test, axis=1)\n",
    "# With the confusion matrix, we can aggregate model predictions\n",
    "# This helps to understand the mistakes and refine the model"
   ]
  },
  {
   "cell_type": "code",
   "execution_count": 28,
   "metadata": {},
   "outputs": [],
   "source": [
    "import matplotlib.pyplot as plt\n",
    "import itertools\n",
    "\n",
    "def plot_confusion_matrix(cm, classes,\n",
    "                          normalize=False,\n",
    "                          title='Confusion matrix',\n",
    "                          cmap=plt.cm.Blues):\n",
    "    \"\"\"\n",
    "    This function prints and plots the confusion matrix.\n",
    "    Normalization can be applied by setting `normalize=True`.\n",
    "    \"\"\"\n",
    "    if normalize:\n",
    "        cm = cm.astype('float') / cm.sum(axis=1)[:, np.newaxis]\n",
    "        print(\"Normalized confusion matrix\")\n",
    "    else:\n",
    "        print('Confusion matrix, without normalization')\n",
    "\n",
    "    print(cm)\n",
    "\n",
    "    plt.imshow(cm, interpolation='nearest', cmap=cmap)\n",
    "    plt.title(title)\n",
    "    plt.colorbar()\n",
    "    tick_marks = np.arange(len(classes))\n",
    "    plt.xticks(tick_marks, classes, rotation=45)\n",
    "    plt.yticks(tick_marks, classes)\n",
    "\n",
    "    fmt = '.2f' if normalize else 'd'\n",
    "    thresh = cm.max() / 2.\n",
    "    for i, j in itertools.product(range(cm.shape[0]), range(cm.shape[1])):\n",
    "        plt.text(j, i, format(cm[i, j], fmt),\n",
    "                 horizontalalignment=\"center\",\n",
    "                 color=\"white\" if cm[i, j] > thresh else \"black\")\n",
    "\n",
    "    plt.tight_layout()\n",
    "    plt.ylabel('True label')\n",
    "    plt.xlabel('Predicted label')"
   ]
  },
  {
   "cell_type": "code",
   "execution_count": 29,
   "metadata": {},
   "outputs": [],
   "source": [
    "from sklearn.metrics import confusion_matrix\n"
   ]
  },
  {
   "cell_type": "code",
   "execution_count": 30,
   "metadata": {
    "scrolled": true
   },
   "outputs": [
    {
     "data": {
      "text/plain": [
       "array([[6217, 1150,   91,    0,    0],\n",
       "       [  89, 9365,  252,    0,    5],\n",
       "       [ 191,  188, 2039,    3,    0],\n",
       "       [   0, 2306,   10,  429,    9],\n",
       "       [   0,  155,   16,    5,   24]], dtype=int64)"
      ]
     },
     "execution_count": 30,
     "metadata": {},
     "output_type": "execute_result"
    }
   ],
   "source": [
    "confusion_matrix(true_lbls, pred_lbls)"
   ]
  },
  {
   "cell_type": "code",
   "execution_count": 31,
   "metadata": {
    "scrolled": true
   },
   "outputs": [
    {
     "data": {
      "text/plain": [
       "0.7727909204499254"
      ]
     },
     "execution_count": 31,
     "metadata": {},
     "output_type": "execute_result"
    }
   ],
   "source": [
    "from sklearn.metrics import f1_score\n",
    "f1_score(true_lbls, pred_lbls, average='weighted')"
   ]
  },
  {
   "cell_type": "code",
   "execution_count": 32,
   "metadata": {},
   "outputs": [],
   "source": [
    "# Overall, we report similar model performance to the reference above.\n",
    "# Their research suggest using unsupervised pretraining with autoencoders over\n",
    "# both train and test before adding classifier layers for fine-tuning.\n",
    "# I have done no parameter tuning but report comparable performance.\n",
    "# Note the model has diffuculty with U2R and R2L."
   ]
  },
  {
   "cell_type": "code",
   "execution_count": 33,
   "metadata": {
    "scrolled": true
   },
   "outputs": [
    {
     "name": "stdout",
     "output_type": "stream",
     "text": [
      "              precision    recall  f1-score   support\n",
      "\n",
      "         DoS    0.95690   0.83360   0.89101      7458\n",
      "      normal    0.71141   0.96437   0.81880      9711\n",
      "       Probe    0.84676   0.84221   0.84448      2421\n",
      "         U2R    0.98169   0.15577   0.26888      2754\n",
      "         R2L    0.63158   0.12000   0.20168       200\n",
      "\n",
      "    accuracy                        0.80172     22544\n",
      "   macro avg    0.82567   0.58319   0.60497     22544\n",
      "weighted avg    0.83947   0.80172   0.77279     22544\n",
      "\n"
     ]
    }
   ],
   "source": [
    "from sklearn.metrics import classification_report\n",
    "outcomes = ['DoS', 'normal' ,'Probe' ,'U2R','R2L' ]\n",
    "class_names=outcomes\n",
    "\n",
    "target_names = [\"Class {}\".format(i) for i in range(5)]\n",
    "print(classification_report(true_lbls, pred_lbls, target_names=class_names, digits=5))\n",
    "#print(classification_report(Y_test, y_predict))\n"
   ]
  },
  {
   "cell_type": "code",
   "execution_count": 34,
   "metadata": {},
   "outputs": [
    {
     "name": "stdout",
     "output_type": "stream",
     "text": [
      "Confusion matrix, without normalization\n",
      "[[6217 1150   91    0    0]\n",
      " [  89 9365  252    0    5]\n",
      " [ 191  188 2039    3    0]\n",
      " [   0 2306   10  429    9]\n",
      " [   0  155   16    5   24]]\n"
     ]
    },
    {
     "data": {
      "image/png": "[encoded data removed]",
      "text/plain": [
       "<Figure size 432x288 with 2 Axes>"
      ]
     },
     "metadata": {},
     "output_type": "display_data"
    }
   ],
   "source": [
    "\n",
    "outcomes = ['DoS', 'normal','Probe' ,'R2L', 'U2R']\n",
    "class_names=outcomes\n",
    "\n",
    "\n",
    "results = confusion_matrix(true_lbls, pred_lbls)\n",
    "# Plot non-normalized confusion matrix\n",
    "plt.figure()\n",
    "plot_confusion_matrix(results, classes=class_names,\n",
    "                      title='Confusion matrix')\n",
    "\n",
    "#print(classification_report(y_test, deepprediction, target_names=class_names, digits=5))"
   ]
  },
  {
   "cell_type": "code",
   "execution_count": null,
   "metadata": {},
   "outputs": [],
   "source": [
    "###Data Train"
   ]
  },
  {
   "cell_type": "code",
   "execution_count": 43,
   "metadata": {},
   "outputs": [
    {
     "name": "stdout",
     "output_type": "stream",
     "text": [
      "Created model and loaded weights from file\n",
      "acc: 99.82%\n"
     ]
    }
   ],
   "source": [
    "dnn.load_weights(filepath2)\n",
    "# Compile model (required to make predictions)\n",
    "dnn.compile(loss='categorical_crossentropy', optimizer='adam', metrics=['accuracy'])\n",
    "print(\"Created model and loaded weights from file\")\n",
    "scores = dnn.evaluate(train, y_train, verbose=0)\n",
    "print(\"%s: %.2f%%\" % (dnn.metrics_names[1], scores[1]*100))"
   ]
  },
  {
   "cell_type": "code",
   "execution_count": 44,
   "metadata": {},
   "outputs": [],
   "source": [
    "preds = dnn.predict(train)\n",
    "pred_lbls = np.argmax(preds, axis=1)\n",
    "true_lbls = np.argmax(y_train, axis=1)\n",
    "# With the confusion matrix, we can aggregate model predictions\n",
    "# This helps to understand the mistakes and refine the model"
   ]
  },
  {
   "cell_type": "code",
   "execution_count": 45,
   "metadata": {},
   "outputs": [
    {
     "data": {
      "text/plain": [
       "array([[45914,    13,     0,     0,     0],\n",
       "       [    3, 67231,    66,    32,    11],\n",
       "       [    2,    24, 11630,     0,     0],\n",
       "       [    0,    64,     0,   929,     2],\n",
       "       [    0,     7,     2,     0,    43]], dtype=int64)"
      ]
     },
     "execution_count": 45,
     "metadata": {},
     "output_type": "execute_result"
    }
   ],
   "source": [
    "confusion_matrix(true_lbls, pred_lbls)"
   ]
  },
  {
   "cell_type": "code",
   "execution_count": 46,
   "metadata": {},
   "outputs": [
    {
     "data": {
      "text/plain": [
       "0.9982030764006993"
      ]
     },
     "execution_count": 46,
     "metadata": {},
     "output_type": "execute_result"
    }
   ],
   "source": [
    "from sklearn.metrics import f1_score\n",
    "f1_score(true_lbls, pred_lbls, average='weighted')"
   ]
  },
  {
   "cell_type": "code",
   "execution_count": 47,
   "metadata": {},
   "outputs": [
    {
     "name": "stdout",
     "output_type": "stream",
     "text": [
      "              precision    recall  f1-score   support\n",
      "\n",
      "         DoS    0.99989   0.99972   0.99980     45927\n",
      "      normal    0.99840   0.99834   0.99837     67343\n",
      "       Probe    0.99419   0.99777   0.99597     11656\n",
      "         R2L    0.96670   0.93367   0.94990       995\n",
      "         U2R    0.76786   0.82692   0.79630        52\n",
      "\n",
      "    accuracy                        0.99821    125973\n",
      "   macro avg    0.94541   0.95128   0.94807    125973\n",
      "weighted avg    0.99821   0.99821   0.99820    125973\n",
      "\n"
     ]
    }
   ],
   "source": [
    "\n",
    "target_names = [\"Class {}\".format(i) for i in range(5)]\n",
    "print(classification_report(true_lbls, pred_lbls, target_names=class_names, digits=5))\n",
    "#print(classification_report(Y_test, y_predict))"
   ]
  },
  {
   "cell_type": "code",
   "execution_count": 42,
   "metadata": {},
   "outputs": [
    {
     "name": "stdout",
     "output_type": "stream",
     "text": [
      "Confusion matrix, without normalization\n",
      "[[45914    13     0     0     0]\n",
      " [    3 67231    66    32    11]\n",
      " [    2    24 11630     0     0]\n",
      " [    0    64     0   929     2]\n",
      " [    0     7     2     0    43]]\n"
     ]
    },
    {
     "data": {
      "image/png": "[encoded data removed]",
      "text/plain": [
       "<Figure size 432x288 with 2 Axes>"
      ]
     },
     "metadata": {},
     "output_type": "display_data"
    }
   ],
   "source": [
    "\n",
    "\n",
    "results = confusion_matrix(true_lbls, pred_lbls)\n",
    "# Plot non-normalized confusion matrix\n",
    "plt.figure()\n",
    "plot_confusion_matrix(results, classes=class_names,\n",
    "                      title='Confusion matrix')\n",
    "\n",
    "#print(classification_report(y_test, deepprediction, target_names=class_names, digits=5))"
   ]
  },
  {
   "cell_type": "code",
   "execution_count": null,
   "metadata": {},
   "outputs": [],
   "source": []
  }
 ],
 "metadata": {
  "kernelspec": {
   "display_name": "Python [default]",
   "language": "python",
   "name": "python3"
  },
  "language_info": {
   "codemirror_mode": {
    "name": "ipython",
    "version": 3
   },
   "file_extension": ".py",
   "mimetype": "text/x-python",
   "name": "python",
   "nbconvert_exporter": "python",
   "pygments_lexer": "ipython3",
   "version": "3.6.5"
  }
 },
 "nbformat": 4,
 "nbformat_minor": 2
}
