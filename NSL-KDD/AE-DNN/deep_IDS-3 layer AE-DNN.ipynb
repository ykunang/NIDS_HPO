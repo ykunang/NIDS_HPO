{
 "cells": [
  {
   "cell_type": "markdown",
   "metadata": {},
   "source": [
    "# Network Intrusion Detection with Deep Learning"
   ]
  },
  {
   "cell_type": "markdown",
   "metadata": {},
   "source": [
    "menggunakan stacked AE tanpa pretraining AE di hidden layer 1 dan 2, full sae MLP dengan input= 122 di seluruh layer AE"
   ]
  },
  {
   "cell_type": "markdown",
   "metadata": {},
   "source": [
    "https://github.com/jay07121993/stacked-Autoencoder/blob/master/Greedy%20pre-training%20Stacked%20auto%20encoder.ipynb"
   ]
  },
  {
   "cell_type": "code",
   "execution_count": 1,
   "metadata": {},
   "outputs": [],
   "source": [
    "import os\n",
    "os.environ[\"CUDA_DEVICE_ORDER\"]=\"PCI_BUS_ID\"\n",
    "os.environ[\"CUDA_VISIBLE_DEVICES\"]=\"1,3\" #model will be trained on GPU 0"
   ]
  },
  {
   "cell_type": "code",
   "execution_count": 2,
   "metadata": {},
   "outputs": [],
   "source": [
    "import pandas as pd\n",
    "import numpy as np\n",
    "from sklearn.preprocessing import MinMaxScaler"
   ]
  },
  {
   "cell_type": "markdown",
   "metadata": {},
   "source": [
    "# Open Data"
   ]
  },
  {
   "cell_type": "code",
   "execution_count": 3,
   "metadata": {},
   "outputs": [],
   "source": [
    "import numpy as np\n",
    "def load_matrices(file_name):\n",
    "    with open(file_name, 'rb') as f:\n",
    "        A = np.load(f)\n",
    "        B = np.load(f)\n",
    "        C = np.load(f)\n",
    "        D = np.load(f)\n",
    "        E = np.load(f)\n",
    "        F = np.load(f)\n",
    "    return (A,B,C,D,E,F)"
   ]
  },
  {
   "cell_type": "code",
   "execution_count": 14,
   "metadata": {},
   "outputs": [],
   "source": [
    "my_file = '../data_NSL/data.npy'\n",
    "train, test, test2, y_train, y_test, y_test2 = load_matrices(my_file)"
   ]
  },
  {
   "cell_type": "markdown",
   "metadata": {},
   "source": [
    "## The Model"
   ]
  },
  {
   "cell_type": "code",
   "execution_count": 4,
   "metadata": {},
   "outputs": [
    {
     "name": "stderr",
     "output_type": "stream",
     "text": [
      "Using TensorFlow backend.\n"
     ]
    }
   ],
   "source": [
    "from keras.callbacks import EarlyStopping\n",
    "from keras.models import Sequential\n",
    "from keras.layers import Dense, Activation#, Merge, Reshape, Dropout\n",
    "from keras.layers.embeddings import Embedding"
   ]
  },
  {
   "cell_type": "code",
   "execution_count": 6,
   "metadata": {},
   "outputs": [],
   "source": [
    "# We apply a fairly simple MLP architecture"
   ]
  },
  {
   "cell_type": "code",
   "execution_count": 5,
   "metadata": {},
   "outputs": [],
   "source": [
    "from keras.callbacks import ModelCheckpoint\n",
    "filepath=\"./logae/weights_fullae_d.best.hdf5\"\n",
    "checkpoint = ModelCheckpoint(filepath, monitor='loss', save_best_only=True, mode='min')\n",
    "callbacks_list = [checkpoint]\n",
    "filepath2=\"./logae/weights_fullae_2d.best.hdf5\"\n",
    "checkpoint2 = ModelCheckpoint(filepath2, monitor='val_acc', save_best_only=True, mode='max')\n",
    "callbacks_list2 = [checkpoint2]\n"
   ]
  },
  {
   "cell_type": "code",
   "execution_count": 8,
   "metadata": {},
   "outputs": [],
   "source": [
    "# We use early stopping on a holdout validation set"
   ]
  },
  {
   "cell_type": "code",
   "execution_count": 6,
   "metadata": {},
   "outputs": [],
   "source": [
    "#from keras.layers.advanced_activations import ELU\n",
    "from keras.activations import elu\n",
    "\n",
    "\n",
    "def selu(x):\n",
    "    \"\"\"Scaled Exponential Linear Unit. (Klambauer et al., 2017)\n",
    "    # Arguments\n",
    "        x: A tensor or variable to compute the activation function for.\n",
    "    # References\n",
    "        - [Self-Normalizing Neural Networks](https://arxiv.org/abs/1706.02515)\n",
    "    \"\"\"\n",
    "    alpha = 1.6732632423543772848170429916717\n",
    "    scale = 1.0507009873554804934193349852946\n",
    "    return scale * elu(x, alpha)\n",
    "\n",
    "#model.add(Dense(32, input_shape=(input_length - 1,)), activation=selu)"
   ]
  },
  {
   "cell_type": "code",
   "execution_count": 9,
   "metadata": {},
   "outputs": [],
   "source": [
    "from keras.layers import Input, Dense\n",
    "from keras.models import Model, Sequential,load_model\n",
    "from time import time\n",
    "from keras.activations import relu, elu\n",
    "from keras.layers.advanced_activations import LeakyReLU\n",
    "from keras.optimizers import Adam"
   ]
  },
  {
   "cell_type": "code",
   "execution_count": 11,
   "metadata": {},
   "outputs": [
    {
     "name": "stdout",
     "output_type": "stream",
     "text": [
      "WARNING:tensorflow:From C:\\ProgramData\\Anaconda3\\lib\\site-packages\\tensorflow\\python\\framework\\op_def_library.py:263: colocate_with (from tensorflow.python.framework.ops) is deprecated and will be removed in a future version.\n",
      "Instructions for updating:\n",
      "Colocations handled automatically by placer.\n",
      "_________________________________________________________________\n",
      "Layer (type)                 Output Shape              Param #   \n",
      "=================================================================\n",
      "input_1 (InputLayer)         (None, 122)               0         \n",
      "_________________________________________________________________\n",
      "dense_1 (Dense)              (None, 20)                2460      \n",
      "_________________________________________________________________\n",
      "dense_2 (Dense)              (None, 122)               2562      \n",
      "=================================================================\n",
      "Total params: 5,022\n",
      "Trainable params: 5,022\n",
      "Non-trainable params: 0\n",
      "_________________________________________________________________\n",
      "WARNING:tensorflow:From C:\\ProgramData\\Anaconda3\\lib\\site-packages\\tensorflow\\python\\ops\\math_ops.py:3066: to_int32 (from tensorflow.python.ops.math_ops) is deprecated and will be removed in a future version.\n",
      "Instructions for updating:\n",
      "Use tf.cast instead.\n",
      "Train on 125973 samples, validate on 22544 samples\n",
      "Epoch 1/50\n",
      "125973/125973 [==============================] - 2s 20us/step - loss: 0.0591 - acc: 0.3007 - val_loss: 0.0141 - val_acc: 0.1041\n",
      "Epoch 2/50\n",
      "125973/125973 [==============================] - 1s 11us/step - loss: 0.0084 - acc: 0.2946 - val_loss: 0.0087 - val_acc: 0.1449\n",
      "Epoch 3/50\n",
      "125973/125973 [==============================] - 1s 10us/step - loss: 0.0053 - acc: 0.3021 - val_loss: 0.0067 - val_acc: 0.1721\n",
      "Epoch 4/50\n",
      "125973/125973 [==============================] - 1s 11us/step - loss: 0.0042 - acc: 0.3479 - val_loss: 0.0059 - val_acc: 0.2138\n",
      "Epoch 5/50\n",
      "125973/125973 [==============================] - 1s 11us/step - loss: 0.0036 - acc: 0.3255 - val_loss: 0.0053 - val_acc: 0.2135\n",
      "Epoch 6/50\n",
      "125973/125973 [==============================] - 1s 10us/step - loss: 0.0032 - acc: 0.3284 - val_loss: 0.0048 - val_acc: 0.2414\n",
      "Epoch 7/50\n",
      "125973/125973 [==============================] - 1s 11us/step - loss: 0.0029 - acc: 0.3888 - val_loss: 0.0044 - val_acc: 0.3049\n",
      "Epoch 8/50\n",
      "125973/125973 [==============================] - 1s 11us/step - loss: 0.0027 - acc: 0.4198 - val_loss: 0.0042 - val_acc: 0.3831\n",
      "Epoch 9/50\n",
      "125973/125973 [==============================] - 1s 11us/step - loss: 0.0024 - acc: 0.4748 - val_loss: 0.0039 - val_acc: 0.3999\n",
      "Epoch 10/50\n",
      "125973/125973 [==============================] - 1s 11us/step - loss: 0.0021 - acc: 0.4806 - val_loss: 0.0033 - val_acc: 0.3300\n",
      "Epoch 11/50\n",
      "125973/125973 [==============================] - 1s 11us/step - loss: 0.0018 - acc: 0.4847 - val_loss: 0.0030 - val_acc: 0.3680\n",
      "Epoch 12/50\n",
      "125973/125973 [==============================] - 1s 12us/step - loss: 0.0017 - acc: 0.5020 - val_loss: 0.0028 - val_acc: 0.3673\n",
      "Epoch 13/50\n",
      "125973/125973 [==============================] - 1s 11us/step - loss: 0.0016 - acc: 0.5382 - val_loss: 0.0026 - val_acc: 0.4968\n",
      "Epoch 14/50\n",
      "125973/125973 [==============================] - 1s 11us/step - loss: 0.0013 - acc: 0.5788 - val_loss: 0.0025 - val_acc: 0.5538\n",
      "Epoch 15/50\n",
      "125973/125973 [==============================] - 1s 11us/step - loss: 0.0013 - acc: 0.6119 - val_loss: 0.0023 - val_acc: 0.5633\n",
      "Epoch 16/50\n",
      "125973/125973 [==============================] - 1s 11us/step - loss: 0.0012 - acc: 0.6337 - val_loss: 0.0022 - val_acc: 0.6140\n",
      "Epoch 17/50\n",
      "125973/125973 [==============================] - 1s 11us/step - loss: 0.0011 - acc: 0.6605 - val_loss: 0.0022 - val_acc: 0.6573\n",
      "Epoch 18/50\n",
      "125973/125973 [==============================] - 1s 11us/step - loss: 0.0011 - acc: 0.6788 - val_loss: 0.0021 - val_acc: 0.6869\n",
      "Epoch 19/50\n",
      "125973/125973 [==============================] - 1s 10us/step - loss: 0.0011 - acc: 0.7013 - val_loss: 0.0021 - val_acc: 0.7113\n",
      "Epoch 20/50\n",
      "125973/125973 [==============================] - 1s 10us/step - loss: 0.0011 - acc: 0.7274 - val_loss: 0.0020 - val_acc: 0.7122\n",
      "Epoch 21/50\n",
      "125973/125973 [==============================] - 1s 11us/step - loss: 0.0010 - acc: 0.7343 - val_loss: 0.0019 - val_acc: 0.7364\n",
      "Epoch 22/50\n",
      "125973/125973 [==============================] - 1s 10us/step - loss: 9.7695e-04 - acc: 0.7451 - val_loss: 0.0019 - val_acc: 0.7539\n",
      "Epoch 23/50\n",
      "125973/125973 [==============================] - 1s 11us/step - loss: 9.5203e-04 - acc: 0.7499 - val_loss: 0.0018 - val_acc: 0.7477\n",
      "Epoch 24/50\n",
      "125973/125973 [==============================] - 1s 11us/step - loss: 9.4019e-04 - acc: 0.7566 - val_loss: 0.0017 - val_acc: 0.7605\n",
      "Epoch 25/50\n",
      "125973/125973 [==============================] - 1s 11us/step - loss: 9.2160e-04 - acc: 0.7590 - val_loss: 0.0017 - val_acc: 0.7731\n",
      "Epoch 26/50\n",
      "125973/125973 [==============================] - 1s 10us/step - loss: 8.9324e-04 - acc: 0.7649 - val_loss: 0.0017 - val_acc: 0.7746\n",
      "Epoch 27/50\n",
      "125973/125973 [==============================] - 1s 11us/step - loss: 8.4610e-04 - acc: 0.7676 - val_loss: 0.0016 - val_acc: 0.7622\n",
      "Epoch 28/50\n",
      "125973/125973 [==============================] - 1s 11us/step - loss: 8.1959e-04 - acc: 0.7697 - val_loss: 0.0016 - val_acc: 0.7834\n",
      "Epoch 29/50\n",
      "125973/125973 [==============================] - 1s 11us/step - loss: 7.7692e-04 - acc: 0.7730 - val_loss: 0.0016 - val_acc: 0.7800\n",
      "Epoch 30/50\n",
      "125973/125973 [==============================] - 1s 11us/step - loss: 7.5519e-04 - acc: 0.7728 - val_loss: 0.0016 - val_acc: 0.7960\n",
      "Epoch 31/50\n",
      "125973/125973 [==============================] - 1s 11us/step - loss: 7.4413e-04 - acc: 0.7726 - val_loss: 0.0016 - val_acc: 0.7976\n",
      "Epoch 32/50\n",
      "125973/125973 [==============================] - 1s 11us/step - loss: 7.2746e-04 - acc: 0.7751 - val_loss: 0.0015 - val_acc: 0.7987\n",
      "Epoch 33/50\n",
      "125973/125973 [==============================] - 1s 11us/step - loss: 6.9377e-04 - acc: 0.7792 - val_loss: 0.0015 - val_acc: 0.7989\n",
      "Epoch 34/50\n",
      "125973/125973 [==============================] - 1s 11us/step - loss: 6.6509e-04 - acc: 0.7794 - val_loss: 0.0015 - val_acc: 0.7958\n",
      "Epoch 35/50\n",
      "125973/125973 [==============================] - 1s 12us/step - loss: 6.3183e-04 - acc: 0.7815 - val_loss: 0.0015 - val_acc: 0.7990\n",
      "Epoch 36/50\n",
      "125973/125973 [==============================] - 1s 10us/step - loss: 6.0089e-04 - acc: 0.7835 - val_loss: 0.0015 - val_acc: 0.7988\n",
      "Epoch 37/50\n",
      "125973/125973 [==============================] - 1s 10us/step - loss: 5.8007e-04 - acc: 0.7856 - val_loss: 0.0015 - val_acc: 0.8081\n",
      "Epoch 38/50\n",
      "125973/125973 [==============================] - 1s 10us/step - loss: 5.7121e-04 - acc: 0.7891 - val_loss: 0.0015 - val_acc: 0.8142\n",
      "Epoch 39/50\n",
      "125973/125973 [==============================] - 1s 10us/step - loss: 5.6175e-04 - acc: 0.7910 - val_loss: 0.0015 - val_acc: 0.8168\n",
      "Epoch 40/50\n",
      "125973/125973 [==============================] - 1s 10us/step - loss: 5.4814e-04 - acc: 0.7925 - val_loss: 0.0015 - val_acc: 0.8214\n",
      "Epoch 41/50\n",
      "125973/125973 [==============================] - 1s 10us/step - loss: 5.4380e-04 - acc: 0.7933 - val_loss: 0.0015 - val_acc: 0.8211\n",
      "Epoch 42/50\n",
      "125973/125973 [==============================] - 1s 10us/step - loss: 5.2609e-04 - acc: 0.7943 - val_loss: 0.0014 - val_acc: 0.8243\n",
      "Epoch 43/50\n",
      "125973/125973 [==============================] - 1s 11us/step - loss: 4.9463e-04 - acc: 0.7951 - val_loss: 0.0014 - val_acc: 0.8247\n",
      "Epoch 44/50\n",
      "125973/125973 [==============================] - 1s 11us/step - loss: 4.8262e-04 - acc: 0.7951 - val_loss: 0.0014 - val_acc: 0.8243\n",
      "Epoch 45/50\n",
      "125973/125973 [==============================] - 1s 10us/step - loss: 4.7536e-04 - acc: 0.7961 - val_loss: 0.0014 - val_acc: 0.8258\n",
      "Epoch 46/50\n",
      "125973/125973 [==============================] - 1s 10us/step - loss: 4.7140e-04 - acc: 0.7971 - val_loss: 0.0014 - val_acc: 0.8234\n",
      "Epoch 47/50\n",
      "125973/125973 [==============================] - 1s 10us/step - loss: 4.6879e-04 - acc: 0.7984 - val_loss: 0.0014 - val_acc: 0.8254\n",
      "Epoch 48/50\n",
      "125973/125973 [==============================] - 1s 10us/step - loss: 4.6679e-04 - acc: 0.7983 - val_loss: 0.0014 - val_acc: 0.8258\n",
      "Epoch 49/50\n",
      "125973/125973 [==============================] - 1s 10us/step - loss: 4.6491e-04 - acc: 0.7989 - val_loss: 0.0014 - val_acc: 0.8259\n",
      "Epoch 50/50\n",
      "125973/125973 [==============================] - 1s 10us/step - loss: 4.6284e-04 - acc: 0.7993 - val_loss: 0.0013 - val_acc: 0.8330\n",
      "FEATURE EXTRACTION in 71.225 seconds\n",
      "(125973, 20)\n"
     ]
    }
   ],
   "source": [
    "# layer 1\n",
    "input_dim = train.shape[1]\n",
    "input_ly_1= Input(shape=(input_dim,))\n",
    "enc_ly_1= Dense(20, activation= 'relu', kernel_initializer='he_uniform')(input_ly_1)\n",
    "dec_ly_1=Dense(input_dim, activation='sigmoid', kernel_initializer='he_uniform')(enc_ly_1)\n",
    "\n",
    "auto_ly_1= Model(input_ly_1, dec_ly_1)\n",
    "encoder_ly_1= Model(input_ly_1, enc_ly_1)\n",
    "auto_ly_1.summary()\n",
    "\n",
    "\n",
    "t0 = time()\n",
    "auto_ly_1.compile(loss='mse',optimizer='adam', metrics=['accuracy']) # reporting the loss\n",
    "\n",
    "auto_ly_1.fit(train,train,\n",
    "      epochs=50,\n",
    "      batch_size=256,\n",
    "      shuffle=True,\n",
    "      callbacks=callbacks_list,                    \n",
    "      #callbacks=[early_stopping])\n",
    "      validation_data=(test,test))\n",
    "      #validation_split=0.2)   \n",
    "  \n",
    "tt = time()-t0\n",
    "print (\"FEATURE EXTRACTION in {} seconds\".format(round(tt,3)))\n",
    "# if you want an encoded flatten representation of every test MNIST\n",
    "\n",
    "\n",
    "ly1_predict= encoder_ly_1.predict(train)\n",
    "print(ly1_predict.shape)\n"
   ]
  },
  {
   "cell_type": "code",
   "execution_count": 12,
   "metadata": {},
   "outputs": [
    {
     "name": "stdout",
     "output_type": "stream",
     "text": [
      "_________________________________________________________________\n",
      "Layer (type)                 Output Shape              Param #   \n",
      "=================================================================\n",
      "input_2 (InputLayer)         (None, 122)               0         \n",
      "_________________________________________________________________\n",
      "layer1 (Dense)               (None, 20)                2460      \n",
      "_________________________________________________________________\n",
      "layer2 (Dense)               (None, 10)                210       \n",
      "_________________________________________________________________\n",
      "layer3 (Dense)               (None, 10)                110       \n",
      "_________________________________________________________________\n",
      "layer4 (Dense)               (None, 10)                110       \n",
      "_________________________________________________________________\n",
      "dense_3 (Dense)              (None, 5)                 55        \n",
      "=================================================================\n",
      "Total params: 2,945\n",
      "Trainable params: 2,945\n",
      "Non-trainable params: 0\n",
      "_________________________________________________________________\n",
      "Train on 125973 samples, validate on 22544 samples\n",
      "Epoch 1/100\n",
      "125973/125973 [==============================] - 1s 11us/step - loss: 0.1885 - acc: 0.9474 - val_loss: 1.6239 - val_acc: 0.7320\n",
      "Epoch 2/100\n",
      "125973/125973 [==============================] - 1s 9us/step - loss: 0.0415 - acc: 0.9861 - val_loss: 1.8368 - val_acc: 0.7595\n",
      "Epoch 3/100\n",
      "125973/125973 [==============================] - 1s 9us/step - loss: 0.0337 - acc: 0.9885 - val_loss: 2.1069 - val_acc: 0.7424\n",
      "Epoch 4/100\n",
      "125973/125973 [==============================] - 1s 10us/step - loss: 0.0298 - acc: 0.9899 - val_loss: 1.9710 - val_acc: 0.7563\n",
      "Epoch 5/100\n",
      "125973/125973 [==============================] - 1s 9us/step - loss: 0.0271 - acc: 0.9913 - val_loss: 2.3967 - val_acc: 0.7510\n",
      "Epoch 6/100\n",
      "125973/125973 [==============================] - 1s 9us/step - loss: 0.0237 - acc: 0.9925 - val_loss: 2.4629 - val_acc: 0.7551\n",
      "Epoch 7/100\n",
      "125973/125973 [==============================] - 1s 10us/step - loss: 0.0204 - acc: 0.9942 - val_loss: 2.4515 - val_acc: 0.7583\n",
      "Epoch 8/100\n",
      "125973/125973 [==============================] - 1s 9us/step - loss: 0.0195 - acc: 0.9944 - val_loss: 2.3807 - val_acc: 0.7504\n",
      "Epoch 9/100\n",
      "125973/125973 [==============================] - 1s 9us/step - loss: 0.0200 - acc: 0.9943 - val_loss: 2.6283 - val_acc: 0.7557\n",
      "Epoch 10/100\n",
      "125973/125973 [==============================] - 1s 9us/step - loss: 0.0161 - acc: 0.9954 - val_loss: 2.2506 - val_acc: 0.7801\n",
      "Epoch 11/100\n",
      "125973/125973 [==============================] - 1s 9us/step - loss: 0.0165 - acc: 0.9956 - val_loss: 2.8904 - val_acc: 0.7463\n",
      "Epoch 12/100\n",
      "125973/125973 [==============================] - 1s 9us/step - loss: 0.0128 - acc: 0.9964 - val_loss: 2.5390 - val_acc: 0.7625\n",
      "Epoch 13/100\n",
      "125973/125973 [==============================] - 1s 9us/step - loss: 0.0137 - acc: 0.9961 - val_loss: 2.2026 - val_acc: 0.7645\n",
      "Epoch 14/100\n",
      "125973/125973 [==============================] - 1s 10us/step - loss: 0.0135 - acc: 0.9963 - val_loss: 2.3386 - val_acc: 0.7802\n",
      "Epoch 15/100\n",
      "125973/125973 [==============================] - 1s 10us/step - loss: 0.0140 - acc: 0.9960 - val_loss: 2.3975 - val_acc: 0.7762\n",
      "Epoch 16/100\n",
      "125973/125973 [==============================] - 1s 9us/step - loss: 0.0127 - acc: 0.9964 - val_loss: 2.6651 - val_acc: 0.7664\n",
      "Epoch 17/100\n",
      "125973/125973 [==============================] - 1s 9us/step - loss: 0.0125 - acc: 0.9967 - val_loss: 2.2926 - val_acc: 0.7842\n",
      "Epoch 18/100\n",
      "125973/125973 [==============================] - 1s 9us/step - loss: 0.0122 - acc: 0.9967 - val_loss: 2.4354 - val_acc: 0.7782\n",
      "Epoch 19/100\n",
      "125973/125973 [==============================] - 1s 9us/step - loss: 0.0119 - acc: 0.9967 - val_loss: 2.3446 - val_acc: 0.7892\n",
      "Epoch 20/100\n",
      "125973/125973 [==============================] - 1s 9us/step - loss: 0.0118 - acc: 0.9967 - val_loss: 2.4779 - val_acc: 0.7675\n",
      "Epoch 21/100\n",
      "125973/125973 [==============================] - 1s 9us/step - loss: 0.0106 - acc: 0.9971 - val_loss: 2.5235 - val_acc: 0.7721\n",
      "Epoch 22/100\n",
      "125973/125973 [==============================] - 1s 9us/step - loss: 0.0106 - acc: 0.9971 - val_loss: 2.3389 - val_acc: 0.7819\n",
      "Epoch 23/100\n",
      "125973/125973 [==============================] - 1s 9us/step - loss: 0.0100 - acc: 0.9972 - val_loss: 2.5650 - val_acc: 0.7803\n",
      "Epoch 24/100\n",
      "125973/125973 [==============================] - 1s 10us/step - loss: 0.0121 - acc: 0.9968 - val_loss: 2.5086 - val_acc: 0.7764\n",
      "Epoch 25/100\n",
      "125973/125973 [==============================] - 1s 9us/step - loss: 0.0103 - acc: 0.9973 - val_loss: 2.3756 - val_acc: 0.7776\n",
      "Epoch 26/100\n",
      "125973/125973 [==============================] - 1s 9us/step - loss: 0.0097 - acc: 0.9971 - val_loss: 2.2284 - val_acc: 0.7835\n",
      "Epoch 27/100\n",
      "125973/125973 [==============================] - 1s 9us/step - loss: 0.0092 - acc: 0.9975 - val_loss: 2.5051 - val_acc: 0.7737\n",
      "Epoch 28/100\n",
      "125973/125973 [==============================] - 1s 9us/step - loss: 0.0106 - acc: 0.9968 - val_loss: 2.2018 - val_acc: 0.7772\n",
      "Epoch 29/100\n",
      "125973/125973 [==============================] - 1s 9us/step - loss: 0.0092 - acc: 0.9973 - val_loss: 2.4209 - val_acc: 0.7757\n",
      "Epoch 30/100\n",
      "125973/125973 [==============================] - 1s 9us/step - loss: 0.0107 - acc: 0.9971 - val_loss: 2.5542 - val_acc: 0.7690\n",
      "Epoch 31/100\n",
      "125973/125973 [==============================] - 1s 10us/step - loss: 0.0094 - acc: 0.9974 - val_loss: 2.3362 - val_acc: 0.7986\n",
      "Epoch 32/100\n",
      "125973/125973 [==============================] - 1s 9us/step - loss: 0.0098 - acc: 0.9973 - val_loss: 2.4658 - val_acc: 0.7804\n",
      "Epoch 33/100\n",
      "125973/125973 [==============================] - 1s 9us/step - loss: 0.0093 - acc: 0.9973 - val_loss: 2.4781 - val_acc: 0.7823\n",
      "Epoch 34/100\n",
      "125973/125973 [==============================] - 1s 9us/step - loss: 0.0084 - acc: 0.9977 - val_loss: 2.5158 - val_acc: 0.7840\n",
      "Epoch 35/100\n",
      "125973/125973 [==============================] - 1s 10us/step - loss: 0.0085 - acc: 0.9975 - val_loss: 2.3591 - val_acc: 0.7830\n",
      "Epoch 36/100\n",
      "125973/125973 [==============================] - 1s 9us/step - loss: 0.0095 - acc: 0.9973 - val_loss: 2.7193 - val_acc: 0.7792\n",
      "Epoch 37/100\n",
      "125973/125973 [==============================] - 1s 9us/step - loss: 0.0093 - acc: 0.9974 - val_loss: 2.5494 - val_acc: 0.7877\n",
      "Epoch 38/100\n",
      "125973/125973 [==============================] - 1s 9us/step - loss: 0.0090 - acc: 0.9974 - val_loss: 2.3404 - val_acc: 0.7802\n",
      "Epoch 39/100\n",
      "125973/125973 [==============================] - 1s 9us/step - loss: 0.0098 - acc: 0.9972 - val_loss: 2.4661 - val_acc: 0.7814\n",
      "Epoch 40/100\n",
      "125973/125973 [==============================] - 1s 9us/step - loss: 0.0077 - acc: 0.9980 - val_loss: 2.3942 - val_acc: 0.7873\n",
      "Epoch 41/100\n",
      "125973/125973 [==============================] - 1s 9us/step - loss: 0.0076 - acc: 0.9978 - val_loss: 2.6188 - val_acc: 0.7774\n",
      "Epoch 42/100\n",
      "125973/125973 [==============================] - 1s 10us/step - loss: 0.0083 - acc: 0.9977 - val_loss: 2.6280 - val_acc: 0.7745\n",
      "Epoch 43/100\n",
      "125973/125973 [==============================] - 1s 10us/step - loss: 0.0079 - acc: 0.9977 - val_loss: 2.3790 - val_acc: 0.7838\n",
      "Epoch 44/100\n",
      "125973/125973 [==============================] - 1s 9us/step - loss: 0.0131 - acc: 0.9962 - val_loss: 2.3268 - val_acc: 0.7964\n",
      "Epoch 45/100\n",
      "125973/125973 [==============================] - 1s 11us/step - loss: 0.0084 - acc: 0.9976 - val_loss: 2.6459 - val_acc: 0.7804\n",
      "Epoch 46/100\n",
      "125973/125973 [==============================] - 1s 9us/step - loss: 0.0109 - acc: 0.9972 - val_loss: 2.6395 - val_acc: 0.7892\n",
      "Epoch 47/100\n",
      "125973/125973 [==============================] - 1s 9us/step - loss: 0.0074 - acc: 0.9978 - val_loss: 2.5590 - val_acc: 0.7861\n",
      "Epoch 48/100\n",
      "125973/125973 [==============================] - 1s 9us/step - loss: 0.0076 - acc: 0.9978 - val_loss: 2.9053 - val_acc: 0.7711\n",
      "Epoch 49/100\n",
      "125973/125973 [==============================] - 1s 10us/step - loss: 0.0075 - acc: 0.9979 - val_loss: 2.3809 - val_acc: 0.8024\n",
      "Epoch 50/100\n",
      "125973/125973 [==============================] - 1s 9us/step - loss: 0.0074 - acc: 0.9979 - val_loss: 2.3521 - val_acc: 0.7913\n",
      "Epoch 51/100\n",
      "125973/125973 [==============================] - 1s 9us/step - loss: 0.0086 - acc: 0.9975 - val_loss: 2.4480 - val_acc: 0.7969\n",
      "Epoch 52/100\n",
      "125973/125973 [==============================] - 1s 9us/step - loss: 0.0070 - acc: 0.9981 - val_loss: 2.3631 - val_acc: 0.8035\n",
      "Epoch 53/100\n",
      "125973/125973 [==============================] - 1s 9us/step - loss: 0.0073 - acc: 0.9978 - val_loss: 2.5354 - val_acc: 0.7901\n",
      "Epoch 54/100\n",
      "125973/125973 [==============================] - 1s 9us/step - loss: 0.0072 - acc: 0.9978 - val_loss: 2.5217 - val_acc: 0.7948\n",
      "Epoch 55/100\n",
      "125973/125973 [==============================] - 1s 9us/step - loss: 0.0072 - acc: 0.9978 - val_loss: 2.6627 - val_acc: 0.7870\n",
      "Epoch 56/100\n",
      "125973/125973 [==============================] - 1s 9us/step - loss: 0.0082 - acc: 0.9977 - val_loss: 2.4332 - val_acc: 0.8052\n",
      "Epoch 57/100\n",
      "125973/125973 [==============================] - 1s 9us/step - loss: 0.0068 - acc: 0.9979 - val_loss: 2.4233 - val_acc: 0.7981\n",
      "Epoch 58/100\n",
      "125973/125973 [==============================] - 1s 9us/step - loss: 0.0076 - acc: 0.9979 - val_loss: 2.5901 - val_acc: 0.7516\n",
      "Epoch 59/100\n",
      "125973/125973 [==============================] - 1s 9us/step - loss: 0.0088 - acc: 0.9977 - val_loss: 2.3651 - val_acc: 0.7946\n",
      "Epoch 60/100\n",
      "125973/125973 [==============================] - 1s 10us/step - loss: 0.0073 - acc: 0.9979 - val_loss: 2.3218 - val_acc: 0.8012\n",
      "Epoch 61/100\n",
      "125973/125973 [==============================] - 1s 10us/step - loss: 0.0068 - acc: 0.9981 - val_loss: 2.5553 - val_acc: 0.7987\n",
      "Epoch 62/100\n",
      "125973/125973 [==============================] - 1s 9us/step - loss: 0.0069 - acc: 0.9980 - val_loss: 2.4259 - val_acc: 0.8054\n",
      "Epoch 63/100\n",
      "125973/125973 [==============================] - 1s 10us/step - loss: 0.0060 - acc: 0.9983 - val_loss: 2.3943 - val_acc: 0.8062\n",
      "Epoch 64/100\n",
      "125973/125973 [==============================] - 1s 10us/step - loss: 0.0069 - acc: 0.9980 - val_loss: 2.6821 - val_acc: 0.7771\n",
      "Epoch 65/100\n",
      "125973/125973 [==============================] - 1s 9us/step - loss: 0.0080 - acc: 0.9977 - val_loss: 2.5300 - val_acc: 0.7737\n",
      "Epoch 66/100\n",
      "125973/125973 [==============================] - 1s 9us/step - loss: 0.0068 - acc: 0.9980 - val_loss: 2.3409 - val_acc: 0.8168\n",
      "Epoch 67/100\n",
      "125973/125973 [==============================] - 1s 8us/step - loss: 0.0070 - acc: 0.9980 - val_loss: 2.1580 - val_acc: 0.8160\n",
      "Epoch 68/100\n",
      "125973/125973 [==============================] - 1s 9us/step - loss: 0.0071 - acc: 0.9979 - val_loss: 2.3925 - val_acc: 0.7981\n",
      "Epoch 69/100\n",
      "125973/125973 [==============================] - 1s 9us/step - loss: 0.0058 - acc: 0.9981 - val_loss: 2.3365 - val_acc: 0.7985\n",
      "Epoch 70/100\n",
      "125973/125973 [==============================] - 1s 9us/step - loss: 0.0060 - acc: 0.9982 - val_loss: 2.2063 - val_acc: 0.8146\n",
      "Epoch 71/100\n",
      "125973/125973 [==============================] - 1s 10us/step - loss: 0.0077 - acc: 0.9977 - val_loss: 2.6957 - val_acc: 0.7927\n",
      "Epoch 72/100\n",
      "125973/125973 [==============================] - 1s 9us/step - loss: 0.0084 - acc: 0.9978 - val_loss: 2.5001 - val_acc: 0.8085\n",
      "Epoch 73/100\n",
      "125973/125973 [==============================] - 1s 9us/step - loss: 0.0083 - acc: 0.9977 - val_loss: 2.4468 - val_acc: 0.7909\n",
      "Epoch 74/100\n",
      "125973/125973 [==============================] - 1s 11us/step - loss: 0.0060 - acc: 0.9982 - val_loss: 2.4062 - val_acc: 0.7979\n",
      "Epoch 75/100\n",
      "125973/125973 [==============================] - 1s 9us/step - loss: 0.0055 - acc: 0.9983 - val_loss: 2.2865 - val_acc: 0.8166\n",
      "Epoch 76/100\n",
      "125973/125973 [==============================] - 1s 12us/step - loss: 0.0054 - acc: 0.9984 - val_loss: 2.6901 - val_acc: 0.7870\n",
      "Epoch 77/100\n",
      "125973/125973 [==============================] - 1s 11us/step - loss: 0.0071 - acc: 0.9980 - val_loss: 2.4214 - val_acc: 0.8016\n",
      "Epoch 78/100\n",
      "125973/125973 [==============================] - 1s 9us/step - loss: 0.0059 - acc: 0.9980 - val_loss: 2.5392 - val_acc: 0.8082\n",
      "Epoch 79/100\n",
      "125973/125973 [==============================] - 1s 10us/step - loss: 0.0075 - acc: 0.9979 - val_loss: 2.1790 - val_acc: 0.8028\n",
      "Epoch 80/100\n",
      "125973/125973 [==============================] - 1s 10us/step - loss: 0.0068 - acc: 0.9981 - val_loss: 2.2898 - val_acc: 0.8087\n",
      "Epoch 81/100\n",
      "125973/125973 [==============================] - 1s 9us/step - loss: 0.0062 - acc: 0.9981 - val_loss: 2.3970 - val_acc: 0.8076\n",
      "Epoch 82/100\n",
      "125973/125973 [==============================] - 1s 9us/step - loss: 0.0056 - acc: 0.9982 - val_loss: 2.5886 - val_acc: 0.8094\n",
      "Epoch 83/100\n",
      "125973/125973 [==============================] - 1s 9us/step - loss: 0.0061 - acc: 0.9983 - val_loss: 2.3215 - val_acc: 0.8094\n",
      "Epoch 84/100\n",
      "125973/125973 [==============================] - 1s 9us/step - loss: 0.0057 - acc: 0.9983 - val_loss: 2.5717 - val_acc: 0.8119\n",
      "Epoch 85/100\n",
      "125973/125973 [==============================] - 1s 9us/step - loss: 0.0084 - acc: 0.9977 - val_loss: 2.4587 - val_acc: 0.7984\n",
      "Epoch 86/100\n",
      "125973/125973 [==============================] - 1s 9us/step - loss: 0.0066 - acc: 0.9980 - val_loss: 2.2551 - val_acc: 0.8062\n",
      "Epoch 87/100\n",
      "125973/125973 [==============================] - 1s 9us/step - loss: 0.0054 - acc: 0.9983 - val_loss: 2.5047 - val_acc: 0.8022\n",
      "Epoch 88/100\n",
      "125973/125973 [==============================] - 1s 9us/step - loss: 0.0054 - acc: 0.9982 - val_loss: 2.5721 - val_acc: 0.8054\n",
      "Epoch 89/100\n",
      "125973/125973 [==============================] - 1s 9us/step - loss: 0.0059 - acc: 0.9983 - val_loss: 2.7341 - val_acc: 0.8002\n",
      "Epoch 90/100\n",
      "125973/125973 [==============================] - 1s 9us/step - loss: 0.0054 - acc: 0.9984 - val_loss: 2.5381 - val_acc: 0.7999\n",
      "Epoch 91/100\n",
      "125973/125973 [==============================] - 1s 9us/step - loss: 0.0080 - acc: 0.9980 - val_loss: 2.4947 - val_acc: 0.8043\n",
      "Epoch 92/100\n",
      "125973/125973 [==============================] - 1s 9us/step - loss: 0.0059 - acc: 0.9982 - val_loss: 2.4688 - val_acc: 0.7943\n",
      "Epoch 93/100\n",
      "125973/125973 [==============================] - 1s 8us/step - loss: 0.0059 - acc: 0.9982 - val_loss: 2.2964 - val_acc: 0.8022\n",
      "Epoch 94/100\n",
      "125973/125973 [==============================] - 1s 9us/step - loss: 0.0076 - acc: 0.9980 - val_loss: 2.4791 - val_acc: 0.8047\n",
      "Epoch 95/100\n",
      "125973/125973 [==============================] - 1s 9us/step - loss: 0.0059 - acc: 0.9982 - val_loss: 2.2515 - val_acc: 0.8066\n",
      "Epoch 96/100\n",
      "125973/125973 [==============================] - 1s 9us/step - loss: 0.0064 - acc: 0.9982 - val_loss: 2.4964 - val_acc: 0.8076\n",
      "Epoch 97/100\n",
      "125973/125973 [==============================] - 1s 9us/step - loss: 0.0056 - acc: 0.9983 - val_loss: 2.2432 - val_acc: 0.8125\n",
      "Epoch 98/100\n",
      "125973/125973 [==============================] - 1s 10us/step - loss: 0.0062 - acc: 0.9981 - val_loss: 2.2840 - val_acc: 0.8143\n",
      "Epoch 99/100\n",
      "125973/125973 [==============================] - 1s 10us/step - loss: 0.0055 - acc: 0.9982 - val_loss: 2.6190 - val_acc: 0.8007\n",
      "Epoch 100/100\n",
      "125973/125973 [==============================] - 1s 9us/step - loss: 0.0054 - acc: 0.9983 - val_loss: 2.4805 - val_acc: 0.8026\n",
      "FEATURE CLASSIFICATION in 118.39 seconds\n"
     ]
    }
   ],
   "source": [
    "# define new model encoder->Dense  22 neurons with soft max for classification \n",
    "\n",
    "# Deep stacked auto encoder\n",
    "ly_1= auto_ly_1.layers[1].get_weights()\n",
    "#ly_2= auto_ly_2.layers[1].get_weights()\n",
    "#ly_3= auto_ly_3.layers[1].get_weights()\n",
    "\n",
    "input_da= Input(shape=(input_dim,))\n",
    "dnn_1=Dense(20, activation='relu',  kernel_initializer='he_uniform',input_shape=(input_dim,),\n",
    "            name=\"layer1\")(input_da)\n",
    "dnn_2= Dense(10, activation='relu', kernel_initializer='he_uniform',name=\"layer2\")(dnn_1)\n",
    "dnn_3= Dense(10, activation='relu', kernel_initializer='he_uniform',name=\"layer3\")(dnn_2)\n",
    "dnn_4= Dense(10, activation='relu', kernel_initializer='he_uniform',name=\"layer4\")(dnn_3)\n",
    "\n",
    "dnn_5= Dense(5, activation='softmax',kernel_initializer='he_uniform')(dnn_4)\n",
    "\n",
    "dnn= Model(input_da, dnn_5)\n",
    "dnn.summary()\n",
    "\n",
    "dnn.layers[1].set_weights(ly_1) # first dense layer\n",
    "#dnn.layers[2].set_weights(ly_2)\n",
    "#dnn.layers[3].set_weights(ly_3)\n",
    "\n",
    "\n",
    "t1=time()\n",
    "dnn.compile(loss='categorical_crossentropy', metrics=['accuracy'],\n",
    "            optimizer= Adam(lr=0.01, beta_1=0.9, beta_2=0.999, epsilon=1e-08,decay=0.0, amsgrad=False))\n",
    "history2a=dnn.fit(train, y_train,epochs=100,batch_size=256,shuffle=True,verbose=1, \n",
    "                    callbacks=callbacks_list2, \n",
    "                     # validation_split=0)\n",
    "                     validation_data=(test,y_test))\n",
    "tt2 = time()-t1\n",
    "print (\"FEATURE CLASSIFICATION in {} seconds\".format(round(tt2,3)))\n"
   ]
  },
  {
   "cell_type": "code",
   "execution_count": 37,
   "metadata": {
    "scrolled": true
   },
   "outputs": [
    {
     "data": {
      "image/png": "[encoded data removed]",
      "text/plain": [
       "<Figure size 432x288 with 1 Axes>"
      ]
     },
     "metadata": {},
     "output_type": "display_data"
    },
    {
     "data": {
      "image/png": "[encoded data removed]",
      "text/plain": [
       "<Figure size 432x288 with 1 Axes>"
      ]
     },
     "metadata": {},
     "output_type": "display_data"
    }
   ],
   "source": [
    "accuracy_2a = history2a.history['acc']\n",
    "val_accuracy_2a = history2a.history['val_acc']\n",
    "loss_2a = history2a.history['loss']\n",
    "val_loss_2a = history2a.history['val_loss']\n",
    "epochs = range(len(accuracy_2a))\n",
    "plt.plot(epochs, accuracy_2a, 'bo', label='Training accuracy')\n",
    "plt.plot(epochs, val_accuracy_2a, 'b', label='Test accuracy')\n",
    "plt.ylim(bottom=0, top=1.0)  # this line\n",
    "plt.title('Training and Test Detectian Rate')\n",
    "plt.legend()\n",
    "plt.figure()\n",
    "plt.plot(epochs, loss_2a, 'bo', label='Training loss')\n",
    "plt.plot(epochs, val_loss_2a, 'b', label='Test loss')\n",
    "plt.ylim(bottom=0, top=10.0)  # this line\n",
    "plt.title('Training and Test 1 hidden layer neuron 20 activation relu')\n",
    "plt.legend()\n",
    "plt.show()"
   ]
  },
  {
   "cell_type": "code",
   "execution_count": 38,
   "metadata": {},
   "outputs": [
    {
     "name": "stdout",
     "output_type": "stream",
     "text": [
      "22544/22544 [==============================] - 0s 15us/step\n"
     ]
    },
    {
     "data": {
      "text/plain": [
       "[2.3409156009523135, 0.816847054648687]"
      ]
     },
     "execution_count": 38,
     "metadata": {},
     "output_type": "execute_result"
    }
   ],
   "source": [
    "dnn.evaluate(test,y_test)"
   ]
  },
  {
   "cell_type": "code",
   "execution_count": 39,
   "metadata": {},
   "outputs": [
    {
     "name": "stdout",
     "output_type": "stream",
     "text": [
      "125973/125973 [==============================] - 2s 14us/step\n",
      "\n",
      "Loss: 0.01, Accuracy: 99.85%\n"
     ]
    }
   ],
   "source": [
    "# 4. evaluate the network\n",
    "loss, val_accuracy = dnn.evaluate(train,y_train)\n",
    "print(\"\\nLoss: %.2f, Accuracy: %.2f%%\" % (loss, val_accuracy*100))"
   ]
  },
  {
   "cell_type": "code",
   "execution_count": 40,
   "metadata": {},
   "outputs": [
    {
     "name": "stdout",
     "output_type": "stream",
     "text": [
      "22544/22544 [==============================] - 0s 15us/step\n",
      "\n",
      "Loss: 2.34, Accuracy: 81.68%\n"
     ]
    }
   ],
   "source": [
    "# 4. evaluate the network\n",
    "loss, val_accuracy = dnn.evaluate(test,y_test)\n",
    "print(\"\\nLoss: %.2f, Accuracy: %.2f%%\" % (loss, val_accuracy*100))"
   ]
  },
  {
   "cell_type": "markdown",
   "metadata": {},
   "source": [
    "## The Performance"
   ]
  },
  {
   "cell_type": "code",
   "execution_count": 10,
   "metadata": {},
   "outputs": [],
   "source": [
    "from sklearn.metrics import confusion_matrix\n"
   ]
  },
  {
   "cell_type": "code",
   "execution_count": 11,
   "metadata": {},
   "outputs": [],
   "source": [
    "##loading autoencoder untuk data tes\n",
    "# load weights\n",
    "#autoencoder.load_weights(\"./log2/talos_weights_tes_a.best.hdf5\")\n",
    "\n",
    "# Compile model (required to make predictions)\n",
    "#autoencoder.compile(loss='binary_crossentropy', optimizer='adam', metrics=['accuracy'])\n",
    "#print(\"Created model and loaded weights from file\")\n",
    "#scores = autoencoder.evaluate(test, test, verbose=0)\n",
    "#print(\"%s: %.2f%%\" % (autoencoder.metrics_names[1], scores[1]*100))"
   ]
  },
  {
   "cell_type": "code",
   "execution_count": 12,
   "metadata": {},
   "outputs": [],
   "source": [
    "from time import time\n"
   ]
  },
  {
   "cell_type": "code",
   "execution_count": null,
   "metadata": {},
   "outputs": [],
   "source": []
  },
  {
   "cell_type": "code",
   "execution_count": 16,
   "metadata": {},
   "outputs": [
    {
     "name": "stdout",
     "output_type": "stream",
     "text": [
      "Created model and loaded weights from file\n",
      "22544/22544 [==============================] - 1s 23us/step\n",
      "acc: 81.68%\n",
      "prediction in 0.51 seconds\n"
     ]
    }
   ],
   "source": [
    "##loading autoencoder untuk data tes\n",
    "# load weights\n",
    "# load weights\n",
    "dnn=load_model(filepath2)\n",
    "dnn.load_weights(filepath2)\n",
    "# Compile model (required to make predictions)\n",
    "dnn.compile(loss='categorical_crossentropy', optimizer='adam', metrics=['accuracy'])\n",
    "print(\"Created model and loaded weights from file\")\n",
    "t1=time()\n",
    "scores = dnn.evaluate(test, y_test, verbose=1)\n",
    "tt2 = time()-t1\n",
    "print(\"%s: %.2f%%\" % (dnn.metrics_names[1], scores[1]*100))\n",
    "print (\"prediction in {} seconds\".format(round(tt2,3)))"
   ]
  },
  {
   "cell_type": "code",
   "execution_count": 21,
   "metadata": {},
   "outputs": [
    {
     "name": "stdout",
     "output_type": "stream",
     "text": [
      "acc: 81.68%\n"
     ]
    }
   ],
   "source": [
    "scores = dnn.evaluate(test, y_test, verbose=0)\n",
    "print(\"%s: %.2f%%\" % (dnn.metrics_names[1], scores[1]*100))\n",
    "\n"
   ]
  },
  {
   "cell_type": "code",
   "execution_count": 22,
   "metadata": {},
   "outputs": [],
   "source": [
    "preds = dnn.predict(test)\n",
    "pred_lbls = np.argmax(preds, axis=1)\n",
    "true_lbls = np.argmax(y_test, axis=1)\n",
    "# With the confusion matrix, we can aggregate model predictions\n",
    "# This helps to understand the mistakes and refine the model"
   ]
  },
  {
   "cell_type": "code",
   "execution_count": 23,
   "metadata": {},
   "outputs": [],
   "source": [
    "import matplotlib.pyplot as plt\n",
    "import itertools\n",
    "\n",
    "def plot_confusion_matrix(cm, classes,\n",
    "                          normalize=False,\n",
    "                          title='Confusion matrix',\n",
    "                          cmap=plt.cm.Blues):\n",
    "    \"\"\"\n",
    "    This function prints and plots the confusion matrix.\n",
    "    Normalization can be applied by setting `normalize=True`.\n",
    "    \"\"\"\n",
    "    if normalize:\n",
    "        cm = cm.astype('float') / cm.sum(axis=1)[:, np.newaxis]\n",
    "        print(\"Normalized confusion matrix\")\n",
    "    else:\n",
    "        print('Confusion matrix, without normalization')\n",
    "\n",
    "    print(cm)\n",
    "\n",
    "    plt.imshow(cm, interpolation='nearest', cmap=cmap)\n",
    "    plt.title(title)\n",
    "    plt.colorbar()\n",
    "    tick_marks = np.arange(len(classes))\n",
    "    plt.xticks(tick_marks, classes, rotation=45)\n",
    "    plt.yticks(tick_marks, classes)\n",
    "\n",
    "    fmt = '.2f' if normalize else 'd'\n",
    "    thresh = cm.max() / 2.\n",
    "    for i, j in itertools.product(range(cm.shape[0]), range(cm.shape[1])):\n",
    "        plt.text(j, i, format(cm[i, j], fmt),\n",
    "                 horizontalalignment=\"center\",\n",
    "                 color=\"white\" if cm[i, j] > thresh else \"black\")\n",
    "\n",
    "    plt.tight_layout()\n",
    "    plt.ylabel('True label')\n",
    "    plt.xlabel('Predicted label')"
   ]
  },
  {
   "cell_type": "code",
   "execution_count": 24,
   "metadata": {},
   "outputs": [],
   "source": [
    "from sklearn.metrics import confusion_matrix\n"
   ]
  },
  {
   "cell_type": "code",
   "execution_count": 25,
   "metadata": {
    "scrolled": true
   },
   "outputs": [
    {
     "data": {
      "text/plain": [
       "array([[6266,  547,  645,    0,    0],\n",
       "       [  89, 9386,  227,    3,    6],\n",
       "       [ 196,  134, 2084,    7,    0],\n",
       "       [   1, 2013,   60,  657,   23],\n",
       "       [   3,  145,    2,   28,   22]], dtype=int64)"
      ]
     },
     "execution_count": 25,
     "metadata": {},
     "output_type": "execute_result"
    }
   ],
   "source": [
    "confusion_matrix(true_lbls, pred_lbls)"
   ]
  },
  {
   "cell_type": "code",
   "execution_count": 26,
   "metadata": {
    "scrolled": true
   },
   "outputs": [
    {
     "data": {
      "text/plain": [
       "0.7948732208997663"
      ]
     },
     "execution_count": 26,
     "metadata": {},
     "output_type": "execute_result"
    }
   ],
   "source": [
    "from sklearn.metrics import f1_score\n",
    "f1_score(true_lbls, pred_lbls, average='weighted')"
   ]
  },
  {
   "cell_type": "code",
   "execution_count": 27,
   "metadata": {},
   "outputs": [],
   "source": [
    "# Overall, we report similar model performance to the reference above.\n",
    "# Their research suggest using unsupervised pretraining with autoencoders over\n",
    "# both train and test before adding classifier layers for fine-tuning.\n",
    "# I have done no parameter tuning but report comparable performance.\n",
    "# Note the model has diffuculty with U2R and R2L."
   ]
  },
  {
   "cell_type": "code",
   "execution_count": 28,
   "metadata": {
    "scrolled": true
   },
   "outputs": [
    {
     "name": "stdout",
     "output_type": "stream",
     "text": [
      "              precision    recall  f1-score   support\n",
      "\n",
      "         DoS    0.95591   0.84017   0.89431      7458\n",
      "      normal    0.76777   0.96653   0.85576      9711\n",
      "       Probe    0.69052   0.86080   0.76632      2421\n",
      "         U2R    0.94532   0.23856   0.38098      2754\n",
      "         R2L    0.43137   0.11000   0.17530       200\n",
      "\n",
      "    accuracy                        0.81685     22544\n",
      "   macro avg    0.75818   0.60321   0.61453     22544\n",
      "weighted avg    0.84042   0.81685   0.79487     22544\n",
      "\n"
     ]
    }
   ],
   "source": [
    "from sklearn.metrics import classification_report\n",
    "outcomes = ['DoS', 'normal' ,'Probe' ,'U2R','R2L' ]\n",
    "class_names=outcomes\n",
    "\n",
    "target_names = [\"Class {}\".format(i) for i in range(5)]\n",
    "print(classification_report(true_lbls, pred_lbls, target_names=class_names, digits=5))\n",
    "#print(classification_report(Y_test, y_predict))\n"
   ]
  },
  {
   "cell_type": "code",
   "execution_count": 29,
   "metadata": {},
   "outputs": [
    {
     "name": "stdout",
     "output_type": "stream",
     "text": [
      "Confusion matrix, without normalization\n",
      "[[6266  547  645    0    0]\n",
      " [  89 9386  227    3    6]\n",
      " [ 196  134 2084    7    0]\n",
      " [   1 2013   60  657   23]\n",
      " [   3  145    2   28   22]]\n"
     ]
    },
    {
     "data": {
      "image/png": "[encoded data removed]",
      "text/plain": [
       "<Figure size 432x288 with 2 Axes>"
      ]
     },
     "metadata": {},
     "output_type": "display_data"
    }
   ],
   "source": [
    "\n",
    "outcomes = ['DoS', 'normal','Probe' ,'R2L', 'U2R']\n",
    "class_names=outcomes\n",
    "\n",
    "\n",
    "results = confusion_matrix(true_lbls, pred_lbls)\n",
    "# Plot non-normalized confusion matrix\n",
    "plt.figure()\n",
    "plot_confusion_matrix(results, classes=class_names,\n",
    "                      title='Confusion matrix')\n",
    "\n",
    "#print(classification_report(y_test, deepprediction, target_names=class_names, digits=5))"
   ]
  },
  {
   "cell_type": "code",
   "execution_count": 30,
   "metadata": {},
   "outputs": [],
   "source": [
    "###Data Train"
   ]
  },
  {
   "cell_type": "code",
   "execution_count": 31,
   "metadata": {},
   "outputs": [
    {
     "name": "stdout",
     "output_type": "stream",
     "text": [
      "Created model and loaded weights from file\n",
      "acc: 99.85%\n"
     ]
    }
   ],
   "source": [
    "dnn.load_weights(filepath2)\n",
    "# Compile model (required to make predictions)\n",
    "dnn.compile(loss='categorical_crossentropy', optimizer='adam', metrics=['accuracy'])\n",
    "print(\"Created model and loaded weights from file\")\n",
    "scores = dnn.evaluate(train, y_train, verbose=0)\n",
    "print(\"%s: %.2f%%\" % (dnn.metrics_names[1], scores[1]*100))"
   ]
  },
  {
   "cell_type": "code",
   "execution_count": 32,
   "metadata": {},
   "outputs": [],
   "source": [
    "preds = dnn.predict(train)\n",
    "pred_lbls = np.argmax(preds, axis=1)\n",
    "true_lbls = np.argmax(y_train, axis=1)\n",
    "# With the confusion matrix, we can aggregate model predictions\n",
    "# This helps to understand the mistakes and refine the model"
   ]
  },
  {
   "cell_type": "code",
   "execution_count": 33,
   "metadata": {},
   "outputs": [
    {
     "data": {
      "text/plain": [
       "array([[45927,     0,     0,     0,     0],\n",
       "       [   10, 67232,    52,    33,    16],\n",
       "       [    2,    26, 11628,     0,     0],\n",
       "       [    0,    45,     0,   949,     1],\n",
       "       [    0,     2,     0,     3,    47]], dtype=int64)"
      ]
     },
     "execution_count": 33,
     "metadata": {},
     "output_type": "execute_result"
    }
   ],
   "source": [
    "confusion_matrix(true_lbls, pred_lbls)"
   ]
  },
  {
   "cell_type": "code",
   "execution_count": 34,
   "metadata": {},
   "outputs": [
    {
     "data": {
      "text/plain": [
       "0.9984992563345978"
      ]
     },
     "execution_count": 34,
     "metadata": {},
     "output_type": "execute_result"
    }
   ],
   "source": [
    "from sklearn.metrics import f1_score\n",
    "f1_score(true_lbls, pred_lbls, average='weighted')"
   ]
  },
  {
   "cell_type": "code",
   "execution_count": 35,
   "metadata": {},
   "outputs": [
    {
     "name": "stdout",
     "output_type": "stream",
     "text": [
      "              precision    recall  f1-score   support\n",
      "\n",
      "         DoS    0.99974   1.00000   0.99987     45927\n",
      "      normal    0.99892   0.99835   0.99863     67343\n",
      "       Probe    0.99555   0.99760   0.99657     11656\n",
      "         R2L    0.96345   0.95377   0.95859       995\n",
      "         U2R    0.73438   0.90385   0.81034        52\n",
      "\n",
      "    accuracy                        0.99849    125973\n",
      "   macro avg    0.93841   0.97071   0.95280    125973\n",
      "weighted avg    0.99851   0.99849   0.99850    125973\n",
      "\n"
     ]
    }
   ],
   "source": [
    "\n",
    "target_names = [\"Class {}\".format(i) for i in range(5)]\n",
    "print(classification_report(true_lbls, pred_lbls, target_names=class_names, digits=5))\n",
    "#print(classification_report(Y_test, y_predict))"
   ]
  },
  {
   "cell_type": "code",
   "execution_count": 36,
   "metadata": {},
   "outputs": [
    {
     "name": "stdout",
     "output_type": "stream",
     "text": [
      "Confusion matrix, without normalization\n",
      "[[45927     0     0     0     0]\n",
      " [   10 67232    52    33    16]\n",
      " [    2    26 11628     0     0]\n",
      " [    0    45     0   949     1]\n",
      " [    0     2     0     3    47]]\n"
     ]
    },
    {
     "data": {
      "image/png": "[encoded data removed]",
      "text/plain": [
       "<Figure size 432x288 with 2 Axes>"
      ]
     },
     "metadata": {},
     "output_type": "display_data"
    }
   ],
   "source": [
    "\n",
    "\n",
    "results = confusion_matrix(true_lbls, pred_lbls)\n",
    "# Plot non-normalized confusion matrix\n",
    "plt.figure()\n",
    "plot_confusion_matrix(results, classes=class_names,\n",
    "                      title='Confusion matrix')\n",
    "\n",
    "#print(classification_report(y_test, deepprediction, target_names=class_names, digits=5))"
   ]
  },
  {
   "cell_type": "code",
   "execution_count": null,
   "metadata": {},
   "outputs": [],
   "source": []
  },
  {
   "cell_type": "code",
   "execution_count": null,
   "metadata": {},
   "outputs": [],
   "source": []
  }
 ],
 "metadata": {
  "kernelspec": {
   "display_name": "Python [default]",
   "language": "python",
   "name": "python3"
  },
  "language_info": {
   "codemirror_mode": {
    "name": "ipython",
    "version": 3
   },
   "file_extension": ".py",
   "mimetype": "text/x-python",
   "name": "python",
   "nbconvert_exporter": "python",
   "pygments_lexer": "ipython3",
   "version": "3.6.5"
  }
 },
 "nbformat": 4,
 "nbformat_minor": 2
}
